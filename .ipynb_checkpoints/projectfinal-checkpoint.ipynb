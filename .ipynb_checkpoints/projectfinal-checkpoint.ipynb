version https://git-lfs.github.com/spec/v1
oid sha256:b25b8a49dfad60483664646e4d12216ab78b79d04ec126f8b8cca366b940fe23
size 92515
