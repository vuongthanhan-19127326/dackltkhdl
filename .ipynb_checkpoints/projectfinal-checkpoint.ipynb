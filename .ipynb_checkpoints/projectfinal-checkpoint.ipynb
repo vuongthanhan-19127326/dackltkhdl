version https://git-lfs.github.com/spec/v1
oid sha256:4be5e07befebf0ac744c42205cb3270fe1f69341701c838dc9702503da9f5e5d
size 96535
