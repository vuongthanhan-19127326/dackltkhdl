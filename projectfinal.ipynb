version https://git-lfs.github.com/spec/v1
oid sha256:9987cabfcdb6578834f6657f193bd1a2513d1f720743f4e914f1a53b106c47e5
size 233040
