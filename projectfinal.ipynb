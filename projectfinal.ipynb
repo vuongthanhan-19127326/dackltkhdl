{
 "cells": [
  {
   "cell_type": "markdown",
   "metadata": {},
   "source": [
    "# Đồ án cuối kì Lập Trình Cho Khoa Học Dữ Liệu - Nhóm 10"
   ]
  },
  {
   "cell_type": "markdown",
   "metadata": {},
   "source": [
    "## Danh sách các thành viên\n",
    "| Họ và tên | MSSV | Link github | Mức độ hoàn thành công việc | \n",
    "| --- | --- | --- | --- | \n",
    "| Vương Thành An | 19127326 | https://github.com/vuongthanhan-19127326 | 33% | \n",
    "| Trần Minh Thiện | 19127281 | https://github.com/MinhThien285 |33% |\n",
    "| Lê Tâm Anh | 19127330 | https://github.com/letamanh-19127330 | 33% |"
   ]
  },
  {
   "cell_type": "markdown",
   "metadata": {},
   "source": [
    "## Link github của đồ án:\n",
    "https://github.com/vuongthanhan-19127326/dackltkhdl"
   ]
  },
  {
   "cell_type": "markdown",
   "metadata": {},
   "source": [
    "Do dữ liệu của bọn em hơn 500MB, em đã xin phép thầy được up file dữ liệu lên google drive dưới đây là link ạ:\n",
    "    https://drive.google.com/drive/folders/1K1Q_swZ0S-LOCg1FYG4f5Uvr0fUdM3rh?fbclid=IwAR2qis1gvMrVn4bJKHJnf6-UJUAOBrvTEqSODtGeDr3QRWh-ZU-NOD1qudk"
   ]
  },
  {
   "cell_type": "markdown",
   "metadata": {},
   "source": [
    "## Mục lục\n",
    "- Hướng dẫn chạy Project\n",
    "- Thu thập dữ liệu\n",
    "  + Dữ liệu của bạn làm về chủ đề gì ? Bạn lấy được nguồn của dữ liệu từ đâu?\n",
    "  + Tác giả có cho phép bạn được sử dụng dữ liệu của họ không ?\n",
    "  + Làm thế nào để tác giả thu thập được những dữ liệu này?\n",
    "- Khám phá dữ liệu\n",
    "  + Dữ liệu có bao nhiêu dòng và bao nhiêu cột?\n",
    "  + Mỗi dòng có ý nghĩa gì? Có vấn đề các dòng có ý nghĩa khác nhau không?\n",
    "  + Dữ liệu có các dòng bị lặp không?\n",
    "  + Mỗi cột có ý nghĩa gì?\n",
    "  + Dữ liệu có bị thiếu hay không?\n",
    "  + Mỗi cột hiện đang có kiểu dữ liệu gì? Có cột nào có kiểu dữ liệu chưa phù hợp để có thể xử lý tiếp không?\n",
    "  + Với mỗi cột có kiểu dữ liệu dạng numeric, các giá trị được phân bố như thế nào?\n",
    "  + Với mỗi cột có kiểu dữ liệu dạng categorical, các giá trị được phân bố như thế nào?\n",
    "- Đặt ra các câu hỏi có ý nghĩa? Giải thích về lợi ích của việc trả lời các câu hỏi này.\n",
    "\n",
    "- Tiền xử lí và phân tích câu hỏi\n",
    "  + Phân tích câu hỏi bằng code \n",
    "  - Kết quả nhận được từ cho câu hỏi \n",
    "- Nhìn lại\n",
    "- Nguồn tham khảo"
   ]
  },
  {
   "cell_type": "markdown",
   "metadata": {},
   "source": [
    "## Hướng dẫn chạy project:"
   ]
  },
  {
   "cell_type": "markdown",
   "metadata": {},
   "source": [
    "Kernel-> Restart and Run all"
   ]
  },
  {
   "cell_type": "code",
   "execution_count": 1,
   "metadata": {},
   "outputs": [
    {
     "data": {
      "text/plain": [
       "'C:\\\\Users\\\\USER\\\\anaconda3\\\\python.exe'"
      ]
     },
     "execution_count": 1,
     "metadata": {},
     "output_type": "execute_result"
    }
   ],
   "source": [
    "import sys\n",
    "sys.executable"
   ]
  },
  {
   "cell_type": "markdown",
   "metadata": {},
   "source": [
    "### Import các thư viện cần thiết"
   ]
  },
  {
   "cell_type": "code",
   "execution_count": 2,
   "metadata": {},
   "outputs": [],
   "source": [
    "import pandas as pd\n",
    "import math\n",
    "import numpy as np\n",
    "import seaborn as sns\n",
    "import matplotlib.pyplot as plt\n",
    "import datetime\n",
    "from datetime import datetime\n",
    "import warnings\n",
    "from matplotlib.ticker import MaxNLocator\n",
    "warnings.filterwarnings(\"ignore\")\n",
    "%matplotlib inline"
   ]
  },
  {
   "cell_type": "markdown",
   "metadata": {},
   "source": [
    "## 1. Thu thập dữ liệu"
   ]
  },
  {
   "cell_type": "markdown",
   "metadata": {},
   "source": [
    "### Dữ liệu của bạn làm về chủ đề gì ? Bạn lấy được nguồn của dữ liệu từ đâu?\n",
    "   - Đồ án nói về dữ liệu tai nạn xe hơi trên toàn quốc của nước Mỹ từ năm 2016-2020. \n",
    "   - Dữ liệu này thuộc về nhà khoa học Sobhan Moosavi. \n",
    "   - Các tập tài liệu sử dụng trong dữ liệu này gồm :Moosavi, Sobhan, Mohammad Hossein Samavatian, Srinivasan Parthasarathy và Rajiv Ramnath. “ Tập dữ liệu về tai nạn giao thông trên toàn quốc .”, 2019. Moosavi, Sobhan, Mohammad Hossein Samavatian, Srinivasan Parthasarathy, Radu Teodorescu và Rajiv Ramnath. \"Dự đoán rủi ro tai nạn dựa trên Dữ liệu thưa thớt không đồng nhất: Tập * dữ liệu mới và thông tin chi tiết.\" Trong kỷ yếu của Hội nghị quốc tế ACM SIGSPATIAL lần thứ 27 về những tiến bộ trong hệ thống thông tin địa lý, ACM, 2019."
   ]
  },
  {
   "cell_type": "markdown",
   "metadata": {},
   "source": [
    "### Tác giả có cho phép bạn được sử dụng dữ liệu của họ không ?\n",
    "   - Theo như điều khoản của chủ sở hữu thì data được chia sẻ rộng rãi và mục đích học tập, nghiên cứu không vi phạm điều khoản cảu chủ sỡ hữu đưa ra"
   ]
  },
  {
   "cell_type": "markdown",
   "metadata": {},
   "source": [
    "### Làm thế nào để tác giả thu thập được những dữ liệu này?\n",
    "   - Trích lời tác giả về cách thu thập dữ liệu: Đây là tập dữ liệu về tai nạn xe hơi trên toàn quốc, bao gồm 49 tiểu bang của Hoa Kỳ . Dữ liệu tai nạn được thu thập từ tháng 2 năm 2016 đến tháng 12 năm 2020 , sử dụng nhiều API cung cấp dữ liệu sự cố (hoặc sự kiện) giao thông trực tuyến. Các API này truyền phát dữ liệu giao thông được thu thập bởi nhiều thực thể, chẳng hạn như bộ giao thông vận tải Hoa Kỳ và tiểu bang, cơ quan thực thi pháp luật, camera giao thông và cảm biến giao thông trong mạng lưới đường bộ. Hiện tại, có khoảng 1,5 triệu hồ sơ tai nạn trong bộ dữ liệu này"
   ]
  },
  {
   "cell_type": "code",
   "execution_count": 3,
   "metadata": {},
   "outputs": [],
   "source": [
    "np.set_printoptions(suppress=True)"
   ]
  },
  {
   "cell_type": "code",
   "execution_count": 4,
   "metadata": {},
   "outputs": [
    {
     "data": {
      "text/html": [
       "<div>\n",
       "<style scoped>\n",
       "    .dataframe tbody tr th:only-of-type {\n",
       "        vertical-align: middle;\n",
       "    }\n",
       "\n",
       "    .dataframe tbody tr th {\n",
       "        vertical-align: top;\n",
       "    }\n",
       "\n",
       "    .dataframe thead th {\n",
       "        text-align: right;\n",
       "    }\n",
       "</style>\n",
       "<table border=\"1\" class=\"dataframe\">\n",
       "  <thead>\n",
       "    <tr style=\"text-align: right;\">\n",
       "      <th></th>\n",
       "      <th>ID</th>\n",
       "      <th>Severity</th>\n",
       "      <th>Start_Time</th>\n",
       "      <th>End_Time</th>\n",
       "      <th>Start_Lat</th>\n",
       "      <th>Start_Lng</th>\n",
       "      <th>End_Lat</th>\n",
       "      <th>End_Lng</th>\n",
       "      <th>Distance(mi)</th>\n",
       "      <th>Description</th>\n",
       "      <th>...</th>\n",
       "      <th>Roundabout</th>\n",
       "      <th>Station</th>\n",
       "      <th>Stop</th>\n",
       "      <th>Traffic_Calming</th>\n",
       "      <th>Traffic_Signal</th>\n",
       "      <th>Turning_Loop</th>\n",
       "      <th>Sunrise_Sunset</th>\n",
       "      <th>Civil_Twilight</th>\n",
       "      <th>Nautical_Twilight</th>\n",
       "      <th>Astronomical_Twilight</th>\n",
       "    </tr>\n",
       "  </thead>\n",
       "  <tbody>\n",
       "    <tr>\n",
       "      <th>0</th>\n",
       "      <td>A-2716600</td>\n",
       "      <td>3</td>\n",
       "      <td>2016-02-08 00:37:08</td>\n",
       "      <td>2016-02-08 06:37:08</td>\n",
       "      <td>40.10891</td>\n",
       "      <td>-83.09286</td>\n",
       "      <td>40.11206</td>\n",
       "      <td>-83.03187</td>\n",
       "      <td>3.230</td>\n",
       "      <td>Between Sawmill Rd/Exit 20 and OH-315/Olentang...</td>\n",
       "      <td>...</td>\n",
       "      <td>False</td>\n",
       "      <td>False</td>\n",
       "      <td>False</td>\n",
       "      <td>False</td>\n",
       "      <td>False</td>\n",
       "      <td>False</td>\n",
       "      <td>Night</td>\n",
       "      <td>Night</td>\n",
       "      <td>Night</td>\n",
       "      <td>Night</td>\n",
       "    </tr>\n",
       "    <tr>\n",
       "      <th>1</th>\n",
       "      <td>A-2716601</td>\n",
       "      <td>2</td>\n",
       "      <td>2016-02-08 05:56:20</td>\n",
       "      <td>2016-02-08 11:56:20</td>\n",
       "      <td>39.86542</td>\n",
       "      <td>-84.06280</td>\n",
       "      <td>39.86501</td>\n",
       "      <td>-84.04873</td>\n",
       "      <td>0.747</td>\n",
       "      <td>At OH-4/OH-235/Exit 41 - Accident.</td>\n",
       "      <td>...</td>\n",
       "      <td>False</td>\n",
       "      <td>False</td>\n",
       "      <td>False</td>\n",
       "      <td>False</td>\n",
       "      <td>False</td>\n",
       "      <td>False</td>\n",
       "      <td>Night</td>\n",
       "      <td>Night</td>\n",
       "      <td>Night</td>\n",
       "      <td>Night</td>\n",
       "    </tr>\n",
       "    <tr>\n",
       "      <th>2</th>\n",
       "      <td>A-2716602</td>\n",
       "      <td>2</td>\n",
       "      <td>2016-02-08 06:15:39</td>\n",
       "      <td>2016-02-08 12:15:39</td>\n",
       "      <td>39.10266</td>\n",
       "      <td>-84.52468</td>\n",
       "      <td>39.10209</td>\n",
       "      <td>-84.52396</td>\n",
       "      <td>0.055</td>\n",
       "      <td>At I-71/US-50/Exit 1 - Accident.</td>\n",
       "      <td>...</td>\n",
       "      <td>False</td>\n",
       "      <td>False</td>\n",
       "      <td>False</td>\n",
       "      <td>False</td>\n",
       "      <td>False</td>\n",
       "      <td>False</td>\n",
       "      <td>Night</td>\n",
       "      <td>Night</td>\n",
       "      <td>Night</td>\n",
       "      <td>Day</td>\n",
       "    </tr>\n",
       "    <tr>\n",
       "      <th>3</th>\n",
       "      <td>A-2716603</td>\n",
       "      <td>2</td>\n",
       "      <td>2016-02-08 06:15:39</td>\n",
       "      <td>2016-02-08 12:15:39</td>\n",
       "      <td>39.10148</td>\n",
       "      <td>-84.52341</td>\n",
       "      <td>39.09841</td>\n",
       "      <td>-84.52241</td>\n",
       "      <td>0.219</td>\n",
       "      <td>At I-71/US-50/Exit 1 - Accident.</td>\n",
       "      <td>...</td>\n",
       "      <td>False</td>\n",
       "      <td>False</td>\n",
       "      <td>False</td>\n",
       "      <td>False</td>\n",
       "      <td>False</td>\n",
       "      <td>False</td>\n",
       "      <td>Night</td>\n",
       "      <td>Night</td>\n",
       "      <td>Night</td>\n",
       "      <td>Day</td>\n",
       "    </tr>\n",
       "    <tr>\n",
       "      <th>4</th>\n",
       "      <td>A-2716604</td>\n",
       "      <td>2</td>\n",
       "      <td>2016-02-08 06:51:45</td>\n",
       "      <td>2016-02-08 12:51:45</td>\n",
       "      <td>41.06213</td>\n",
       "      <td>-81.53784</td>\n",
       "      <td>41.06217</td>\n",
       "      <td>-81.53547</td>\n",
       "      <td>0.123</td>\n",
       "      <td>At Dart Ave/Exit 21 - Accident.</td>\n",
       "      <td>...</td>\n",
       "      <td>False</td>\n",
       "      <td>False</td>\n",
       "      <td>False</td>\n",
       "      <td>False</td>\n",
       "      <td>False</td>\n",
       "      <td>False</td>\n",
       "      <td>Night</td>\n",
       "      <td>Night</td>\n",
       "      <td>Day</td>\n",
       "      <td>Day</td>\n",
       "    </tr>\n",
       "  </tbody>\n",
       "</table>\n",
       "<p>5 rows × 47 columns</p>\n",
       "</div>"
      ],
      "text/plain": [
       "          ID  Severity           Start_Time             End_Time  Start_Lat  \\\n",
       "0  A-2716600         3  2016-02-08 00:37:08  2016-02-08 06:37:08   40.10891   \n",
       "1  A-2716601         2  2016-02-08 05:56:20  2016-02-08 11:56:20   39.86542   \n",
       "2  A-2716602         2  2016-02-08 06:15:39  2016-02-08 12:15:39   39.10266   \n",
       "3  A-2716603         2  2016-02-08 06:15:39  2016-02-08 12:15:39   39.10148   \n",
       "4  A-2716604         2  2016-02-08 06:51:45  2016-02-08 12:51:45   41.06213   \n",
       "\n",
       "   Start_Lng   End_Lat   End_Lng  Distance(mi)  \\\n",
       "0  -83.09286  40.11206 -83.03187         3.230   \n",
       "1  -84.06280  39.86501 -84.04873         0.747   \n",
       "2  -84.52468  39.10209 -84.52396         0.055   \n",
       "3  -84.52341  39.09841 -84.52241         0.219   \n",
       "4  -81.53784  41.06217 -81.53547         0.123   \n",
       "\n",
       "                                         Description  ...  Roundabout Station  \\\n",
       "0  Between Sawmill Rd/Exit 20 and OH-315/Olentang...  ...       False   False   \n",
       "1                 At OH-4/OH-235/Exit 41 - Accident.  ...       False   False   \n",
       "2                   At I-71/US-50/Exit 1 - Accident.  ...       False   False   \n",
       "3                   At I-71/US-50/Exit 1 - Accident.  ...       False   False   \n",
       "4                    At Dart Ave/Exit 21 - Accident.  ...       False   False   \n",
       "\n",
       "    Stop Traffic_Calming Traffic_Signal Turning_Loop Sunrise_Sunset  \\\n",
       "0  False           False          False        False          Night   \n",
       "1  False           False          False        False          Night   \n",
       "2  False           False          False        False          Night   \n",
       "3  False           False          False        False          Night   \n",
       "4  False           False          False        False          Night   \n",
       "\n",
       "  Civil_Twilight Nautical_Twilight Astronomical_Twilight  \n",
       "0          Night             Night                 Night  \n",
       "1          Night             Night                 Night  \n",
       "2          Night             Night                   Day  \n",
       "3          Night             Night                   Day  \n",
       "4          Night               Day                   Day  \n",
       "\n",
       "[5 rows x 47 columns]"
      ]
     },
     "execution_count": 4,
     "metadata": {},
     "output_type": "execute_result"
    }
   ],
   "source": [
    "accidents_df = pd.read_csv('US_Accidents_Dec20_updated.csv',error_bad_lines=False)\n",
    "accidents_df.head()"
   ]
  },
  {
   "cell_type": "markdown",
   "metadata": {},
   "source": [
    "## 2. Khám phá dữ liệu"
   ]
  },
  {
   "cell_type": "markdown",
   "metadata": {},
   "source": [
    "## Dữ liệu gồm có bao nhiêu dòng và bao nhiêu cột? "
   ]
  },
  {
   "cell_type": "code",
   "execution_count": 5,
   "metadata": {},
   "outputs": [
    {
     "name": "stdout",
     "output_type": "stream",
     "text": [
      "Dữ liệu bao gồm: 1516064 dòng và 47 cột\n"
     ]
    }
   ],
   "source": [
    "num_rows,num_cols=accidents_df.shape\n",
    "print('Dữ liệu bao gồm: {} dòng và {} cột'.format(num_rows,num_cols))"
   ]
  },
  {
   "cell_type": "markdown",
   "metadata": {},
   "source": [
    "## Mỗi dòng có ý nghĩa gì? Có vấn đề các dòng có ý nghĩa khác nhau không?"
   ]
  },
  {
   "cell_type": "markdown",
   "metadata": {},
   "source": [
    "Mỗi dòng thể hiện các thông tin về các vụ tai nạn xe hơi thuộc 49 tiểu bang của Hoa Kỳ. Có vẻ không có dòng nào khác loài."
   ]
  },
  {
   "cell_type": "markdown",
   "metadata": {},
   "source": [
    "## Dữ liệu có các dòng bị lặp không? "
   ]
  },
  {
   "cell_type": "code",
   "execution_count": 6,
   "metadata": {},
   "outputs": [
    {
     "name": "stdout",
     "output_type": "stream",
     "text": [
      "False\n"
     ]
    }
   ],
   "source": [
    "have_duplicated_rows=accidents_df.duplicated().any()\n",
    "print(have_duplicated_rows)"
   ]
  },
  {
   "cell_type": "markdown",
   "metadata": {},
   "source": [
    "## Mỗi cột có ý nghĩa gì?"
   ]
  },
  {
   "cell_type": "markdown",
   "metadata": {},
   "source": [
    "•  ID: Số nhận dạng (duy nhất) của các hồ sơ vụ tai nạn.\n",
    "\n",
    "•  Severity: Mức độ nghiêm trọng của vụ tai nạn tác động đến giao thông, được tính theo 4 mức từ 1 đến 4 \n",
    "   + Mức độ 1: Tai nạn rất nhỏ những người trong vụ tai nạn hầu như không bị thương và hư hỏng về tài sản\n",
    "   + Mức độ 2: Tai nạn nhỏ có một hoặc nhiều người trong vụ tai nạn nặng lắm thì chỉ cần dùng những thuốc sử dụng nhanh như băng keo, bông băng, thuốc đỏ thì có thể tiếp tục công việc của mình mà không bị chấn thương gì và mức độ hư hỏng về tài sản có thể nhiều hơn so với mức độ 1 \n",
    "   + Mức độ 3: Tai nạn là cho có ít nhất một người buộc phải được đưa vào cấp cứu bệnh viện để chữa trị \n",
    "   + Mức độ 4: Có ít nhất một người chết trong vụ tai nạn giao thông đó, cho dù có được đưa vào bệnh viện xong rồi mất thì vẫn tính vào\n",
    "\n",
    "•  Start_Time: Thời gian xảy ra vụ tai nạn (tính theo múi giờ địa phương)\n",
    "\n",
    "•  End_Time: Thời gian vụ tai nạn kết thúc (kết thúc ở đây có nghĩa là vụ tai nạn không còn làm ảnh hưởng đến giao thông)\n",
    "\n",
    "•  Start_Lat: Vĩ độ vụ tai nạn trong định vị GPS của điểm bắt đầu.\n",
    "\n",
    "•  Start_Lng: Kinh độ vụ tai nạn trong định vị GPS của điểm bắt đầu.\n",
    "\n",
    "•  End_Lat: Vĩ độ vụ tai nạn trong định vị GPS của điểm kết thúc.\n",
    "\n",
    "•  End_Lng: Kinh độ vụ tai nạn trong định vị GPS của điểm kết thúc.\n",
    "\n",
    "•  Distance(mi): Chiều dài của đoạn đường bị ảnh hưởng bởi vụ tai tạn.\n",
    "\n",
    "•  Description: Mô tả vụ tai nạn.\n",
    "\n",
    "•  Number: Số của con đường trong bản định danh.\n",
    "\n",
    "•  Street: Tên của con đường trong bản đinh danh.\n",
    "\n",
    "•  Side: Vụ tai nạn xảy ra ở phía (phải/trái) của con đường.\n",
    "\n",
    "•  City: Tên thành phố xảy ra vụ tai nạn.\n",
    "\n",
    "•  County: Tên quận xảy ra vụ tai nạn.\n",
    "\n",
    "•  State: Trạng thái trong bản ghi địa chỉ.\n",
    "\n",
    "•  Zipcode: Mã zip trong bản ghi địa chỉ.\n",
    "\n",
    "•  Country: Tên quốc gia có vụ tai nạn.\n",
    "\n",
    "•  Timezone: Múi giờ của nơi xảy ra vụ tại nạn.\n",
    "\n",
    "•  Airport_Code: Mã của trạm thời tiết tại sân bay gần nhất với vị trí xảy ra tai nạn.\n",
    "\n",
    "•  Weather_Timestamp: Dấu thời gian của bản ghi thời tiết theo múi giờ địa phương.\n",
    "\n",
    "•  Temperature (F): Nhiệt độ lúc xảy ra tai nạn.\n",
    "\n",
    "•  Wind_Chill (F): Gió lạnh lúc xảy ra tai nạn.\n",
    "\n",
    "•  Humidity (%): Độ ẩm lúc xảy ra tai nạn.\n",
    "\n",
    "•  Pressure (inches): Áp suất không khí lúc xảy ra tai nạn.\n",
    "\n",
    "•  Visibility (miles): Tầm nhìn lúc xảy ra tai nạn.\n",
    "\n",
    "•  Wind_Direction: Hướng gió lúc xảy ra tai nạn.\n",
    "\n",
    "•  Wind_Speed (mph): Tốc độ gió lúc xảy ra tai nạn(miles/hour).\n",
    "\n",
    "•  Precipitation (inches): Lượng mưa lúc xảy ra tai nạn.\n",
    "\n",
    "•  Weather_Condition: Trạng thái thời tiết lúc xảy ra tai nạn (mưa, bão, tuyết rơi,…)\n",
    "\n",
    "•  Amenity: Sự tiện nghi của một khu vực ở gần vụ tai nạn.\n",
    "\n",
    "•  Bump: Có biển báo của gờ giảm tốc hoặc các gờ ở gần vị trí xảy ra vụ tai nạn hay không.\n",
    "\n",
    "•  Crossing: Có biển báo người qua đường của các đường ở gần vụ tai nạn hay không.\n",
    "\n",
    "•  Give_Way: Có biển báo nhường đường ở vị trí gần vụ tai nạn hay không.\n",
    "\n",
    "•  Junction: Có biển báo đường giao nhau ở vị trí gần vụ tai nạn hay không.\n",
    "\n",
    "•  No_Exit: Có biển báo cấm đi vào ở gần vụ tai nạn hay không.\n",
    "\n",
    "•  Railway: Có biển báo đường sắt ở gần vụ tai nạn hay không.\n",
    "\n",
    "•  Roundabout: Có sự hiện diện của bùng binh ở gần vị trí vụ tai nạn hay không.\n",
    "\n",
    "•  Station: Có sự hiện diện của trạm ở gần vị trí vụ tai nạn hay không.\n",
    "\n",
    "•  Stop: Có biển báo dừng ở gần vị trí vụ tai nạn hay không.\n",
    "\n",
    "•  Traffic_Calming: Có sự hiện diện của các thiết kế vật lý trên đường nhằm hạn chế tốc độ ở gần vị trí vụ tai nạn hay không.\n",
    "\n",
    "•  Traffic_Signal: Có sự hiện diện của đèn giao thông ở gần vị trí vụ tai nạn hay không.\n",
    "\n",
    "•  Turning_Loop: Có sự hiện diện của khúc quoanh ở gần vị trí vụ tai nạn hay không.\n",
    "\n",
    "•  Sunrise_Sunset: Hiển thị khoảng thời gian dựa theo mặt trời mọc hay lặn.\n",
    "\n",
    "•  Civil_Twilight: Hiển thị khoảng thời gian dựa theo hoàng hôn dân sự.\n",
    "\n",
    "•  Nautical_Twilight: Hiển thị khoảng thời gian dựa theo hoàng hôn hàng hải.\n",
    "\n",
    "•  Astronomical_Twilight: Hiển thị khoảng thời gian dựa theo hoàng hôn thiên văn."
   ]
  },
  {
   "cell_type": "markdown",
   "metadata": {},
   "source": [
    "## Mỗi cột hiện đang có kiểu dữ liệu gì? Có cột nào có kiểu dữ liệu chưa phù hợp để có thể xử lý tiếp không?"
   ]
  },
  {
   "cell_type": "code",
   "execution_count": 7,
   "metadata": {},
   "outputs": [
    {
     "name": "stdout",
     "output_type": "stream",
     "text": [
      "ID                        object\n",
      "Severity                   int64\n",
      "Start_Time                object\n",
      "End_Time                  object\n",
      "Start_Lat                float64\n",
      "Start_Lng                float64\n",
      "End_Lat                  float64\n",
      "End_Lng                  float64\n",
      "Distance(mi)             float64\n",
      "Description               object\n",
      "Number                   float64\n",
      "Street                    object\n",
      "Side                      object\n",
      "City                      object\n",
      "County                    object\n",
      "State                     object\n",
      "Zipcode                   object\n",
      "Country                   object\n",
      "Timezone                  object\n",
      "Airport_Code              object\n",
      "Weather_Timestamp         object\n",
      "Temperature(F)           float64\n",
      "Wind_Chill(F)            float64\n",
      "Humidity(%)              float64\n",
      "Pressure(in)             float64\n",
      "Visibility(mi)           float64\n",
      "Wind_Direction            object\n",
      "Wind_Speed(mph)          float64\n",
      "Precipitation(in)        float64\n",
      "Weather_Condition         object\n",
      "Amenity                     bool\n",
      "Bump                        bool\n",
      "Crossing                    bool\n",
      "Give_Way                    bool\n",
      "Junction                    bool\n",
      "No_Exit                     bool\n",
      "Railway                     bool\n",
      "Roundabout                  bool\n",
      "Station                     bool\n",
      "Stop                        bool\n",
      "Traffic_Calming             bool\n",
      "Traffic_Signal              bool\n",
      "Turning_Loop                bool\n",
      "Sunrise_Sunset            object\n",
      "Civil_Twilight            object\n",
      "Nautical_Twilight         object\n",
      "Astronomical_Twilight     object\n",
      "dtype: object\n"
     ]
    }
   ],
   "source": [
    "col_dtypes=accidents_df.dtypes\n",
    "print(col_dtypes)"
   ]
  },
  {
   "cell_type": "code",
   "execution_count": 8,
   "metadata": {},
   "outputs": [],
   "source": [
    "def open_object_dtype(s):\n",
    "    df=pd.Series(s)\n",
    "    a=df.apply(lambda x : type(x)).unique()\n",
    "    dtypes = set(a)\n",
    "    return dtypes"
   ]
  },
  {
   "cell_type": "code",
   "execution_count": 9,
   "metadata": {},
   "outputs": [
    {
     "name": "stdout",
     "output_type": "stream",
     "text": [
      "numer of object columns: 20\n",
      "types of  ID  is  {<class 'str'>}\n",
      "types of  Start_Time  is  {<class 'str'>}\n",
      "types of  End_Time  is  {<class 'str'>}\n",
      "types of  Description  is  {<class 'str'>}\n",
      "types of  Street  is  {<class 'str'>}\n",
      "types of  Side  is  {<class 'str'>}\n",
      "types of  City  is  {<class 'float'>, <class 'str'>}\n",
      "types of  County  is  {<class 'str'>}\n",
      "types of  State  is  {<class 'str'>}\n",
      "types of  Zipcode  is  {<class 'float'>, <class 'str'>}\n",
      "types of  Country  is  {<class 'str'>}\n",
      "types of  Timezone  is  {<class 'float'>, <class 'str'>}\n",
      "types of  Airport_Code  is  {<class 'float'>, <class 'str'>}\n",
      "types of  Weather_Timestamp  is  {<class 'float'>, <class 'str'>}\n",
      "types of  Wind_Direction  is  {<class 'float'>, <class 'str'>}\n",
      "types of  Weather_Condition  is  {<class 'float'>, <class 'str'>}\n",
      "types of  Sunrise_Sunset  is  {<class 'float'>, <class 'str'>}\n",
      "types of  Civil_Twilight  is  {<class 'float'>, <class 'str'>}\n",
      "types of  Nautical_Twilight  is  {<class 'float'>, <class 'str'>}\n",
      "types of  Astronomical_Twilight  is  {<class 'float'>, <class 'str'>}\n"
     ]
    }
   ],
   "source": [
    "objects_key=(accidents_df.loc[:, accidents_df.dtypes == object]).keys()\n",
    "print(\"numer of object columns:\",len(objects_key))\n",
    "for key in objects_key:\n",
    "    print(\"types of \",key,\" is \",open_object_dtype(accidents_df[key]))"
   ]
  },
  {
   "cell_type": "markdown",
   "metadata": {},
   "source": [
    "Câu trả lời là có khá nhiều cột có dữ liệu vừa là string vừa là float có vẻ những dữ liệu này là bao gồm cả chữ lần số chứ không phải thuần là số hoặc chỉ có chữ"
   ]
  },
  {
   "cell_type": "markdown",
   "metadata": {},
   "source": [
    "## Tiền xử lí"
   ]
  },
  {
   "cell_type": "markdown",
   "metadata": {},
   "source": [
    "### Chuyển dtype của cột \"Date\" sang datetime"
   ]
  },
  {
   "cell_type": "code",
   "execution_count": 10,
   "metadata": {},
   "outputs": [],
   "source": [
    "datetime_cols=['Start_Time','End_Time','Weather_Timestamp']\n",
    "for key in datetime_cols:\n",
    "    accidents_df[key]= pd.to_datetime(accidents_df[key])"
   ]
  },
  {
   "cell_type": "markdown",
   "metadata": {},
   "source": [
    "### Chuyển dtype của các cột object bao gồm float và string sang kiểu dữ liệu string"
   ]
  },
  {
   "cell_type": "markdown",
   "metadata": {},
   "source": [
    "- Do các cột object có kiểu dữ liệu bao gồm cả string và float sẽ có những số ghép với những chữ do đó em chuyển tất cả những cột mà có kiểu object là string and float về thành string hết"
   ]
  },
  {
   "cell_type": "code",
   "execution_count": 11,
   "metadata": {},
   "outputs": [],
   "source": [
    "object_string_cols=['City','Zipcode','Weather_Timestamp','Zipcode','Airport_Code','Wind_Direction',\n",
    "                   'Weather_Condition','Sunrise_Sunset','Civil_Twilight','Nautical_Twilight','Astronomical_Twilight']\n",
    "accidents_df[object_string_cols]=accidents_df[object_string_cols].astype('string')"
   ]
  },
  {
   "cell_type": "code",
   "execution_count": 12,
   "metadata": {},
   "outputs": [
    {
     "name": "stdout",
     "output_type": "stream",
     "text": [
      "ID                               object\n",
      "Severity                          int64\n",
      "Start_Time               datetime64[ns]\n",
      "End_Time                 datetime64[ns]\n",
      "Start_Lat                       float64\n",
      "Start_Lng                       float64\n",
      "End_Lat                         float64\n",
      "End_Lng                         float64\n",
      "Distance(mi)                    float64\n",
      "Description                      object\n",
      "Number                          float64\n",
      "Street                           object\n",
      "Side                             object\n",
      "City                             string\n",
      "County                           object\n",
      "State                            object\n",
      "Zipcode                          object\n",
      "Country                          object\n",
      "Timezone                         object\n",
      "Airport_Code                     string\n",
      "Weather_Timestamp                string\n",
      "Temperature(F)                  float64\n",
      "Wind_Chill(F)                   float64\n",
      "Humidity(%)                     float64\n",
      "Pressure(in)                    float64\n",
      "Visibility(mi)                  float64\n",
      "Wind_Direction                   string\n",
      "Wind_Speed(mph)                 float64\n",
      "Precipitation(in)               float64\n",
      "Weather_Condition                string\n",
      "Amenity                            bool\n",
      "Bump                               bool\n",
      "Crossing                           bool\n",
      "Give_Way                           bool\n",
      "Junction                           bool\n",
      "No_Exit                            bool\n",
      "Railway                            bool\n",
      "Roundabout                         bool\n",
      "Station                            bool\n",
      "Stop                               bool\n",
      "Traffic_Calming                    bool\n",
      "Traffic_Signal                     bool\n",
      "Turning_Loop                       bool\n",
      "Sunrise_Sunset                   string\n",
      "Civil_Twilight                   string\n",
      "Nautical_Twilight                string\n",
      "Astronomical_Twilight            string\n",
      "dtype: object\n"
     ]
    }
   ],
   "source": [
    "print(accidents_df.dtypes)"
   ]
  },
  {
   "cell_type": "markdown",
   "metadata": {},
   "source": [
    "## Với mỗi cột có kiểu dữ liệu dạng numeric, các giá trị được phân bố như thế nào?"
   ]
  },
  {
   "cell_type": "code",
   "execution_count": 13,
   "metadata": {},
   "outputs": [
    {
     "name": "stdout",
     "output_type": "stream",
     "text": [
      "               Start_Lat   Start_Lng   End_Lat     End_Lng  Distance(mi)  \\\n",
      "missing_ratio   0.000000    0.000000   0.00000    0.000000         0.000   \n",
      "min            24.570222 -124.497567  24.57011 -124.497829         0.000   \n",
      "max            49.000580  -67.113167  49.07500  -67.109242       155.186   \n",
      "\n",
      "                     Number  Temperature(F)  Wind_Chill(F)  Humidity(%)  \\\n",
      "missing_ratio  6.900072e+01        2.838469      29.637007     3.001786   \n",
      "min            0.000000e+00      -89.000000     -89.000000     1.000000   \n",
      "max            9.999997e+06      170.600000     113.000000   100.000000   \n",
      "\n",
      "               Pressure(in)  Visibility(mi)  Wind_Speed(mph)  \\\n",
      "missing_ratio      2.392643         2.91617         8.499773   \n",
      "min                0.000000         0.00000         0.000000   \n",
      "max               58.040000       140.00000       984.000000   \n",
      "\n",
      "               Precipitation(in)           Start_Time             End_Time  \\\n",
      "missing_ratio          33.675953                    0                    0   \n",
      "min                     0.000000  2016-02-08 00:37:08  2016-02-08 06:37:08   \n",
      "max                    24.000000  2020-12-31 23:28:56  2021-01-01 00:00:00   \n",
      "\n",
      "                 Weather_Timestamp  \n",
      "missing_ratio                    0  \n",
      "min            2016-02-08 00:53:00  \n",
      "max                            NaT  \n"
     ]
    }
   ],
   "source": [
    "numeric_cols=['Start_Lat', 'Start_Lng', 'End_Lat', 'End_Lng',\n",
    "       'Distance(mi)', 'Number', 'Temperature(F)', 'Wind_Chill(F)',\n",
    "       'Humidity(%)', 'Pressure(in)', 'Visibility(mi)', 'Wind_Speed(mph)',\n",
    "       'Precipitation(in)']\n",
    "\n",
    "all_num_cols=['Start_Lat', 'Start_Lng', 'End_Lat', 'End_Lng',\n",
    "       'Distance(mi)', 'Number', 'Temperature(F)', 'Wind_Chill(F)',\n",
    "       'Humidity(%)', 'Pressure(in)', 'Visibility(mi)', 'Wind_Speed(mph)',\n",
    "       'Precipitation(in)','Start_Time','End_Time','Weather_Timestamp']\n",
    "\n",
    "nume_col_profiles_df=pd.DataFrame(index=['missing_ratio','min','max'],\n",
    "                                  columns=all_num_cols)\n",
    "\n",
    "nume_col_profiles_df.loc['missing_ratio',numeric_cols]=np.float64(accidents_df[numeric_cols].isna().mean()*100)\n",
    "\n",
    "nume_col_profiles_df.loc['min',numeric_cols]=np.float64(accidents_df[numeric_cols].min())\n",
    "\n",
    "nume_col_profiles_df.loc['max',numeric_cols]=np.float64(accidents_df[numeric_cols].max())\n",
    "\n",
    "nume_col_profiles_df=nume_col_profiles_df.astype(np.float64)\n",
    "\n",
    "\n",
    "\n",
    "\n",
    "nume_col_profiles_df.loc['missing_ratio',datetime_cols]=accidents_df[datetime_cols].isna().mean()*100\n",
    "\n",
    "nume_col_profiles_df.loc['min',datetime_cols]=accidents_df[datetime_cols].min()\n",
    "\n",
    "nume_col_profiles_df.loc['max',datetime_cols]=accidents_df[datetime_cols].max()\n",
    "\n",
    "print(nume_col_profiles_df)\n"
   ]
  },
  {
   "cell_type": "code",
   "execution_count": 14,
   "metadata": {},
   "outputs": [
    {
     "name": "stdout",
     "output_type": "stream",
     "text": [
      "Giá trị trung bình của Temperature:  59.5845967939567 F\n",
      "Giá trị trung vị của Temperature:  61.0 F\n",
      "Mode of Temperature:  59.0 F\n"
     ]
    },
    {
     "data": {
      "text/plain": [
       "<matplotlib.legend.Legend at 0x12dc9aedca0>"
      ]
     },
     "execution_count": 14,
     "metadata": {},
     "output_type": "execute_result"
    },
    {
     "data": {
      "image/png": "[encoded data removed]",
      "text/plain": [
       "<Figure size 432x288 with 1 Axes>"
      ]
     },
     "metadata": {
      "needs_background": "light"
     },
     "output_type": "display_data"
    }
   ],
   "source": [
    "#Cột Temperature(F)\n",
    "Mean = accidents_df['Temperature(F)'].mean()\n",
    "Median = accidents_df['Temperature(F)'].median()\n",
    "Mode = accidents_df['Temperature(F)'].mode()\n",
    "print(\"Giá trị trung bình của Temperature: \", Mean,\"F\")\n",
    "print(\"Giá trị trung vị của Temperature: \",Median,\"F\")\n",
    "print(\"Mode of Temperature: \",Mode[0],\"F\")\n",
    "\n",
    "#Vẽ biểu đồ histogram để khám phá độ phân bố của nhiêt độ\n",
    "hist = plt.hist(accidents_df['Temperature(F)'],[-25,0,25,50,75,100,125,150], edgecolor = 'black')\n",
    "plt.xlabel('Temperature(F)')\n",
    "plt.ylabel(\"Số vụ tai nạn\")\n",
    "plt.title(\"Thống kê về Temperature qua số vụ tai nạn\")\n",
    "plt.axvline(Mean, color ='red',linewidth = 3, linestyle = 'solid',label = 'mean')\n",
    "plt.legend()"
   ]
  },
  {
   "cell_type": "markdown",
   "metadata": {},
   "source": [
    "Qua đây ta có thể thấy nhiệt độ trung bình của mỗi vụ tai nạn nằm ở mức 60 độ F thì nếu chuyển sang độ C thì độ C= (60-32)/(5/9)= 15.56 độ C đây được xem là một nhiệt độ bình thường ở nước Mỹ không nóng cũng không lạnh như vậy có vẻ nhiệt độ tăng hoặc giảm cũng không ảnh hưởng đến việc các vụ tai nạn gia tăng"
   ]
  },
  {
   "cell_type": "code",
   "execution_count": 15,
   "metadata": {},
   "outputs": [
    {
     "name": "stdout",
     "output_type": "stream",
     "text": [
      "Giá trị trung bình của Wind Chill:  55.10976003705403 F\n",
      "Giá trị trung vị Wind Chill:  57.0 F\n",
      "Mode of Wind Chill:  57.0 F\n"
     ]
    },
    {
     "data": {
      "text/plain": [
       "<matplotlib.legend.Legend at 0x12db14fd520>"
      ]
     },
     "execution_count": 15,
     "metadata": {},
     "output_type": "execute_result"
    },
    {
     "data": {
      "image/png": "[encoded data removed]",
      "text/plain": [
       "<Figure size 432x288 with 1 Axes>"
      ]
     },
     "metadata": {
      "needs_background": "light"
     },
     "output_type": "display_data"
    }
   ],
   "source": [
    "#Cột Win chill(F)\n",
    "Mean = accidents_df['Wind_Chill(F)'].mean()\n",
    "Median = accidents_df['Wind_Chill(F)'].median()\n",
    "Mode = accidents_df['Wind_Chill(F)'].mode()\n",
    "print(\"Giá trị trung bình của Wind Chill: \", Mean,\"F\")\n",
    "print(\"Giá trị trung vị Wind Chill: \",Median,\"F\")\n",
    "print(\"Mode of Wind Chill: \",Mode[0],\"F\")\n",
    "\n",
    "#Vẽ biểu đồ histogram để khám phá độ phân bố của gió lạnh\n",
    "hist = plt.hist(accidents_df['Wind_Chill(F)'],[-50,-25,0,25,50,75,100,125], edgecolor = 'black')\n",
    "plt.xlabel('Wind_Chill(F)')\n",
    "plt.ylabel(\"Số vụ tai nạn\")\n",
    "plt.title(\"Thống kê về Wind qua số vụ tai nạn\")\n",
    "plt.axvline(Mean, color ='red',linewidth = 3, linestyle = 'solid',label = 'mean')\n",
    "plt.legend()"
   ]
  },
  {
   "cell_type": "code",
   "execution_count": 16,
   "metadata": {},
   "outputs": [
    {
     "name": "stdout",
     "output_type": "stream",
     "text": [
      "Giá trị trung bình của Humidity:  64.65960130698954 %\n",
      "Giá trị trung vị Humidity:  68.0 %\n",
      "Mode of Humidity:  93.0 %\n"
     ]
    },
    {
     "data": {
      "text/plain": [
       "<matplotlib.legend.Legend at 0x12db15541c0>"
      ]
     },
     "execution_count": 16,
     "metadata": {},
     "output_type": "execute_result"
    },
    {
     "data": {
      "image/png": "[encoded data removed]",
      "text/plain": [
       "<Figure size 432x288 with 1 Axes>"
      ]
     },
     "metadata": {
      "needs_background": "light"
     },
     "output_type": "display_data"
    }
   ],
   "source": [
    "#Cột Humidity(%)\n",
    "Mean = accidents_df['Humidity(%)'].mean()\n",
    "Median = accidents_df['Humidity(%)'].median()\n",
    "Mode = accidents_df['Humidity(%)'].mode()\n",
    "print(\"Giá trị trung bình của Humidity: \", Mean,\"%\")\n",
    "print(\"Giá trị trung vị Humidity: \",Median,\"%\")\n",
    "print(\"Mode of Humidity: \",Mode[0],\"%\")\n",
    "\n",
    "#Vẽ biểu đồ histogram để khám phá độ phân bố của độ ẩm\n",
    "hist = plt.hist(accidents_df['Humidity(%)'],[0,25,50,75,100,125], edgecolor = 'black')\n",
    "plt.xlabel('Humidity(%)')\n",
    "plt.ylabel(\"Số vụ tai nạn\")\n",
    "plt.title(\"Thống kê về Humidity(%) qua số vụ tai nạn\")\n",
    "plt.axvline(Mean, color ='red',linewidth = 3, linestyle = 'solid',label = 'mean')\n",
    "plt.legend()"
   ]
  },
  {
   "cell_type": "markdown",
   "metadata": {},
   "source": [
    "Theo em tìm hiểu thì nếu độ ảm thấp thì khi đó con người bị thiếu nước mệt mỏi thì mới dẫn đến mệt mỏi, mất tập trung rồi gây ra tai nạn tuy nhiên trung bình độ ẩm cũng ở mức giữa giữa không quá lệch về một bênh nào cũng chưa thể kết luận độ ẩm tăng hoặc giảm thì sẽ làm tăng số lượng tai nạn xe"
   ]
  },
  {
   "cell_type": "code",
   "execution_count": 17,
   "metadata": {},
   "outputs": [
    {
     "name": "stdout",
     "output_type": "stream",
     "text": [
      "Giá trị trung bình của Pressure:  29.554954405696044 inches\n",
      "Giá trị trung vị Pressure:  29.88 inches\n",
      "Mode of Pressure:  29.96 inches\n"
     ]
    },
    {
     "data": {
      "text/plain": [
       "<matplotlib.legend.Legend at 0x12db1554460>"
      ]
     },
     "execution_count": 17,
     "metadata": {},
     "output_type": "execute_result"
    },
    {
     "data": {
      "image/png": "[encoded data removed]",
      "text/plain": [
       "<Figure size 432x288 with 1 Axes>"
      ]
     },
     "metadata": {
      "needs_background": "light"
     },
     "output_type": "display_data"
    }
   ],
   "source": [
    "#Cột Pressure(inches)\n",
    "Mean = accidents_df['Pressure(in)'].mean()\n",
    "Median = accidents_df['Pressure(in)'].median()\n",
    "Mode = accidents_df['Pressure(in)'].mode()\n",
    "print(\"Giá trị trung bình của Pressure: \", Mean,\"inches\")\n",
    "print(\"Giá trị trung vị Pressure: \",Median,\"inches\")\n",
    "print(\"Mode of Pressure: \",Mode[0],\"inches\")\n",
    "\n",
    "#Vẽ biểu đồ histogram để khám phá độ phân bố của áp suất không khí\n",
    "hist = plt.hist(accidents_df['Pressure(in)'],[15,20,25,30,35,40], edgecolor = 'black')\n",
    "plt.xlabel('Pressure(inches)')\n",
    "plt.ylabel(\"Số vụ tai nạn\")\n",
    "plt.title(\"Thống kê về Pressure qua số vụ tai nạn\")\n",
    "plt.axvline(Mean, color ='red',linewidth = 3, linestyle = 'solid',label = 'mean')\n",
    "plt.legend()"
   ]
  },
  {
   "cell_type": "code",
   "execution_count": 18,
   "metadata": {},
   "outputs": [
    {
     "name": "stdout",
     "output_type": "stream",
     "text": [
      "Giá trị trung bình của Wind speed:  7.63081245557609 mph\n",
      "Giá trị trung vị Wind speed:  7.0 mph\n",
      "Mode of Wind speed:  0.0 mph\n"
     ]
    },
    {
     "data": {
      "text/plain": [
       "<matplotlib.legend.Legend at 0x12db16242e0>"
      ]
     },
     "execution_count": 18,
     "metadata": {},
     "output_type": "execute_result"
    },
    {
     "data": {
      "image/png": "[encoded data removed]",
      "text/plain": [
       "<Figure size 432x288 with 1 Axes>"
      ]
     },
     "metadata": {
      "needs_background": "light"
     },
     "output_type": "display_data"
    }
   ],
   "source": [
    "#Cột Wind_Speed(mph)\n",
    "Mean = accidents_df['Wind_Speed(mph)'].mean()\n",
    "Median = accidents_df['Wind_Speed(mph)'].median()\n",
    "Mode = accidents_df['Wind_Speed(mph)'].mode()\n",
    "print(\"Giá trị trung bình của Wind speed: \", Mean,\"mph\")\n",
    "print(\"Giá trị trung vị Wind speed: \",Median,\"mph\")\n",
    "print(\"Mode of Wind speed: \",Mode[0],\"mph\")\n",
    "\n",
    "#Vẽ biểu đồ histogram để khám phá độ phân bố của tốc độ gió\n",
    "hist = plt.hist(accidents_df['Wind_Speed(mph)'],[0,10,20,30,40], edgecolor = 'black')\n",
    "plt.xlabel('Wind speed(mph)')\n",
    "plt.ylabel(\"Số vụ tai nạn\")\n",
    "plt.title(\"Thống kê về Wind Speed qua số vụ tai nạn\")\n",
    "plt.axvline(Mean, color ='red',linewidth = 3, linestyle = 'solid',label = 'mean')\n",
    "plt.legend()"
   ]
  },
  {
   "cell_type": "markdown",
   "metadata": {},
   "source": [
    "Trung bình Wind speed nếu đổi sang km/h thì khoảng 12km/h một con số không hề lớn chứng tỏ Tốc độ gió không phải là nguyên nhân chủ yếu gây ra các vụ tai nạn"
   ]
  },
  {
   "cell_type": "code",
   "execution_count": 19,
   "metadata": {},
   "outputs": [
    {
     "name": "stdout",
     "output_type": "stream",
     "text": [
      "Giá trị trung bình của Precipitation:  0.008477854631715338 inches\n",
      "Giá trị trung vị Precipitation:  0.0 inches\n",
      "Mode of Precipitation:  0.0 inches\n"
     ]
    },
    {
     "data": {
      "text/plain": [
       "<matplotlib.legend.Legend at 0x12db16bbd30>"
      ]
     },
     "execution_count": 19,
     "metadata": {},
     "output_type": "execute_result"
    },
    {
     "data": {
      "image/png": "[encoded data removed]",
      "text/plain": [
       "<Figure size 432x288 with 1 Axes>"
      ]
     },
     "metadata": {
      "needs_background": "light"
     },
     "output_type": "display_data"
    }
   ],
   "source": [
    "#Cột Precipitation(in)\n",
    "Mean = accidents_df['Precipitation(in)'].mean()\n",
    "Median = accidents_df['Precipitation(in)'].median()\n",
    "Mode = accidents_df['Precipitation(in)'].mode()\n",
    "print(\"Giá trị trung bình của Precipitation: \", Mean,\"inches\")\n",
    "print(\"Giá trị trung vị Precipitation: \",Median,\"inches\")\n",
    "print(\"Mode of Precipitation: \",Mode[0],\"inches\")\n",
    "\n",
    "#Vẽ biểu đồ histogram để khám phá độ phân bố của lượng mưa\n",
    "hist = plt.hist(accidents_df['Precipitation(in)'],[0,0.1,0.2,0.3,0.4], edgecolor = 'black')\n",
    "plt.xlabel('Precipitation(inches)')\n",
    "plt.ylabel(\"Số vụ tai nạn\")\n",
    "plt.title(\"Thống kê về Precipitation(inches) qua số vụ tai nạn\")\n",
    "plt.axvline(Mean, color ='red',linewidth = 3, linestyle = 'solid',label = 'mean')\n",
    "plt.legend()"
   ]
  },
  {
   "cell_type": "markdown",
   "metadata": {},
   "source": [
    "Lượng mưa trung bình của mỗi vụ tai nạn là xấp xỉ 0.001 inches rất nhỏ nên chúng ta có thể kết luận lượng mưa không phải là nguyên nhân chủ yếu gây ra các vụ tai nạn"
   ]
  },
  {
   "cell_type": "code",
   "execution_count": 20,
   "metadata": {},
   "outputs": [
    {
     "name": "stdout",
     "output_type": "stream",
     "text": [
      "Giá trị trung bình của Visibility:  9.13175505298399 miles\n",
      "Median of Visibility:  10.0 miles\n",
      "Mode of Visibility:  10.0 miles\n"
     ]
    },
    {
     "data": {
      "text/plain": [
       "<matplotlib.legend.Legend at 0x12db172ce20>"
      ]
     },
     "execution_count": 20,
     "metadata": {},
     "output_type": "execute_result"
    },
    {
     "data": {
      "image/png": "[encoded data removed]",
      "text/plain": [
       "<Figure size 432x288 with 1 Axes>"
      ]
     },
     "metadata": {
      "needs_background": "light"
     },
     "output_type": "display_data"
    }
   ],
   "source": [
    "#Cột Visibility(mi)\n",
    "Mean = accidents_df['Visibility(mi)'].mean()\n",
    "Median = accidents_df['Visibility(mi)'].median()\n",
    "Mode = accidents_df['Visibility(mi)'].mode()\n",
    "print(\"Giá trị trung bình của Visibility: \", Mean,\"miles\")\n",
    "print(\"Median of Visibility: \",Median,\"miles\")\n",
    "print(\"Mode of Visibility: \",Mode[0],\"miles\")\n",
    "\n",
    "#Vẽ biểu đồ histogram để khám phá độ phân bố của tầm nhìn khi xảy ra tai nạn\n",
    "hist = plt.hist(accidents_df['Visibility(mi)'],[0,2,4,6,8,10], edgecolor = 'black')\n",
    "plt.xlabel('Visibility(miles)')\n",
    "plt.ylabel(\"Số vụ tai nạn\")\n",
    "plt.title(\"Thống kê về Visibility(miles) qua số vụ tai nạn\")\n",
    "plt.axvline(Mean, color ='red',linewidth = 3, linestyle = 'solid',label = 'mean')\n",
    "plt.legend()"
   ]
  },
  {
   "cell_type": "markdown",
   "metadata": {},
   "source": [
    "Trung bình số vụ tai nạn xảy ra đều có mức độ tầm nhìn ở mức gần với 10 cho thấy về tổng quát thì vẫn đề tầm nhìn chưa phải là nguyên nhân quá lớn ảnh hưởng đến  việc xảy ra những vụ tai nạn"
   ]
  },
  {
   "cell_type": "markdown",
   "metadata": {},
   "source": [
    "## Với mỗi cột có kiểu dữ liệu dạng categorical, các giá trị được phân bố như thế nào ?"
   ]
  },
  {
   "cell_type": "code",
   "execution_count": 21,
   "metadata": {},
   "outputs": [],
   "source": [
    "def missing_ratio(s):\n",
    "    return s.isna().mean() * 100\n",
    "def num_diff_vals(s):\n",
    "    return s.dropna().nunique()\n",
    "\n",
    "def diff_vals(s):\n",
    "    return s.dropna().unique()\n"
   ]
  },
  {
   "cell_type": "code",
   "execution_count": 22,
   "metadata": {},
   "outputs": [
    {
     "name": "stdout",
     "output_type": "stream",
     "text": [
      "                    Give_Way Sunrise_Sunset Astronomical_Twilight  \\\n",
      "missing_ratio              0      0.0054747             0.0054747   \n",
      "num_diff_vals              2              2                     2   \n",
      "diff_vals      [False, True]   [Night, Day]          [Night, Day]   \n",
      "\n",
      "                                                     Description  \\\n",
      "missing_ratio                                                  0   \n",
      "num_diff_vals                                             527655   \n",
      "diff_vals      [Between Sawmill Rd/Exit 20 and OH-315/Olentan...   \n",
      "\n",
      "                                                  Wind_Direction  \\\n",
      "missing_ratio                                            2.76097   \n",
      "num_diff_vals                                                 24   \n",
      "diff_vals      [SW, Calm, WSW, WNW, West, NNW, South, W, NW, ...   \n",
      "\n",
      "                                                            City  \\\n",
      "missing_ratio                                          0.0054747   \n",
      "num_diff_vals                                              10657   \n",
      "diff_vals      [Dublin, Dayton, Cincinnati, Akron, Williamsbu...   \n",
      "\n",
      "                        Bump  \\\n",
      "missing_ratio              0   \n",
      "num_diff_vals              2   \n",
      "diff_vals      [False, True]   \n",
      "\n",
      "                                                    Airport_Code  \\\n",
      "missing_ratio                                           0.280199   \n",
      "num_diff_vals                                               1985   \n",
      "diff_vals      [KOSU, KFFO, KLUK, KAKR, KI69, KCLE, KAOH, KCM...   \n",
      "\n",
      "              Traffic_Signal        Amenity  ...     Roundabout  \\\n",
      "missing_ratio              0              0  ...              0   \n",
      "num_diff_vals              2              2  ...              2   \n",
      "diff_vals      [False, True]  [False, True]  ...  [False, True]   \n",
      "\n",
      "                    Junction  \\\n",
      "missing_ratio              0   \n",
      "num_diff_vals              2   \n",
      "diff_vals      [False, True]   \n",
      "\n",
      "                                                        Timezone Country  \\\n",
      "missing_ratio                                           0.151841       0   \n",
      "num_diff_vals                                                  4       1   \n",
      "diff_vals      [US/Eastern, US/Pacific, US/Central, US/Mountain]    [US]   \n",
      "\n",
      "                 Side Turning_Loop Civil_Twilight  \\\n",
      "missing_ratio       0            0      0.0054747   \n",
      "num_diff_vals       2            1              2   \n",
      "diff_vals      [R, L]      [False]   [Night, Day]   \n",
      "\n",
      "                                                         Zipcode  \\\n",
      "missing_ratio                                          0.0616729   \n",
      "num_diff_vals                                             177196   \n",
      "diff_vals      [43017, 45424, 45203, 45202, 44311, 45217, 451...   \n",
      "\n",
      "                    Crossing           Stop  \n",
      "missing_ratio              0              0  \n",
      "num_diff_vals              2              2  \n",
      "diff_vals      [False, True]  [False, True]  \n",
      "\n",
      "[3 rows x 31 columns]\n"
     ]
    }
   ],
   "source": [
    "cate_cols=list(set(accidents_df.keys())-set(all_num_cols))\n",
    "\n",
    "index=['missing_ratio', 'num_diff_vals', 'diff_vals']\n",
    "cate_col_profiles_df=pd.DataFrame(\n",
    "     index=index,\n",
    "     columns=cate_cols)\n",
    "accidents_cate_col_df = accidents_df[cate_cols]\n",
    "cate_col_profiles_df = accidents_cate_col_df.agg([missing_ratio,num_diff_vals,diff_vals])\n",
    "\n",
    "print(cate_col_profiles_df)"
   ]
  },
  {
   "cell_type": "markdown",
   "metadata": {},
   "source": [
    "### Cột City"
   ]
  },
  {
   "cell_type": "code",
   "execution_count": 23,
   "metadata": {},
   "outputs": [
    {
     "name": "stdout",
     "output_type": "stream",
     "text": [
      "Số lượng thành phố thu thập được:  10657\n",
      "Biểu đồ số vụ tai nạn ở 15 thành phố có nhiều vụ tai nạn nhất\n"
     ]
    },
    {
     "data": {
      "text/plain": [
       "<AxesSubplot:>"
      ]
     },
     "execution_count": 23,
     "metadata": {},
     "output_type": "execute_result"
    },
    {
     "data": {
      "image/png": "[encoded data removed]",
      "text/plain": [
       "<Figure size 432x288 with 1 Axes>"
      ]
     },
     "metadata": {
      "needs_background": "light"
     },
     "output_type": "display_data"
    }
   ],
   "source": [
    "cities_by_accident = accidents_df.City.value_counts()\n",
    "print(\"Số lượng thành phố thu thập được: \" ,len(cities_by_accident))\n",
    "print(\"Biểu đồ số vụ tai nạn ở 15 thành phố có nhiều vụ tai nạn nhất\")\n",
    "cities_by_accident[:15].plot(kind='barh')"
   ]
  },
  {
   "cell_type": "markdown",
   "metadata": {},
   "source": [
    "Thành phố Los Angeles và Miami có số lượng tai nạn vượt trội hơn so với những thành phố khác"
   ]
  },
  {
   "cell_type": "markdown",
   "metadata": {},
   "source": [
    "### Cột County"
   ]
  },
  {
   "cell_type": "code",
   "execution_count": 24,
   "metadata": {},
   "outputs": [
    {
     "name": "stdout",
     "output_type": "stream",
     "text": [
      "Số lượng quận thu thập được:  1671\n",
      "Biểu đồ số vụ tai nạn ở 15 quận có nhiều vụ tai nạn nhất\n"
     ]
    },
    {
     "data": {
      "text/plain": [
       "<AxesSubplot:>"
      ]
     },
     "execution_count": 24,
     "metadata": {},
     "output_type": "execute_result"
    },
    {
     "data": {
      "image/png": "[encoded data removed]",
      "text/plain": [
       "<Figure size 432x288 with 1 Axes>"
      ]
     },
     "metadata": {
      "needs_background": "light"
     },
     "output_type": "display_data"
    }
   ],
   "source": [
    "counties_by_accident = accidents_df.County.value_counts()\n",
    "print(\"Số lượng quận thu thập được: \" ,len(counties_by_accident))\n",
    "print(\"Biểu đồ số vụ tai nạn ở 15 quận có nhiều vụ tai nạn nhất\")\n",
    "counties_by_accident[:15].plot(kind='barh',color = 'purple')"
   ]
  },
  {
   "cell_type": "markdown",
   "metadata": {},
   "source": [
    "Quận Los Angeles có số lượng tai nạn xảy ra nhiều và cách biệt rất lớn so với những quận khác"
   ]
  },
  {
   "cell_type": "markdown",
   "metadata": {},
   "source": [
    "### Cột State"
   ]
  },
  {
   "cell_type": "code",
   "execution_count": 25,
   "metadata": {},
   "outputs": [
    {
     "name": "stdout",
     "output_type": "stream",
     "text": [
      "Số lượng State thu thập được:  49\n",
      "Biểu đồ số vụ tai nạn ở 15 State có nhiều vụ tai nạn nhất\n"
     ]
    },
    {
     "data": {
      "text/plain": [
       "<AxesSubplot:>"
      ]
     },
     "execution_count": 25,
     "metadata": {},
     "output_type": "execute_result"
    },
    {
     "data": {
      "image/png": "[encoded data removed]",
      "text/plain": [
       "<Figure size 432x288 with 1 Axes>"
      ]
     },
     "metadata": {
      "needs_background": "light"
     },
     "output_type": "display_data"
    }
   ],
   "source": [
    "states_by_accident = accidents_df.State.value_counts()\n",
    "print(\"Số lượng State thu thập được: \" ,len(states_by_accident))\n",
    "print(\"Biểu đồ số vụ tai nạn ở 15 State có nhiều vụ tai nạn nhất\")\n",
    "states_by_accident[:15].plot(kind='bar',color = 'purple')"
   ]
  },
  {
   "cell_type": "markdown",
   "metadata": {},
   "source": [
    "Chúng ta có thể thấy được số lượng vụ tai nạn ở ban California cao vượt trội so với  ở những tiểu ban khác "
   ]
  },
  {
   "cell_type": "markdown",
   "metadata": {},
   "source": [
    "### Cột Wind_Direction"
   ]
  },
  {
   "cell_type": "code",
   "execution_count": 26,
   "metadata": {},
   "outputs": [
    {
     "name": "stdout",
     "output_type": "stream",
     "text": [
      "Số lượng Wind_Direction thu thập được:  24\n",
      "Biểu đồ số vụ tai nạn của top 15 Wind_Direction có nhiều vụ tai nạn nhất\n"
     ]
    },
    {
     "data": {
      "text/plain": [
       "<AxesSubplot:>"
      ]
     },
     "execution_count": 26,
     "metadata": {},
     "output_type": "execute_result"
    },
    {
     "data": {
      "image/png": "[encoded data removed]",
      "text/plain": [
       "<Figure size 432x288 with 1 Axes>"
      ]
     },
     "metadata": {
      "needs_background": "light"
     },
     "output_type": "display_data"
    }
   ],
   "source": [
    "Wind_Direction_by_accident = accidents_df.Wind_Direction.value_counts()\n",
    "print(\"Số lượng Wind_Direction thu thập được: \" ,len(Wind_Direction_by_accident))\n",
    "print(\"Biểu đồ số vụ tai nạn của top 15 Wind_Direction có nhiều vụ tai nạn nhất\")\n",
    "Wind_Direction_by_accident[:15].plot(kind='bar',color = 'purple')"
   ]
  },
  {
   "cell_type": "code",
   "execution_count": null,
   "metadata": {},
   "outputs": [],
   "source": []
  },
  {
   "cell_type": "markdown",
   "metadata": {},
   "source": [
    "### Cột Weather_Condition"
   ]
  },
  {
   "cell_type": "code",
   "execution_count": 27,
   "metadata": {},
   "outputs": [
    {
     "name": "stdout",
     "output_type": "stream",
     "text": [
      "Số loại thời tiết thu thập được:  116\n",
      "Biểu đồ 10 loại thời tiết xảy ra nhiều tai nạn nhất\n"
     ]
    },
    {
     "data": {
      "text/plain": [
       "<AxesSubplot:ylabel='Weather_Condition'>"
      ]
     },
     "execution_count": 27,
     "metadata": {},
     "output_type": "execute_result"
    },
    {
     "data": {
      "image/png": "[encoded data removed]",
      "text/plain": [
       "<Figure size 432x288 with 1 Axes>"
      ]
     },
     "metadata": {
      "needs_background": "light"
     },
     "output_type": "display_data"
    }
   ],
   "source": [
    "# Lọc ra các vụ tai nạn theo tình hình thời tiết\n",
    "weather_condition = accidents_df.groupby(['Weather_Condition']).count()['ID'] \n",
    "# Vẽ biểu đồ 10 loại thời tiết dễ xảy ra tai nạn nhất\n",
    "print(\"Số loại thời tiết thu thập được: \" ,len(weather_condition))\n",
    "print(\"Biểu đồ 10 loại thời tiết xảy ra nhiều tai nạn nhất\")\n",
    "weather_condition.sort_values(ascending=False)[:10].plot(kind='barh',color = 'green')"
   ]
  },
  {
   "cell_type": "markdown",
   "metadata": {},
   "source": [
    "Chúng ta có thể thấy điều kiện thời tiết trong các vụ tai nạn giao thông chủ yêu là những thời tiết tốt  do đó có vẻ trong tập dữ liệu này thì điều kiện thời tiết cũng không hẳn là nguyên nhân khiến cho có nhiều vụ tai nạn"
   ]
  },
  {
   "cell_type": "markdown",
   "metadata": {},
   "source": [
    "## 3. Đặt ra các câu hỏi có ý nghĩa? Giải thích về lợi ích của việc trả lời các câu hỏi này."
   ]
  },
  {
   "cell_type": "markdown",
   "metadata": {},
   "source": [
    "- Câu 1: Trong một ngày thì tại những thời điểm nào thường xảy ra những vụ tai nạn giao thông nhất ? Những vụ tai nạn giao thông với mức độ nghiêm trọng khác nhau có xảy ra ở những lúc khác với những thời điểm đó hay không ? \n",
    "  + Biết được những thời điểm nào ít xảy ra những vụ tai nạn giao thông\n",
    "  + Biết được những thời điểm nào thường xuyên xảy ra tai nạn giao thông\n",
    "  + Hiểu được sự phân bố của mức độ nghiêm trọng của những vụ tai nạn qua các thời điểm trong ngày. Từ đó biết được liệu có những khung giờ nào ngoài giờ cao điểm mà có xảy ra những vụ tai nạn với mức độ nghiêm trọng cao hay không ?\n",
    "  + Từ đó câu trả lời của câu hỏi ta đưa ra những giải pháp giúp giảm thiểu những vụ tai nạn xuống hết mức có thể tại những thời điểm nguy hiểm trong ngày mà ta đã tìm hiểu được \n",
    "\n",
    "- Câu 2: Ánh sáng có tác động đến tầm nhìn đối với các công trình giao thông ở các quận xảy ra nhiều tai nạn hay không?\n",
    "\n",
    "  + Sau khi trả lời câu hỏi này, ta sẽ biết được liệu ban ngày và ban đêm có ảnh hưởng lớn đến tầm nhìn của lái xe hay không và việc đặt các công trình giao thông trên đã nằm ở nơi dễ nhìn thấy hay chưa. Từ đó, đưa ra các biện pháp cải thiện tầm nhìn nhằm giảm thiểu số vụ tai nạn xảy ra do không có đủ tầm nhìn.\n",
    " \n",
    "- Câu 3: Trong các năm từ 2018 đến 2020, những thành phố nào có nhiều vụ tai nạn xảy ra nhất ? Làm sao để có thể hạn chế tối đa số vụ tai nạn trong các thành phố này?\n",
    "  + Trả lời được câu hỏi này, ta sẽ tìm ra giải pháp để giảm thiểu số vụ tai nạn xảy ra trong các thành phố nêu trên.\n",
    "\n"
   ]
  },
  {
   "cell_type": "markdown",
   "metadata": {},
   "source": [
    "## 4. Tiền xử lí phân tích và trả lời câu hỏi"
   ]
  },
  {
   "cell_type": "markdown",
   "metadata": {},
   "source": [
    "### Câu hỏi 1: Trong một ngày thì tại những thời điểm nào thường xảy ra những vụ tai nạn giao thông nhất ? Những vụ tai nạn giao thông với mức độ nghiêm trọng khác nhau có xảy ra ở những lúc khác với những thời điểm đó hay không  ?"
   ]
  },
  {
   "cell_type": "markdown",
   "metadata": {},
   "source": [
    "Lấy ra tổng số vụ tai nạn dựa trên mức độ nghiêm trọng của những vụ tai nạn đó và tính phần trăm"
   ]
  },
  {
   "cell_type": "code",
   "execution_count": 28,
   "metadata": {},
   "outputs": [
    {
     "name": "stdout",
     "output_type": "stream",
     "text": [
      "   Severity  number_of_acc  percent_acc\n",
      "0         1          28178     1.858629\n",
      "1         2        1212382    79.969051\n",
      "2         3         161052    10.623034\n",
      "3         4         114452     7.549286\n"
     ]
    },
    {
     "data": {
      "image/png": "[encoded data removed]",
      "text/plain": [
       "<Figure size 432x288 with 1 Axes>"
      ]
     },
     "metadata": {},
     "output_type": "display_data"
    }
   ],
   "source": [
    "serverity_df=accidents_df.groupby(['Severity']).size().reset_index(name='number_of_acc')\n",
    "serverity_df['percent_acc'] = (serverity_df['number_of_acc'] / serverity_df['number_of_acc'].sum()) * 100\n",
    "print(serverity_df)\n",
    "explode = (0, 0.1, 0, 0)\n",
    "fig1, ax1 = plt.subplots()\n",
    "ax1.pie(serverity_df['percent_acc'], explode=explode, labels=serverity_df['Severity'], autopct='%1.1f%%',\n",
    "        shadow=False, startangle=200)\n",
    "ax1.axis('equal')  # Equal aspect ratio ensures that pie is drawn as a circle.\n",
    "\n",
    "\n",
    "plt.legend()\n",
    "plt.rcParams[\"figure.figsize\"] = (10,5)\n",
    "plt.show()"
   ]
  },
  {
   "cell_type": "markdown",
   "metadata": {},
   "source": [
    "Ta có thể thấy tỉ lệ xảy ra những vụ tai nạn ở mức độ 2 là rất cao khoảng 80% và tỉ lệ xảy ra tai nạn thấp là những vụ tai nạn mức độ 4 khoảng 1.9%, đứng thứ 2 là những vụ tai nạn có mức độ nghiêm trọng là 3 khoảng 10.6% và đứng thứ 3 là những vụ tai có mức độ nghiêm trọng mức độ 4. Ta tiếp tục tìm hiểu xem tỉ lệ xảy ra các vụ tai nạn với mức độ nghiêm trọng có phân bố khác nhau hay giống nhau qua các thời điểm trong một ngày ? Từ đó rút ra kết luận về mức độ xảy ra các vụ tai nạn trong ngày ?"
   ]
  },
  {
   "cell_type": "markdown",
   "metadata": {},
   "source": [
    "##### Tạo thêm các để tạo thêm các cột ngày, tháng, năm, giờ  bắt đầu xảy ra tai nạn từ cột Start_time\n",
    " - Dùng hàm dt của series để tạo thêm các cột ngày, tháng, năm, giờ, phút, ngày trong tuần, tên của ngày trong tuần bắt đầu xảy ra tai nạn từ cột Start_time vì ở đây mình phân tích về thời điểm xảy ra tai nạn giao thông nên nếu lấy các số liệu trên của cột End_Time thì có thể dữ liệu sẽ bị sai lệch khá nhiều do có những vụ tai nạn có khoảng thời gian từ lúc bắt đầu đến kết thúc là khá lâu  "
   ]
  },
  {
   "cell_type": "code",
   "execution_count": 60,
   "metadata": {},
   "outputs": [
    {
     "name": "stdout",
     "output_type": "stream",
     "text": [
      "         year  hour\n",
      "0        2016     0\n",
      "1        2016     5\n",
      "2        2016     6\n",
      "3        2016     6\n",
      "4        2016     6\n",
      "...       ...   ...\n",
      "1516059  2019    18\n",
      "1516060  2019    19\n",
      "1516061  2019    19\n",
      "1516062  2019    19\n",
      "1516063  2019    18\n",
      "\n",
      "[1516064 rows x 2 columns]\n"
     ]
    }
   ],
   "source": [
    "\n",
    "accidents_df['year']=accidents_df['Start_Time'].dt.year\n",
    "accidents_df['hour']=accidents_df['Start_Time'].dt.hour\n",
    "\n",
    "\n",
    "\n",
    "\n",
    "print(accidents_df[['year','hour']])\n",
    "\n"
   ]
  },
  {
   "cell_type": "markdown",
   "metadata": {},
   "source": [
    "##### Tổng số tai nạn xảy ra tại các thời điểm ở mỗi ngày trong tuần\n",
    " - Tiến hành gom nhóm tạo thành một dataframe mới dựa trên thời điểm giờ trong ngày mà xảy ra vụ tai nạn đó và mức độ nghiêm trọng của vụ tai nạn đó"
   ]
  },
  {
   "cell_type": "code",
   "execution_count": 30,
   "metadata": {},
   "outputs": [],
   "source": [
    "severity_hour_df=accidents_df.groupby(['Severity','hour']).size().reset_index(name='number_of_acc')"
   ]
  },
  {
   "cell_type": "code",
   "execution_count": 31,
   "metadata": {},
   "outputs": [
    {
     "name": "stdout",
     "output_type": "stream",
     "text": [
      "    Severity  hour  number_of_acc\n",
      "0          1     0            306\n",
      "1          1     1            228\n",
      "2          1     2            239\n",
      "3          1     3            227\n",
      "4          1     4            307\n",
      "..       ...   ...            ...\n",
      "91         4    19           4936\n",
      "92         4    20           4410\n",
      "93         4    21           3924\n",
      "94         4    22           3845\n",
      "95         4    23           3931\n",
      "\n",
      "[96 rows x 3 columns]\n"
     ]
    }
   ],
   "source": [
    "print(severity_hour_df)"
   ]
  },
  {
   "cell_type": "markdown",
   "metadata": {},
   "source": [
    "##### Tính tỉ lệ số vụ tai nạn xảy ra theo mức độ nghiêm trọng qua các thời điểm trong ngày"
   ]
  },
  {
   "cell_type": "code",
   "execution_count": 32,
   "metadata": {},
   "outputs": [
    {
     "name": "stdout",
     "output_type": "stream",
     "text": [
      "    Severity  hour  number_of_acc  percent_number_of_acc\n",
      "0          1     0            306               0.020184\n",
      "1          1     1            228               0.015039\n",
      "2          1     2            239               0.015765\n",
      "3          1     3            227               0.014973\n",
      "4          1     4            307               0.020250\n",
      "..       ...   ...            ...                    ...\n",
      "91         4    19           4936               0.325580\n",
      "92         4    20           4410               0.290885\n",
      "93         4    21           3924               0.258828\n",
      "94         4    22           3845               0.253617\n",
      "95         4    23           3931               0.259290\n",
      "\n",
      "[96 rows x 4 columns]\n"
     ]
    }
   ],
   "source": [
    "severity_hour_df['percent_number_of_acc']=(severity_hour_df['number_of_acc'] / severity_hour_df['number_of_acc'].sum())*100\n",
    "print(severity_hour_df)"
   ]
  },
  {
   "cell_type": "markdown",
   "metadata": {},
   "source": [
    "##### Dùng hàm pivot của pandas để chuyển severity thành 4 cột và hour thành các dòng để vẽ biểu đồ line chart"
   ]
  },
  {
   "cell_type": "code",
   "execution_count": 33,
   "metadata": {},
   "outputs": [
    {
     "name": "stdout",
     "output_type": "stream",
     "text": [
      "Severity         1         2         3         4\n",
      "hour                                            \n",
      "0         0.020184  2.520936  0.201641  0.299658\n",
      "1         0.015039  2.511108  0.149202  0.189570\n",
      "2         0.015765  2.194301  0.154017  0.195242\n",
      "3         0.014973  1.722619  0.175454  0.209226\n",
      "4         0.020250  1.527838  0.175784  0.220505\n",
      "5         0.038983  2.018780  0.289566  0.298009\n",
      "6         0.062464  2.981998  0.440021  0.331912\n",
      "7         0.084693  3.864547  0.561124  0.366607\n",
      "8         0.092872  3.969687  0.571216  0.366145\n",
      "9         0.080340  3.051388  0.465482  0.343521\n",
      "10        0.074865  2.544352  0.390089  0.317863\n",
      "11        0.088914  2.637026  0.393189  0.303153\n",
      "12        0.099204  3.859204  0.460733  0.348666\n",
      "13        0.120707  4.548225  0.489623  0.362320\n",
      "14        0.125918  4.856391  0.587244  0.377557\n",
      "15        0.154545  5.228407  0.807090  0.410867\n",
      "16        0.188910  5.415734  0.943562  0.414494\n",
      "17        0.187657  5.556560  0.962756  0.417463\n",
      "18        0.152896  4.692414  0.796009  0.388308\n",
      "19        0.088057  3.401571  0.484742  0.325580\n",
      "20        0.044193  2.856871  0.337914  0.290885\n",
      "21        0.038587  2.665389  0.268458  0.258828\n",
      "22        0.027110  2.686364  0.275252  0.253617\n",
      "23        0.021503  2.657342  0.242866  0.259290\n"
     ]
    }
   ],
   "source": [
    "severity_hour_pivot_df=  severity_hour_df.pivot(index='hour', columns='Severity', values='percent_number_of_acc')\n",
    "print(severity_hour_pivot_df)"
   ]
  },
  {
   "cell_type": "code",
   "execution_count": 34,
   "metadata": {},
   "outputs": [
    {
     "data": {
      "image/png": "[encoded data removed]",
      "text/plain": [
       "<Figure size 720x360 with 1 Axes>"
      ]
     },
     "metadata": {
      "needs_background": "light"
     },
     "output_type": "display_data"
    }
   ],
   "source": [
    "severity_hour_pivot_df[2].plot(marker='o')\n",
    "plt.xlabel(\"Khung giờ trong một ngày(h)\")\n",
    "plt.ylabel(\"Tỉ lệ xảy ra những vụ tai nạn(%)\")\n",
    "plt.title(\"Tỉ lệ tai nạn xảy ra tai nạn nghiêm trọng mức độ 2 trong vòng 24h\")\n",
    "plt.rcParams[\"figure.figsize\"] = (10,5)\n",
    "plt.show()"
   ]
  },
  {
   "cell_type": "markdown",
   "metadata": {},
   "source": [
    "  -  Ta thấy tỉ lệ xảy ra những vụ tai nạn nghiêm trọng ở mức độ 2 có sự phân bố giảm mạnh từ 0h-4h (2.5%-1.5%) sau đó tăng lên từ 5h-8h(4%) rồi giảm từ 9h-11h(2.7%) sau đó tăng dần lên cao nhất ở lúc 17h(5.5%) từ đó giảm dần xuống thấp cho đến 23h(2.7%) rồi tiếp tục giảm cho đến ngày hôm sau"
   ]
  },
  {
   "cell_type": "code",
   "execution_count": 35,
   "metadata": {},
   "outputs": [
    {
     "data": {
      "image/png": "[encoded data removed]",
      "text/plain": [
       "<Figure size 720x360 with 1 Axes>"
      ]
     },
     "metadata": {
      "needs_background": "light"
     },
     "output_type": "display_data"
    }
   ],
   "source": [
    "severity_hour_pivot_df[4].plot(marker='o')\n",
    "plt.xlabel(\"Khung giờ trong một ngày(h)\")\n",
    "plt.ylabel(\"Tỉ lệ xảy ra những vụ tai nạn(%)\")\n",
    "plt.title(\"Tỉ lệ tai nạn xảy ra tai nạn nghiêm trọng mức độ 4 trong vòng 24h\")\n",
    "plt.rcParams[\"figure.figsize\"] = (10,5)\n",
    "plt.show()"
   ]
  },
  {
   "cell_type": "markdown",
   "metadata": {},
   "source": [
    "- Tỉ lệ tai nạn mức độ 4 xảy ra qua các khung giờ thì có sự tương đồng so với mức độ 2 về hình dáng biểu đồ cũng giảm xuống thấp từ 0h-4h sau đó tăng đến 8h rồi giảm đến 11h và tăng lên 17h xong rồi giảm xuống nhưng tỉ lệ xảy ra qua các thời điểm thấp hơn nhiều so với những vụ mức độ 2"
   ]
  },
  {
   "cell_type": "code",
   "execution_count": 36,
   "metadata": {},
   "outputs": [
    {
     "data": {
      "image/png": "[encoded data removed]",
      "text/plain": [
       "<Figure size 720x360 with 1 Axes>"
      ]
     },
     "metadata": {
      "needs_background": "light"
     },
     "output_type": "display_data"
    }
   ],
   "source": [
    "severity_hour_pivot_df[1].plot(marker='o')\n",
    "plt.xlabel(\"Khung giờ trong một ngày(h)\")\n",
    "plt.ylabel(\"Tỉ lệ xảy ra những vụ tai nạn(%)\")\n",
    "plt.title(\"Tỉ lệ tai nạn xảy ra tai nạn nghiêm trọng mức độ 1 trong vòng 24h\")\n",
    "plt.rcParams[\"figure.figsize\"] = (10,5)\n",
    "plt.show()"
   ]
  },
  {
   "cell_type": "markdown",
   "metadata": {},
   "source": [
    "  - Số lượng tai nạn nghiêm trọng ở mức 1 có số lượng xảy ra vào ban đêm đã về một tỉ lệ khá thấp khi so với tỉ lệ cao nhất của nó từ 0h-3h số lượng tai nạn gần như không tăng và cũng không giảm đến 4h bắt đầu thì tăng dần lên đến 8h tuy nhiên khác với 2 biểu đồ trên thì ở biểu đồ mức độ 1 này chỉ giảm nhẹ từ 8h-10h rồi sau đó bắt đầu tăng lên cao nhất ở 16h-17h(0.075%->0.19%) và sau đó giảm cho đến cuối ngày"
   ]
  },
  {
   "cell_type": "code",
   "execution_count": 37,
   "metadata": {},
   "outputs": [
    {
     "data": {
      "image/png": "[encoded data removed]",
      "text/plain": [
       "<Figure size 720x360 with 1 Axes>"
      ]
     },
     "metadata": {
      "needs_background": "light"
     },
     "output_type": "display_data"
    }
   ],
   "source": [
    "severity_hour_pivot_df[3].plot(marker='o')\n",
    "plt.xlabel(\"Khung giờ trong một ngày(h)\")\n",
    "plt.ylabel(\"Tỉ lệ xảy ra những vụ tai nạn(%)\")\n",
    "plt.title(\"Tỉ lệ tai nạn xảy ra tai nạn nghiêm trọng mức độ 3 trong vòng 24h\")\n",
    "plt.rcParams[\"figure.figsize\"] = (10,5)\n",
    "plt.show()"
   ]
  },
  {
   "cell_type": "markdown",
   "metadata": {},
   "source": [
    "- Tai nạn nghiêm trọng ở mức 3 có số lượng xảy ra vào ban đêm về hình dáng khá tương tự như mức độ 1 từ (20-4h) số vụ tai nạn bắt đâu giảm dần còn số vụ tai nạn từ 9h-11h và lên cao nhất ở khoảng 16-17h tuy nhiên tỉ lệ tai nạn ở mức độ 3 cao hơn so mức độ 1"
   ]
  },
  {
   "cell_type": "markdown",
   "metadata": {},
   "source": [
    "Để hiểu rõ hơn về sự chênh lệch về sự nghiêm trọng của các vụ tai nạn qua các khung giờ trong ngày thì ta sẽ vẽ cả 4 đường tương ứng với 4 mức độ nghiêm trọng lên 1 biểu đồ"
   ]
  },
  {
   "cell_type": "code",
   "execution_count": 38,
   "metadata": {},
   "outputs": [
    {
     "data": {
      "image/png": "[encoded data removed]",
      "text/plain": [
       "<Figure size 720x360 with 1 Axes>"
      ]
     },
     "metadata": {
      "needs_background": "light"
     },
     "output_type": "display_data"
    }
   ],
   "source": [
    "severity_hour_pivot_df.plot(marker='o')\n",
    "plt.xlabel(\"Khung giờ trong một ngày(h)\")\n",
    "plt.ylabel(\"Tỉ lệ xảy ra những vụ tai nạn(%)\")\n",
    "plt.rcParams[\"figure.figsize\"] = (10,5)\n",
    "plt.show()"
   ]
  },
  {
   "cell_type": "markdown",
   "metadata": {},
   "source": [
    "Từ đây ta thấy tỉ lệ xảy ra những vụ tai nạn ở mức độ 2 có sự chênh lệch rất lớn ở khoảng 17h là cao nhất khoảng hơn 400% so với 3 mức độ nghiêm trọng còn lại.Tuy nhiên chính vì điều này làm ta chưa thấy rõ được sự phân bố của 3 mức độ tai nạn còn lại khi so sánh với nhau nên ta sẽ vẽ một biểu đồ nữa và bỏ mức độ 2 ra "
   ]
  },
  {
   "cell_type": "code",
   "execution_count": 39,
   "metadata": {},
   "outputs": [
    {
     "data": {
      "image/png": "[encoded data removed]",
      "text/plain": [
       "<Figure size 720x360 with 1 Axes>"
      ]
     },
     "metadata": {
      "needs_background": "light"
     },
     "output_type": "display_data"
    }
   ],
   "source": [
    "drop_severity_2_df=severity_hour_pivot_df.drop([2], axis=1)\n",
    "drop_severity_2_df.plot(marker='o')\n",
    "plt.xlabel(\"Khung giờ trong một ngày(h)\")\n",
    "plt.ylabel(\"Tỉ lệ xảy ra những vụ tai nạn(%)\")\n",
    "plt.rcParams[\"figure.figsize\"] = (10,5)\n",
    "plt.show()"
   ]
  },
  {
   "cell_type": "markdown",
   "metadata": {},
   "source": [
    "Ta có thể thấy được hầu hết qua các khung giờ thì tỉ lệ xảy ra tai nạn mức độ 3 sẽ cao hơn so với mức độ 4 và mức độ 1 cao nhất 16-17h cao hơn mức độ 3 khoảng 150%. Tuy nhiên ở vào khoảng khung giờ từ 0h-4h thì ta thấy tỉ lệ tai nạn xảy ra của mức độ 4 cao hơn so với mức độ 3 đặc biệt ở lúc khoảng 0h cao hơn khoảng 50%. Điều có thể lý giải bằng việc vào ban đêm thì tầm nhìn hạn chế và mật độ xe trên đường sẽ giảm khi đó các tài xế thường chạy xe mà không quan tâm đến các tín hiệu giao thông, dẫn đến nếu có xảy ra tai nạn thì những vụ tai nạn thì tỉ lệ gây ra thương vong sẽ cao hơn so với những vụ tai nạn phải nhập viện chứ nhưng chưa đến mức chết."
   ]
  },
  {
   "cell_type": "markdown",
   "metadata": {},
   "source": [
    "Tổng kết lại thì ta có rút ra kết luận rằng:\n",
    "- Nếu một ai đó bị tai nạn giao thông thì khả năng người đó chỉ cần dùng một số thuốc hoặc băng bó vết thương nho nhỏ rồi sẽ khỏe hẳn là tương đối cao vì tỉ lệ tai nạn giao thông mức độ 2 có sự chênh lệch rất lớn so với những mức độ khác qua các khung giờ trong ngày và một khi xảy ra tai nạn giao thông thì cũng rất ít người chỉ bị xây xác nhẹ hoặc không bị gì do mức độ 1 chiếm tỉ lệ khá thấp trên biểu đồ. Còn lại là số vụ có người bị thường nặng phải nhập viện và số trường hợp tử vong thì có tỉ lệ gần tương đương với nhau nhưng của mức độ 3 vẫn chiếm tỉ lệ cao hơn ở mức độ 4 đa số các khung giờ. Vì sự phân bố tỉ lệ xảy ra những vụ tai nạn giao thông với 4 mức độ nghiêm trọng có sự tương đồng với nhau về các thời điểm xảy ra nhiều vụ tai nạn và thời điểm xảy ra ít vụ tai nạn.Cụ thể:\n",
    "    + Những vụ tai nạn sẽ thường xảy ra nhiều nhất vào hai thời điểm trong ngày rồi giảm dần tương ứng với 2 giá trị cực đại của mỗi biểu đồ tương đương với 2 khung giờ cao điểm trong. Đỉnh thứ nhất khoảng 7-8h đây là thời điểm mà mọi người đang trên đường đến nơi việc nên mật độ giao thông trên đường cao và mọi người muốn đến nơi làm việc nhanh vì sợ bị trễ nên dễ xảy ra tai nạn.Đỉnh thứ 2 là 16-17h lúc này mọi người vừa tan ca đang từ nơi làm việc trở về nhà dẫn đến số lượng xe đang chạy trên đường rất nhiều và mọi người cũng muốn về nhanh để được nghỉ ngơi giải tỏa căng thẳng nên thường xảy ra những sự cố đáng tiếc. \n",
    "    + Bên cạnh đó ta cũng thấy được những thời điểm mà những vụ tai nạn sẽ giảm xuống đó chỉnh là vào khoảng 10-11h đây là buổi trưa thì lúc này mọi người có xu hướng nghỉ trưa ăn uống tại chỗ làm ít đi lại nên ít xảy ra tai nạn và một thời điểm nữa đó là buổi tồi vào khoảng 2-4h vào thời điểm này tai nạn sẽ xảy ra ở mức thấp nhất trong ngày do lúc đó hầu hết mọi người đều đã đi ngủ ít người đi lại trên đường nên sẽ khó xảy ra tai nạn.\n",
    "    + Và vẫn có thời điểm vào lúc khoảng 0h thì số lượng tai nạn với mức độ gây thương vong chết người sẽ xãy ra cao hơn số lượng những vụ tai nạn ở mức độ 3.Tuy nhiên nếu so với số lượng tai nạn mức độ nghiêm trọng là 2 thì số lượng này chiếm cũng không quá đáng kể\n",
    "- Từ đây ta sẽ đưa ra những giải pháp giúp giảm thiểu tai nạn vào những khung giờ nguy hiểm này:\n",
    "    + Nếu là nhà nước thì cần \n",
    "       *  Bố trí các lực lượng chức năng hổ trợ điều phối giao thông trên các tuyến đường vào những thời điểm từ 7-8h và 16-17h giao thông trên đường được thông thoáng hơn ít tai nạn hơn, kèm theo để ý một tí những xe chạy ẩu vào khoảng 0h để tránh những tai nạn đáng tiếc\n",
    "       * Xây dựng thêm những tuyến đường mới để các xe dễ lưu thông hơn\n",
    "       * Mở thêm nhiều tuyến xe công cộng vận chuyển được nhiều người cùng lúc để giảm thiểu số lượng xe cộ trên đường lúc giờ cao điểm\n",
    "    + Nếu là cá nhân thì nên :\n",
    "       * Đừng quá vội vàng xếp hàng chờ đợi đến lượt cho dù có bị chậm trễ kế hoạch tính mạng của mình vẫn quan trọng hơn\n",
    "       * Chọn một tuyến đường khác ít xe hơn để đi\n",
    "       * Chạy xe đúng làn đường cho phép\n",
    "       * Không chạy quá sát xe phía trước do mật độ lưu thông cao nên khi xe phía trước chạy chậm hoặc phanh lại sẽ rất dễ xảy ra va chạm\n",
    "       * Chạy chậm và quan sát kĩ nếu như đi vào ban đêm\n",
    "       * Không vì thiếu sự giám sát của cảnh sát giao thông mà bỏ qua các đèn giao thông, biển báo,...\n",
    "       * Giữ tinh thần luôn tỉnh táo không để bị buồn ngủ mệt mỏi khi lái xe"
   ]
  },
  {
   "cell_type": "markdown",
   "metadata": {},
   "source": [
    "### Câu 2: Ánh sáng có tác động đến tầm nhìn đối với các công trình giao thông ở các quận xảy ra nhiều tai nạn hay không?\n",
    " - Bước 1: Lọc ra 5 quận có số vụ tai nạn cao nhất.\n",
    " - Bước 2: Trong 5 quận này, lọc ra các vụ tai nạn có sự xuất hiện của các công trình giao thông như biển báo, đèn giao thông, ...\n",
    " - Bước 3: Tính tỉ lệ các vụ tai nạn xảy ra vào ban ngày và ban đêm sau đó xem xét về tầm nhìn của các lái xe trong các vụ tai nạn này.\n",
    " - Bước 4: Trực quan hóa các tỉ lệ đã tính được và rút ra kết luận."
   ]
  },
  {
   "cell_type": "code",
   "execution_count": 40,
   "metadata": {},
   "outputs": [
    {
     "name": "stdout",
     "output_type": "stream",
     "text": [
      "Ti le tai nan vao ban dem:  37.8 %\n",
      "Ti le tai nan vao ban ngay:  62.2 %\n"
     ]
    }
   ],
   "source": [
    "#Lọc ra các cột cần dùng\n",
    "sign = ['County','Severity','Visibility(mi)','Sunrise_Sunset','Bump','Crossing','Give_Way','Junction','No_Exit','Railway','Roundabout',\n",
    "        'Station','Stop','Traffic_Calming', 'Traffic_Signal', 'Turning_Loop']\n",
    "df = accidents_df[sign]\n",
    "df_county = accidents_df[['County','Bump']]\n",
    "\n",
    "#Tìm top 5 thành phố có số vụ tai nạn nhiều nhất \n",
    "data = pd.DataFrame(df_county.groupby([\"County\"]).count())\n",
    "data.columns = ['Top county']\n",
    "data = data.sort_values(['Top county'], ascending=False)\n",
    "data = data.reset_index()\n",
    "top5 = data['County'].loc[0:4]\n",
    "top5 = list(top5)\n",
    "\n",
    "#Lọc ra các vụ tai nạn có sự xuất hiện của các công trình giao thông như biển báo, bùng binh, đén giao thông,... tại 5 khu vực nóng\n",
    "C_area = df[(df['Bump']==True) | (df['Crossing']==True) | (df['Give_Way']==True) | (df['Junction']==True) | (df['No_Exit']==True) | \n",
    "        (df['Railway']==True) | (df['Roundabout']==True) | (df['Station']==True) | (df['Stop']==True) | \n",
    "        (df['Traffic_Calming']==True) | (df['Traffic_Signal']==True) | (df['Turning_Loop']==True) ]\n",
    "C_area = C_area.loc[C_area['County'].isin(top5)]\n",
    "C_area = C_area.reset_index(drop = True)\n",
    "\n",
    "#Đầu tiên hãy tìm hiểu về tỉ lệ các vụ tai nạn xảy ra vào ban ngày và ban đêm xem có điều gì bất thường không\n",
    "Total = len(C_area['County'])\n",
    "Area = C_area[['Sunrise_Sunset','County']]\n",
    "Area = Area.groupby('Sunrise_Sunset').count()\n",
    "Day = Area['County'][0]\n",
    "Night = Area['County'][1]\n",
    "#Tính tỉ lệ và lưu vào 2 biến Acc_At_Night, Acc_At_Day\n",
    "Acc_Night = round((Night / Total),3)\n",
    "Acc_Day = round((Day / Total),3)\n",
    "print(\"Ti le tai nan vao ban dem: \", Acc_Night * 100, '%')\n",
    "print(\"Ti le tai nan vao ban ngay: \", Acc_Day * 100, '%')"
   ]
  },
  {
   "cell_type": "code",
   "execution_count": 41,
   "metadata": {},
   "outputs": [
    {
     "data": {
      "text/plain": [
       "<matplotlib.legend.Legend at 0x12db2cb9a60>"
      ]
     },
     "execution_count": 41,
     "metadata": {},
     "output_type": "execute_result"
    },
    {
     "data": {
      "image/png": "[encoded data removed]",
      "text/plain": [
       "<Figure size 720x360 with 1 Axes>"
      ]
     },
     "metadata": {},
     "output_type": "display_data"
    }
   ],
   "source": [
    "#Biểu đồ tỉ lệ tai nạn vào ban ngày và ban đêm\n",
    "Arr = [Acc_Day, Acc_Night]\n",
    "label = [\"Accident in the daytime\", \"Accident at night\"]\n",
    "mycolors = [\"blue\",\"red\"]\n",
    "plt.pie(Arr,labels = label, colors = mycolors, autopct='%1.0f%%', pctdistance=0.5, labeldistance= 1.2)\n",
    "plt.title(\"Distribution of accidents by Sunrise_Sunset\")\n",
    "plt.legend(bbox_to_anchor=(1,0), loc=\"right\", bbox_transform=plt.gcf().transFigure)"
   ]
  },
  {
   "cell_type": "markdown",
   "metadata": {},
   "source": [
    "## Nhận xét:\n",
    "    + Tỉ lệ các vụ tai nạn xảy ra vào ban ngày cao hơn gần như là gấp đôi so với tỉ lệ các vụ tai nạn xảy ra vào ban đêm.\n",
    "      Điều này không nói lên ánh sáng có ảnh hưởng hay không bởi ta đều biết ban ngày lưu lượng phương tiện nhiều hơn nên\n",
    "    dễ xảy ra tai nạn hơn.\n",
    "    + Vào ban ngày thì ánh sáng sẽ nhiều hơn và tầm nhìn sẽ tốt hơn ban đêm rất nhiều khi ban đêm ta phải phụ thuộc vào hệ \n",
    "    thống đèn chiếu sáng của phương tiện cũng như là hệ thống đèn công cộng.\n",
    "    + Để có thể phân tích về sự ảnh hường của ánh sáng, chúng ta sẽ cùng tìm hiểu về tầm nhìn của người gặp tai nạn trước\n",
    "    khi vụ tai nạn xảy ra."
   ]
  },
  {
   "cell_type": "code",
   "execution_count": 42,
   "metadata": {},
   "outputs": [
    {
     "data": {
      "image/png": "[encoded data removed]",
      "text/plain": [
       "<Figure size 720x360 with 1 Axes>"
      ]
     },
     "metadata": {
      "needs_background": "light"
     },
     "output_type": "display_data"
    }
   ],
   "source": [
    "Visibility = C_area[['Sunrise_Sunset','Visibility(mi)']]\n",
    "Night = Visibility.loc[Visibility['Sunrise_Sunset'] == 'Night']\n",
    "Night = Night.reset_index(drop = True)\n",
    "Bad_Sight = Night.loc[Night['Visibility(mi)'] < 8]\n",
    "hist1 = plt.hist(Night['Visibility(mi)'], [0,3,6,8,9,10], edgecolor = 'black')\n",
    "plt.xlabel(\"Visibility(Miles)\")\n",
    "plt.ylabel(\"Cases\")\n",
    "plt.title(\"Visibility of accidents at Night\")\n",
    "BS_ratio = round(len(Bad_Sight['Visibility(mi)']) / len(Night['Visibility(mi)']),3)\n"
   ]
  },
  {
   "cell_type": "code",
   "execution_count": 43,
   "metadata": {},
   "outputs": [
    {
     "data": {
      "text/plain": [
       "Text(0.5, 1.0, 'Visibility of accidents in the Daytime')"
      ]
     },
     "execution_count": 43,
     "metadata": {},
     "output_type": "execute_result"
    },
    {
     "data": {
      "image/png": "[encoded data removed]",
      "text/plain": [
       "<Figure size 720x360 with 1 Axes>"
      ]
     },
     "metadata": {
      "needs_background": "light"
     },
     "output_type": "display_data"
    }
   ],
   "source": [
    "Day = Visibility.loc[Visibility['Sunrise_Sunset'] == 'Day']\n",
    "hist2 = plt.hist(Day['Visibility(mi)'], [0,3,6,8,9,10], color = \"orange\", edgecolor = 'black')\n",
    "plt.xlabel(\"Visibility(Miles)\")\n",
    "plt.ylabel(\"Cases\")\n",
    "plt.title(\"Visibility of accidents in the Daytime\")"
   ]
  },
  {
   "cell_type": "markdown",
   "metadata": {},
   "source": [
    "## Nhận xét:\n",
    "   - Như vậy nhận định về việc hệ thống chiếu sáng của phương tiện và công cộng Không làm ảnh hưởng nhiều lắm đến các vụ tai nạn như ta đã suy đoán.\n",
    "   - Dựa vào biểu đồ ta có thể thấy tầm nhìn bất kể ban ngày hay ban đêm đều ở mức ở rất cao. Điều này nói lên hệ thống chiếu sáng vẫn hoạt động khá tốt và việc nhìn thấy các công trình giao thông có thể nói là ở mức khá tốt.\n",
    "   - Một số vụ tai nạn xảy ra do tầm nhìn kém có thể là do:\n",
    "            + Ở một số điểm hệ thống đèn gặp trục trặc bất ngờ nên không thể xử lý kịp.\n",
    "            + Người lái xe ở trong tình trạng không tỉnh táo.\n",
    "            + Thị lực có thể gặp vẫn đề như cận thị.\n",
    "            + Thời tiết làm ảnh hưởng đến tầm nhìn.\n",
    "   - Với mức tầm nhìn gần như là tốt nhất từ 9-10 thì các vụ tai nạn lại xảy ra nhiều nhất, điều này có thể là do:\n",
    "            + Lỗi bất cẩn, mất tập trung khi lái xe.\n",
    "            + Người lái xe sử dụng chất kích thích, không làm chủ được bản thân.\n",
    "            + Thời tiết tác động đến khả năng làm chủ phương tiện.\n",
    "            + Phương tiện hư hỏng bất ngờ.    \n",
    "            \n",
    "      "
   ]
  },
  {
   "cell_type": "markdown",
   "metadata": {},
   "source": [
    "## Mở rộng cho câu hỏi:"
   ]
  },
  {
   "cell_type": "code",
   "execution_count": 44,
   "metadata": {},
   "outputs": [
    {
     "name": "stdout",
     "output_type": "stream",
     "text": [
      "Số vụ tai nạn do tầm nhìn kém (< 5):  1489\n",
      "Số vụ tai nạn vào ban đêm:  31512\n",
      "Tỉ lệ tai nạn về đêm do tầm nhìn kém:  4.7 %\n"
     ]
    }
   ],
   "source": [
    "#Tính toán tỉ lệ tai nạn do tầm nhìn kém về đêm gây ra\n",
    "Visibility = C_area[['County','Sunrise_Sunset','Visibility(mi)','Severity']]\n",
    "Night = Visibility.loc[Visibility['Sunrise_Sunset'] == 'Night']\n",
    "Night = Night.reset_index(drop = True)\n",
    "Bad_Sight = Night.loc[Night['Visibility(mi)'] < 5]\n",
    "print('Số vụ tai nạn do tầm nhìn kém (< 5): ',len(Bad_Sight['Visibility(mi)']))\n",
    "print('Số vụ tai nạn vào ban đêm: ', len(Night['Visibility(mi)']))\n",
    "BS_ratio = round(len(Bad_Sight['Visibility(mi)']) / len(Night['Visibility(mi)']),3)\n",
    "print('Tỉ lệ tai nạn về đêm do tầm nhìn kém: ', BS_ratio*100, '%')"
   ]
  },
  {
   "cell_type": "code",
   "execution_count": 45,
   "metadata": {},
   "outputs": [
    {
     "data": {
      "text/plain": [
       "Text(0.5, 1.0, 'Distribution of bad visibility at night ')"
      ]
     },
     "execution_count": 45,
     "metadata": {},
     "output_type": "execute_result"
    },
    {
     "data": {
      "image/png": "[encoded data removed]",
      "text/plain": [
       "<Figure size 720x360 with 1 Axes>"
      ]
     },
     "metadata": {
      "needs_background": "light"
     },
     "output_type": "display_data"
    }
   ],
   "source": [
    "#Vẽ biểu đồ để trực quan về sự phân bố \n",
    "Bad_Sight = Night.loc[Night['Visibility(mi)'] < 5]\n",
    "Bad_Sight = Bad_Sight.loc[Night['Severity'] == 4]\n",
    "plt.violinplot(Bad_Sight['Visibility(mi)'], showmeans=True)\n",
    "plt.ylabel(\"Visibility(Miles)\")\n",
    "plt.title(\"Distribution of bad visibility at night \")"
   ]
  },
  {
   "cell_type": "code",
   "execution_count": 46,
   "metadata": {},
   "outputs": [
    {
     "name": "stdout",
     "output_type": "stream",
     "text": [
      "        County  Num_Cases\n",
      "0  Los Angeles         29\n",
      "1   Miami-Dade          2\n",
      "2       Orange          5\n",
      "3    San Diego          3\n"
     ]
    }
   ],
   "source": [
    "#Tìm ra thành phố có nhiều vụ tai nạn về ban đêm do tầm nhìn kém nhất để thí điểm lắp thêm đèn đường\n",
    "Bad_Sight = Bad_Sight.groupby('County').count()\n",
    "Top_county = pd.DataFrame(Bad_Sight[\"Severity\"])\n",
    "Top_county = Top_county.rename(columns={'Severity': 'Num_Cases'})\n",
    "Top_county = Top_county.reset_index()\n",
    "print(Top_county)"
   ]
  },
  {
   "cell_type": "markdown",
   "metadata": {},
   "source": [
    "## Đề xuất thí điểm lắp thêm đèn công cộng ở Los Angeles:\n",
    " - Tuy số vụ tai nạn nghiêm trọng về đêm khá thấp khi chỉ ở mức 4.7% nhưng chúng ta có thể giảm thiểu số vụ tai nạn này bằng cách thí điểm đặt thêm một số đèn công cộng tại những nơi xảy ra tai nạn ở thành phố Los Angeles.\n",
    " - Sau đó, ta sẽ thu thập số liệu về các vụ tai nạn ở thành phố này về đêm xem có giảm không rồi sẽ tính toán xa hơn cho các thành phố khác."
   ]
  },
  {
   "cell_type": "markdown",
   "metadata": {},
   "source": [
    "### Câu 3:  Trong các năm từ 2018 đến 2020, những thành phố nào có nhiều vụ tai nạn xảy ra nhất ? Làm sao để có thể hạn chế tối đa số vụ tai nạn trong các thành phố này?"
   ]
  },
  {
   "cell_type": "markdown",
   "metadata": {},
   "source": [
    "Ở đây em làm thêm cái biến third_years_newest để lọc lấy ra các phần tử chỉ thuộc năm đó (vd: 2018-2020) vì lúc đầu tụi em tính làm 3 năm nhưng cuối cùng lại quyết định làm hết 5 năm nhưng em vẫn để lại biến này để tiện cho việc nếu sau này có thay đổi\n",
    "Sau đó groupy theo các thành phố và năm và lấy hàm count để đếm số vụ tai nạn của mỗi thành phố từ năm 2016-2020\n",
    "Cuối cùng ta se có được số vụ tai nạn của mỗi thành phố qua từng năm dưới dạng series và sử dụng unstack để chuyển sang dạng ngang\n",
    "Công việc còn lại em chỉ cần lấy sum của dòng từ năm 2016-2020 và thực hiện sắp xếp giảm dần là em sẽ có được top 5 thành phố có tổng số vụ tai nạn cao nhất."
   ]
  },
  {
   "cell_type": "code",
   "execution_count": 47,
   "metadata": {},
   "outputs": [],
   "source": [
    "newest_year_data=accidents_df[\"year\"]\n",
    "third_years_newest=newest_year_data\n",
    "after_equal_third_years=third_years_newest <=accidents_df['year']\n",
    "top_county_each_year_df=accidents_df.loc[after_equal_third_years]\n",
    "top_county_each_year_df=top_county_each_year_df.groupby(by=[\"City\",\"year\",]).count()\n",
    "county_temp=top_county_each_year_df[\"ID\"]\n",
    "top_county_each_year_df=pd.Series(data=county_temp)\n",
    "top_county_each_year_df=top_county_each_year_df.unstack(0)\n",
    "sort_county=top_county_each_year_df.sum(axis = 0, skipna = True)\n",
    "sort_county=sort_county.sort_values(ascending=False)\n",
    "sort_county=pd.DataFrame(sort_county.iloc[0:3])\n",
    "index=sort_county.index\n",
    "a_list = list(index)"
   ]
  },
  {
   "cell_type": "code",
   "execution_count": 48,
   "metadata": {},
   "outputs": [
    {
     "data": {
      "text/html": [
       "<div>\n",
       "<style scoped>\n",
       "    .dataframe tbody tr th:only-of-type {\n",
       "        vertical-align: middle;\n",
       "    }\n",
       "\n",
       "    .dataframe tbody tr th {\n",
       "        vertical-align: top;\n",
       "    }\n",
       "\n",
       "    .dataframe thead th {\n",
       "        text-align: right;\n",
       "    }\n",
       "</style>\n",
       "<table border=\"1\" class=\"dataframe\">\n",
       "  <thead>\n",
       "    <tr style=\"text-align: right;\">\n",
       "      <th></th>\n",
       "      <th>0</th>\n",
       "    </tr>\n",
       "    <tr>\n",
       "      <th>City</th>\n",
       "      <th></th>\n",
       "    </tr>\n",
       "  </thead>\n",
       "  <tbody>\n",
       "    <tr>\n",
       "      <th>Los Angeles</th>\n",
       "      <td>39984.0</td>\n",
       "    </tr>\n",
       "    <tr>\n",
       "      <th>Miami</th>\n",
       "      <td>36233.0</td>\n",
       "    </tr>\n",
       "    <tr>\n",
       "      <th>Charlotte</th>\n",
       "      <td>22203.0</td>\n",
       "    </tr>\n",
       "  </tbody>\n",
       "</table>\n",
       "</div>"
      ],
      "text/plain": [
       "                   0\n",
       "City                \n",
       "Los Angeles  39984.0\n",
       "Miami        36233.0\n",
       "Charlotte    22203.0"
      ]
     },
     "execution_count": 48,
     "metadata": {},
     "output_type": "execute_result"
    }
   ],
   "source": [
    "sort_county"
   ]
  },
  {
   "cell_type": "markdown",
   "metadata": {},
   "source": [
    "Bây giờ ta đã có được top 3 thành phố có tổng số ca tai nạn giao thông cao nhất từ năm 2016-2020, Tiếp theo em sẽ vẽ biểu đồ thể hiện sự tăng trưởng của 3 thành phố qua từng năm để biết rõ hơn được về tình hình chung của mỗi thành phố và xem thử liệu có sự bất ổn nào từ năm 2016-2020 ở mỗi thành phố hay không ?"
   ]
  },
  {
   "cell_type": "code",
   "execution_count": 49,
   "metadata": {},
   "outputs": [
    {
     "data": {
      "text/plain": [
       "<AxesSubplot:xlabel='year'>"
      ]
     },
     "execution_count": 49,
     "metadata": {},
     "output_type": "execute_result"
    },
    {
     "data": {
      "image/png": "[encoded data removed]",
      "text/plain": [
       "<Figure size 720x360 with 1 Axes>"
      ]
     },
     "metadata": {
      "needs_background": "light"
     },
     "output_type": "display_data"
    }
   ],
   "source": [
    "plot1=top_county_each_year_df[a_list].plot(marker='o')\n",
    "plot1.xaxis.set_major_locator(MaxNLocator(integer=True))\n",
    "plt.rcParams[\"figure.figsize\"] = (10,5)\n",
    "plot1"
   ]
  },
  {
   "cell_type": "markdown",
   "metadata": {},
   "source": [
    "### Nhận xét\n",
    "- Nhìn vào biểu đồ ta có thể thấy tốc độ tăng trường về số ca tai nạn giao thông của 3 thành phố có tổng số tai nạn giao thông cao nhất qua 5 năm 2016-2020\n",
    "  + Ta có thể thấy ở đây trong 3 thành phố thì chỉ có Los Angeles là có số lượng tăng không giảm xuyên suốt từ năm 2016-2020\n",
    "  + Los Angeles tăng đều qua các năm từ 2016-2020 và có 20000 ca tai nạn giao thông gấp gần 2 lần so với 1 năm trước\n",
    "  + Nhìn qua thành phố đứng hạng 2 Miami thì ta thấy một điều đặc biệt ở đây đó là thành phố này có khoảng 2000 ca ở năm 2016 sau đó tăng lên 3000 ở năm 2017 và giảm xuống khoảng 2000 ca năm 2019 nhưng lại đột ngộ tăng mạnh ở năm 2020 tới khoảng 26000 tức gấp 13 lần so với 1 năm trước đây là một dấu hiệu đáng báo động\n",
    "  + Thành phố Charlotte cũng giảm mạnh ở hai năm 2018-2019 và bắt đầu tăng mạnh ở năm 2020 với khoảng 8000 ca gấp 8 lần so với năm 2019\n",
    "  +  Tóm lại số ca tai nạn giao thông mỗi năm từ top 2-3 đều theo một xu hướng là tăng ở năm 2016-2017, giảm ở năm 2018-2019 và tăng mạnh ở năm 2020 ngoại trừ Los Angeles là tăng đều qua từng năm và tăng mạnh ở năm 2020\n",
    "- Ý nghĩa câu hỏi :\n",
    "  + Việc tìm hiểu tốc độ tăng trưởng về số ca tai nạn giao thông của mỗi nước  giúp chúng ta biết được thành phố nào xảy ra nhiều vụ tai nạn nhất để ưu tiên giải quyết cho thành phố đó và có cái nhìn sâu hơn về vấn đề này chẳng hạn như biết được ở cả 3 thành phố thì đều có dấu hiệu tăng cao ở năm 2020 từ đó cần nổ lực hơn để khắc phục vấn đề này\n",
    "  + Ngoài ra thì ta phát hiện được điểm bất thường ở thành phố Miami khi ở thành phố này đột nhiên lại có sự tăng trưởng bất thường từ năm 2019-2020 để từ đó có sự tập trung cần thiết hơn vào thành phố này \n",
    "  + Vậy làm sao để ta có thể hạn chế tai nạn giao thông ở những thành phố này ?\n",
    "  + Để làm được việc này em sẽ vẽ các con đường có tainạn giao thông ở các thành phố để xem thử đường nào có nhiều vụ tai nạn giao thông\n",
    "  + Để từ đó vạch ra những biện pháp hiệu quả để giải quyết vấn đề này "
   ]
  },
  {
   "cell_type": "markdown",
   "metadata": {},
   "source": [
    "- Country_df để lấy ra thông tin thành phố top 1 trong top các thành phố có vụ tai nạn cao nhất\n",
    "- Street_df để lọc ra các thông tin cần thiết và đếm số vụ tai nạn trên mỗi con đường qua từng năm"
   ]
  },
  {
   "cell_type": "code",
   "execution_count": 50,
   "metadata": {},
   "outputs": [],
   "source": [
    "country_df=accidents_df[accidents_df['City']==a_list[0]]\n",
    "street_df=country_df.groupby(['City','County','Street']).size().reset_index(name='number_of_acc')"
   ]
  },
  {
   "cell_type": "markdown",
   "metadata": {},
   "source": [
    "- street_df để sort ra các con đường có tổng số vụ tai nạn cao nhất ở thành phố Los Angeles\n",
    "- top_street để lấy ra top 5 con đường ở thành phố này "
   ]
  },
  {
   "cell_type": "code",
   "execution_count": 51,
   "metadata": {},
   "outputs": [
    {
     "name": "stdout",
     "output_type": "stream",
     "text": [
      "   index         City       County              Street  number_of_acc\n",
      "0    855  Los Angeles  Los Angeles              I-10 E           2199\n",
      "1    856  Los Angeles  Los Angeles              I-10 W           2183\n",
      "2    842  Los Angeles  Los Angeles  Golden State Fwy S           1570\n",
      "3    846  Los Angeles  Los Angeles        Harbor Fwy N           1435\n",
      "4    863  Los Angeles  Los Angeles               I-5 N           1405\n"
     ]
    }
   ],
   "source": [
    "street_df=street_df.sort_values(by='number_of_acc', ascending=False).reset_index()\n",
    "top_street=pd.DataFrame(street_df.loc[0:4])\n",
    "print(top_street)"
   ]
  },
  {
   "cell_type": "markdown",
   "metadata": {},
   "source": [
    "street_df2 để lấy ra các thông tin của thành phố Los Angeles nhưng lần này có thêm biến year (sở dĩ ở trên không lấy year vì em chỉ muốn lấy tổng số vụ tai nạn trên các con đường) ở đây em sẽ lấy year từ năm 2018-2020\n",
    "Vòng lặp chạy theo độ dài của top_street (ở đây là bằng 5 vì em lấy ra top 5 con đường nguy hiểm nhất ở trên)\n",
    "Biến temp để lấy ra thông tin của con đường từ data street_df2 bao gồm year\n",
    "Sau đó sử dụng vòng lặp thứ 2 để kiểm tra xem con đường này không có vụ tai nạn ở năm nào không vì nếu không có vụ tai nạn nào thì sẽ không có dòng đó (vd con đường này không có vụ tai nạn ở năm 2019 thì sẽ chỉ có 4 dòng thay vì 5 dòng (2016-2020)) nếu không có thì gán biến 0 vào list y_2018-2020, nếu như có thì append số vụ tai nạn của con đường này vào 3 list đã chuẩn bị sẵn (nếu 2018 thì append vào y1_2018....) index temp[j][3] để kiểm tra năm , index temp[j][4] để lấy số vụ tai nạn của năm đó"
   ]
  },
  {
   "cell_type": "code",
   "execution_count": 52,
   "metadata": {},
   "outputs": [],
   "source": [
    "street_df2=country_df.groupby(['City','County','Street','year']).size().reset_index(name='number_of_acc')\n",
    "street_df2['number_of_acc']=street_df2['number_of_acc'].fillna(0)\n",
    "not_have_car_acc=0\n",
    "y1_2018=[]\n",
    "y2_2019=[]\n",
    "y3_2020=[]\n",
    "for i in range(len(top_street)):\n",
    "    check_2018=0\n",
    "    check_2019=0\n",
    "    check_2020=0\n",
    "    temp=street_df2.loc[street_df2['Street'] == top_street['Street'][i]].values\n",
    "    #print(temp)\n",
    "    for j in range (len(temp)):\n",
    "         #temp[j][3] index 3 là năm\n",
    "        if (temp[j][3]==2018):\n",
    "                check_2018=1\n",
    "                y1_2018.append(temp[j][4])\n",
    "        if (temp[j][3]==2019):\n",
    "                check_2019=1\n",
    "                y2_2019.append(temp[j][4])\n",
    "        if (temp[j][3]==2020):\n",
    "                check_2020=1\n",
    "                y3_2020.append(temp[j][4])\n",
    "    if (check_2018 == 0):\n",
    "         y1_2018.append(not_have_car_acc)\n",
    "    if (check_2019 == 0):\n",
    "         y2_2019.append(not_have_car_acc)\n",
    "    if (check_2020 == 0):\n",
    "         y3_2020.append(not_have_car_acc)"
   ]
  },
  {
   "cell_type": "markdown",
   "metadata": {},
   "source": [
    "- Sau khi đã có thông tin của 3 năm của các con đường có vụ tai nạn cao nhất thì việc còn lại chỉ việc vẽ biểu đồ để phân tích"
   ]
  },
  {
   "cell_type": "code",
   "execution_count": 53,
   "metadata": {},
   "outputs": [
    {
     "data": {
      "image/png": "[encoded data removed]",
      "text/plain": [
       "<Figure size 720x360 with 1 Axes>"
      ]
     },
     "metadata": {
      "needs_background": "light"
     },
     "output_type": "display_data"
    }
   ],
   "source": [
    "x = np.arange(5)\n",
    "width = 0.3\n",
    "# plot data in grouped manner of bar type\n",
    "plt.bar(x-0.3, y1_2018, width, color='cyan')\n",
    "plt.bar(x, y2_2019, width, color='orange')\n",
    "plt.bar(x+0.2, y3_2020, width, color='green')\n",
    "plt.xticks(x,top_street['Street'])\n",
    "\n",
    "plt.xlabel(\"Tên Đường\")\n",
    "plt.ylabel(\"Số vụ tai nạn xảy ra trên đường\")\n",
    "plt.legend([\"2018\", \"2019\", \"2020\"])\n",
    "plt.rcParams[\"figure.figsize\"] = (10,5)\n",
    "plt.show()"
   ]
  },
  {
   "cell_type": "markdown",
   "metadata": {},
   "source": [
    "- Nhìn chung số vụ tai nạn xảy ra ở top 5 những con đường xảy ra nhiều vụ tai nạn nhất thành phố Los Angeles có sự chênh lệch nhưng không quá lớn ở các tuyến đường năm 2020 \n",
    "- Ta có thể thấy hầu như các đường ở năm 2020 đều tăng khoảng gần gấp 2 lần so với các nằm 2018 và 2019\n",
    "- Về phía đường cao tốc I-10 thì tăng hơn 2 lần so với năm 2019 và khoảng 4 lần ở năm 2018 ở cả hai hướng Đông và Tây với khoảng gần 1000 vụ vào năm 2020\n",
    "- Đường Golden State Fwy S tuy có tổng số vụ tai nạn cao hơn Harbor Fwy N nhưng đường Harbor Fwy N lại có sự tăng trưởng đột biến ở năm 2020 với hơn 800 vụ tai nạn gấp 4 lần so với 2 năm 2018-2019\n",
    "- Đường I-5N cũng không có gì khác biệt so với các tuyến đường còn lại khi ở năm 2020 con đường này cũng có khoảng hơn 500 vụ gấp 2.5 lần so với năm 2018-2019\n",
    "- Điểm chung của các tuyến đường này đều có số vụ tai nạn vượt quá 200 vụ ở năm 2019, tăng mạnh ở năm 2020 và đặc biệt hầu như đều là đường cao tốc, đây là điểm chúng ta cần phải chú ý "
   ]
  },
  {
   "cell_type": "markdown",
   "metadata": {},
   "source": [
    "- Phần còn lại thì chỉ việc thực hiện y hệt các bước như ở bên trên cho 2 thành phố còn lại là xong"
   ]
  },
  {
   "cell_type": "code",
   "execution_count": 54,
   "metadata": {},
   "outputs": [
    {
     "name": "stdout",
     "output_type": "stream",
     "text": [
      "   index   City      County           Street  number_of_acc\n",
      "0   1125  Miami  Miami-Dade           I-95 N           3267\n",
      "1   1126  Miami  Miami-Dade           I-95 S           3210\n",
      "2    652  Miami  Miami-Dade     SW 137th Ave           1118\n",
      "3   1384  Miami  Miami-Dade  Palmetto Expy N           1041\n",
      "4   1082  Miami  Miami-Dade   Dolphin Expy E           1020\n"
     ]
    }
   ],
   "source": [
    "country_df=accidents_df[accidents_df['City']==a_list[1]]\n",
    "street_df=country_df.groupby(['City','County','Street']).size().reset_index(name='number_of_acc')\n",
    "street_df=street_df.sort_values(by='number_of_acc', ascending=False).reset_index()\n",
    "top_street=pd.DataFrame(street_df.loc[0:4])\n",
    "print(top_street)"
   ]
  },
  {
   "cell_type": "code",
   "execution_count": 55,
   "metadata": {},
   "outputs": [
    {
     "name": "stdout",
     "output_type": "stream",
     "text": [
      "[410, 448, 2, 119, 149]\n"
     ]
    }
   ],
   "source": [
    "street_df2=country_df.groupby(['City','County','Street','year']).size().reset_index(name='number_of_acc')\n",
    "street_df2['number_of_acc']=street_df2['number_of_acc'].fillna(0)\n",
    "not_have_car_acc=0\n",
    "y1_2018=[]\n",
    "y2_2019=[]\n",
    "y3_2020=[]\n",
    "for i in range(len(top_street)):\n",
    "    check_2018=0\n",
    "    check_2019=0\n",
    "    check_2020=0\n",
    "    temp=street_df2.loc[street_df2['Street'] == top_street['Street'][i]].values\n",
    "    #print(temp)\n",
    "    for j in range (len(temp)):\n",
    "         #temp[j][3] index 3 là năm\n",
    "        if (temp[j][3]==2018):\n",
    "                check_2018=1\n",
    "                y1_2018.append(temp[j][4])\n",
    "        if (temp[j][3]==2019):\n",
    "                check_2019=1\n",
    "                y2_2019.append(temp[j][4])\n",
    "        if (temp[j][3]==2020):\n",
    "                check_2020=1\n",
    "                y3_2020.append(temp[j][4])\n",
    "    if (check_2018 == 0):\n",
    "         y1_2018.append(not_have_car_acc)\n",
    "    if (check_2019 == 0):\n",
    "         y2_2019.append(not_have_car_acc)\n",
    "    if (check_2020 == 0):\n",
    "         y3_2020.append(not_have_car_acc)\n",
    "print(y1_2018)"
   ]
  },
  {
   "cell_type": "code",
   "execution_count": 56,
   "metadata": {},
   "outputs": [
    {
     "data": {
      "image/png": "[encoded data removed]",
      "text/plain": [
       "<Figure size 720x360 with 1 Axes>"
      ]
     },
     "metadata": {
      "needs_background": "light"
     },
     "output_type": "display_data"
    }
   ],
   "source": [
    "x = np.arange(5)\n",
    "width = 0.3\n",
    "# plot data in grouped manner of bar type\n",
    "plt.bar(x-0.3, y1_2018, width, color='cyan')\n",
    "plt.bar(x, y2_2019, width, color='orange')\n",
    "plt.bar(x+0.2, y3_2020, width, color='green')\n",
    "plt.xticks(x,top_street['Street'])\n",
    "plt.xlabel(\"Tên Đường\")\n",
    "plt.ylabel(\"Số vụ tai nạn xảy ra trên đường\")\n",
    "plt.legend([\"2018\", \"2019\", \"2020\"])\n",
    "plt.rcParams[\"figure.figsize\"] = (10,5)\n",
    "#plt.ylim((25,1500))\n",
    "plt.show()"
   ]
  },
  {
   "cell_type": "markdown",
   "metadata": {},
   "source": [
    "- Khác với thành phố Angeles, ta có thể thấy ở top 5 con đường xảy ra nhiều vụ tai nạn nhất ở thành phố Miami có sự chênh lệch khá lớn ở top 1 và 2 chung một con đường là I-95 nhưng với hai hướng Bắc Nam trong tồng số ca tai nạn giao thông ở cả 3 năm 2018-2020 so với các top còn lại  \n",
    "- Chỉ tính riêng ở hai nằm 2018 và 2019 thì đường cao tốc I-95 đã hơn rất nhiều so với các đường còn lại, quả không hổ danh là con đường tử thần ở Mỹ\n",
    "- Ở đường I-95 có hơn 1600 vụ hơn 600 ca so với con đường I-10 ở thành phố Los Angeles ở năm 2020\n",
    "- Ngoài con đường tử thần I-95 thì ta cần phải đặc biệt chú ý ở đường SW 137th Ave. Tuy ở năm 2018-2019 hầu như không có ca tai nạn giao thông nào nhưng năm 2020 lại có tới khoảng hơn 1000 vụ tai nạn, không biết có điều gì bất thường xảy ra ở con đường này trong năm 2020 hay không ? \n",
    "- Ở hai con đường còn lại cũng xấp xỉ ở cả ba năm với hơn 400 vụ ở năm 2020 và gấp khoảng 4 lần so với năm 2018-2019\n",
    "- Và một lần nữa thì cả 5 vị trí có nhiều vụ tai nạn nhất này đều là đường cao tốc"
   ]
  },
  {
   "cell_type": "code",
   "execution_count": 57,
   "metadata": {},
   "outputs": [
    {
     "name": "stdout",
     "output_type": "stream",
     "text": [
      "   index       City       County       Street  number_of_acc\n",
      "0   1127  Charlotte  Mecklenburg       I-77 N            853\n",
      "1   1128  Charlotte  Mecklenburg       I-77 S            716\n",
      "2    767  Charlotte  Mecklenburg   S Tryon St            520\n",
      "3   1130  Charlotte  Mecklenburg       I-85 S            494\n",
      "4   1129  Charlotte  Mecklenburg       I-85 N            423\n"
     ]
    }
   ],
   "source": [
    "country_df=accidents_df[accidents_df['City']==a_list[2]]\n",
    "street_df=country_df.groupby(['City','County','Street']).size().reset_index(name='number_of_acc')\n",
    "street_df=street_df.sort_values(by='number_of_acc', ascending=False).reset_index()\n",
    "top_street=pd.DataFrame(street_df.loc[0:4])\n",
    "print(top_street)"
   ]
  },
  {
   "cell_type": "code",
   "execution_count": 58,
   "metadata": {},
   "outputs": [
    {
     "name": "stdout",
     "output_type": "stream",
     "text": [
      "[110, 96, 32, 76, 47]\n"
     ]
    }
   ],
   "source": [
    "street_df2=country_df.groupby(['City','County','Street','year']).size().reset_index(name='number_of_acc')\n",
    "street_df2['number_of_acc']=street_df2['number_of_acc'].fillna(0)\n",
    "not_have_car_acc=0\n",
    "y1_2018=[]\n",
    "y2_2019=[]\n",
    "y3_2020=[]\n",
    "for i in range(len(top_street)):\n",
    "    check_2018=0\n",
    "    check_2019=0\n",
    "    check_2020=0\n",
    "    temp=street_df2.loc[street_df2['Street'] == top_street['Street'][i]].values\n",
    "    #print(temp)\n",
    "    for j in range (len(temp)):\n",
    "         #temp[j][3] index 3 là năm\n",
    "        if (temp[j][3]==2018):\n",
    "                check_2018=1\n",
    "                y1_2018.append(temp[j][4])\n",
    "        if (temp[j][3]==2019):\n",
    "                check_2019=1\n",
    "                y2_2019.append(temp[j][4])\n",
    "        if (temp[j][3]==2020):\n",
    "                check_2020=1\n",
    "                y3_2020.append(temp[j][4])\n",
    "    if (check_2018 == 0):\n",
    "         y1_2018.append(not_have_car_acc)\n",
    "    if (check_2019 == 0):\n",
    "         y2_2019.append(not_have_car_acc)\n",
    "    if (check_2020 == 0):\n",
    "         y3_2020.append(not_have_car_acc)\n",
    "print(y1_2018)"
   ]
  },
  {
   "cell_type": "code",
   "execution_count": 59,
   "metadata": {},
   "outputs": [
    {
     "data": {
      "image/png": "[encoded data removed]",
      "text/plain": [
       "<Figure size 720x360 with 1 Axes>"
      ]
     },
     "metadata": {
      "needs_background": "light"
     },
     "output_type": "display_data"
    }
   ],
   "source": [
    "x = np.arange(5)\n",
    "width = 0.3\n",
    "# plot data in grouped manner of bar type\n",
    "plt.bar(x-0.3, y1_2018, width, color='cyan')\n",
    "plt.bar(x, y2_2019, width, color='orange')\n",
    "plt.bar(x+0.2, y3_2020, width, color='green')\n",
    "plt.xticks(x,top_street['Street'])\n",
    "plt.xlabel(\"Tên Đường\")\n",
    "plt.ylabel(\"Số vụ tai nạn xảy ra trên đường\")\n",
    "plt.legend([\"2018\", \"2019\", \"2020\"])\n",
    "plt.rcParams[\"figure.figsize\"] = (10,5)\n",
    "#plt.ylim((25,1500))\n",
    "plt.show()"
   ]
  },
  {
   "cell_type": "markdown",
   "metadata": {},
   "source": [
    "- Cũng như thành phố Miami, con đường có nhiều vụ tai nạn nhất ở thành phố Charlotte cũng là đường xa lộ i-77 ở ca hai hướng Bắc Nam với phía Bắc khoảng hơn 400 ca và phía Nam hơn 300 ca ít hơn 100 ca trong năm 2020\n",
    "- top 3 4 5 lần lượt là đường S Tryon St với khoảng 230 ca, đường cao tốc I-85 hướng Nam là 250 vụ và hướng Bắc là 240 vụ ở năm 2020\n",
    "-  Tuy nhiên khác với hai thành phố trên thì thành phố Charlotte không có con đường nào vượt quá 500 vụ tai nạn mặc dù số vụ tai nạn ở thành phố này năm 2020 cũng tăng khá cao và các con đường cũng toàn là đường cao tốc"
   ]
  },
  {
   "cell_type": "markdown",
   "metadata": {},
   "source": [
    "### Tổng kết\n",
    "- Với 3 biểu đồ trên ta có thể thấy được các vụ tai nạn giao thông đều xảy ra ở các con đường cao tốc và vào năm 2020 các vụ tai nạn ở các con đường đều tăng vượt trội so với các năm còn lại \n",
    "- Từ những phương hướng trên tụi em đã tìm hiểu được vì sao những tuyến đường cao tốc lại thường xảy ra tai nạn để từ đó có cách thức khắc phục hiệu quả\n",
    "- thứ nhất hầu hết những người lái xe trên con đường này đều chạy với tốc độ 80km/h cmà khi chạy tốc độ nhanh mà quá êm như vậy thì thường khiến nhiều người chủ quan để từ đó không giảm ga mà cứ giữ nguyên tốc độ như vậy thì việc xảy ra tai nạn chỉ là chuyện sớm muộn\n",
    "- Thứ hai chỉ một sai lầm nhỏ trên đường cao tốc thôi cũng có thể xảy ra tai nạn ví dụ như Chỉ một xe chết máy đột ngột, hay dừng đón trả khách cũng có thể dẫn đến tai ví dụ như mới đây nhất có một vụ tai nạn giao thông ở tuyến đường cao tốc i-110 ở Los Angeles ban đầu có một chiếc xe bị tai nạn giao thông do vụ va chạm ở giữa đường sau đó lần lượt thêm một vài chiếc xe khác vì không làm chủ được tốc độ mà đâm vào chiếc xe đó, cuối cùng tổng cộng có khoảng 6 phương tiện giao thông tham gia vào vụ va chạm này (nguồn : https://www.youtube.com/watch?v=-9yqXzZ16ns)\n",
    "- Ở đường cao tốc cũng có nhiều làn đường hơn cần phải chú ý đòi hỏi người lái xe cần phải có sự tập trung cao độ\n",
    "- Ngoài ra họ còn có nhiều khả năng vượt quá tốc độ cho phép, lái xe trong tình trạng say rượu, không thắt dây an toàn và sự xuất hiện ngày càng nhiều của người đi bộ và đi xe đạp.\n",
    "#### Đưa ra giải pháp\n",
    "- Từ những thông tin đã có được ở trên tụi em đã đưa ra một số giải pháp nhằm khắc phục tình trạng gia tăng của những vụ tai nạn giao thông ở các thành phố (không chỉ áp dụng ở mỗi đường cao tốc)\n",
    "- sớm kiểm tra thực tế hiện trường đối với các chỉ tiêu kỹ thuật không đạt tiêu chuẩn của tuyến cao tốc về dải an toàn, hành lang an toàn, độ bằng phẳng\n",
    "- đối với những người tham gia giao thông ý thức kém cần phải xử phạt nghiêm, nhất là xe tải, xe khách, đối tượng chính gây ra tai nạn giao thông trên đường cao tốc. Tuyên truyền đến các đối tượng này Quy chế khai thác đường về phân làn xe, tốc độ tối đa (V max)... Đặc biệt là cự ly an toàn giữa các xe ô tô\n",
    "- đặt biển giao thông cảnh báo người lái xe đoạn đường này thường xảy ra tai nạn để người lái xe có cảnh giác trước\n",
    "- Đặt biển giao thông giới hạn tốc độ chạy của người lái xe\n",
    "- Cử thêm nhiều cảnh sát giao thông hơn ở những đoạn đường thường xảy ra tai nạn \n",
    "- Đặt thêm các đèn tín hiệu giao thông \n",
    "- Lập ra Chiến dịch tuyên truyền / quảng bá về an toàn đường bộ ở những đoạn đường dễ gây ra tai nạn ở mỗi thành phố thông qua các phương tiện điện tử và báo in.\n",
    "- Kiểm tra và bảo vệ các cơ sở hạ tầng đường bộ biển báo,đèn đường, vạch kẻ đường, cọc tiêu, cột cây số, hành lang an toàn đường bộ hay hành lang an toàn bị lấn chiếm\n",
    "- Cấp thêm nguồn tài chính và Thường xuyên bảo trì đường bộ ở những đoạn đường dễ gây ra tai nạn\n",
    "- Giảm số lượng xe đi vào đoạn có nhiều tai nạn cũng 1 lúc \n",
    "- Kiểm tra các hệ thống thoát nước và điều chỉnh hệ thống thoát nước sao cho thích hợp ở những đoạn đường nguy hiểm\n",
    "- Thêm gò giảm tốc ở con đường thường gây ra tai nạn\n",
    "- Tập trung vào các đoạn đường như ở biểu đồ trên thể hiện nhất là sự gia tăng bất thường của đoạn đường SW 137th Ave khi mà đoạn đường này hầu như có rất ít hoặc không có vụ tai nạn nào trong năm 2018-2019 nhưng lại tăng đột ngột ở năm 2020 "
   ]
  },
  {
   "cell_type": "markdown",
   "metadata": {},
   "source": [
    "## 5.Nhìn lại"
   ]
  },
  {
   "cell_type": "markdown",
   "metadata": {},
   "source": [
    "### Mỗi thành viên gặp những khó khăn gì\n",
    "Khó khăn của mỗi cá nhân:\n",
    " - Thành An: \n",
    "   + Khó khăn trong việc sử dụng các thư viện để phân tích dữ liệu\n",
    "   + Vất vả trong việc tìm cách up file với dữ liệu hỏn 100MB lên github\n",
    "   + Buộc phải bỏ phần vẽ biểu đồ plotly do không hiển thị được trên github\n",
    "   + Chịu áp lực rất lớn từ việc thi cử và phân phân giữa việc tập trung vào đồ án hay là ôn thi\n",
    "           \n",
    " - Tâm Anh:  \n",
    "   + Gặp một chút khó khăn trong việc suy nghĩ những câu hỏi sao cho theo hướng thực tế và ý nghĩa hơn \n",
    "   + Phải tìm hiểu thêm trên mạng, đọc các bài báo về các vụ tai nạn để khi vẽ xong biểu đồ có thể phát hiện được nhiều điều hơn để từ đó có thể trả lời được câu hỏi sao cho hợp lý\n",
    "   + Cũng như là phải tìm hiểu thêm về các loại biểu đồ khác nhau và các câu lệnh để vẽ ra biểu đồ đó để đồ án được đa dạng hơn\n",
    "   + Ngoài ra thì em cũng có gặp một chút về việc triển khai trên git hub khi mà dung lượng file đồ án khá lớn nhưng vấn đề đã được tụi em khắc phục\n",
    " - Minh Thiện:\n",
    "   + Thời gian thi cử cộng kem với deadline của nhiều môn học dẫn đến việc chưa thể hoàn thành tốt được đồ án\n",
    "   + Mất nhiều thời gian để tìm hiểu về các thư viện mới.\n",
    "   + Một số thuộc tính cần cho nghiên cứu sâu về câu hỏi còn bị hạn chế.\n"
   ]
  },
  {
   "cell_type": "markdown",
   "metadata": {},
   "source": [
    "### Những điều được hiểu biết thêm\n",
    "   - Thành An:\n",
    "     + Biết được cách tạo nhánh và hợp nhánh trên git hub\n",
    "     + Đọc được nhiều tài liệu hiểu biết nhiều hơn về các vụ tai nạn giao thông\n",
    "     + Nâng cao khả năng làm việc nhóm\n",
    "   - Tâm Anh:\n",
    "     + Có thêm kỹ năng về thống kê số liệu\n",
    "     + Rèn luyện được tính kiên trì của bản thân để hoàn thành hết những deadline\n",
    "     + Có những bước tiến đầu tiên vào ngành Khoa Học Dữ liệu\n",
    "   - Thiện:\n",
    "     + Biết sử dụng một số công cụ trực quan như plotly, matplotib, seaborn\n",
    "     + Có thêm khả năng phân chia thời gian hợp lí khi khối lượng công việc và kiến thức tiếp thu ngày càng nhiều\n",
    "     + Nâng cao khả năng đọc hiểu tiếng anh khi tìm hiểu về các tài liệu"
   ]
  },
  {
   "cell_type": "markdown",
   "metadata": {},
   "source": [
    "## 6.Tài liệu tham khảo\n",
    " - https://www.kaggle.com/sobhanmoosavi/us-accidents\n",
    " - https://scholarworks.lib.csusb.edu/cgi/viewcontent.cgi?article=2085&context=etd\n",
    " - https://stackoverflow.com/\n",
    " - https://www.asirt.org/safe-travel/road-safety-facts/"
   ]
  },
  {
   "cell_type": "code",
   "execution_count": null,
   "metadata": {},
   "outputs": [],
   "source": []
  }
 ],
 "metadata": {
  "kernelspec": {
   "display_name": "Python 3",
   "language": "python",
   "name": "python3"
  },
  "language_info": {
   "codemirror_mode": {
    "name": "ipython",
    "version": 3
   },
   "file_extension": ".py",
   "mimetype": "text/x-python",
   "name": "python",
   "nbconvert_exporter": "python",
   "pygments_lexer": "ipython3",
   "version": "3.8.5"
  }
 },
 "nbformat": 4,
 "nbformat_minor": 5
}
