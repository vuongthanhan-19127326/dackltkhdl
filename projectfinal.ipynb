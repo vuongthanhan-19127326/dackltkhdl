{
 "cells": [
  {
   "cell_type": "markdown",
   "id": "68243dc1",
   "metadata": {},
   "source": [
    "## Exploratory Data Analysis of the US Accidents Dataset"
   ]
  },
  {
   "cell_type": "code",
   "execution_count": 1,
   "id": "26641f1c",
   "metadata": {},
   "outputs": [],
   "source": [
    "import pandas as pd\n",
    "import numpy as np\n",
    "import seaborn as sns\n",
    "import matplotlib.pyplot as plt\n",
    "%matplotlib inline"
   ]
  },
  {
   "cell_type": "code",
   "execution_count": 2,
   "id": "af170c7a",
   "metadata": {},
   "outputs": [],
   "source": [
    "np.set_printoptions(suppress=True)"
   ]
  },
  {
   "cell_type": "markdown",
   "id": "43ba5333",
   "metadata": {},
   "source": [
    "## Thu thập dữ liệu:\n",
    "- Dữ liệu thu thập được là về các vụ tai nạn tại Mỹ. Dữ liệu được download ở link sau: https://www.kaggle.com/sobhanmoosavi/us-accidents\n",
    "- Theo như điều khoản của chủ sở hữu thì data được chia sẻ rộng rãi và mục đích học tập, nghiên cứu không vi phạm điều khoản cảu chủ sỡ hữu đưa ra.\n",
    "- Trích lời tác giả về cách thu thập dữ liệu: Đây là tập dữ liệu về tai nạn xe hơi trên toàn quốc, bao gồm 49 tiểu bang của Hoa Kỳ . Dữ liệu tai nạn được thu thập từ tháng 2 năm 2016 đến tháng 12 năm 2020 , sử dụng nhiều API cung cấp dữ liệu sự cố (hoặc sự kiện) giao thông trực tuyến. Các API này truyền phát dữ liệu giao thông được thu thập bởi nhiều thực thể, chẳng hạn như bộ giao thông vận tải Hoa Kỳ và tiểu bang, cơ quan thực thi pháp luật, camera giao thông và cảm biến giao thông trong mạng lưới đường bộ. Hiện tại, có khoảng 1,5 triệu hồ sơ tai nạn trong bộ dữ liệu này"
   ]
  },
  {
   "cell_type": "code",
   "execution_count": 22,
   "id": "8fc1bdce",
   "metadata": {},
   "outputs": [
    {
     "data": {
      "text/html": [
       "<div>\n",
       "<style scoped>\n",
       "    .dataframe tbody tr th:only-of-type {\n",
       "        vertical-align: middle;\n",
       "    }\n",
       "\n",
       "    .dataframe tbody tr th {\n",
       "        vertical-align: top;\n",
       "    }\n",
       "\n",
       "    .dataframe thead th {\n",
       "        text-align: right;\n",
       "    }\n",
       "</style>\n",
       "<table border=\"1\" class=\"dataframe\">\n",
       "  <thead>\n",
       "    <tr style=\"text-align: right;\">\n",
       "      <th></th>\n",
       "      <th>ID</th>\n",
       "      <th>Severity</th>\n",
       "      <th>Start_Time</th>\n",
       "      <th>End_Time</th>\n",
       "      <th>Start_Lat</th>\n",
       "      <th>Start_Lng</th>\n",
       "      <th>End_Lat</th>\n",
       "      <th>End_Lng</th>\n",
       "      <th>Distance(mi)</th>\n",
       "      <th>Description</th>\n",
       "      <th>...</th>\n",
       "      <th>Roundabout</th>\n",
       "      <th>Station</th>\n",
       "      <th>Stop</th>\n",
       "      <th>Traffic_Calming</th>\n",
       "      <th>Traffic_Signal</th>\n",
       "      <th>Turning_Loop</th>\n",
       "      <th>Sunrise_Sunset</th>\n",
       "      <th>Civil_Twilight</th>\n",
       "      <th>Nautical_Twilight</th>\n",
       "      <th>Astronomical_Twilight</th>\n",
       "    </tr>\n",
       "  </thead>\n",
       "  <tbody>\n",
       "    <tr>\n",
       "      <th>0</th>\n",
       "      <td>A-2716600</td>\n",
       "      <td>3</td>\n",
       "      <td>2016-02-08 00:37:08</td>\n",
       "      <td>2016-02-08 06:37:08</td>\n",
       "      <td>40.10891</td>\n",
       "      <td>-83.09286</td>\n",
       "      <td>40.11206</td>\n",
       "      <td>-83.03187</td>\n",
       "      <td>3.230</td>\n",
       "      <td>Between Sawmill Rd/Exit 20 and OH-315/Olentang...</td>\n",
       "      <td>...</td>\n",
       "      <td>False</td>\n",
       "      <td>False</td>\n",
       "      <td>False</td>\n",
       "      <td>False</td>\n",
       "      <td>False</td>\n",
       "      <td>False</td>\n",
       "      <td>Night</td>\n",
       "      <td>Night</td>\n",
       "      <td>Night</td>\n",
       "      <td>Night</td>\n",
       "    </tr>\n",
       "    <tr>\n",
       "      <th>1</th>\n",
       "      <td>A-2716601</td>\n",
       "      <td>2</td>\n",
       "      <td>2016-02-08 05:56:20</td>\n",
       "      <td>2016-02-08 11:56:20</td>\n",
       "      <td>39.86542</td>\n",
       "      <td>-84.06280</td>\n",
       "      <td>39.86501</td>\n",
       "      <td>-84.04873</td>\n",
       "      <td>0.747</td>\n",
       "      <td>At OH-4/OH-235/Exit 41 - Accident.</td>\n",
       "      <td>...</td>\n",
       "      <td>False</td>\n",
       "      <td>False</td>\n",
       "      <td>False</td>\n",
       "      <td>False</td>\n",
       "      <td>False</td>\n",
       "      <td>False</td>\n",
       "      <td>Night</td>\n",
       "      <td>Night</td>\n",
       "      <td>Night</td>\n",
       "      <td>Night</td>\n",
       "    </tr>\n",
       "    <tr>\n",
       "      <th>2</th>\n",
       "      <td>A-2716602</td>\n",
       "      <td>2</td>\n",
       "      <td>2016-02-08 06:15:39</td>\n",
       "      <td>2016-02-08 12:15:39</td>\n",
       "      <td>39.10266</td>\n",
       "      <td>-84.52468</td>\n",
       "      <td>39.10209</td>\n",
       "      <td>-84.52396</td>\n",
       "      <td>0.055</td>\n",
       "      <td>At I-71/US-50/Exit 1 - Accident.</td>\n",
       "      <td>...</td>\n",
       "      <td>False</td>\n",
       "      <td>False</td>\n",
       "      <td>False</td>\n",
       "      <td>False</td>\n",
       "      <td>False</td>\n",
       "      <td>False</td>\n",
       "      <td>Night</td>\n",
       "      <td>Night</td>\n",
       "      <td>Night</td>\n",
       "      <td>Day</td>\n",
       "    </tr>\n",
       "    <tr>\n",
       "      <th>3</th>\n",
       "      <td>A-2716603</td>\n",
       "      <td>2</td>\n",
       "      <td>2016-02-08 06:15:39</td>\n",
       "      <td>2016-02-08 12:15:39</td>\n",
       "      <td>39.10148</td>\n",
       "      <td>-84.52341</td>\n",
       "      <td>39.09841</td>\n",
       "      <td>-84.52241</td>\n",
       "      <td>0.219</td>\n",
       "      <td>At I-71/US-50/Exit 1 - Accident.</td>\n",
       "      <td>...</td>\n",
       "      <td>False</td>\n",
       "      <td>False</td>\n",
       "      <td>False</td>\n",
       "      <td>False</td>\n",
       "      <td>False</td>\n",
       "      <td>False</td>\n",
       "      <td>Night</td>\n",
       "      <td>Night</td>\n",
       "      <td>Night</td>\n",
       "      <td>Day</td>\n",
       "    </tr>\n",
       "    <tr>\n",
       "      <th>4</th>\n",
       "      <td>A-2716604</td>\n",
       "      <td>2</td>\n",
       "      <td>2016-02-08 06:51:45</td>\n",
       "      <td>2016-02-08 12:51:45</td>\n",
       "      <td>41.06213</td>\n",
       "      <td>-81.53784</td>\n",
       "      <td>41.06217</td>\n",
       "      <td>-81.53547</td>\n",
       "      <td>0.123</td>\n",
       "      <td>At Dart Ave/Exit 21 - Accident.</td>\n",
       "      <td>...</td>\n",
       "      <td>False</td>\n",
       "      <td>False</td>\n",
       "      <td>False</td>\n",
       "      <td>False</td>\n",
       "      <td>False</td>\n",
       "      <td>False</td>\n",
       "      <td>Night</td>\n",
       "      <td>Night</td>\n",
       "      <td>Day</td>\n",
       "      <td>Day</td>\n",
       "    </tr>\n",
       "  </tbody>\n",
       "</table>\n",
       "<p>5 rows × 47 columns</p>\n",
       "</div>"
      ],
      "text/plain": [
       "          ID  Severity           Start_Time             End_Time  Start_Lat  \\\n",
       "0  A-2716600         3  2016-02-08 00:37:08  2016-02-08 06:37:08   40.10891   \n",
       "1  A-2716601         2  2016-02-08 05:56:20  2016-02-08 11:56:20   39.86542   \n",
       "2  A-2716602         2  2016-02-08 06:15:39  2016-02-08 12:15:39   39.10266   \n",
       "3  A-2716603         2  2016-02-08 06:15:39  2016-02-08 12:15:39   39.10148   \n",
       "4  A-2716604         2  2016-02-08 06:51:45  2016-02-08 12:51:45   41.06213   \n",
       "\n",
       "   Start_Lng   End_Lat   End_Lng  Distance(mi)  \\\n",
       "0  -83.09286  40.11206 -83.03187         3.230   \n",
       "1  -84.06280  39.86501 -84.04873         0.747   \n",
       "2  -84.52468  39.10209 -84.52396         0.055   \n",
       "3  -84.52341  39.09841 -84.52241         0.219   \n",
       "4  -81.53784  41.06217 -81.53547         0.123   \n",
       "\n",
       "                                         Description  ...  Roundabout Station  \\\n",
       "0  Between Sawmill Rd/Exit 20 and OH-315/Olentang...  ...       False   False   \n",
       "1                 At OH-4/OH-235/Exit 41 - Accident.  ...       False   False   \n",
       "2                   At I-71/US-50/Exit 1 - Accident.  ...       False   False   \n",
       "3                   At I-71/US-50/Exit 1 - Accident.  ...       False   False   \n",
       "4                    At Dart Ave/Exit 21 - Accident.  ...       False   False   \n",
       "\n",
       "    Stop Traffic_Calming Traffic_Signal Turning_Loop Sunrise_Sunset  \\\n",
       "0  False           False          False        False          Night   \n",
       "1  False           False          False        False          Night   \n",
       "2  False           False          False        False          Night   \n",
       "3  False           False          False        False          Night   \n",
       "4  False           False          False        False          Night   \n",
       "\n",
       "  Civil_Twilight Nautical_Twilight Astronomical_Twilight  \n",
       "0          Night             Night                 Night  \n",
       "1          Night             Night                 Night  \n",
       "2          Night             Night                   Day  \n",
       "3          Night             Night                   Day  \n",
       "4          Night               Day                   Day  \n",
       "\n",
       "[5 rows x 47 columns]"
      ]
     },
     "execution_count": 22,
     "metadata": {},
     "output_type": "execute_result"
    }
   ],
   "source": [
    "accidents_df = pd.read_csv('US_Accidents_Dec20_updated.csv')\n",
    "accidents_df.head()"
   ]
  },
  {
   "cell_type": "markdown",
   "id": "ad49eb87",
   "metadata": {},
   "source": [
    "## Dữ liệu gồm có bao nhiêu dòng và bao nhiêu cột? (0.25đ)"
   ]
  },
  {
   "cell_type": "code",
   "execution_count": 4,
   "id": "26d92a70",
   "metadata": {},
   "outputs": [
    {
     "name": "stdout",
     "output_type": "stream",
     "text": [
      "The Dataset includes: 1516064 rows and 47 columns\n"
     ]
    }
   ],
   "source": [
    "num_rows,num_cols=accidents_df.shape\n",
    "print('The Dataset includes: {} rows and {} columns'.format(num_rows,num_cols))"
   ]
  },
  {
   "cell_type": "markdown",
   "id": "5aa259b8",
   "metadata": {},
   "source": [
    "## Mỗi dòng có ý nghĩa gì? Có vấn đề các dòng có ý nghĩa khác nhau không?"
   ]
  },
  {
   "cell_type": "markdown",
   "id": "3a3e4a6c",
   "metadata": {},
   "source": [
    "Mỗi dòng thể hiện các thông tin về các vụ tai nạn xe hơi thuộc 49 tiểu bang của Hoa Kỳ. Có vẻ không có dòng nào lạc loài.\n"
   ]
  },
  {
   "cell_type": "markdown",
   "id": "594bf3ac",
   "metadata": {},
   "source": [
    "## Dữ liệu có các dòng bị lặp không? (0.5đ)"
   ]
  },
  {
   "cell_type": "code",
   "execution_count": 5,
   "id": "e821deb4",
   "metadata": {},
   "outputs": [
    {
     "name": "stdout",
     "output_type": "stream",
     "text": [
      "False\n"
     ]
    }
   ],
   "source": [
    "have_duplicated_rows=accidents_df.duplicated().any()\n",
    "print(have_duplicated_rows)"
   ]
  },
  {
   "cell_type": "markdown",
   "id": "4ced32ae",
   "metadata": {},
   "source": [
    "Dữ liệu của các dòng không bị lặp."
   ]
  },
  {
   "cell_type": "markdown",
   "id": "749041b1",
   "metadata": {},
   "source": [
    "## Mỗi cột có ý nghĩa gì?"
   ]
  },
  {
   "cell_type": "markdown",
   "id": "e97a5be1",
   "metadata": {},
   "source": [
    "•  ID: Số nhận dạng (duy nhất) của các hồ sơ vụ tai nạn.\n",
    "\n",
    "•  Severity: Mức độ nghiêm trọng của vụ tai nạn tác động đến giao thông, được tính theo 4 mức từ 1 đến 4 (1 là tác động ít nhất đến giao thông gây ra thời gian trễ ngắn, 4 là tác động nhiều nhất đến giao thông gây ra thời gian trễ dài).\n",
    "\n",
    "•  Start_Time: Thời gian xảy ra vụ tai nạn (tính theo múi giờ địa phương)\n",
    "\n",
    "•  End_Time: Thời gian vụ tai nạn kết thúc (kết thúc ở đây có nghĩa là vụ tai nạn không còn làm ảnh hưởng đến giao thông)\n",
    "\n",
    "•  Start_Lat: Vĩ độ vụ tai nạn trong định vị GPS của điểm bắt đầu.\n",
    "\n",
    "•  Start_Lng: Kinh độ vụ tai nạn trong định vị GPS của điểm bắt đầu.\n",
    "\n",
    "•  End_Lat: Vĩ độ vụ tai nạn trong định vị GPS của điểm kết thúc.\n",
    "\n",
    "•  End_Lng: Kinh độ vụ tai nạn trong định vị GPS của điểm kết thúc.\n",
    "\n",
    "•  Distance(mi): Chiều dài của đoạn đường bị ảnh hưởng bởi vụ tai tạn.\n",
    "\n",
    "•  Description: Mô tả vụ tai nạn.\n",
    "\n",
    "•  Number: Số của con đường trong bản định danh.\n",
    "\n",
    "•  Street: Tên của con đường trong bản đinh danh.\n",
    "\n",
    "•  Side: Vụ tai nạn xảy ra ở phía (phải/trái) của con đường.\n",
    "\n",
    "•  City: Tên thành phố xảy ra vụ tai nạn.\n",
    "\n",
    "•  County: Tên quận xảy ra vụ tai nạn.\n",
    "\n",
    "•  State: Trạng thái trong bản ghi địa chỉ.\n",
    "\n",
    "•  Zipcode: Mã zip trong bản ghi địa chỉ.\n",
    "\n",
    "•  Country: Tên quốc gia có vụ tai nạn.\n",
    "\n",
    "•  Timezone: Múi giờ của nơi xảy ra vụ tại nạn.\n",
    "\n",
    "•  Airport_Code: Mã của trạm thời tiết tại sân bay gần nhất với vị trí xảy ra tai nạn.\n",
    "\n",
    "•  Weather_Timestamp: Dấu thời gian của bản ghi thời tiết theo múi giờ địa phương.\n",
    "\n",
    "•  Temperature (F): Nhiệt độ lúc xảy ra tai nạn.\n",
    "\n",
    "•  Wind_Chill (F): Gió lạnh lúc xảy ra tai nạn.\n",
    "\n",
    "•  Humidity (%): Độ ẩm lúc xảy ra tai nạn.\n",
    "\n",
    "•  Pressure (inches): Áp suất không khí lúc xảy ra tai nạn.\n",
    "\n",
    "•  Visibility (miles): Tầm nhìn lúc xảy ra tai nạn.\n",
    "\n",
    "•  Wind_Direction: Hướng gió lúc xảy ra tai nạn.\n",
    "\n",
    "•  Wind_Speed (mph): Tốc độ gió lúc xảy ra tai nạn(miles/hour).\n",
    "\n",
    "•  Precipitation (inches): Lượng mưa lúc xảy ra tai nạn.\n",
    "\n",
    "•  Weather_Condition: Trạng thái thời tiết lúc xảy ra tai nạn (mưa, bão, tuyết rơi,…)\n",
    "\n",
    "•  Amenity: Sự tiện nghi của một khu vực ở gần vụ tai nạn.\n",
    "\n",
    "•  Bump: Có biển báo của gờ giảm tốc hoặc các gờ ở gần vị trí xảy ra vụ tai nạn hay không.\n",
    "\n",
    "•  Crossing: Có biển báo người qua đường của các đường ở gần vụ tai nạn hay không.\n",
    "\n",
    "•  Give_Way: Có biển báo nhường đường ở vị trí gần vụ tai nạn hay không.\n",
    "\n",
    "•  Junction: Có biển báo đường giao nhau ở vị trí gần vụ tai nạn hay không.\n",
    "\n",
    "•  No_Exit: Có biển báo cấm đi vào ở gần vụ tai nạn hay không.\n",
    "\n",
    "•  Railway: Có biển báo đường sắt ở gần vụ tai nạn hay không.\n",
    "\n",
    "•  Roundabout: Có sự hiện diện của bùng binh ở gần vị trí vụ tai nạn hay không.\n",
    "\n",
    "•  Station: Có sự hiện diện của trạm ở gần vị trí vụ tai nạn hay không.\n",
    "\n",
    "•  Stop: Có biển báo dừng ở gần vị trí vụ tai nạn hay không.\n",
    "\n",
    "•  Traffic_Calming: Có sự hiện diện của các thiết kế vật lý trên đường nhằm hạn chế tốc độ ở gần vị trí vụ tai nạn hay không.\n",
    "\n",
    "•  Traffic_Signal: Có sự hiện diện của đèn giao thông ở gần vị trí vụ tai nạn hay không.\n",
    "\n",
    "•  Turning_Loop: Có sự hiện diện của khúc quoanh ở gần vị trí vụ tai nạn hay không.\n",
    "\n",
    "•  Sunrise_Sunset: Hiển thị khoảng thời gian dựa theo mặt trời mọc hay lặn.\n",
    "\n",
    "•  Civil_Twilight: Hiển thị khoảng thời gian dựa theo hoàng hôn dân sự.\n",
    "\n",
    "•  Nautical_Twilight: Hiển thị khoảng thời gian dựa theo hoàng hôn hàng hải.\n",
    "\n",
    "•  Astronomical_Twilight: Hiển thị khoảng thời gian dựa theo hoàng hôn thiên văn."
   ]
  },
  {
   "cell_type": "markdown",
   "id": "05ea320b",
   "metadata": {},
   "source": [
    "## Mỗi cột hiện đang có kiểu dữ liệu gì? Có cột nào có kiểu dữ liệu chưa phù hợp để có thể xử lý tiếp không?"
   ]
  },
  {
   "cell_type": "code",
   "execution_count": 6,
   "id": "159804aa",
   "metadata": {},
   "outputs": [
    {
     "name": "stdout",
     "output_type": "stream",
     "text": [
      "ID                        object\n",
      "Severity                   int64\n",
      "Start_Time                object\n",
      "End_Time                  object\n",
      "Start_Lat                float64\n",
      "Start_Lng                float64\n",
      "End_Lat                  float64\n",
      "End_Lng                  float64\n",
      "Distance(mi)             float64\n",
      "Description               object\n",
      "Number                   float64\n",
      "Street                    object\n",
      "Side                      object\n",
      "City                      object\n",
      "County                    object\n",
      "State                     object\n",
      "Zipcode                   object\n",
      "Country                   object\n",
      "Timezone                  object\n",
      "Airport_Code              object\n",
      "Weather_Timestamp         object\n",
      "Temperature(F)           float64\n",
      "Wind_Chill(F)            float64\n",
      "Humidity(%)              float64\n",
      "Pressure(in)             float64\n",
      "Visibility(mi)           float64\n",
      "Wind_Direction            object\n",
      "Wind_Speed(mph)          float64\n",
      "Precipitation(in)        float64\n",
      "Weather_Condition         object\n",
      "Amenity                     bool\n",
      "Bump                        bool\n",
      "Crossing                    bool\n",
      "Give_Way                    bool\n",
      "Junction                    bool\n",
      "No_Exit                     bool\n",
      "Railway                     bool\n",
      "Roundabout                  bool\n",
      "Station                     bool\n",
      "Stop                        bool\n",
      "Traffic_Calming             bool\n",
      "Traffic_Signal              bool\n",
      "Turning_Loop                bool\n",
      "Sunrise_Sunset            object\n",
      "Civil_Twilight            object\n",
      "Nautical_Twilight         object\n",
      "Astronomical_Twilight     object\n",
      "dtype: object\n"
     ]
    }
   ],
   "source": [
    "col_dtypes = accidents_df.dtypes\n",
    "print(col_dtypes)"
   ]
  },
  {
   "cell_type": "code",
   "execution_count": 7,
   "id": "c88c2dfa",
   "metadata": {},
   "outputs": [],
   "source": [
    "def open_object_dtype(s):\n",
    "    df=pd.Series(s)\n",
    "    a=df.apply(lambda x : type(x)).unique()\n",
    "    dtypes = set(a)\n",
    "    return dtypes"
   ]
  },
  {
   "cell_type": "code",
   "execution_count": 8,
   "id": "f5a6802b",
   "metadata": {},
   "outputs": [
    {
     "name": "stdout",
     "output_type": "stream",
     "text": [
      "numer of object columns: 20\n",
      "types of  ID  is  {<class 'str'>}\n",
      "types of  Start_Time  is  {<class 'str'>}\n",
      "types of  End_Time  is  {<class 'str'>}\n",
      "types of  Description  is  {<class 'str'>}\n",
      "types of  Street  is  {<class 'str'>}\n",
      "types of  Side  is  {<class 'str'>}\n",
      "types of  City  is  {<class 'str'>, <class 'float'>}\n",
      "types of  County  is  {<class 'str'>}\n",
      "types of  State  is  {<class 'str'>}\n",
      "types of  Zipcode  is  {<class 'str'>, <class 'float'>}\n",
      "types of  Country  is  {<class 'str'>}\n",
      "types of  Timezone  is  {<class 'str'>, <class 'float'>}\n",
      "types of  Airport_Code  is  {<class 'str'>, <class 'float'>}\n",
      "types of  Weather_Timestamp  is  {<class 'str'>, <class 'float'>}\n",
      "types of  Wind_Direction  is  {<class 'str'>, <class 'float'>}\n",
      "types of  Weather_Condition  is  {<class 'str'>, <class 'float'>}\n",
      "types of  Sunrise_Sunset  is  {<class 'str'>, <class 'float'>}\n",
      "types of  Civil_Twilight  is  {<class 'str'>, <class 'float'>}\n",
      "types of  Nautical_Twilight  is  {<class 'str'>, <class 'float'>}\n",
      "types of  Astronomical_Twilight  is  {<class 'str'>, <class 'float'>}\n"
     ]
    }
   ],
   "source": [
    "objects_key=(accidents_df.loc[:, accidents_df.dtypes == object]).keys()\n",
    "print(\"numer of object columns:\",len(objects_key))\n",
    "for key in objects_key:\n",
    "    print(\"types of \",key,\" is \",open_object_dtype(accidents_df[key]))"
   ]
  },
  {
   "cell_type": "markdown",
   "id": "ae0a1c7a",
   "metadata": {},
   "source": [
    "## Tiền xử lý"
   ]
  },
  {
   "cell_type": "markdown",
   "id": "2c56078a",
   "metadata": {},
   "source": [
    "### Chuyển dtype của cột \"Date\" sang datetime"
   ]
  },
  {
   "cell_type": "code",
   "execution_count": 9,
   "id": "af264db9",
   "metadata": {},
   "outputs": [],
   "source": [
    "datetime_cols=['Start_Time','End_Time','Weather_Timestamp']\n",
    "for key in datetime_cols:\n",
    "    accidents_df[key]= pd.to_datetime(accidents_df[key])"
   ]
  },
  {
   "cell_type": "code",
   "execution_count": 10,
   "id": "bf8ad0a2",
   "metadata": {},
   "outputs": [
    {
     "name": "stdout",
     "output_type": "stream",
     "text": [
      "                ID  Severity          Start_Time            End_Time  \\\n",
      "0        A-2716600         3 2016-02-08 00:37:08 2016-02-08 06:37:08   \n",
      "1        A-2716601         2 2016-02-08 05:56:20 2016-02-08 11:56:20   \n",
      "2        A-2716602         2 2016-02-08 06:15:39 2016-02-08 12:15:39   \n",
      "3        A-2716603         2 2016-02-08 06:15:39 2016-02-08 12:15:39   \n",
      "4        A-2716604         2 2016-02-08 06:51:45 2016-02-08 12:51:45   \n",
      "...            ...       ...                 ...                 ...   \n",
      "1516059  A-4239402         2 2019-08-23 18:03:25 2019-08-23 18:32:01   \n",
      "1516060  A-4239403         2 2019-08-23 19:11:30 2019-08-23 19:38:23   \n",
      "1516061  A-4239404         2 2019-08-23 19:00:21 2019-08-23 19:28:49   \n",
      "1516062  A-4239405         2 2019-08-23 19:00:21 2019-08-23 19:29:42   \n",
      "1516063  A-4239406         2 2019-08-23 18:52:06 2019-08-23 19:21:31   \n",
      "\n",
      "         Start_Lat  Start_Lng   End_Lat    End_Lng  Distance(mi)  \\\n",
      "0         40.10891  -83.09286  40.11206  -83.03187         3.230   \n",
      "1         39.86542  -84.06280  39.86501  -84.04873         0.747   \n",
      "2         39.10266  -84.52468  39.10209  -84.52396         0.055   \n",
      "3         39.10148  -84.52341  39.09841  -84.52241         0.219   \n",
      "4         41.06213  -81.53784  41.06217  -81.53547         0.123   \n",
      "...            ...        ...       ...        ...           ...   \n",
      "1516059   34.00248 -117.37936  33.99888 -117.37094         0.543   \n",
      "1516060   32.76696 -117.14806  32.76555 -117.15363         0.338   \n",
      "1516061   33.77545 -117.84779  33.77740 -117.85727         0.561   \n",
      "1516062   33.99246 -118.40302  33.98311 -118.39565         0.772   \n",
      "1516063   34.13393 -117.23092  34.13736 -117.23934         0.537   \n",
      "\n",
      "                                               Description  ...  Roundabout  \\\n",
      "0        Between Sawmill Rd/Exit 20 and OH-315/Olentang...  ...       False   \n",
      "1                       At OH-4/OH-235/Exit 41 - Accident.  ...       False   \n",
      "2                         At I-71/US-50/Exit 1 - Accident.  ...       False   \n",
      "3                         At I-71/US-50/Exit 1 - Accident.  ...       False   \n",
      "4                          At Dart Ave/Exit 21 - Accident.  ...       False   \n",
      "...                                                    ...  ...         ...   \n",
      "1516059                           At Market St - Accident.  ...       False   \n",
      "1516060    At Camino Del Rio/Mission Center Rd - Accident.  ...       False   \n",
      "1516061  At Glassell St/Grand Ave - Accident. in the ri...  ...       False   \n",
      "1516062     At CA-90/Marina Fwy/Jefferson Blvd - Accident.  ...       False   \n",
      "1516063              At Highland Ave/Arden Ave - Accident.  ...       False   \n",
      "\n",
      "        Station   Stop Traffic_Calming Traffic_Signal Turning_Loop  \\\n",
      "0         False  False           False          False        False   \n",
      "1         False  False           False          False        False   \n",
      "2         False  False           False          False        False   \n",
      "3         False  False           False          False        False   \n",
      "4         False  False           False          False        False   \n",
      "...         ...    ...             ...            ...          ...   \n",
      "1516059   False  False           False          False        False   \n",
      "1516060   False  False           False          False        False   \n",
      "1516061   False  False           False          False        False   \n",
      "1516062   False  False           False          False        False   \n",
      "1516063   False  False           False          False        False   \n",
      "\n",
      "        Sunrise_Sunset Civil_Twilight Nautical_Twilight Astronomical_Twilight  \n",
      "0                Night          Night             Night                 Night  \n",
      "1                Night          Night             Night                 Night  \n",
      "2                Night          Night             Night                   Day  \n",
      "3                Night          Night             Night                   Day  \n",
      "4                Night          Night               Day                   Day  \n",
      "...                ...            ...               ...                   ...  \n",
      "1516059            Day            Day               Day                   Day  \n",
      "1516060            Day            Day               Day                   Day  \n",
      "1516061            Day            Day               Day                   Day  \n",
      "1516062            Day            Day               Day                   Day  \n",
      "1516063            Day            Day               Day                   Day  \n",
      "\n",
      "[1516064 rows x 47 columns]\n"
     ]
    }
   ],
   "source": [
    "print(accidents_df)"
   ]
  },
  {
   "cell_type": "markdown",
   "id": "0849b1c0",
   "metadata": {},
   "source": [
    "## Với mỗi cột có kiểu dữ liệu dạng numeric, các giá trị được phân bố như thế nào?"
   ]
  },
  {
   "cell_type": "code",
   "execution_count": 11,
   "id": "6341f2a0",
   "metadata": {},
   "outputs": [],
   "source": [
    "numeric_cols=['Start_Lat', 'Start_Lng', 'End_Lat', 'End_Lng',\n",
    "       'Distance(mi)', 'Number', 'Temperature(F)', 'Wind_Chill(F)',\n",
    "       'Humidity(%)', 'Pressure(in)', 'Visibility(mi)', 'Wind_Speed(mph)',\n",
    "       'Precipitation(in)']\n",
    "\n",
    "all_num_cols=['Start_Lat', 'Start_Lng', 'End_Lat', 'End_Lng',\n",
    "       'Distance(mi)', 'Number', 'Temperature(F)', 'Wind_Chill(F)',\n",
    "       'Humidity(%)', 'Pressure(in)', 'Visibility(mi)', 'Wind_Speed(mph)',\n",
    "       'Precipitation(in)','Start_Time','End_Time','Weather_Timestamp']\n",
    "\n",
    "nume_col_profiles_df=pd.DataFrame(index=['missing_ratio','min','max'],\n",
    "                                  columns=all_num_cols)\n",
    "\n",
    "nume_col_profiles_df.loc['missing_ratio',numeric_cols]=np.float64(accidents_df[numeric_cols].isna().mean()*100)\n",
    "\n",
    "nume_col_profiles_df.loc['min',numeric_cols]=np.float64(accidents_df[numeric_cols].min())\n",
    "\n",
    "nume_col_profiles_df.loc['max',numeric_cols]=np.float64(accidents_df[numeric_cols].max())\n",
    "\n",
    "nume_col_profiles_df=nume_col_profiles_df.astype(np.float64)\n",
    "\n",
    "\n",
    "\n",
    "\n",
    "nume_col_profiles_df.loc['missing_ratio',datetime_cols]=accidents_df[datetime_cols].isna().mean()*100\n",
    "\n",
    "nume_col_profiles_df.loc['min',datetime_cols]=accidents_df[datetime_cols].min()\n",
    "\n",
    "nume_col_profiles_df.loc['max',datetime_cols]=accidents_df[datetime_cols].max()\n",
    "\n"
   ]
  },
  {
   "cell_type": "markdown",
   "id": "dc40c535",
   "metadata": {},
   "source": [
    "## Với mỗi cột có kiểu dữ liệu dạng categorical, các giá trị được phân bố như thế nào ?"
   ]
  },
  {
   "cell_type": "code",
   "execution_count": 12,
   "id": "9f0c7dcd",
   "metadata": {},
   "outputs": [
    {
     "name": "stdout",
     "output_type": "stream",
     "text": [
      "              Side Junction   Zipcode State Turning_Loop       ID  \\\n",
      "missing_ratio  0.0      0.0  0.061673   0.0          0.0      0.0   \n",
      "num_diff_vals    2        2    177196    49            1  1516064   \n",
      "diff_vals      NaN      NaN       NaN   NaN          NaN      NaN   \n",
      "\n",
      "              Airport_Code Roundabout Country Give_Way  ...  Timezone Amenity  \\\n",
      "missing_ratio     0.280199        0.0     0.0      0.0  ...  0.151841     0.0   \n",
      "num_diff_vals         1985          2       1        2  ...         4       2   \n",
      "diff_vals              NaN        NaN     NaN      NaN  ...       NaN     NaN   \n",
      "\n",
      "              Street Traffic_Signal County      City Sunrise_Sunset  \\\n",
      "missing_ratio    0.0            0.0    0.0  0.005475       0.005475   \n",
      "num_diff_vals  93048              2   1671     10657              2   \n",
      "diff_vals        NaN            NaN    NaN       NaN            NaN   \n",
      "\n",
      "              Civil_Twilight Astronomical_Twilight Weather_Condition  \n",
      "missing_ratio       0.005475              0.005475          2.902714  \n",
      "num_diff_vals              2                     2               116  \n",
      "diff_vals                NaN                   NaN               NaN  \n",
      "\n",
      "[3 rows x 31 columns]\n"
     ]
    }
   ],
   "source": [
    "cate_cols=list(set(accidents_df.keys())-set(all_num_cols))\n",
    "\n",
    "index=['missing_ratio', 'num_diff_vals', 'diff_vals']\n",
    "cate_col_profiles_df=pd.DataFrame(\n",
    "     index=index,\n",
    "     columns=cate_cols)\n",
    "cate_col_profiles_df.loc['missing_ratio',:]=accidents_df[cate_cols].isna().mean()*100\n",
    "\n",
    "cate_col_profiles_df.loc['num_diff_vals',:]=accidents_df[cate_cols].nunique()\n",
    "print(cate_col_profiles_df)"
   ]
  },
  {
   "cell_type": "markdown",
   "id": "eb57c92f",
   "metadata": {},
   "source": [
    "## Đặt ra các câu hỏi có ý nghĩa? Giải thích về lợi ích của việc trả lời các câu hỏi này.\n",
    "Câu 1: Trong các năm từ 2018 đến 2020, những thành phố nào có nhiều vụ tai nạn xảy ra nhất ? Làm sao để có thể hạn chế tối đa số vụ tai nạn trong các thành phố này?\n",
    " - Trả lời được câu hỏi này, ta sẽ tìm ra giải pháp để giảm thiểu số vụ tai nạn xảy ra trong các thành phố nêu trên.\n",
    "\n",
    "Câu 2: Ánh sáng có tác động đến tầm nhìn đối với các công trình giao thông ở các quận xảy ra nhiều tai nạn hay không?\n",
    " - Sau khi trả lời câu hỏi này, ta sẽ biết được liệu ban ngày và ban đêm có ảnh hưởng lớn đến tầm nhìn của lái xe hay không và việc đặt các công trình giao thông trên đã nằm ở nơi dễ nhìn thấy hay chưa. Từ đó, đưa ra các biện pháp cải thiện tầm nhìn nhằm giảm thiểu số vụ tai nạn xảy ra do không có đủ tầm nhìn.\n"
   ]
  },
  {
   "cell_type": "code",
   "execution_count": 18,
   "id": "cf9b9209",
   "metadata": {},
   "outputs": [
    {
     "name": "stdout",
     "output_type": "stream",
     "text": [
      "Ti le tai nan vao ban dem:  0.378\n",
      "Ti le tai nan vao ban ngay:  0.622\n"
     ]
    }
   ],
   "source": [
    "#Câu 2: Ánh sáng có ảnh hưởng đến việc nhìn thấy các biển báo ở các nơi xảy ra nhiều tai nạn hay không?\n",
    "\n",
    "#Lọc ra các cột cần dùng\n",
    "sign = ['County','Visibility(mi)','Sunrise_Sunset','Bump','Crossing','Give_Way','Junction','No_Exit','Railway','Roundabout',\n",
    "        'Station','Stop','Traffic_Calming', 'Traffic_Signal', 'Turning_Loop']\n",
    "df = accidents_df[sign]\n",
    "df_county = accidents_df[['County','Bump']]\n",
    "\n",
    "#Tìm top 5 thành phố có số vụ tai nạn nhiều nhất \n",
    "data = pd.DataFrame(df_county.groupby([\"County\"]).count())\n",
    "data.columns = ['Top county']\n",
    "data = data.sort_values(['Top county'], ascending=False)\n",
    "data = data.reset_index()\n",
    "top5 = data['County'].loc[0:4]\n",
    "top5 = list(top5)\n",
    "\n",
    "#Lọc ra các vụ tai nạn có sự xuất hiện của các công trình giao thông như biển báo, bùng binh, đén giao thông,... tại 5 khu vực nóng\n",
    "C_area = df[(df['Bump']==True) | (df['Crossing']==True) | (df['Give_Way']==True) | (df['Junction']==True) | (df['No_Exit']==True) | \n",
    "        (df['Railway']==True) | (df['Roundabout']==True) | (df['Station']==True) | (df['Stop']==True) | \n",
    "        (df['Traffic_Calming']==True) | (df['Traffic_Signal']==True) | (df['Turning_Loop']==True) ]\n",
    "C_area = C_area.loc[C_area['County'].isin(top5)]\n",
    "C_area = C_area.reset_index(drop = True)\n",
    "\n",
    "#Đầu tiên hãy tìm hiểu về tỉ lệ các vụ tai nạn xảy ra vào ban ngày và ban đêm xem có điều gì bất thường không\n",
    "Total = len(C_area['County'])\n",
    "Area = C_area[['Sunrise_Sunset','County']]\n",
    "Area = Area.groupby('Sunrise_Sunset').count()\n",
    "Day = Area['County'][0]\n",
    "Night = Area['County'][1]\n",
    "#Tính tỉ lệ và lưu vào 2 biến Acc_At_Night, Acc_At_Day\n",
    "Acc_Night = round((Night / Total),3)\n",
    "Acc_Day = round((Day / Total),3)\n",
    "print(\"Ti le tai nan vao ban dem: \", Acc_Night)\n",
    "print(\"Ti le tai nan vao ban ngay: \", Acc_Day)"
   ]
  },
  {
   "cell_type": "code",
   "execution_count": 19,
   "id": "30ee2d28",
   "metadata": {},
   "outputs": [
    {
     "data": {
      "text/plain": [
       "<matplotlib.legend.Legend at 0x1b0045de7c0>"
      ]
     },
     "execution_count": 19,
     "metadata": {},
     "output_type": "execute_result"
    },
    {
     "data": {
      "image/png": "[encoded data removed]",
      "text/plain": [
       "<Figure size 432x288 with 1 Axes>"
      ]
     },
     "metadata": {},
     "output_type": "display_data"
    }
   ],
   "source": [
    "#Biểu đồ tỉ lệ tai nạn vào ban ngày và ban đêm\n",
    "Arr = [Acc_Day, Acc_Night]\n",
    "label = [\"Accident in the daytime\",\"Accident at night\"]\n",
    "mycolors = [\"blue\",\"red\"]\n",
    "plt.pie(Arr,labels = label, colors = mycolors ,autopct='%1.0f%%', pctdistance=0.5, labeldistance= 1.2)\n",
    "plt.title(\"Distribution of accidents by Sunrise_Sunset\")\n",
    "plt.legend(bbox_to_anchor=(1,0), loc=\"right\", bbox_transform=plt.gcf().transFigure)"
   ]
  },
  {
   "cell_type": "markdown",
   "id": "21babf0c",
   "metadata": {},
   "source": [
    "## Nhận xét:\n",
    "    + Tỉ lệ các vụ tai nạn xảy ra vào ban ngày cao hơn gần như là gấp đôi so với tỉ lệ các vụ tai nạn xảy ra vào ban đêm. Điều này không nói lên ánh sáng có ảnh hưởng hay không bởi ta đều biết ban ngày lưu lượng phương tiện nhiều hơn nên dễ xảy ra tai nạn hơn.\n",
    "    + Vào ban ngày thì ánh sáng sẽ nhiều hơn và tầm nhìn sẽ tốt hơn ban đêm rất nhiều khi ban đêm ta phải phụ thuộc vào hệ thống đèn chiếu sáng của phương tiện cũng như là hệ thống đèn công cộng.\n",
    "    + Để có thể phân tích về sự ảnh hường của ánh sáng, chúng ta sẽ cùng tìm hiểu về tầm nhìn của người gặp tai nạn trước khi vụ tai nạn xảy ra."
   ]
  },
  {
   "cell_type": "code",
   "execution_count": 20,
   "id": "062819a8",
   "metadata": {},
   "outputs": [
    {
     "data": {
      "text/plain": [
       "Text(0.5, 1.0, 'Visibility of accidents at Night')"
      ]
     },
     "execution_count": 20,
     "metadata": {},
     "output_type": "execute_result"
    },
    {
     "data": {
      "image/png": "[encoded data removed]",
      "text/plain": [
       "<Figure size 432x288 with 1 Axes>"
      ]
     },
     "metadata": {
      "needs_background": "light"
     },
     "output_type": "display_data"
    }
   ],
   "source": [
    "Visibility = C_area[['Sunrise_Sunset','Visibility(mi)']]\n",
    "Night = Visibility.loc[Visibility['Sunrise_Sunset'] == 'Night']\n",
    "hist1 = plt.hist(Night['Visibility(mi)'], [0,3,6,8,9,10], edgecolor = 'black')\n",
    "plt.xlabel(\"Visibility(Miles)\")\n",
    "plt.ylabel(\"Cases\")\n",
    "plt.title(\"Visibility of accidents at Night\")"
   ]
  },
  {
   "cell_type": "code",
   "execution_count": 21,
   "id": "e7cb6c27",
   "metadata": {},
   "outputs": [
    {
     "data": {
      "text/plain": [
       "Text(0.5, 1.0, 'Visibility of accidents in the Daytime')"
      ]
     },
     "execution_count": 21,
     "metadata": {},
     "output_type": "execute_result"
    },
    {
     "data": {
      "image/png": "[encoded data removed]",
      "text/plain": [
       "<Figure size 432x288 with 1 Axes>"
      ]
     },
     "metadata": {
      "needs_background": "light"
     },
     "output_type": "display_data"
    }
   ],
   "source": [
    "Day = Visibility.loc[Visibility['Sunrise_Sunset'] == 'Day']\n",
    "hist2 = plt.hist(Day['Visibility(mi)'], [0,3,6,8,9,10], color = \"orange\", edgecolor = 'black')\n",
    "plt.xlabel(\"Visibility(Miles)\")\n",
    "plt.ylabel(\"Cases\")\n",
    "plt.title(\"Visibility of accidents in the Daytime\")"
   ]
  },
  {
   "cell_type": "markdown",
   "id": "b1f94e43",
   "metadata": {},
   "source": [
    "## Nhận xét:\n",
    "   - Như vậy nhận định về việc hệ thống chiếu sáng của phương tiện và công cộng Không làm ảnh hưởng nhiều lắm đến các vụ tai nạn như ta đã suy đoán.\n",
    "   - Dựa vào biểu đồ ta có thể thấy tầm nhìn bất kể ban ngày hay ban đêm đều ở mức ở rất cao. Điều này nói lên hệ thống chiếu sáng vẫn hoạt động khá tốt và việc nhìn thấy các công trình giao thông có thể nói là ở mức khá tốt.\n",
    "   - Một số vụ tai nạn xảy ra do tầm nhìn kém có thể là do:\n",
    "            + Ở một số điểm hệ thống đèn gặp trục trặc bất ngờ nên không thể xử lý kịp.\n",
    "            + Người lái xe ở trong tình trạng không tỉnh táo.\n",
    "            + Thị lực có thể gặp vẫn đề như cận thị.\n",
    "            + Thời tiết làm ảnh hưởng đến tầm nhìn.\n",
    "   - Với mức tầm nhìn gần như là tốt nhất từ 9-10 thì các vụ tai nạn lại xảy ra nhiều nhất, điều này có thể là do:\n",
    "            + Lỗi bất cẩn, mất tập trung khi lái xe.\n",
    "            + Người lái xe sử dụng chất kích thích, không làm chủ được bản thân.\n",
    "            + Thời tiết tác động đến khả năng làm chủ phương tiện.\n",
    "            + Phương tiện hư hỏng bất ngờ.\n",
    "            \n",
    "      \n",
    "            \n",
    "            \n",
    "   "
   ]
  },
  {
   "cell_type": "code",
   "execution_count": null,
   "id": "0a91107d",
   "metadata": {},
   "outputs": [],
   "source": []
  },
  {
   "cell_type": "code",
   "execution_count": null,
   "id": "5c681294",
   "metadata": {},
   "outputs": [],
   "source": []
  }
 ],
 "metadata": {
  "kernelspec": {
   "display_name": "Python 3",
   "language": "python",
   "name": "python3"
  },
  "language_info": {
   "codemirror_mode": {
    "name": "ipython",
    "version": 3
   },
   "file_extension": ".py",
   "mimetype": "text/x-python",
   "name": "python",
   "nbconvert_exporter": "python",
   "pygments_lexer": "ipython3",
   "version": "3.8.8"
  }
 },
 "nbformat": 4,
 "nbformat_minor": 5
}
