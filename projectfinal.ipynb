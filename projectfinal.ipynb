version https://git-lfs.github.com/spec/v1
oid sha256:c0ead45291c9a5e531147aa8463a8ca91c9ec94b0cc4b77b36d6ee35a720fe16
size 97494
