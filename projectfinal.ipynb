{
 "cells": [
  {
   "cell_type": "markdown",
   "id": "68243dc1",
   "metadata": {},
   "source": [
    "# Đồ án cuối kì Lập Trình Cho Khoa Học Dữ Liệu "
   ]
  },
  {
   "cell_type": "markdown",
   "id": "9d43fa60",
   "metadata": {},
   "source": [
    "## Danh sách các thành viên\n",
    "| Họ và tên | MSSV | Link github |\n",
    "| --- | --- | --- |\n",
    "| Vương Thành An | 19127326 | https://github.com/vuongthanhan-19127326 |\n",
    "| Trần Minh Thiện | 19127281 | https://github.com/MinhThien285 |\n",
    "| Lê Tâm Anh | 19127330 | https://github.com/letamanh-19127330 |"
   ]
  },
  {
   "cell_type": "markdown",
   "id": "6bd91622",
   "metadata": {},
   "source": [
    "## Link github của đồ án:\n",
    "https://github.com/vuongthanhan-19127326/dackltkhdl"
   ]
  },
  {
   "cell_type": "markdown",
   "id": "1d9ca8ba",
   "metadata": {},
   "source": [
    "## Mục lục\n",
    "- Hướng dẫn chạy Project\n",
    "- Thu thập dữ liệu\n",
    "  + Dữ liệu của bạn làm về chủ đề gì ? Bạn lấy được nguồn của dữ liệu từ đâu?\n",
    "  + Tác giả có cho phép bạn được sử dụng dữ liệu của họ không ?\n",
    "  + Làm thế nào để tác giả thu thập được những dữ liệu này?\n",
    "- Khám phá dữ liệu\n",
    "  + Dữ liệu có bao nhiêu dòng và bao nhiêu cột?\n",
    "  + Mỗi dòng có ý nghĩa gì? Có vấn đề các dòng có ý nghĩa khác nhau không?\n",
    "  + Dữ liệu có các dòng bị lặp không?\n",
    "  + Mỗi cột có ý nghĩa gì?\n",
    "  + Dữ liệu có bị thiếu hay không?\n",
    "  + Mỗi cột hiện đang có kiểu dữ liệu gì? Có cột nào có kiểu dữ liệu chưa phù hợp để có thể xử lý tiếp không?\n",
    "  + Với mỗi cột có kiểu dữ liệu dạng numeric, các giá trị được phân bố như thế nào?\n",
    "  + Với mỗi cột có kiểu dữ liệu dạng categorical, các giá trị được phân bố như thế nào?\n",
    "- Đặt ra các câu hỏi có ý nghĩa? Giải thích về lợi ích của việc trả lời các câu hỏi này.\n",
    "\n",
    "- Tiền xử lí và phân tích câu hỏi\n",
    "  + Phân tích câu hỏi bằng code \n",
    "  - Kết quả nhận được từ cho câu hỏi \n",
    "- Nhìn lại\n",
    "- Nguồn tham khảo"
   ]
  },
  {
   "cell_type": "markdown",
   "id": "7a4a5f16",
   "metadata": {},
   "source": [
    "## Hướng dẫn chạy project:"
   ]
  },
  {
   "cell_type": "markdown",
   "id": "cafe93f4",
   "metadata": {},
   "source": [
    "### Import các thư viện cần thiết"
   ]
  },
  {
   "cell_type": "code",
   "execution_count": 1,
   "id": "26641f1c",
   "metadata": {},
   "outputs": [],
   "source": [
    "import pandas as pd\n",
    "import numpy as np\n",
    "import seaborn as sns\n",
    "import matplotlib.pyplot as plt\n",
    "import plotly.express as px\n",
    "import datetime\n",
    "from datetime import datetime\n",
    "import warnings\n",
    "import calendar\n",
    "import seaborn as sn\n",
    "warnings.filterwarnings(\"ignore\")\n",
    "%matplotlib inline"
   ]
  },
  {
   "cell_type": "markdown",
   "id": "e5ccb25f",
   "metadata": {},
   "source": [
    "## Thu thập dữ liệu"
   ]
  },
  {
   "cell_type": "markdown",
   "id": "cf9d1166",
   "metadata": {},
   "source": [
    "### Dữ liệu của bạn làm về chủ đề gì ? Bạn lấy được nguồn của dữ liệu từ đâu?\n",
    "   - Dữ liệu thu thập được là về các vụ tai nạn tại Mỹ. Dữ liệu đượ"
   ]
  },
  {
   "cell_type": "markdown",
   "id": "54e67802",
   "metadata": {},
   "source": [
    "### Tác giả có cho phép bạn được sử dụng dữ liệu của họ không ?\n",
    "   - Theo như điều khoản của chủ sở hữu thì data được chia sẻ rộng rãi và mục đích học tập, nghiên cứu không vi phạm điều khoản cảu chủ sỡ hữu đưa ra"
   ]
  },
  {
   "cell_type": "markdown",
   "id": "e7c62a3b",
   "metadata": {},
   "source": [
    "### Làm thế nào để tác giả thu thập được những dữ liệu này?\n",
    "   - Trích lời tác giả về cách thu thập dữ liệu: Đây là tập dữ liệu về tai nạn xe hơi trên toàn quốc, bao gồm 49 tiểu bang của Hoa Kỳ . Dữ liệu tai nạn được thu thập từ tháng 2 năm 2016 đến tháng 12 năm 2020 , sử dụng nhiều API cung cấp dữ liệu sự cố (hoặc sự kiện) giao thông trực tuyến. Các API này truyền phát dữ liệu giao thông được thu thập bởi nhiều thực thể, chẳng hạn như bộ giao thông vận tải Hoa Kỳ và tiểu bang, cơ quan thực thi pháp luật, camera giao thông và cảm biến giao thông trong mạng lưới đường bộ. Hiện tại, có khoảng 1,5 triệu hồ sơ tai nạn trong bộ dữ liệu này"
   ]
  },
  {
   "cell_type": "code",
   "execution_count": 2,
   "id": "af170c7a",
   "metadata": {},
   "outputs": [],
   "source": [
    "np.set_printoptions(suppress=True)"
   ]
  },
  {
   "cell_type": "code",
   "execution_count": null,
   "id": "8fc1bdce",
   "metadata": {},
   "outputs": [],
   "source": [
    "accidents_df = pd.read_csv('US_Accidents_Dec20_updated.csv',error_bad_lines=False)\n",
    "accidents_df.head()"
   ]
  },
  {
   "cell_type": "markdown",
   "id": "ad49eb87",
   "metadata": {},
   "source": [
    "## Dữ liệu gồm có bao nhiêu dòng và bao nhiêu cột? "
   ]
  },
  {
   "cell_type": "code",
   "execution_count": null,
   "id": "26d92a70",
   "metadata": {},
   "outputs": [],
   "source": [
    "num_rows,num_cols=accidents_df.shape\n",
    "print('Dữ liệu bao gồm: {} dòng và {} cột'.format(num_rows,num_cols))"
   ]
  },
  {
   "cell_type": "markdown",
   "id": "5aa259b8",
   "metadata": {},
   "source": [
    "## Mỗi dòng có ý nghĩa gì? Có vấn đề các dòng có ý nghĩa khác nhau không?"
   ]
  },
  {
   "cell_type": "markdown",
   "id": "3a3e4a6c",
   "metadata": {},
   "source": [
    "Mỗi dòng thể hiện các thông tin về các vụ tai nạn xe hơi thuộc 49 tiểu bang của Hoa Kỳ. Có vẻ không có dòng nào khác loài."
   ]
  },
  {
   "cell_type": "markdown",
   "id": "594bf3ac",
   "metadata": {},
   "source": [
    "## Dữ liệu có các dòng bị lặp không? "
   ]
  },
  {
   "cell_type": "code",
   "execution_count": null,
   "id": "e821deb4",
   "metadata": {},
   "outputs": [],
   "source": [
    "have_duplicated_rows=accidents_df.duplicated().any()\n",
    "print(have_duplicated_rows)"
   ]
  },
  {
   "cell_type": "markdown",
   "id": "749041b1",
   "metadata": {},
   "source": [
    "## Mỗi cột có ý nghĩa gì?"
   ]
  },
  {
   "cell_type": "markdown",
   "id": "e97a5be1",
   "metadata": {},
   "source": [
    "•  ID: Số nhận dạng (duy nhất) của các hồ sơ vụ tai nạn.\n",
    "\n",
    "•  Severity: Mức độ nghiêm trọng của vụ tai nạn tác động đến giao thông, được tính theo 4 mức từ 1 đến 4 (1 là tác động ít nhất đến giao thông gây ra thời gian trễ ngắn, 4 là tác động nhiều nhất đến giao thông gây ra thời gian trễ dài).\n",
    "\n",
    "•  Start_Time: Thời gian xảy ra vụ tai nạn (tính theo múi giờ địa phương)\n",
    "\n",
    "•  End_Time: Thời gian vụ tai nạn kết thúc (kết thúc ở đây có nghĩa là vụ tai nạn không còn làm ảnh hưởng đến giao thông)\n",
    "\n",
    "•  Start_Lat: Vĩ độ vụ tai nạn trong định vị GPS của điểm bắt đầu.\n",
    "\n",
    "•  Start_Lng: Kinh độ vụ tai nạn trong định vị GPS của điểm bắt đầu.\n",
    "\n",
    "•  End_Lat: Vĩ độ vụ tai nạn trong định vị GPS của điểm kết thúc.\n",
    "\n",
    "•  End_Lng: Kinh độ vụ tai nạn trong định vị GPS của điểm kết thúc.\n",
    "\n",
    "•  Distance(mi): Chiều dài của đoạn đường bị ảnh hưởng bởi vụ tai tạn.\n",
    "\n",
    "•  Description: Mô tả vụ tai nạn.\n",
    "\n",
    "•  Number: Số của con đường trong bản định danh.\n",
    "\n",
    "•  Street: Tên của con đường trong bản đinh danh.\n",
    "\n",
    "•  Side: Vụ tai nạn xảy ra ở phía (phải/trái) của con đường.\n",
    "\n",
    "•  City: Tên thành phố xảy ra vụ tai nạn.\n",
    "\n",
    "•  County: Tên quận xảy ra vụ tai nạn.\n",
    "\n",
    "•  State: Trạng thái trong bản ghi địa chỉ.\n",
    "\n",
    "•  Zipcode: Mã zip trong bản ghi địa chỉ.\n",
    "\n",
    "•  Country: Tên quốc gia có vụ tai nạn.\n",
    "\n",
    "•  Timezone: Múi giờ của nơi xảy ra vụ tại nạn.\n",
    "\n",
    "•  Airport_Code: Mã của trạm thời tiết tại sân bay gần nhất với vị trí xảy ra tai nạn.\n",
    "\n",
    "•  Weather_Timestamp: Dấu thời gian của bản ghi thời tiết theo múi giờ địa phương.\n",
    "\n",
    "•  Temperature (F): Nhiệt độ lúc xảy ra tai nạn.\n",
    "\n",
    "•  Wind_Chill (F): Gió lạnh lúc xảy ra tai nạn.\n",
    "\n",
    "•  Humidity (%): Độ ẩm lúc xảy ra tai nạn.\n",
    "\n",
    "•  Pressure (inches): Áp suất không khí lúc xảy ra tai nạn.\n",
    "\n",
    "•  Visibility (miles): Tầm nhìn lúc xảy ra tai nạn.\n",
    "\n",
    "•  Wind_Direction: Hướng gió lúc xảy ra tai nạn.\n",
    "\n",
    "•  Wind_Speed (mph): Tốc độ gió lúc xảy ra tai nạn(miles/hour).\n",
    "\n",
    "•  Precipitation (inches): Lượng mưa lúc xảy ra tai nạn.\n",
    "\n",
    "•  Weather_Condition: Trạng thái thời tiết lúc xảy ra tai nạn (mưa, bão, tuyết rơi,…)\n",
    "\n",
    "•  Amenity: Sự tiện nghi của một khu vực ở gần vụ tai nạn.\n",
    "\n",
    "•  Bump: Có biển báo của gờ giảm tốc hoặc các gờ ở gần vị trí xảy ra vụ tai nạn hay không.\n",
    "\n",
    "•  Crossing: Có biển báo người qua đường của các đường ở gần vụ tai nạn hay không.\n",
    "\n",
    "•  Give_Way: Có biển báo nhường đường ở vị trí gần vụ tai nạn hay không.\n",
    "\n",
    "•  Junction: Có biển báo đường giao nhau ở vị trí gần vụ tai nạn hay không.\n",
    "\n",
    "•  No_Exit: Có biển báo cấm đi vào ở gần vụ tai nạn hay không.\n",
    "\n",
    "•  Railway: Có biển báo đường sắt ở gần vụ tai nạn hay không.\n",
    "\n",
    "•  Roundabout: Có sự hiện diện của bùng binh ở gần vị trí vụ tai nạn hay không.\n",
    "\n",
    "•  Station: Có sự hiện diện của trạm ở gần vị trí vụ tai nạn hay không.\n",
    "\n",
    "•  Stop: Có biển báo dừng ở gần vị trí vụ tai nạn hay không.\n",
    "\n",
    "•  Traffic_Calming: Có sự hiện diện của các thiết kế vật lý trên đường nhằm hạn chế tốc độ ở gần vị trí vụ tai nạn hay không.\n",
    "\n",
    "•  Traffic_Signal: Có sự hiện diện của đèn giao thông ở gần vị trí vụ tai nạn hay không.\n",
    "\n",
    "•  Turning_Loop: Có sự hiện diện của khúc quoanh ở gần vị trí vụ tai nạn hay không.\n",
    "\n",
    "•  Sunrise_Sunset: Hiển thị khoảng thời gian dựa theo mặt trời mọc hay lặn.\n",
    "\n",
    "•  Civil_Twilight: Hiển thị khoảng thời gian dựa theo hoàng hôn dân sự.\n",
    "\n",
    "•  Nautical_Twilight: Hiển thị khoảng thời gian dựa theo hoàng hôn hàng hải.\n",
    "\n",
    "•  Astronomical_Twilight: Hiển thị khoảng thời gian dựa theo hoàng hôn thiên văn."
   ]
  },
  {
   "cell_type": "markdown",
   "id": "05ea320b",
   "metadata": {},
   "source": [
    "## Mỗi cột hiện đang có kiểu dữ liệu gì? Có cột nào có kiểu dữ liệu chưa phù hợp để có thể xử lý tiếp không?"
   ]
  },
  {
   "cell_type": "code",
   "execution_count": null,
   "id": "159804aa",
   "metadata": {},
   "outputs": [],
   "source": [
    "col_dtypes=accidents_df.dtypes\n",
    "print(col_dtypes)"
   ]
  },
  {
   "cell_type": "code",
   "execution_count": null,
   "id": "c88c2dfa",
   "metadata": {},
   "outputs": [],
   "source": [
    "def open_object_dtype(s):\n",
    "    df=pd.Series(s)\n",
    "    a=df.apply(lambda x : type(x)).unique()\n",
    "    dtypes = set(a)\n",
    "    return dtypes"
   ]
  },
  {
   "cell_type": "code",
   "execution_count": null,
   "id": "f5a6802b",
   "metadata": {},
   "outputs": [],
   "source": [
    "objects_key=(accidents_df.loc[:, accidents_df.dtypes == object]).keys()\n",
    "print(\"numer of object columns:\",len(objects_key))\n",
    "for key in objects_key:\n",
    "    print(\"types of \",key,\" is \",open_object_dtype(accidents_df[key]))"
   ]
  },
  {
   "cell_type": "markdown",
   "id": "cf71e7da",
   "metadata": {},
   "source": [
    "## Tiền xử lí"
   ]
  },
  {
   "cell_type": "markdown",
   "id": "2c56078a",
   "metadata": {},
   "source": [
    "### Chuyển dtype của cột \"Date\" sang datetime"
   ]
  },
  {
   "cell_type": "code",
   "execution_count": null,
   "id": "af264db9",
   "metadata": {},
   "outputs": [],
   "source": [
    "datetime_cols=['Start_Time','End_Time','Weather_Timestamp']\n",
    "for key in datetime_cols:\n",
    "    accidents_df[key]= pd.to_datetime(accidents_df[key])"
   ]
  },
  {
   "cell_type": "markdown",
   "id": "0849b1c0",
   "metadata": {},
   "source": [
    "## Với mỗi cột có kiểu dữ liệu dạng numeric, các giá trị được phân bố như thế nào?"
   ]
  },
  {
   "cell_type": "code",
   "execution_count": null,
   "id": "6341f2a0",
   "metadata": {},
   "outputs": [],
   "source": [
    "numeric_cols=['Start_Lat', 'Start_Lng', 'End_Lat', 'End_Lng',\n",
    "       'Distance(mi)', 'Number', 'Temperature(F)', 'Wind_Chill(F)',\n",
    "       'Humidity(%)', 'Pressure(in)', 'Visibility(mi)', 'Wind_Speed(mph)',\n",
    "       'Precipitation(in)']\n",
    "\n",
    "all_num_cols=['Start_Lat', 'Start_Lng', 'End_Lat', 'End_Lng',\n",
    "       'Distance(mi)', 'Number', 'Temperature(F)', 'Wind_Chill(F)',\n",
    "       'Humidity(%)', 'Pressure(in)', 'Visibility(mi)', 'Wind_Speed(mph)',\n",
    "       'Precipitation(in)','Start_Time','End_Time','Weather_Timestamp']\n",
    "\n",
    "nume_col_profiles_df=pd.DataFrame(index=['missing_ratio','min','max'],\n",
    "                                  columns=all_num_cols)\n",
    "\n",
    "nume_col_profiles_df.loc['missing_ratio',numeric_cols]=np.float64(accidents_df[numeric_cols].isna().mean()*100)\n",
    "\n",
    "nume_col_profiles_df.loc['min',numeric_cols]=np.float64(accidents_df[numeric_cols].min())\n",
    "\n",
    "nume_col_profiles_df.loc['max',numeric_cols]=np.float64(accidents_df[numeric_cols].max())\n",
    "\n",
    "nume_col_profiles_df=nume_col_profiles_df.astype(np.float64)\n",
    "\n",
    "\n",
    "\n",
    "\n",
    "nume_col_profiles_df.loc['missing_ratio',datetime_cols]=accidents_df[datetime_cols].isna().mean()*100\n",
    "\n",
    "nume_col_profiles_df.loc['min',datetime_cols]=accidents_df[datetime_cols].min()\n",
    "\n",
    "nume_col_profiles_df.loc['max',datetime_cols]=accidents_df[datetime_cols].max()\n",
    "\n",
    "print(nume_col_profiles_df)\n"
   ]
  },
  {
   "cell_type": "markdown",
   "id": "dc40c535",
   "metadata": {},
   "source": [
    "## Với mỗi cột có kiểu dữ liệu dạng categorical, các giá trị được phân bố như thế nào ?"
   ]
  },
  {
   "cell_type": "code",
   "execution_count": null,
   "id": "9f0c7dcd",
   "metadata": {},
   "outputs": [],
   "source": [
    "cate_cols=list(set(accidents_df.keys())-set(all_num_cols))\n",
    "\n",
    "index=['missing_ratio', 'num_diff_vals', 'diff_vals']\n",
    "cate_col_profiles_df=pd.DataFrame(\n",
    "     index=index,\n",
    "     columns=cate_cols)\n",
    "cate_col_profiles_df.loc['missing_ratio',:]=accidents_df[cate_cols].isna().mean()*100\n",
    "\n",
    "cate_col_profiles_df.loc['num_diff_vals',:]=accidents_df[cate_cols].nunique()\n",
    "print(cate_col_profiles_df)"
   ]
  },
  {
   "cell_type": "code",
   "execution_count": null,
   "id": "cf9b9209",
   "metadata": {},
   "outputs": [],
   "source": [
    "accidents_df.head()"
   ]
  },
  {
   "cell_type": "markdown",
   "id": "ed76783d",
   "metadata": {},
   "source": [
    "# Đặt ra các câu hỏi có ý nghĩa? Giải thích về lợi ích của việc trả lời các câu hỏi này."
   ]
  },
  {
   "cell_type": "markdown",
   "id": "6969cc54",
   "metadata": {},
   "source": [
    "- Câu 1: Liệu thời điểm ra đường có phải là ảnh hưởng gì đến việc xảy ra tai nạn giao thông ? Chúng ta cần có phải chọn thời điểm để ra ngoài cho an toàn không ? \n",
    "  + Cho chúng ta thấy được đâu là thời điểm an toàn trong 1 tuần khi ra đường để lựa chọn đảm bảo tính mạng cho bản thân và gia đình\n",
    "  + Biết được đâu là thời điểm nguy hiểm an toàn trong 1 tuần để hạn chế ra đường\n",
    "  + Phần nào hiểu được sự biến động về số lượng tai nạn giao thông xảy ra ở các thời điểm trong tuần\n",
    "  + Là phần mở đầu cho phần lý giải những nguyên nhân gây ra tai nạn giao thông ở những câu hỏi bên dưới\n",
    "\n",
    "- Câu 2: Ánh sáng có tác động đến tầm nhìn đối với các công trình giao thông ở các quận xảy ra nhiều tai nạn hay không?\n",
    "  + Sau khi trả lời câu hỏi này, ta sẽ biết được liệu ban ngày và ban đêm có ảnh hưởng lớn đến tầm nhìn của lái xe hay không và việc đặt các công trình giao thông trên đã nằm ở nơi dễ nhìn thấy hay chưa. Từ đó, đưa ra các biện pháp cải thiện tầm nhìn nhằm giảm thiểu số vụ tai nạn xảy ra do không có đủ tầm nhìn.\n",
    " \n",
    "- Câu 3: Trong các năm từ 2018 đến 2020, những thành phố nào có nhiều vụ tai nạn xảy ra nhất ? Làm sao để có thể hạn chế tối đa số vụ tai nạn trong các thành phố này?\n",
    "  + Trả lời được câu hỏi này, ta sẽ tìm ra giải pháp để giảm thiểu số vụ tai nạn xảy ra trong các thành phố nêu trên.\n",
    "\n"
   ]
  },
  {
   "cell_type": "markdown",
   "id": "b80b90c4",
   "metadata": {},
   "source": [
    "### Câu hỏi 1: Liệu thời điểm ra đường có phải là ảnh hưởng gì đến việc xảy ra tai nạn giao thông ? Chúng ta cần có phải chọn thời điểm để ra ngoài cho an toàn không ?"
   ]
  },
  {
   "cell_type": "markdown",
   "id": "8faa0fb4",
   "metadata": {},
   "source": [
    "#### Tiền xử lí dữ liệu"
   ]
  },
  {
   "cell_type": "markdown",
   "id": "89205920",
   "metadata": {},
   "source": [
    "##### Bước 1:\n",
    " - Dùng hàm dt của series để tạo thêm các cột ngày, tháng, năm, giờ, phút, ngày trong tuần, tên của ngày trong tuần bắt đầu xảy ra tai nạn từ cột Start_time vì ở đây mình phân tích về thời điểm xảy ra tai nạn giao thông nên nếu lấy các số liệu trên của cột End_Time thì có thể dữ liệu sẽ bị sai lệch khá nhiều do có những vụ tai nạn có khoảng thời gian từ lúc bắt đầu đến kết thúc là khá lâu\n",
    "   \n",
    " -  Sau đó sẽ tính lại giá trị của các phút lại cho chỉ còn 0 với 30 ví dụ như 6h30 và 6h chứ không có 6h15 để dễ trực quan hơn\n",
    "    + Thì ở đây những tai nạn nào xảy ra từ  30-59 phút thì xem như đang ở phút thứ 30 và các tai nạn từ 0-29 phút thì xem như đang ở phút thứ 0\n",
    "    +  Ví dụ 6h53-->6h30, 6h15-->6h\n",
    "    "
   ]
  },
  {
   "cell_type": "code",
   "execution_count": null,
   "id": "ef198b0d",
   "metadata": {},
   "outputs": [],
   "source": [
    "accidents_df['day']=accidents_df['Start_Time'].dt.day\n",
    "accidents_df['month']=accidents_df['Start_Time'].dt.month\n",
    "accidents_df['year']=accidents_df['Start_Time'].dt.year\n",
    "accidents_df['hour']=accidents_df['Start_Time'].dt.hour\n",
    "accidents_df['minute']=accidents_df['Start_Time'].dt.minute\n",
    "accidents_df['weekday']=accidents_df['Start_Time'].dt.weekday\n",
    "accidents_df['name_of_day']=accidents_df['Start_Time'].dt.day_name()\n",
    "accidents_df.minute[(accidents_df.minute>=30)]=30\n",
    "accidents_df.minute[(accidents_df.minute<30)]=0\n",
    "\n",
    "accidents_df['hour_and_minute']=(pd.to_datetime(accidents_df['hour'].astype(str) + ':' +accidents_df['minute'].astype(str), \n",
    "                                         format='%H:%M').dt.time) \n",
    "\n",
    "print(accidents_df[['day','month','year','hour_and_minute','weekday','name_of_day']])\n",
    "\n"
   ]
  },
  {
   "cell_type": "markdown",
   "id": "7708ad5a",
   "metadata": {},
   "source": [
    "##### Bước 2:\n",
    " - Tiến hành gom nhóm các cột hour, minute, weekday, name_of_day để lấy tất cả những vụ tai nạn xảy ra vào thời điểm đó của một ngày tỏng tuần ví dụ ( Khoảng 0 giờ 0 phút ngày thứ 2 xảy ra 2545 vụ tai nạn)\n",
    "   + Ở đây sở dĩ có 2 cột là ngày trong tuần và tên ngày trong tuần là vì: cột các các ngày trong tuần có giá trị từ (0-6) tương ứng cho từ (thứ 2 - chủ nhật) giá trị các cột ngày để khi mình group by hàm nó sẽ tự sort lại danh sách các giờ phút tăng dần theo các ngày trong tuần chứ nếu chỉ để tên của các ngày trong tuần như (Monday,Thursday) và sort bằng cột đó thì sẽ không thể so sánh được thứ nào lớn hơn thứ nào dẫn đến sort ra kết quả không đúng"
   ]
  },
  {
   "cell_type": "code",
   "execution_count": null,
   "id": "bc3b999d",
   "metadata": {},
   "outputs": [],
   "source": [
    "mean_hour=accidents_df.groupby(['hour_and_minute','weekday','name_of_day']).size().reset_index(name='number_of_acc')"
   ]
  },
  {
   "cell_type": "code",
   "execution_count": null,
   "id": "964b5037",
   "metadata": {},
   "outputs": [],
   "source": [
    "print(mean_hour)"
   ]
  },
  {
   "cell_type": "markdown",
   "id": "33511444",
   "metadata": {},
   "source": [
    "- Kết quả chúng ta có 336 dòng tương ứng với 48 khung giờ của các ngày trong tuần (48*7=336) điều này cũng chứng tỏ rằng mỗi thời điểm trong các khung giờ đều có xảy ra tai nạn "
   ]
  },
  {
   "cell_type": "markdown",
   "id": "407d944c",
   "metadata": {},
   "source": [
    "##### Bước 3: Tạo ra một danh sách số khung giờ của ngày thứ trong tuần mà tại thời điểm đó có xảy ra tai nạn\n",
    " - Tiến hành gom nhóm các cột ngày, tháng, năm, giờ và phút, ngày trong tuần và đếm số lần xuất hiện của các giá trị này trong accidents_df thì ra sẽ biết được bao nhiêu có vụ tai nạn xảy ra tại các ngày đã thu thập biết được trong khung giờ nào? và đó là ngày thứ mấy trong tuần từ  đó tạo thành num_acc_per_day_df dataframe\n",
    " \n",
    " - Từ num_acc_per_day_df trên ta sẽ groupby một lần nữa bằng các cột giờ và phút kèm với ngày trong tuần và đếm số lần xuất hiện của các giá trị này thì ta sẽ biết được có bao nhiêu thời điểm thuộc các ngày trong tuần có xảy ra ít nhất một vụ tai nạn time_counts_df dataframe\n",
    " \n",
    " - Từ đây ta có được danh sách số lần mà các thời điểm của các ngày trong tuần có xảy ra ít nhất một vụ tai nạn cũng có 336 giống như bảng danh sách số vụ xảy ra tại các thời điểm của các ngày trong tuần"
   ]
  },
  {
   "cell_type": "code",
   "execution_count": null,
   "id": "c95347a3",
   "metadata": {},
   "outputs": [],
   "source": [
    "num_acc_per_day_df=accidents_df.groupby(['day','month','year','hour_and_minute','weekday']).size().reset_index(name='counts')\n",
    "print(num_acc_per_day_df)\n",
    "time_counts_df=num_acc_per_day_df.groupby(['hour_and_minute','weekday']).size().reset_index(name='counts')\n",
    "print(time_counts_df)"
   ]
  },
  {
   "cell_type": "markdown",
   "id": "a1d5c78d",
   "metadata": {},
   "source": [
    "##### Bước 4:Tính trung bình số vụ tai nạn xảy ra tại các thời điểm trong tuần\n",
    " - Dùng số lượng tai nạn xảy ra ở mỗi thời điểm của từng ngày trong tuần ở mean_hour dataframe để chia cho số lần mà có tai nạn được thu thập ngay tại mỗi thời điểm cách nhau 30 phút từng ngày trong tuần của cột ta sẽ có được trung bình số vụ tai nạn xảy ra ở các thời điểm tại của ngày trong tuần"
   ]
  },
  {
   "cell_type": "code",
   "execution_count": null,
   "id": "e5a66a4f",
   "metadata": {},
   "outputs": [],
   "source": [
    "mean_hour['mean_number_of_acc']=mean_hour['number_of_acc']/time_counts_df['counts']\n",
    "print(mean_hour)"
   ]
  },
  {
   "cell_type": "markdown",
   "id": "100e528c",
   "metadata": {},
   "source": [
    "##### Bước 5:Trực quan hóa trung bình số vụ tai nạn xảy ra tại các thời điểm trong tuần bằng biểu đồ đường\n",
    "  - Với trục x là các thời điểm trong một ngày\n",
    "  - Trục y là số vụ tai nạn xảy ra tại các thời điểm của các ngày trong tuần\n",
    "  - Màu của các đường sẽ đại diện cho các ngày trong tuần"
   ]
  },
  {
   "cell_type": "code",
   "execution_count": null,
   "id": "e724907d",
   "metadata": {},
   "outputs": [],
   "source": [
    "fig = px.line(mean_hour, x=\"hour_and_minute\", y=\"mean_number_of_acc\",color='name_of_day')\n",
    "fig.show()"
   ]
  },
  {
   "cell_type": "markdown",
   "id": "51881024",
   "metadata": {},
   "source": [
    "##### Mô tả và giải thích\n",
    "- Trung bình số vụ tai nạn xảy ra ở các ngày trong tuần có sự thay đổi bất ổn theo thời gian\n",
    "   + Số vụ tai nạn giảm chậm từ 0h-4h sau đó tăng mạnh đều và liên tục từ 4h30 đến 8h sau đó giảm đều từ 8h30-11h sau đó tăng không liên tục từ 11h30-17h30 sau đó giảm nhanh và liên tục từ 18h-20h và từ 20h30-23h30 không có sự biến động quá lớn \n",
    "   + Khoảng thời gian xảy ra ít vụ tai nạn nhất là từ 3h-5h (9 đến 12 vụ)\n",
    "   + Khoảng thời gian xảy ra nhiều vụ tai nạn nhất là 15h-17h30 (38-41 vụ)\n",
    "      \n",
    "-  Trung bình số vụ tai nạn ở các ngày biến động khá tương đương với nhau\n",
    "   + Thứ 6 vào khoảng thời gian từ 15h30 và 16h30-17h là có số vụ tai nạn xảy ra nhiều nhất (41.71-42.45 vụ)\n",
    "   + Thứ 3 vào khoảng 4h sáng có số vụ tai nạn xảy ra ít nhất với 8.66 vụ\n",
    "   + Riêng có thứ 7 và chủ nhật thì số vụ tai nạn không có biến động quá nhiều ở các khung giờ và thấp hơn nhiều so với các ngày khác\n",
    "   \n",
    "- Như vậy theo biểu đồ thì:\n",
    "   + Thời điểm an toàn để ra đường sẽ là ban đêm gần sáng từ 3h-5h ở tất cả các ngày và an toàn nhất là thứ 3 vì khi vào khoảng khung giờ này hầu hết mọi người đã đi ngủ nhưng đó là ngủ ở nhà còn ngủ gật khi lái xe thì cực kì nguy hiểm.\n",
    " \n",
    "   + Tuy nhiên ngày mà an toàn nhất để ra đường thì lại là thứ 7 và chủ nhật do có số lượng tai nạn ghi nhận thấp hơn nhiều so với các ngày khác. Điều này khá là bất thường do thường thì thứ 7 và chủ nhật thì đa phần mọi người được nghỉ làm nên thường ra ngoài để vui chơi xả stress và uống nhiều bia rượu khi lái xe dẫn đến có rất nhiều vụ tại nạn. \n",
    " \n",
    "   + Thời điểm nguy hiểm trong ngày khi ra đường là từ 15h-17h30 và nguy hiểm nhất là cùng thời điểm trong ngày thứ 6 do lúc này mọi người vừa tan ca làm việc cộng kèm theo việc muốn về nhanh để chuẩn bị cho kế hoạch xả strees cuối tuần nên dễ xảy ra tai nạn. \n",
    "   \n",
    "   + Thời điểm từ 18h30-20h giờ số tai nạn giảm mạnh có thể do mọi người đã đi làm về nên số tai nạn cũng giảm lại so với lúc mới tan ca\n",
    "   \n",
    "   + Có một khoảng thời điểm từ 6h30-8h số lượng tai nạn tăng cao rồi đó giảm liên tục từ 8h30-11h là do lúc đó sáng sớm mọi người bắt đầu đi làm có thể do sợ trễ nên mọi người mới cố gắng đi thật nhanh để kịp giờ làm nên dễ xảy ra tai nạn còn sau đó số lượng giảm dần là do mọi người đã bát đầu vào làm và giảm xuống khá thấp ở 10h30-11h30 là do lúc đó mọi người chuẩn bị nghỉ trưa nên ít ra đường."
   ]
  },
  {
   "cell_type": "markdown",
   "id": "35ec4940",
   "metadata": {},
   "source": [
    "### Câu 2: Ánh sáng có tác động đến tầm nhìn đối với các công trình giao thông ở các quận xảy ra nhiều tai nạn hay không?"
   ]
  },
  {
   "cell_type": "code",
   "execution_count": null,
   "id": "e15b80f1",
   "metadata": {},
   "outputs": [],
   "source": [
    "#Câu 2: Ánh sáng có ảnh hưởng đến việc nhìn thấy các biển báo ở các nơi xảy ra nhiều tai nạn hay không?\n",
    "\n",
    "#Lọc ra các cột cần dùng\n",
    "sign = ['County','Visibility(mi)','Sunrise_Sunset','Bump','Crossing','Give_Way','Junction','No_Exit','Railway','Roundabout',\n",
    "        'Station','Stop','Traffic_Calming', 'Traffic_Signal', 'Turning_Loop']\n",
    "df = accidents_df[sign]\n",
    "df_county = accidents_df[['County','Bump']]\n",
    "\n",
    "#Tìm top 5 quận  có số vụ tai nạn nhiều nhất \n",
    "data = pd.DataFrame(df_county.groupby([\"County\"]).count())\n",
    "data.columns = ['Top county']\n",
    "data = data.sort_values(['Top county'], ascending=False)\n",
    "data = data.reset_index()\n",
    "top5 = data['County'].loc[0:4]\n",
    "top5 = list(top5)\n",
    "\n",
    "#Lọc ra các vụ tai nạn có sự xuất hiện của các công trình giao thông như biển báo, bùng binh, đén giao thông,... tại 5 khu vực nóng\n",
    "C_area = df[(df['Bump']==True) | (df['Crossing']==True) | (df['Give_Way']==True) | (df['Junction']==True) | (df['No_Exit']==True) | \n",
    "        (df['Railway']==True) | (df['Roundabout']==True) | (df['Station']==True) | (df['Stop']==True) | \n",
    "        (df['Traffic_Calming']==True) | (df['Traffic_Signal']==True) | (df['Turning_Loop']==True) ]\n",
    "C_area = C_area.loc[C_area['County'].isin(top5)]\n",
    "C_area = C_area.reset_index(drop = True)\n",
    "\n",
    "#Đầu tiên hãy tìm hiểu về tỉ lệ các vụ tai nạn xảy ra vào ban ngày và ban đêm xem có điều gì bất thường không\n",
    "Total = len(C_area['County'])\n",
    "Area = C_area[['Sunrise_Sunset','County']]\n",
    "Area = Area.groupby('Sunrise_Sunset').count()\n",
    "Day = Area['County'][0]\n",
    "Night = Area['County'][1]\n",
    "#Tính tỉ lệ và lưu vào 2 biến Acc_At_Night, Acc_At_Day\n",
    "Acc_Night = round((Night / Total),3)\n",
    "Acc_Day = round((Day / Total),3)\n",
    "print(\"Ti le tai nan vao ban dem: \", Acc_Night)\n",
    "print(\"Ti le tai nan vao ban ngay: \", Acc_Day)"
   ]
  },
  {
   "cell_type": "code",
   "execution_count": null,
   "id": "0d315727",
   "metadata": {},
   "outputs": [],
   "source": [
    "#Biểu đồ tỉ lệ tai nạn vào ban ngày và ban đêm\n",
    "Arr = [Acc_Day, Acc_Night]\n",
    "label = [\"Accident in the daytime\",\"Accident at night\"]\n",
    "mycolors = [\"blue\",\"red\"]\n",
    "plt.pie(Arr,labels = label, colors = mycolors ,autopct='%1.0f%%', pctdistance=0.5, labeldistance= 1.2)\n",
    "plt.title(\"Distribution of accidents by Sunrise_Sunset\")\n",
    "plt.legend(bbox_to_anchor=(1,0), loc=\"right\", bbox_transform=plt.gcf().transFigure)"
   ]
  },
  {
   "cell_type": "markdown",
   "id": "9d147114",
   "metadata": {},
   "source": [
    "## Nhận xét:\n",
    "    + Tỉ lệ các vụ tai nạn xảy ra vào ban ngày cao hơn gần như là gấp đôi so với tỉ lệ các vụ tai nạn xảy ra vào ban đêm. Điều này không nói lên ánh sáng có ảnh hưởng hay không bởi ta đều biết ban ngày lưu lượng phương tiện nhiều hơn nên dễ xảy ra tai nạn hơn.\n",
    "    + Vào ban ngày thì ánh sáng sẽ nhiều hơn và tầm nhìn sẽ tốt hơn ban đêm rất nhiều khi ban đêm ta phải phụ thuộc vào hệ thống đèn chiếu sáng của phương tiện cũng như là hệ thống đèn công cộng.\n",
    "    + Để có thể phân tích về sự ảnh hường của ánh sáng, chúng ta sẽ cùng tìm hiểu về tầm nhìn của người gặp tai nạn trước khi vụ tai nạn xảy ra."
   ]
  },
  {
   "cell_type": "code",
   "execution_count": null,
   "id": "2d8bdc0c",
   "metadata": {},
   "outputs": [],
   "source": [
    "Visibility = C_area[['Sunrise_Sunset','Visibility(mi)']]\n",
    "Night = Visibility.loc[Visibility['Sunrise_Sunset'] == 'Night']\n",
    "hist1 = plt.hist(Night['Visibility(mi)'], [0,3,6,8,9,10], edgecolor = 'black')\n",
    "plt.xlabel(\"Visibility(Miles)\")\n",
    "plt.ylabel(\"Cases\")\n",
    "plt.title(\"Visibility of accidents at Night\")"
   ]
  },
  {
   "cell_type": "code",
   "execution_count": null,
   "id": "5e07047e",
   "metadata": {},
   "outputs": [],
   "source": [
    "Day = Visibility.loc[Visibility['Sunrise_Sunset'] == 'Day']\n",
    "hist2 = plt.hist(Day['Visibility(mi)'], [0,3,6,8,9,10], color = \"orange\", edgecolor = 'black')\n",
    "plt.xlabel(\"Visibility(Miles)\")\n",
    "plt.ylabel(\"Cases\")\n",
    "plt.title(\"Visibility of accidents in the Daytime\")"
   ]
  },
  {
   "cell_type": "markdown",
   "id": "1cd1b0a6",
   "metadata": {},
   "source": [
    "## Nhận xét:\n",
    "   - Như vậy nhận định về việc hệ thống chiếu sáng của phương tiện và công cộng Không làm ảnh hưởng nhiều lắm đến các vụ tai nạn như ta đã suy đoán.\n",
    "   - Dựa vào biểu đồ ta có thể thấy tầm nhìn bất kể ban ngày hay ban đêm đều ở mức ở rất cao. Điều này nói lên hệ thống chiếu sáng vẫn hoạt động khá tốt và việc nhìn thấy các công trình giao thông có thể nói là ở mức khá tốt.\n",
    "   - Một số vụ tai nạn xảy ra do tầm nhìn kém có thể là do:\n",
    "            + Ở một số điểm hệ thống đèn gặp trục trặc bất ngờ nên không thể xử lý kịp.\n",
    "            + Người lái xe ở trong tình trạng không tỉnh táo.\n",
    "            + Thị lực có thể gặp vẫn đề như cận thị.\n",
    "            + Thời tiết làm ảnh hưởng đến tầm nhìn.\n",
    "   - Với mức tầm nhìn gần như là tốt nhất từ 9-10 thì các vụ tai nạn lại xảy ra nhiều nhất, điều này có thể là do:\n",
    "            + Lỗi bất cẩn, mất tập trung khi lái xe.\n",
    "            + Người lái xe sử dụng chất kích thích, không làm chủ được bản thân.\n",
    "            + Thời tiết tác động đến khả năng làm chủ phương tiện.\n",
    "            + Phương tiện hư hỏng bất ngờ.\n",
    "            \n",
    "      "
   ]
  },
  {
   "cell_type": "markdown",
   "id": "6970822e",
   "metadata": {},
   "source": [
    "## Nhìn lại"
   ]
  },
  {
   "cell_type": "markdown",
   "id": "0259c70f",
   "metadata": {},
   "source": [
    "### Mỗi thành viên gặp những khó khăn gì\n",
    "- Khó khăn chung:\n",
    "  + Chưa hiểu biết nhiều về github\n",
    "  + Khó khăn trong việc tạo và hợp các nhánh lại\n",
    "- Khó khăn của mỗi cá nhân:\n",
    "  + Thành An: khó khăn trong việc sử dụng các thư viện để phân tích dữ liệu\n",
    "  + Tâm Anh: chưa quen với cách xử lí một dữ liệu có dung lượng tương đối lớn\n",
    "  + Thiện: Thời gian thi cử cộng kem với deadline của nhiều môn học dẫn đến việc chưa thể hoàn thành tốt được đồ án\n"
   ]
  },
  {
   "cell_type": "markdown",
   "id": "aa122f4c",
   "metadata": {},
   "source": [
    "### Những điều được hiểu biết thêm\n",
    "   - Thành An:\n",
    "     + Biết được cách tạo nhánh và hợp nhánh trên git hub\n",
    "     + Đọc được nhiều tài liệu hiểu biết nhiều hơn về các vụ tai nạn giao thông\n",
    "     + Nâng cao khả năng làm việc nhóm\n",
    "   - Tâm Anh:\n",
    "     + Có thêm kỹ năng về thống kê số liệu\n",
    "     + Rèn luyện được tính kiên trì của bản thân để hoàn thành hết những deadline\n",
    "     + Có những bước tiến đầu tiên vào ngành Khoa Học Dữ liệu\n",
    "   - Thiện:\n",
    "     + Biết sử dụng một số công cụ trực quan như plotly, matplotib, seaborn\n",
    "     + Có thêm khả năng phân chia thời gian hợp lí khi khối lượng công việc và kiến thức tiếp thu ngày càng nhiều\n",
    "     + Nâng cao khả năng đọc hiểu tiếng anh khi tìm hiểu về các tài liệu"
   ]
  },
  {
   "cell_type": "markdown",
   "id": "59cae397",
   "metadata": {},
   "source": [
    "## Tài liệu tham khảo\n",
    " - https://www.kaggle.com/sobhanmoosavi/us-accidents\n",
    " - https://scholarworks.lib.csusb.edu/cgi/viewcontent.cgi?article=2085&context=etd\n",
    " - https://stackoverflow.com/\n",
    " - https://www.asirt.org/safe-travel/road-safety-facts/"
   ]
  },
  {
   "cell_type": "code",
   "execution_count": null,
   "id": "bb650c82",
   "metadata": {},
   "outputs": [],
   "source": []
  }
 ],
 "metadata": {
  "kernelspec": {
   "display_name": "Python 3",
   "language": "python",
   "name": "python3"
  },
  "language_info": {
   "codemirror_mode": {
    "name": "ipython",
    "version": 3
   },
   "file_extension": ".py",
   "mimetype": "text/x-python",
   "name": "python",
   "nbconvert_exporter": "python",
   "pygments_lexer": "ipython3",
   "version": "3.8.8"
  }
 },
 "nbformat": 4,
 "nbformat_minor": 5
}
