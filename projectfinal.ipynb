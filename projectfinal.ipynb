{
 "cells": [
  {
   "cell_type": "markdown",
   "id": "68243dc1",
   "metadata": {},
   "source": [
    "# Đồ án cuối kì Lập Trình Cho Khoa Học Dữ Liệu "
   ]
  },
  {
   "cell_type": "markdown",
   "id": "5965dbc7",
   "metadata": {},
   "source": [
    "## Danh sách các thành viên\n",
    "| Họ và tên | MSSV | Link github |\n",
    "| --- | --- | --- |\n",
    "| Vương Thành An | 19127326 | https://github.com/vuongthanhan-19127326 |\n",
    "| Trần Minh Thiện | 19127281 | https://github.com/MinhThien285 |\n",
    "| Lê Tâm Anh | 19127330 | https://github.com/letamanh-19127330 |"
   ]
  },
  {
   "cell_type": "markdown",
   "id": "6bba5bfa",
   "metadata": {},
   "source": [
    "## Link github của đồ án:\n",
    "https://github.com/vuongthanhan-19127326/dackltkhdl"
   ]
  },
  {
   "cell_type": "markdown",
   "id": "cd934121",
   "metadata": {},
   "source": [
    "## Mục lục\n",
    "- Hướng dẫn chạy Project\n",
    "- Thu thập dữ liệu\n",
    "  + Dữ liệu của bạn làm về chủ đề gì ? Bạn lấy được nguồn của dữ liệu từ đâu?\n",
    "  + Tác giả có cho phép bạn được sử dụng dữ liệu của họ không ?\n",
    "  + Làm thế nào để tác giả thu thập được những dữ liệu này?\n",
    "- Khám phá dữ liệu\n",
    "  + Dữ liệu có bao nhiêu dòng và bao nhiêu cột?\n",
    "  + Mỗi dòng có ý nghĩa gì? Có vấn đề các dòng có ý nghĩa khác nhau không?\n",
    "  + Dữ liệu có các dòng bị lặp không?\n",
    "  + Mỗi cột có ý nghĩa gì?\n",
    "  + Dữ liệu có bị thiếu hay không?\n",
    "  + Mỗi cột hiện đang có kiểu dữ liệu gì? Có cột nào có kiểu dữ liệu chưa phù hợp để có thể xử lý tiếp không?\n",
    "  + Với mỗi cột có kiểu dữ liệu dạng numeric, các giá trị được phân bố như thế nào?\n",
    "  + Với mỗi cột có kiểu dữ liệu dạng categorical, các giá trị được phân bố như thế nào?\n",
    "- Đặt ra các câu hỏi có ý nghĩa? Giải thích về lợi ích của việc trả lời các câu hỏi này.\n",
    "\n",
    "- Tiền xử lí và phân tích câu hỏi\n",
    "  + Phân tích câu hỏi bằng code \n",
    "  - Kết quả nhận được từ cho câu hỏi \n",
    "- Nhìn lại\n",
    "- Nguồn tham khảo"
   ]
  },
  {
   "cell_type": "markdown",
   "id": "60950e28",
   "metadata": {},
   "source": [
    "## Hướng dẫn chạy project:"
   ]
  },
  {
   "cell_type": "markdown",
   "id": "4d286f23",
   "metadata": {},
   "source": [
    "### Import các thư viện cần thiết"
   ]
  },
  {
   "cell_type": "code",
   "execution_count": 1,
   "id": "26641f1c",
   "metadata": {},
   "outputs": [],
   "source": [
    "import pandas as pd\n",
    "import numpy as np\n",
    "import seaborn as sns\n",
    "import matplotlib.pyplot as plt\n",
    "import datetime\n",
    "from datetime import datetime\n",
    "import warnings\n",
    "import calendar\n",
    "import seaborn as sn\n",
    "warnings.filterwarnings(\"ignore\")\n",
    "%matplotlib inline"
   ]
  },
  {
   "cell_type": "markdown",
   "id": "6dd2e7e9",
   "metadata": {},
   "source": [
    "## Thu thập dữ liệu"
   ]
  },
  {
   "cell_type": "markdown",
   "id": "12438ee2",
   "metadata": {},
   "source": [
    "### Dữ liệu của bạn làm về chủ đề gì ? Bạn lấy được nguồn của dữ liệu từ đâu?\n",
    "   - Dữ liệu thu thập được là về các vụ tai nạn tại Mỹ. Dữ liệu đượ"
   ]
  },
  {
   "cell_type": "markdown",
   "id": "0bcaee4f",
   "metadata": {},
   "source": [
    "### Tác giả có cho phép bạn được sử dụng dữ liệu của họ không ?\n",
    "   - Theo như điều khoản của chủ sở hữu thì data được chia sẻ rộng rãi và mục đích học tập, nghiên cứu không vi phạm điều khoản cảu chủ sỡ hữu đưa ra"
   ]
  },
  {
   "cell_type": "markdown",
   "id": "ec66be66",
   "metadata": {},
   "source": [
    "### Làm thế nào để tác giả thu thập được những dữ liệu này?\n",
    "   - Trích lời tác giả về cách thu thập dữ liệu: Đây là tập dữ liệu về tai nạn xe hơi trên toàn quốc, bao gồm 49 tiểu bang của Hoa Kỳ . Dữ liệu tai nạn được thu thập từ tháng 2 năm 2016 đến tháng 12 năm 2020 , sử dụng nhiều API cung cấp dữ liệu sự cố (hoặc sự kiện) giao thông trực tuyến. Các API này truyền phát dữ liệu giao thông được thu thập bởi nhiều thực thể, chẳng hạn như bộ giao thông vận tải Hoa Kỳ và tiểu bang, cơ quan thực thi pháp luật, camera giao thông và cảm biến giao thông trong mạng lưới đường bộ. Hiện tại, có khoảng 1,5 triệu hồ sơ tai nạn trong bộ dữ liệu này"
   ]
  },
  {
   "cell_type": "code",
   "execution_count": 2,
   "id": "af170c7a",
   "metadata": {},
   "outputs": [],
   "source": [
    "np.set_printoptions(suppress=True)"
   ]
  },
  {
   "cell_type": "code",
   "execution_count": 3,
   "id": "8fc1bdce",
   "metadata": {},
   "outputs": [
    {
     "data": {
      "text/html": [
       "<div>\n",
       "<style scoped>\n",
       "    .dataframe tbody tr th:only-of-type {\n",
       "        vertical-align: middle;\n",
       "    }\n",
       "\n",
       "    .dataframe tbody tr th {\n",
       "        vertical-align: top;\n",
       "    }\n",
       "\n",
       "    .dataframe thead th {\n",
       "        text-align: right;\n",
       "    }\n",
       "</style>\n",
       "<table border=\"1\" class=\"dataframe\">\n",
       "  <thead>\n",
       "    <tr style=\"text-align: right;\">\n",
       "      <th></th>\n",
       "      <th>ID</th>\n",
       "      <th>Severity</th>\n",
       "      <th>Start_Time</th>\n",
       "      <th>End_Time</th>\n",
       "      <th>Start_Lat</th>\n",
       "      <th>Start_Lng</th>\n",
       "      <th>End_Lat</th>\n",
       "      <th>End_Lng</th>\n",
       "      <th>Distance(mi)</th>\n",
       "      <th>Description</th>\n",
       "      <th>...</th>\n",
       "      <th>Roundabout</th>\n",
       "      <th>Station</th>\n",
       "      <th>Stop</th>\n",
       "      <th>Traffic_Calming</th>\n",
       "      <th>Traffic_Signal</th>\n",
       "      <th>Turning_Loop</th>\n",
       "      <th>Sunrise_Sunset</th>\n",
       "      <th>Civil_Twilight</th>\n",
       "      <th>Nautical_Twilight</th>\n",
       "      <th>Astronomical_Twilight</th>\n",
       "    </tr>\n",
       "  </thead>\n",
       "  <tbody>\n",
       "    <tr>\n",
       "      <th>0</th>\n",
       "      <td>A-2716600</td>\n",
       "      <td>3</td>\n",
       "      <td>2016-02-08 00:37:08</td>\n",
       "      <td>2016-02-08 06:37:08</td>\n",
       "      <td>40.10891</td>\n",
       "      <td>-83.09286</td>\n",
       "      <td>40.11206</td>\n",
       "      <td>-83.03187</td>\n",
       "      <td>3.230</td>\n",
       "      <td>Between Sawmill Rd/Exit 20 and OH-315/Olentang...</td>\n",
       "      <td>...</td>\n",
       "      <td>False</td>\n",
       "      <td>False</td>\n",
       "      <td>False</td>\n",
       "      <td>False</td>\n",
       "      <td>False</td>\n",
       "      <td>False</td>\n",
       "      <td>Night</td>\n",
       "      <td>Night</td>\n",
       "      <td>Night</td>\n",
       "      <td>Night</td>\n",
       "    </tr>\n",
       "    <tr>\n",
       "      <th>1</th>\n",
       "      <td>A-2716601</td>\n",
       "      <td>2</td>\n",
       "      <td>2016-02-08 05:56:20</td>\n",
       "      <td>2016-02-08 11:56:20</td>\n",
       "      <td>39.86542</td>\n",
       "      <td>-84.06280</td>\n",
       "      <td>39.86501</td>\n",
       "      <td>-84.04873</td>\n",
       "      <td>0.747</td>\n",
       "      <td>At OH-4/OH-235/Exit 41 - Accident.</td>\n",
       "      <td>...</td>\n",
       "      <td>False</td>\n",
       "      <td>False</td>\n",
       "      <td>False</td>\n",
       "      <td>False</td>\n",
       "      <td>False</td>\n",
       "      <td>False</td>\n",
       "      <td>Night</td>\n",
       "      <td>Night</td>\n",
       "      <td>Night</td>\n",
       "      <td>Night</td>\n",
       "    </tr>\n",
       "    <tr>\n",
       "      <th>2</th>\n",
       "      <td>A-2716602</td>\n",
       "      <td>2</td>\n",
       "      <td>2016-02-08 06:15:39</td>\n",
       "      <td>2016-02-08 12:15:39</td>\n",
       "      <td>39.10266</td>\n",
       "      <td>-84.52468</td>\n",
       "      <td>39.10209</td>\n",
       "      <td>-84.52396</td>\n",
       "      <td>0.055</td>\n",
       "      <td>At I-71/US-50/Exit 1 - Accident.</td>\n",
       "      <td>...</td>\n",
       "      <td>False</td>\n",
       "      <td>False</td>\n",
       "      <td>False</td>\n",
       "      <td>False</td>\n",
       "      <td>False</td>\n",
       "      <td>False</td>\n",
       "      <td>Night</td>\n",
       "      <td>Night</td>\n",
       "      <td>Night</td>\n",
       "      <td>Day</td>\n",
       "    </tr>\n",
       "    <tr>\n",
       "      <th>3</th>\n",
       "      <td>A-2716603</td>\n",
       "      <td>2</td>\n",
       "      <td>2016-02-08 06:15:39</td>\n",
       "      <td>2016-02-08 12:15:39</td>\n",
       "      <td>39.10148</td>\n",
       "      <td>-84.52341</td>\n",
       "      <td>39.09841</td>\n",
       "      <td>-84.52241</td>\n",
       "      <td>0.219</td>\n",
       "      <td>At I-71/US-50/Exit 1 - Accident.</td>\n",
       "      <td>...</td>\n",
       "      <td>False</td>\n",
       "      <td>False</td>\n",
       "      <td>False</td>\n",
       "      <td>False</td>\n",
       "      <td>False</td>\n",
       "      <td>False</td>\n",
       "      <td>Night</td>\n",
       "      <td>Night</td>\n",
       "      <td>Night</td>\n",
       "      <td>Day</td>\n",
       "    </tr>\n",
       "    <tr>\n",
       "      <th>4</th>\n",
       "      <td>A-2716604</td>\n",
       "      <td>2</td>\n",
       "      <td>2016-02-08 06:51:45</td>\n",
       "      <td>2016-02-08 12:51:45</td>\n",
       "      <td>41.06213</td>\n",
       "      <td>-81.53784</td>\n",
       "      <td>41.06217</td>\n",
       "      <td>-81.53547</td>\n",
       "      <td>0.123</td>\n",
       "      <td>At Dart Ave/Exit 21 - Accident.</td>\n",
       "      <td>...</td>\n",
       "      <td>False</td>\n",
       "      <td>False</td>\n",
       "      <td>False</td>\n",
       "      <td>False</td>\n",
       "      <td>False</td>\n",
       "      <td>False</td>\n",
       "      <td>Night</td>\n",
       "      <td>Night</td>\n",
       "      <td>Day</td>\n",
       "      <td>Day</td>\n",
       "    </tr>\n",
       "  </tbody>\n",
       "</table>\n",
       "<p>5 rows × 47 columns</p>\n",
       "</div>"
      ],
      "text/plain": [
       "          ID  Severity           Start_Time             End_Time  Start_Lat  \\\n",
       "0  A-2716600         3  2016-02-08 00:37:08  2016-02-08 06:37:08   40.10891   \n",
       "1  A-2716601         2  2016-02-08 05:56:20  2016-02-08 11:56:20   39.86542   \n",
       "2  A-2716602         2  2016-02-08 06:15:39  2016-02-08 12:15:39   39.10266   \n",
       "3  A-2716603         2  2016-02-08 06:15:39  2016-02-08 12:15:39   39.10148   \n",
       "4  A-2716604         2  2016-02-08 06:51:45  2016-02-08 12:51:45   41.06213   \n",
       "\n",
       "   Start_Lng   End_Lat   End_Lng  Distance(mi)  \\\n",
       "0  -83.09286  40.11206 -83.03187         3.230   \n",
       "1  -84.06280  39.86501 -84.04873         0.747   \n",
       "2  -84.52468  39.10209 -84.52396         0.055   \n",
       "3  -84.52341  39.09841 -84.52241         0.219   \n",
       "4  -81.53784  41.06217 -81.53547         0.123   \n",
       "\n",
       "                                         Description  ...  Roundabout Station  \\\n",
       "0  Between Sawmill Rd/Exit 20 and OH-315/Olentang...  ...       False   False   \n",
       "1                 At OH-4/OH-235/Exit 41 - Accident.  ...       False   False   \n",
       "2                   At I-71/US-50/Exit 1 - Accident.  ...       False   False   \n",
       "3                   At I-71/US-50/Exit 1 - Accident.  ...       False   False   \n",
       "4                    At Dart Ave/Exit 21 - Accident.  ...       False   False   \n",
       "\n",
       "    Stop Traffic_Calming Traffic_Signal Turning_Loop Sunrise_Sunset  \\\n",
       "0  False           False          False        False          Night   \n",
       "1  False           False          False        False          Night   \n",
       "2  False           False          False        False          Night   \n",
       "3  False           False          False        False          Night   \n",
       "4  False           False          False        False          Night   \n",
       "\n",
       "  Civil_Twilight Nautical_Twilight Astronomical_Twilight  \n",
       "0          Night             Night                 Night  \n",
       "1          Night             Night                 Night  \n",
       "2          Night             Night                   Day  \n",
       "3          Night             Night                   Day  \n",
       "4          Night               Day                   Day  \n",
       "\n",
       "[5 rows x 47 columns]"
      ]
     },
     "execution_count": 3,
     "metadata": {},
     "output_type": "execute_result"
    }
   ],
   "source": [
    "accidents_df = pd.read_csv('US_Accidents_Dec20_updated.csv',error_bad_lines=False)\n",
    "accidents_df.head()"
   ]
  },
  {
   "cell_type": "markdown",
   "id": "ad49eb87",
   "metadata": {},
   "source": [
    "## Dữ liệu gồm có bao nhiêu dòng và bao nhiêu cột? "
   ]
  },
  {
   "cell_type": "code",
   "execution_count": 4,
   "id": "26d92a70",
   "metadata": {},
   "outputs": [
    {
     "name": "stdout",
     "output_type": "stream",
     "text": [
      "Dữ liệu bao gồm: 1516064 dòng và 47 cột\n"
     ]
    }
   ],
   "source": [
    "num_rows,num_cols=accidents_df.shape\n",
    "print('Dữ liệu bao gồm: {} dòng và {} cột'.format(num_rows,num_cols))"
   ]
  },
  {
   "cell_type": "markdown",
   "id": "5aa259b8",
   "metadata": {},
   "source": [
    "## Mỗi dòng có ý nghĩa gì? Có vấn đề các dòng có ý nghĩa khác nhau không?"
   ]
  },
  {
   "cell_type": "markdown",
   "id": "3a3e4a6c",
   "metadata": {},
   "source": [
    "Mỗi dòng thể hiện các thông tin về các vụ tai nạn xe hơi thuộc 49 tiểu bang của Hoa Kỳ. Có vẻ không có dòng nào khác loài."
   ]
  },
  {
   "cell_type": "markdown",
   "id": "594bf3ac",
   "metadata": {},
   "source": [
    "## Dữ liệu có các dòng bị lặp không? "
   ]
  },
  {
   "cell_type": "code",
   "execution_count": 5,
   "id": "e821deb4",
   "metadata": {},
   "outputs": [
    {
     "name": "stdout",
     "output_type": "stream",
     "text": [
      "False\n"
     ]
    }
   ],
   "source": [
    "have_duplicated_rows=accidents_df.duplicated().any()\n",
    "print(have_duplicated_rows)"
   ]
  },
  {
   "cell_type": "markdown",
   "id": "749041b1",
   "metadata": {},
   "source": [
    "## Mỗi cột có ý nghĩa gì?"
   ]
  },
  {
   "cell_type": "markdown",
   "id": "e97a5be1",
   "metadata": {},
   "source": [
    "•  ID: Số nhận dạng (duy nhất) của các hồ sơ vụ tai nạn.\n",
    "\n",
    "•  Severity: Mức độ nghiêm trọng của vụ tai nạn tác động đến giao thông, được tính theo 4 mức từ 1 đến 4 (1 là tác động ít nhất đến giao thông gây ra thời gian trễ ngắn, 4 là tác động nhiều nhất đến giao thông gây ra thời gian trễ dài).\n",
    "\n",
    "•  Start_Time: Thời gian xảy ra vụ tai nạn (tính theo múi giờ địa phương)\n",
    "\n",
    "•  End_Time: Thời gian vụ tai nạn kết thúc (kết thúc ở đây có nghĩa là vụ tai nạn không còn làm ảnh hưởng đến giao thông)\n",
    "\n",
    "•  Start_Lat: Vĩ độ vụ tai nạn trong định vị GPS của điểm bắt đầu.\n",
    "\n",
    "•  Start_Lng: Kinh độ vụ tai nạn trong định vị GPS của điểm bắt đầu.\n",
    "\n",
    "•  End_Lat: Vĩ độ vụ tai nạn trong định vị GPS của điểm kết thúc.\n",
    "\n",
    "•  End_Lng: Kinh độ vụ tai nạn trong định vị GPS của điểm kết thúc.\n",
    "\n",
    "•  Distance(mi): Chiều dài của đoạn đường bị ảnh hưởng bởi vụ tai tạn.\n",
    "\n",
    "•  Description: Mô tả vụ tai nạn.\n",
    "\n",
    "•  Number: Số của con đường trong bản định danh.\n",
    "\n",
    "•  Street: Tên của con đường trong bản đinh danh.\n",
    "\n",
    "•  Side: Vụ tai nạn xảy ra ở phía (phải/trái) của con đường.\n",
    "\n",
    "•  City: Tên thành phố xảy ra vụ tai nạn.\n",
    "\n",
    "•  County: Tên quận xảy ra vụ tai nạn.\n",
    "\n",
    "•  State: Trạng thái trong bản ghi địa chỉ.\n",
    "\n",
    "•  Zipcode: Mã zip trong bản ghi địa chỉ.\n",
    "\n",
    "•  Country: Tên quốc gia có vụ tai nạn.\n",
    "\n",
    "•  Timezone: Múi giờ của nơi xảy ra vụ tại nạn.\n",
    "\n",
    "•  Airport_Code: Mã của trạm thời tiết tại sân bay gần nhất với vị trí xảy ra tai nạn.\n",
    "\n",
    "•  Weather_Timestamp: Dấu thời gian của bản ghi thời tiết theo múi giờ địa phương.\n",
    "\n",
    "•  Temperature (F): Nhiệt độ lúc xảy ra tai nạn.\n",
    "\n",
    "•  Wind_Chill (F): Gió lạnh lúc xảy ra tai nạn.\n",
    "\n",
    "•  Humidity (%): Độ ẩm lúc xảy ra tai nạn.\n",
    "\n",
    "•  Pressure (inches): Áp suất không khí lúc xảy ra tai nạn.\n",
    "\n",
    "•  Visibility (miles): Tầm nhìn lúc xảy ra tai nạn.\n",
    "\n",
    "•  Wind_Direction: Hướng gió lúc xảy ra tai nạn.\n",
    "\n",
    "•  Wind_Speed (mph): Tốc độ gió lúc xảy ra tai nạn(miles/hour).\n",
    "\n",
    "•  Precipitation (inches): Lượng mưa lúc xảy ra tai nạn.\n",
    "\n",
    "•  Weather_Condition: Trạng thái thời tiết lúc xảy ra tai nạn (mưa, bão, tuyết rơi,…)\n",
    "\n",
    "•  Amenity: Sự tiện nghi của một khu vực ở gần vụ tai nạn.\n",
    "\n",
    "•  Bump: Có biển báo của gờ giảm tốc hoặc các gờ ở gần vị trí xảy ra vụ tai nạn hay không.\n",
    "\n",
    "•  Crossing: Có biển báo người qua đường của các đường ở gần vụ tai nạn hay không.\n",
    "\n",
    "•  Give_Way: Có biển báo nhường đường ở vị trí gần vụ tai nạn hay không.\n",
    "\n",
    "•  Junction: Có biển báo đường giao nhau ở vị trí gần vụ tai nạn hay không.\n",
    "\n",
    "•  No_Exit: Có biển báo cấm đi vào ở gần vụ tai nạn hay không.\n",
    "\n",
    "•  Railway: Có biển báo đường sắt ở gần vụ tai nạn hay không.\n",
    "\n",
    "•  Roundabout: Có sự hiện diện của bùng binh ở gần vị trí vụ tai nạn hay không.\n",
    "\n",
    "•  Station: Có sự hiện diện của trạm ở gần vị trí vụ tai nạn hay không.\n",
    "\n",
    "•  Stop: Có biển báo dừng ở gần vị trí vụ tai nạn hay không.\n",
    "\n",
    "•  Traffic_Calming: Có sự hiện diện của các thiết kế vật lý trên đường nhằm hạn chế tốc độ ở gần vị trí vụ tai nạn hay không.\n",
    "\n",
    "•  Traffic_Signal: Có sự hiện diện của đèn giao thông ở gần vị trí vụ tai nạn hay không.\n",
    "\n",
    "•  Turning_Loop: Có sự hiện diện của khúc quoanh ở gần vị trí vụ tai nạn hay không.\n",
    "\n",
    "•  Sunrise_Sunset: Hiển thị khoảng thời gian dựa theo mặt trời mọc hay lặn.\n",
    "\n",
    "•  Civil_Twilight: Hiển thị khoảng thời gian dựa theo hoàng hôn dân sự.\n",
    "\n",
    "•  Nautical_Twilight: Hiển thị khoảng thời gian dựa theo hoàng hôn hàng hải.\n",
    "\n",
    "•  Astronomical_Twilight: Hiển thị khoảng thời gian dựa theo hoàng hôn thiên văn."
   ]
  },
  {
   "cell_type": "markdown",
   "id": "05ea320b",
   "metadata": {},
   "source": [
    "## Mỗi cột hiện đang có kiểu dữ liệu gì? Có cột nào có kiểu dữ liệu chưa phù hợp để có thể xử lý tiếp không?"
   ]
  },
  {
   "cell_type": "code",
   "execution_count": 6,
   "id": "159804aa",
   "metadata": {},
   "outputs": [
    {
     "name": "stdout",
     "output_type": "stream",
     "text": [
      "ID                        object\n",
      "Severity                   int64\n",
      "Start_Time                object\n",
      "End_Time                  object\n",
      "Start_Lat                float64\n",
      "Start_Lng                float64\n",
      "End_Lat                  float64\n",
      "End_Lng                  float64\n",
      "Distance(mi)             float64\n",
      "Description               object\n",
      "Number                   float64\n",
      "Street                    object\n",
      "Side                      object\n",
      "City                      object\n",
      "County                    object\n",
      "State                     object\n",
      "Zipcode                   object\n",
      "Country                   object\n",
      "Timezone                  object\n",
      "Airport_Code              object\n",
      "Weather_Timestamp         object\n",
      "Temperature(F)           float64\n",
      "Wind_Chill(F)            float64\n",
      "Humidity(%)              float64\n",
      "Pressure(in)             float64\n",
      "Visibility(mi)           float64\n",
      "Wind_Direction            object\n",
      "Wind_Speed(mph)          float64\n",
      "Precipitation(in)        float64\n",
      "Weather_Condition         object\n",
      "Amenity                     bool\n",
      "Bump                        bool\n",
      "Crossing                    bool\n",
      "Give_Way                    bool\n",
      "Junction                    bool\n",
      "No_Exit                     bool\n",
      "Railway                     bool\n",
      "Roundabout                  bool\n",
      "Station                     bool\n",
      "Stop                        bool\n",
      "Traffic_Calming             bool\n",
      "Traffic_Signal              bool\n",
      "Turning_Loop                bool\n",
      "Sunrise_Sunset            object\n",
      "Civil_Twilight            object\n",
      "Nautical_Twilight         object\n",
      "Astronomical_Twilight     object\n",
      "dtype: object\n"
     ]
    }
   ],
   "source": [
    "col_dtypes=accidents_df.dtypes\n",
    "print(col_dtypes)"
   ]
  },
  {
   "cell_type": "code",
   "execution_count": 7,
   "id": "c88c2dfa",
   "metadata": {},
   "outputs": [],
   "source": [
    "def open_object_dtype(s):\n",
    "    df=pd.Series(s)\n",
    "    a=df.apply(lambda x : type(x)).unique()\n",
    "    dtypes = set(a)\n",
    "    return dtypes"
   ]
  },
  {
   "cell_type": "code",
   "execution_count": 8,
   "id": "f5a6802b",
   "metadata": {},
   "outputs": [
    {
     "name": "stdout",
     "output_type": "stream",
     "text": [
      "numer of object columns: 20\n",
      "types of  ID  is  {<class 'str'>}\n",
      "types of  Start_Time  is  {<class 'str'>}\n",
      "types of  End_Time  is  {<class 'str'>}\n",
      "types of  Description  is  {<class 'str'>}\n",
      "types of  Street  is  {<class 'str'>}\n",
      "types of  Side  is  {<class 'str'>}\n",
      "types of  City  is  {<class 'str'>, <class 'float'>}\n",
      "types of  County  is  {<class 'str'>}\n",
      "types of  State  is  {<class 'str'>}\n",
      "types of  Zipcode  is  {<class 'str'>, <class 'float'>}\n",
      "types of  Country  is  {<class 'str'>}\n",
      "types of  Timezone  is  {<class 'str'>, <class 'float'>}\n",
      "types of  Airport_Code  is  {<class 'str'>, <class 'float'>}\n",
      "types of  Weather_Timestamp  is  {<class 'str'>, <class 'float'>}\n",
      "types of  Wind_Direction  is  {<class 'str'>, <class 'float'>}\n",
      "types of  Weather_Condition  is  {<class 'str'>, <class 'float'>}\n",
      "types of  Sunrise_Sunset  is  {<class 'str'>, <class 'float'>}\n",
      "types of  Civil_Twilight  is  {<class 'str'>, <class 'float'>}\n",
      "types of  Nautical_Twilight  is  {<class 'str'>, <class 'float'>}\n",
      "types of  Astronomical_Twilight  is  {<class 'str'>, <class 'float'>}\n"
     ]
    }
   ],
   "source": [
    "objects_key=(accidents_df.loc[:, accidents_df.dtypes == object]).keys()\n",
    "print(\"numer of object columns:\",len(objects_key))\n",
    "for key in objects_key:\n",
    "    print(\"types of \",key,\" is \",open_object_dtype(accidents_df[key]))"
   ]
  },
  {
   "cell_type": "markdown",
   "id": "eb875b30",
   "metadata": {},
   "source": [
    "## Tiền xử lí"
   ]
  },
  {
   "cell_type": "markdown",
   "id": "2c56078a",
   "metadata": {},
   "source": [
    "### Chuyển dtype của cột \"Date\" sang datetime"
   ]
  },
  {
   "cell_type": "code",
   "execution_count": 9,
   "id": "af264db9",
   "metadata": {},
   "outputs": [],
   "source": [
    "datetime_cols=['Start_Time','End_Time','Weather_Timestamp']\n",
    "for key in datetime_cols:\n",
    "    accidents_df[key]= pd.to_datetime(accidents_df[key])"
   ]
  },
  {
   "cell_type": "markdown",
   "id": "0849b1c0",
   "metadata": {},
   "source": [
    "## Với mỗi cột có kiểu dữ liệu dạng numeric, các giá trị được phân bố như thế nào?"
   ]
  },
  {
   "cell_type": "code",
   "execution_count": 10,
   "id": "6341f2a0",
   "metadata": {},
   "outputs": [
    {
     "name": "stdout",
     "output_type": "stream",
     "text": [
      "               Start_Lat   Start_Lng   End_Lat     End_Lng  Distance(mi)  \\\n",
      "missing_ratio   0.000000    0.000000   0.00000    0.000000         0.000   \n",
      "min            24.570222 -124.497567  24.57011 -124.497829         0.000   \n",
      "max            49.000580  -67.113167  49.07500  -67.109242       155.186   \n",
      "\n",
      "                     Number  Temperature(F)  Wind_Chill(F)  Humidity(%)  \\\n",
      "missing_ratio  6.900072e+01        2.838469      29.637007     3.001786   \n",
      "min            0.000000e+00      -89.000000     -89.000000     1.000000   \n",
      "max            9.999997e+06      170.600000     113.000000   100.000000   \n",
      "\n",
      "               Pressure(in)  Visibility(mi)  Wind_Speed(mph)  \\\n",
      "missing_ratio      2.392643         2.91617         8.499773   \n",
      "min                0.000000         0.00000         0.000000   \n",
      "max               58.040000       140.00000       984.000000   \n",
      "\n",
      "               Precipitation(in)           Start_Time             End_Time  \\\n",
      "missing_ratio          33.675953                  0.0                  0.0   \n",
      "min                     0.000000  2016-02-08 00:37:08  2016-02-08 06:37:08   \n",
      "max                    24.000000  2020-12-31 23:28:56  2021-01-01 00:00:00   \n",
      "\n",
      "                 Weather_Timestamp  \n",
      "missing_ratio             1.996222  \n",
      "min            2016-02-08 00:53:00  \n",
      "max            2020-12-31 23:35:00  \n"
     ]
    }
   ],
   "source": [
    "numeric_cols=['Start_Lat', 'Start_Lng', 'End_Lat', 'End_Lng',\n",
    "       'Distance(mi)', 'Number', 'Temperature(F)', 'Wind_Chill(F)',\n",
    "       'Humidity(%)', 'Pressure(in)', 'Visibility(mi)', 'Wind_Speed(mph)',\n",
    "       'Precipitation(in)']\n",
    "\n",
    "all_num_cols=['Start_Lat', 'Start_Lng', 'End_Lat', 'End_Lng',\n",
    "       'Distance(mi)', 'Number', 'Temperature(F)', 'Wind_Chill(F)',\n",
    "       'Humidity(%)', 'Pressure(in)', 'Visibility(mi)', 'Wind_Speed(mph)',\n",
    "       'Precipitation(in)','Start_Time','End_Time','Weather_Timestamp']\n",
    "\n",
    "nume_col_profiles_df=pd.DataFrame(index=['missing_ratio','min','max'],\n",
    "                                  columns=all_num_cols)\n",
    "\n",
    "nume_col_profiles_df.loc['missing_ratio',numeric_cols]=np.float64(accidents_df[numeric_cols].isna().mean()*100)\n",
    "\n",
    "nume_col_profiles_df.loc['min',numeric_cols]=np.float64(accidents_df[numeric_cols].min())\n",
    "\n",
    "nume_col_profiles_df.loc['max',numeric_cols]=np.float64(accidents_df[numeric_cols].max())\n",
    "\n",
    "nume_col_profiles_df=nume_col_profiles_df.astype(np.float64)\n",
    "\n",
    "\n",
    "\n",
    "\n",
    "nume_col_profiles_df.loc['missing_ratio',datetime_cols]=accidents_df[datetime_cols].isna().mean()*100\n",
    "\n",
    "nume_col_profiles_df.loc['min',datetime_cols]=accidents_df[datetime_cols].min()\n",
    "\n",
    "nume_col_profiles_df.loc['max',datetime_cols]=accidents_df[datetime_cols].max()\n",
    "\n",
    "print(nume_col_profiles_df)\n"
   ]
  },
  {
   "cell_type": "markdown",
   "id": "dc40c535",
   "metadata": {},
   "source": [
    "## Với mỗi cột có kiểu dữ liệu dạng categorical, các giá trị được phân bố như thế nào ?"
   ]
  },
  {
   "cell_type": "code",
   "execution_count": 11,
   "id": "f3650206",
   "metadata": {},
   "outputs": [],
   "source": [
    "def missing_ratio(s):\n",
    "    return s.isna().mean() * 100\n",
    "def num_diff_vals(s):\n",
    "    return s.dropna().nunique()\n",
    "\n",
    "def diff_vals(s):\n",
    "    return s.dropna().unique()\n"
   ]
  },
  {
   "cell_type": "code",
   "execution_count": 46,
   "id": "9f0c7dcd",
   "metadata": {},
   "outputs": [
    {
     "name": "stdout",
     "output_type": "stream",
     "text": [
      "                     Station                            year  \\\n",
      "missing_ratio            0.0                             0.0   \n",
      "num_diff_vals              2                               5   \n",
      "diff_vals      [False, True]  [2016, 2017, 2020, 2019, 2018]   \n",
      "\n",
      "              Nautical_Twilight  \\\n",
      "missing_ratio          0.005475   \n",
      "num_diff_vals                 2   \n",
      "diff_vals          [Night, Day]   \n",
      "\n",
      "                                                     Description Country  \\\n",
      "missing_ratio                                                0.0     0.0   \n",
      "num_diff_vals                                             527655       1   \n",
      "diff_vals      [Between Sawmill Rd/Exit 20 and OH-315/Olentan...    [US]   \n",
      "\n",
      "                                                           State  \\\n",
      "missing_ratio                                                0.0   \n",
      "num_diff_vals                                                 49   \n",
      "diff_vals      [OH, IN, KY, WV, MI, PA, CA, NV, MN, TX, MO, C...   \n",
      "\n",
      "                                                    Airport_Code  \\\n",
      "missing_ratio                                           0.280199   \n",
      "num_diff_vals                                               1985   \n",
      "diff_vals      [KOSU, KFFO, KLUK, KAKR, KI69, KCLE, KAOH, KCM...   \n",
      "\n",
      "                   Severity  \\\n",
      "missing_ratio           0.0   \n",
      "num_diff_vals             4   \n",
      "diff_vals      [3, 2, 4, 1]   \n",
      "\n",
      "                                               Weather_Condition  \\\n",
      "missing_ratio                                           2.902714   \n",
      "num_diff_vals                                                116   \n",
      "diff_vals      [Light Rain, Overcast, Mostly Cloudy, Snow, Li...   \n",
      "\n",
      "              Traffic_Calming  ...  \\\n",
      "missing_ratio             0.0  ...   \n",
      "num_diff_vals               2  ...   \n",
      "diff_vals       [False, True]  ...   \n",
      "\n",
      "                                                         Zipcode  \\\n",
      "missing_ratio                                           0.061673   \n",
      "num_diff_vals                                             177196   \n",
      "diff_vals      [43017, 45424, 45203, 45202, 44311, 45217, 451...   \n",
      "\n",
      "                                                  Wind_Direction  \\\n",
      "missing_ratio                                           2.760965   \n",
      "num_diff_vals                                                 24   \n",
      "diff_vals      [SW, Calm, WSW, WNW, West, NNW, South, W, NW, ...   \n",
      "\n",
      "              Traffic_Signal           Bump    Side        Railway  \\\n",
      "missing_ratio            0.0            0.0     0.0            0.0   \n",
      "num_diff_vals              2              2       2              2   \n",
      "diff_vals      [False, True]  [False, True]  [R, L]  [False, True]   \n",
      "\n",
      "                             weekday  \\\n",
      "missing_ratio                    0.0   \n",
      "num_diff_vals                      7   \n",
      "diff_vals      [0, 1, 2, 3, 4, 5, 6]   \n",
      "\n",
      "                                                        Timezone  \\\n",
      "missing_ratio                                           0.151841   \n",
      "num_diff_vals                                                  4   \n",
      "diff_vals      [US/Eastern, US/Pacific, US/Central, US/Mountain]   \n",
      "\n",
      "                                                 month Astronomical_Twilight  \n",
      "missing_ratio                                      0.0              0.005475  \n",
      "num_diff_vals                                       12                     2  \n",
      "diff_vals      [2, 3, 4, 5, 6, 11, 12, 1, 10, 9, 8, 7]          [Night, Day]  \n",
      "\n",
      "[3 rows x 39 columns]\n"
     ]
    }
   ],
   "source": [
    "cate_cols=list(set(accidents_df.keys())-set(all_num_cols))\n",
    "\n",
    "index=['missing_ratio', 'num_diff_vals', 'diff_vals']\n",
    "cate_col_profiles_df=pd.DataFrame(\n",
    "     index=index,\n",
    "     columns=cate_cols)\n",
    "accidents_cate_col_df = accidents_df[cate_cols]\n",
    "cate_col_profiles_df = accidents_cate_col_df.agg([missing_ratio,num_diff_vals,diff_vals])\n",
    "\n",
    "\n",
    "print(cate_col_profiles_df)"
   ]
  },
  {
   "cell_type": "markdown",
   "id": "ed76783d",
   "metadata": {},
   "source": [
    "# Đặt ra các câu hỏi có ý nghĩa? Giải thích về lợi ích của việc trả lời các câu hỏi này."
   ]
  },
  {
   "cell_type": "markdown",
   "id": "6969cc54",
   "metadata": {},
   "source": [
    "- Câu 1: Liệu thời điểm ra đường có phải là ảnh hưởng gì đến việc xảy ra tai nạn giao thông ? Chúng ta cần có phải chọn thời điểm để ra ngoài cho an toàn không ? \n",
    "  + Cho chúng ta thấy được đâu là thời điểm an toàn trong 1 tuần khi ra đường để lựa chọn đảm bảo tính mạng cho bản thân và gia đình\n",
    "  + Biết được đâu là thời điểm nguy hiểm an toàn trong 1 tuần để hạn chế ra đường\n",
    "  + Phần nào hiểu được sự biến động về số lượng tai nạn giao thông xảy ra ở các thời điểm trong tuần\n",
    "  + Là phần mở đầu cho phần lý giải những nguyên nhân gây ra tai nạn giao thông ở những câu hỏi bên dưới\n",
    "\n",
    "- Câu 2: Ánh sáng có tác động đến tầm nhìn đối với các công trình giao thông ở các quận xảy ra nhiều tai nạn hay không?\n",
    "  + Sau khi trả lời câu hỏi này, ta sẽ biết được liệu ban ngày và ban đêm có ảnh hưởng lớn đến tầm nhìn của lái xe hay không và việc đặt các công trình giao thông trên đã nằm ở nơi dễ nhìn thấy hay chưa. Từ đó, đưa ra các biện pháp cải thiện tầm nhìn nhằm giảm thiểu số vụ tai nạn xảy ra do không có đủ tầm nhìn.\n",
    " \n",
    "- Câu 3: Trong các năm từ 2018 đến 2020, những thành phố nào có nhiều vụ tai nạn xảy ra nhất ? Làm sao để có thể hạn chế tối đa số vụ tai nạn trong các thành phố này?\n",
    "  + Trả lời được câu hỏi này, ta sẽ tìm ra giải pháp để giảm thiểu số vụ tai nạn xảy ra trong các thành phố nêu trên.\n",
    "\n"
   ]
  },
  {
   "cell_type": "markdown",
   "id": "ab79811a",
   "metadata": {},
   "source": [
    "### Câu hỏi 1: Những thời điểm  nào trong ngày thì thường xảy ra tai nạn giao thông ? Liệu mức độ nghiêm trọng của những vụ tai nạn có bị ảnh hưởn ?"
   ]
  },
  {
   "cell_type": "markdown",
   "id": "eb4713f5",
   "metadata": {},
   "source": [
    "Lấy ra tổng số vụ tai nạn dựa trên mức độ nghiêm trọng của những vụ tai nạn đó và tính trung bình"
   ]
  },
  {
   "cell_type": "code",
   "execution_count": 209,
   "id": "3e917cc9",
   "metadata": {},
   "outputs": [
    {
     "name": "stdout",
     "output_type": "stream",
     "text": [
      "   Severity  number_of_acc  percent_acc\n",
      "0         1          28178     1.858629\n",
      "1         2        1212382    79.969051\n",
      "2         3         161052    10.623034\n",
      "3         4         114452     7.549286\n"
     ]
    },
    {
     "data": {
      "image/png": "[encoded data removed]",
      "text/plain": [
       "<Figure size 432x288 with 1 Axes>"
      ]
     },
     "metadata": {},
     "output_type": "display_data"
    }
   ],
   "source": [
    "serverity_df=accidents_df.groupby(['Severity']).size().reset_index(name='number_of_acc')\n",
    "serverity_df['percent_acc'] = (serverity_df['number_of_acc'] / serverity_df['number_of_acc'].sum()) * 100\n",
    "print(serverity_df)\n",
    "explode = (0, 0.1, 0, 0)\n",
    "fig1, ax1 = plt.subplots()\n",
    "ax1.pie(serverity_df['percent_acc'], explode=explode, labels=serverity_df['Severity'], autopct='%1.1f%%',\n",
    "        shadow=False, startangle=200)\n",
    "ax1.axis('equal')  # Equal aspect ratio ensures that pie is drawn as a circle.\n",
    "\n",
    "\n",
    "plt.legend()\n",
    "plt.show()"
   ]
  },
  {
   "cell_type": "markdown",
   "id": "21f55a91",
   "metadata": {},
   "source": [
    "Ta có thể tỉ lệ xảy ra những vụ tai nạn ở mức độ 2 là rất cao khoảng 80% và tỉ lệ xảy ra tai nạn thấp là những vụ tai nạn mức độ 4 khoảng 1.9%, đứng thứ 2 là những vụ tai nạn có mức độ nghiêm trọng là 3 khoảng 10.6% và đứng thứ 3 là những vụ tai có mức độ nghiêm trọng mức độ 4. Ta tiếp tục tìm hiểu xem tỉ lệ xảy ra các vụ tai nạn với mức độ nghiêm trọng có phân bố khác nhau hay giống nhau qua các thời điểm trong một ngày ? Từ đó rút ra kết luận về mức độ xảy ra các vụ tai nạn trong ngày ?"
   ]
  },
  {
   "cell_type": "markdown",
   "id": "c3632226",
   "metadata": {},
   "source": [
    "##### Tạo thêm các để tạo thêm các cột ngày, tháng, năm, giờ  bắt đầu xảy ra tai nạn từ cột Start_time\n",
    " - Dùng hàm dt của series để tạo thêm các cột ngày, tháng, năm, giờ, phút, ngày trong tuần, tên của ngày trong tuần bắt đầu xảy ra tai nạn từ cột Start_time vì ở đây mình phân tích về thời điểm xảy ra tai nạn giao thông nên nếu lấy các số liệu trên của cột End_Time thì có thể dữ liệu sẽ bị sai lệch khá nhiều do có những vụ tai nạn có khoảng thời gian từ lúc bắt đầu đến kết thúc là khá lâu  "
   ]
  },
  {
   "cell_type": "code",
   "execution_count": 185,
   "id": "ef198b0d",
   "metadata": {},
   "outputs": [
    {
     "name": "stdout",
     "output_type": "stream",
     "text": [
      "         day  month  year  hour\n",
      "0          8      2  2016     0\n",
      "1          8      2  2016     5\n",
      "2          8      2  2016     6\n",
      "3          8      2  2016     6\n",
      "4          8      2  2016     6\n",
      "...      ...    ...   ...   ...\n",
      "1516059   23      8  2019    18\n",
      "1516060   23      8  2019    19\n",
      "1516061   23      8  2019    19\n",
      "1516062   23      8  2019    19\n",
      "1516063   23      8  2019    18\n",
      "\n",
      "[1516064 rows x 4 columns]\n"
     ]
    }
   ],
   "source": [
    "accidents_df['day']=accidents_df['Start_Time'].dt.day\n",
    "accidents_df['month']=accidents_df['Start_Time'].dt.month\n",
    "accidents_df['year']=accidents_df['Start_Time'].dt.year\n",
    "accidents_df['hour']=accidents_df['Start_Time'].dt.hour\n",
    "accidents_df['minute']=accidents_df['Start_Time'].dt.minute\n",
    "accidents_df['weekday']=accidents_df['Start_Time'].dt.weekday\n",
    "accidents_df['name_of_day']=accidents_df['Start_Time'].dt.day_name()\n",
    "\n",
    "\n",
    "\n",
    "\n",
    "print(accidents_df[['day','month','year','hour']])\n",
    "\n"
   ]
  },
  {
   "cell_type": "markdown",
   "id": "70809ab3",
   "metadata": {},
   "source": [
    "##### Tổng số tai nạn xảy ra tại các thời điểm ở mỗi ngày trong tuần\n",
    " - Tiến hành gom nhóm tạo thành một dataframe mới dựa trên thời điểm giờ trong ngày mà xảy ra vụ tai nạn đó và mức độ nghiêm trọng của vụ tai nạn đó"
   ]
  },
  {
   "cell_type": "code",
   "execution_count": 210,
   "id": "154198d0",
   "metadata": {},
   "outputs": [],
   "source": [
    "mean_hour=accidents_df.groupby(['Severity','hour']).size().reset_index(name='number_of_acc')"
   ]
  },
  {
   "cell_type": "code",
   "execution_count": 211,
   "id": "964b5037",
   "metadata": {},
   "outputs": [
    {
     "name": "stdout",
     "output_type": "stream",
     "text": [
      "    Severity  hour  number_of_acc\n",
      "0          1     0            306\n",
      "1          1     1            228\n",
      "2          1     2            239\n",
      "3          1     3            227\n",
      "4          1     4            307\n",
      "..       ...   ...            ...\n",
      "91         4    19           4936\n",
      "92         4    20           4410\n",
      "93         4    21           3924\n",
      "94         4    22           3845\n",
      "95         4    23           3931\n",
      "\n",
      "[96 rows x 3 columns]\n"
     ]
    }
   ],
   "source": [
    "print(mean_hour)"
   ]
  },
  {
   "cell_type": "markdown",
   "id": "a513f288",
   "metadata": {},
   "source": [
    "##### Tính tỉ lệ số vụ tai nạn xảy ra theo mức độ nghiêm trọng qua các thời điểm trong ngày"
   ]
  },
  {
   "cell_type": "code",
   "execution_count": 212,
   "id": "e5a66a4f",
   "metadata": {},
   "outputs": [
    {
     "name": "stdout",
     "output_type": "stream",
     "text": [
      "    Severity  hour  number_of_acc  percent_number_of_acc\n",
      "0          1     0            306               0.020184\n",
      "1          1     1            228               0.015039\n",
      "2          1     2            239               0.015765\n",
      "3          1     3            227               0.014973\n",
      "4          1     4            307               0.020250\n",
      "..       ...   ...            ...                    ...\n",
      "91         4    19           4936               0.325580\n",
      "92         4    20           4410               0.290885\n",
      "93         4    21           3924               0.258828\n",
      "94         4    22           3845               0.253617\n",
      "95         4    23           3931               0.259290\n",
      "\n",
      "[96 rows x 4 columns]\n"
     ]
    }
   ],
   "source": [
    "#mean_hour['number_of_acc']=mean_hour['number_of_acc']/time_counts_df['counts']\n",
    "mean_hour['percent_number_of_acc']=(mean_hour['number_of_acc'] / mean_hour['number_of_acc'].sum()) * 100\n",
    "print(mean_hour)"
   ]
  },
  {
   "cell_type": "markdown",
   "id": "c8c7b402",
   "metadata": {},
   "source": [
    "##### Dùng hàm pivot của pandas để chuyển severity thành 4 cột và hour thành các dòng để vẽ biểu đồ line chart"
   ]
  },
  {
   "cell_type": "code",
   "execution_count": 213,
   "id": "665bd690",
   "metadata": {},
   "outputs": [
    {
     "name": "stdout",
     "output_type": "stream",
     "text": [
      "Severity         1         2         3         4\n",
      "hour                                            \n",
      "0         0.020184  2.520936  0.201641  0.299658\n",
      "1         0.015039  2.511108  0.149202  0.189570\n",
      "2         0.015765  2.194301  0.154017  0.195242\n",
      "3         0.014973  1.722619  0.175454  0.209226\n",
      "4         0.020250  1.527838  0.175784  0.220505\n",
      "5         0.038983  2.018780  0.289566  0.298009\n",
      "6         0.062464  2.981998  0.440021  0.331912\n",
      "7         0.084693  3.864547  0.561124  0.366607\n",
      "8         0.092872  3.969687  0.571216  0.366145\n",
      "9         0.080340  3.051388  0.465482  0.343521\n",
      "10        0.074865  2.544352  0.390089  0.317863\n",
      "11        0.088914  2.637026  0.393189  0.303153\n",
      "12        0.099204  3.859204  0.460733  0.348666\n",
      "13        0.120707  4.548225  0.489623  0.362320\n",
      "14        0.125918  4.856391  0.587244  0.377557\n",
      "15        0.154545  5.228407  0.807090  0.410867\n",
      "16        0.188910  5.415734  0.943562  0.414494\n",
      "17        0.187657  5.556560  0.962756  0.417463\n",
      "18        0.152896  4.692414  0.796009  0.388308\n",
      "19        0.088057  3.401571  0.484742  0.325580\n",
      "20        0.044193  2.856871  0.337914  0.290885\n",
      "21        0.038587  2.665389  0.268458  0.258828\n",
      "22        0.027110  2.686364  0.275252  0.253617\n",
      "23        0.021503  2.657342  0.242866  0.259290\n"
     ]
    }
   ],
   "source": [
    "test_hour=  mean_hour.pivot(index='hour', columns='Severity', values='percent_number_of_acc')\n",
    "print(test_hour)"
   ]
  },
  {
   "cell_type": "code",
   "execution_count": 218,
   "id": "1b91c8ad",
   "metadata": {},
   "outputs": [
    {
     "data": {
      "image/png": "[encoded data removed]",
      "text/plain": [
       "<Figure size 432x288 with 1 Axes>"
      ]
     },
     "metadata": {
      "needs_background": "light"
     },
     "output_type": "display_data"
    }
   ],
   "source": [
    "test_hour[2].plot(marker='o')\n",
    "plt.xlabel(\"Khung giờ trong một ngày\")\n",
    "plt.ylabel(\"Tỉ lệ xảy ra những vụ tai nạn\")\n",
    "plt.title(\"Tỉ lệ tai nạn xảy ra tai nạn nghiêm trọng mức độ 2 trong vòng 24h\")\n",
    "plt.show()"
   ]
  },
  {
   "cell_type": "markdown",
   "id": "28181be0",
   "metadata": {},
   "source": [
    "  -  Ta thấy tỉ lệ xảy ra những vụ tai nạn nghiêm trọng ở mức độ 2 có sự phân bố giảm mạnh từ 0h-4h (2.5%-1.5%) sau đó tăng lên từ 5h-8h(4%) rồi giảm từ 9h-11h(2.7%) sau đó tăng dần lên cao nhất ở lúc 17h(5.5%) từ đó giảm dần xuống thấp cho đến 23h(2.7%) rồi tiếp tục giảm cho đến ngày hôm sau"
   ]
  },
  {
   "cell_type": "code",
   "execution_count": 219,
   "id": "a73e44c2",
   "metadata": {},
   "outputs": [
    {
     "data": {
      "image/png": "[encoded data removed]",
      "text/plain": [
       "<Figure size 432x288 with 1 Axes>"
      ]
     },
     "metadata": {
      "needs_background": "light"
     },
     "output_type": "display_data"
    }
   ],
   "source": [
    "test_hour[4].plot(marker='o')\n",
    "plt.xlabel(\"Khung giờ trong một ngày\")\n",
    "plt.ylabel(\"Tỉ lệ xảy ra những vụ tai nạn\")\n",
    "plt.title(\"Tỉ lệ tai nạn xảy ra tai nạn nghiêm trọng mức độ 4 trong vòng 24h\")\n",
    "plt.show()"
   ]
  },
  {
   "cell_type": "markdown",
   "id": "60f28b52",
   "metadata": {},
   "source": [
    "- Tỉ lệ tai nạn mức độ 4 xảy ra qua các khung giờ thì có sự tương đồng so với mức độ 2 về hình dáng biểu đồ cũng giảm xuống thấp từ 0h-4h sau đó tăng đến 8h rồi giảm đến 11h và tăng lên 17h xong rồi giảm xuống nhưng tỉ lệ xảy ra qua các thời điểm thấp hơn nhiều so với những vụ mức độ 2"
   ]
  },
  {
   "cell_type": "code",
   "execution_count": 220,
   "id": "5faeee99",
   "metadata": {},
   "outputs": [
    {
     "data": {
      "image/png": "[encoded data removed]",
      "text/plain": [
       "<Figure size 432x288 with 1 Axes>"
      ]
     },
     "metadata": {
      "needs_background": "light"
     },
     "output_type": "display_data"
    }
   ],
   "source": [
    "test_hour[1].plot(marker='o')\n",
    "plt.xlabel(\"Tỉ lệ xảy ra những vụ tai nạn\")\n",
    "plt.ylabel(\"Khung giờ trong một ngày\")\n",
    "plt.title(\"Tỉ lệ tai nạn xảy ra tai nạn nghiêm trọng mức độ 1 trong vòng 24h\")\n",
    "plt.show()"
   ]
  },
  {
   "cell_type": "markdown",
   "id": "234221bf",
   "metadata": {},
   "source": [
    "  - Số lượng tai nạn nghiêm trọng ở mức 1 có số lượng xảy ra vào ban đêm đã về một tỉ lệ khá thấp khi so với tỉ lệ cao nhất của nó từ 0h-3h số lượng tai nạn gần như không tăng và cũng không giảm đến 4h bắt đầu thì tăng dần lên đến 8h tuy nhiên khác với 2 biểu đồ trên thì ở biểu đồ mức độ 1 này chỉ giảm nhẹ từ 8h-10h rồi sau đó bắt đầu tăng lên cao nhất ở 16h-17h(0.075%->0.19%) và sau đó giảm cho đến cuối ngày"
   ]
  },
  {
   "cell_type": "code",
   "execution_count": 221,
   "id": "ed07e6bb",
   "metadata": {},
   "outputs": [
    {
     "data": {
      "image/png": "[encoded data removed]",
      "text/plain": [
       "<Figure size 432x288 with 1 Axes>"
      ]
     },
     "metadata": {
      "needs_background": "light"
     },
     "output_type": "display_data"
    }
   ],
   "source": [
    "test_hour[3].plot(marker='o')\n",
    "plt.xlabel(\"Khung giờ trong một ngày\")\n",
    "plt.ylabel(\"Tỉ lệ xảy ra những vụ tai nạn\")\n",
    "plt.title(\"Tỉ lệ tai nạn xảy ra tai nạn nghiêm trọng mức độ 3 trong vòng 24h\")\n",
    "plt.show()"
   ]
  },
  {
   "cell_type": "markdown",
   "id": "9d110f13",
   "metadata": {},
   "source": [
    "- Tai nạn nghiêm trọng ở mức 3 có số lượng xảy ra vào ban đêm về hình dáng khá tương tự như mức độ 1 từ (20-4h) số vụ tai nạn bắt đâu giảm dần còn số vụ tai nạn từ 9h-11h và lên cao nhất ở khoảng 16-17h tuy nhiên tỉ lệ tai nạn ở mức độ 3 cao hơn so mức độ 1"
   ]
  },
  {
   "cell_type": "markdown",
   "id": "2af96303",
   "metadata": {},
   "source": [
    "Để hiểu rõ hơn về sự chênh lệch về sự nghiêm trọng của các vụ tai nạn qua các khung giờ trong ngày thì ta sẽ vẽ cả 4 đường tương ứng với 4 mức độ nghiêm trọng lên 1 biểu đồ"
   ]
  },
  {
   "cell_type": "code",
   "execution_count": 222,
   "id": "928b0a85",
   "metadata": {},
   "outputs": [
    {
     "data": {
      "image/png": "[encoded data removed]",
      "text/plain": [
       "<Figure size 432x288 with 1 Axes>"
      ]
     },
     "metadata": {
      "needs_background": "light"
     },
     "output_type": "display_data"
    }
   ],
   "source": [
    "test_hour.plot(marker='o')\n",
    "plt.xlabel(\"Khung giờ trong một ngày\")\n",
    "plt.ylabel(\"Tỉ lệ xảy ra những vụ tai nạn\")\n",
    "plt.show()"
   ]
  },
  {
   "cell_type": "markdown",
   "id": "34f20e50",
   "metadata": {},
   "source": [
    "Từ đây ta thấy tỉ lệ xảy ra những vụ tai nạn ở mức độ 2 có sự chênh lệch rất lớn ở khoảng 17h là cao nhất khoảng hơn 400% so với 3 mức độ nghiêm trọng còn lại.Tuy nhiên chính vì điều này làm ta chưa thấy rõ được sự phân bố của 3 mức độ tai nạn còn lại khi so sánh với nhau nên ta sẽ vẽ một biểu đồ nữa và bỏ mức độ 2 ra "
   ]
  },
  {
   "cell_type": "code",
   "execution_count": 223,
   "id": "b92b54c8",
   "metadata": {},
   "outputs": [
    {
     "data": {
      "image/png": "[encoded data removed]",
      "text/plain": [
       "<Figure size 432x288 with 1 Axes>"
      ]
     },
     "metadata": {
      "needs_background": "light"
     },
     "output_type": "display_data"
    },
    {
     "data": {
      "image/png": "[encoded data removed]",
      "text/plain": [
       "<Figure size 432x288 with 1 Axes>"
      ]
     },
     "metadata": {
      "needs_background": "light"
     },
     "output_type": "display_data"
    }
   ],
   "source": [
    "temp_df=test_hour.drop([2], axis=1)\n",
    "plt.xlabel(\"Khung giờ trong một ngày\")\n",
    "plt.ylabel(\"Tỉ lệ xảy ra những vụ tai nạn\")\n",
    "temp_df.plot(marker='o')\n",
    "plt.show()"
   ]
  },
  {
   "cell_type": "markdown",
   "id": "aa351b7b",
   "metadata": {},
   "source": [
    "Ta có thể thấy được hầu hết qua các khung giờ thì tỉ lệ xảy ra tai nạn mức độ 3 sẽ cao hơn so với mức độ 4 và mức độ 1 cao nhất 16-17h cao hơn mức độ 3 khoảng 150%. Tuy nhiên ở vào khoảng khung giờ từ 0h-4h thì ta thấy tỉ lệ tai nạn xảy ra của mức độ 4 cao hơn so với mức độ 3 đặc biệt ở lúc khoảng 0h cao hơn khoảng 50%. Điều có thể lý giải bằng việc vào ban đêm thì tầm nhìn hạn chế và mật độ xe trên đường sẽ giảm khi đó các tài xế thường chạy xe mà không quan tâm đến các tín hiệu giao thông, dẫn đến nếu có xảy ra tai nạn thì những vụ tai nạn thì tỉ lệ gây ra thương vong sẽ cao hơn so với những vụ tai nạn phải nhập viện chứ nhưng chưa đến mức chết."
   ]
  },
  {
   "cell_type": "markdown",
   "id": "83a464d2",
   "metadata": {},
   "source": [
    "Tổng kết lại thì ta có rút ra kết luận rằng:\n",
    "  - Nếu một ai đó bị tai nạn giao thông thì khả năng người đó chỉ cần dùng một số thuốc hoặc băng bó vết thương nho nhỏ rồi sẽ khỏe hẳn là rất cao khoảng 80% và một khi xảy ra tai nạn giao thông thì cũng rất ít người chỉ bị xây xác nhẹ hoặc không bị gì(khoảng 2%). Còn lại là số vụ có người bị thường nặng phải nhập viện và số trường hợp tử vong lần lượt chiếm khoảng 10% và 7.5%\n",
    "  - Sự phân bố tỉ lệ xảy ra những vụ tai nạn giao thông với 4 mức độ nghiêm trọng có sự tương đồng với nhau về các thời điểm xảy ra nhiều vụ tai nạn và thời điểm xảy ra ít vụ tai nạn.Cụ thể:\n",
    "    + Những vụ tai nạn sẽ thường xảy ra nhiều nhất vào hai thời điểm rồi giảm dần tương ứng với 2 giá trị cực đại của mỗi biểu đồ. Đỉnh thứ nhất khoảng 7-8h đây là thời điểm mà mọi người đang trên đường đến nơi việc nên mật độ giao thông trên đường cao và mọi người muốn đến nơi làm việc nhanh vì sợ bị trễ nên dễ xảy ra tai nạn.Đỉnh thứ 2 là 16-17h lúc này mọi người vừa tan ca đang từ nơi làm việc trở về nhà dẫn đến số lượng xe đang chạy trên đường rất nhiều và mọi người cũng muốn về nhanh để được nghỉ ngơi giải tỏa căng thẳng nên thường xảy ra những sự cố đáng tiếc. \n",
    "    + Bên cạnh đó ta cũng thấy được những thời điểm mà những vụ tai nạn sẽ giảm xuống đó chỉnh là vào khoảng 10-11h đây là buổi trưa thì lúc này mọi người có xu hướng nghỉ trưa ăn uống tại chỗ làm ít đi lại nên ít xảy ra tai nạn và một thời điểm nữa đó là buổi tồi vào khoảng 2-4h vào thời điểm này tai nạn sẽ xảy ra ở mức thấp nhất trong ngày do lúc đó hầu hết mọi người đều đã đi ngủ ít người đi lại trên đường nên sẽ khó xảy ra tai nạn.\n",
    "    + Tuy nhiên vẫn có thời điểm vào lúc khoảng 0h thì số lượng tai nạn với mức độ gây thương vong chết người sẽ xãy ra cao hơn số lượng những vụ tai nạn ở mức độ 3.\n",
    "  - Từ đây ta sẽ đưa ra những giải pháp giúp giảm thiểu tai nạn vào những khung giờ nguy hiểm này:\n",
    "      + Nếu là nhà nước thì cần \n",
    "        *  Bố trí các lực lượng chức năng hổ trợ điều phối giao thông trên các tuyến đường vào những thời điểm từ 7-8h và 16-17h giao thông trên đường được thông thoáng hơn ít tai nạn hơn, kèm theo để ý một tí những xe chạy ẩu vào khoảng 0h để tránh những tai nạn đáng tiếc\n",
    "        * Xây dựng thêm những tuyến đường mới để các xe dễ lưu thông hơn\n",
    "        * Mở thêm nhiều tuyến xe công cộng vận chuyển được nhiều người cùng lúc để giảm thiểu số lượng xe cộ trên đường lúc giờ cao điểm\n",
    "      + Nếu là cá nhân thì nên :\n",
    "         * Đừng quá vội vàng xếp hàng chờ đợi đến lượt cho dù có bị chậm trễ kế hoạch tính mạng của mình vẫn quan trọng hơn\n",
    "         * Chọn một tuyến đường khác ít xe hơn để đi\n",
    "         * Chạy xe đúng làn đường cho phép\n",
    "         * Không chạy quá sát xe phía trước do mật độ lưu thông cao nên khi xe phía trước chạy chậm hoặc phanh lại sẽ rất dễ xảy ra va chạm"
   ]
  },
  {
   "cell_type": "markdown",
   "id": "262427a0",
   "metadata": {},
   "source": [
    "### Câu 2: Ánh sáng có tác động đến tầm nhìn đối với các công trình giao thông ở các quận xảy ra nhiều tai nạn hay không?"
   ]
  },
  {
   "cell_type": "code",
   "execution_count": 20,
   "id": "8ae682c3",
   "metadata": {},
   "outputs": [
    {
     "name": "stdout",
     "output_type": "stream",
     "text": [
      "Ti le tai nan vao ban dem:  0.378\n",
      "Ti le tai nan vao ban ngay:  0.622\n"
     ]
    }
   ],
   "source": [
    "#Câu 2: Ánh sáng có ảnh hưởng đến việc nhìn thấy các biển báo ở các nơi xảy ra nhiều tai nạn hay không?\n",
    "\n",
    "#Lọc ra các cột cần dùng\n",
    "sign = ['County','Visibility(mi)','Sunrise_Sunset','Bump','Crossing','Give_Way','Junction','No_Exit','Railway','Roundabout',\n",
    "        'Station','Stop','Traffic_Calming', 'Traffic_Signal', 'Turning_Loop']\n",
    "df = accidents_df[sign]\n",
    "df_county = accidents_df[['County','Bump']]\n",
    "\n",
    "#Tìm top 5 quận  có số vụ tai nạn nhiều nhất \n",
    "data = pd.DataFrame(df_county.groupby([\"County\"]).count())\n",
    "data.columns = ['Top county']\n",
    "data = data.sort_values(['Top county'], ascending=False)\n",
    "data = data.reset_index()\n",
    "top5 = data['County'].loc[0:4]\n",
    "top5 = list(top5)\n",
    "\n",
    "#Lọc ra các vụ tai nạn có sự xuất hiện của các công trình giao thông như biển báo, bùng binh, đén giao thông,... tại 5 khu vực nóng\n",
    "C_area = df[(df['Bump']==True) | (df['Crossing']==True) | (df['Give_Way']==True) | (df['Junction']==True) | (df['No_Exit']==True) | \n",
    "        (df['Railway']==True) | (df['Roundabout']==True) | (df['Station']==True) | (df['Stop']==True) | \n",
    "        (df['Traffic_Calming']==True) | (df['Traffic_Signal']==True) | (df['Turning_Loop']==True) ]\n",
    "C_area = C_area.loc[C_area['County'].isin(top5)]\n",
    "C_area = C_area.reset_index(drop = True)\n",
    "\n",
    "#Đầu tiên hãy tìm hiểu về tỉ lệ các vụ tai nạn xảy ra vào ban ngày và ban đêm xem có điều gì bất thường không\n",
    "Total = len(C_area['County'])\n",
    "Area = C_area[['Sunrise_Sunset','County']]\n",
    "Area = Area.groupby('Sunrise_Sunset').count()\n",
    "Day = Area['County'][0]\n",
    "Night = Area['County'][1]\n",
    "#Tính tỉ lệ và lưu vào 2 biến Acc_At_Night, Acc_At_Day\n",
    "Acc_Night = round((Night / Total),3)\n",
    "Acc_Day = round((Day / Total),3)\n",
    "print(\"Ti le tai nan vao ban dem: \", Acc_Night)\n",
    "print(\"Ti le tai nan vao ban ngay: \", Acc_Day)"
   ]
  },
  {
   "cell_type": "code",
   "execution_count": 21,
   "id": "3818b5d0",
   "metadata": {},
   "outputs": [
    {
     "data": {
      "text/plain": [
       "<matplotlib.legend.Legend at 0x19f1303c730>"
      ]
     },
     "execution_count": 21,
     "metadata": {},
     "output_type": "execute_result"
    },
    {
     "data": {
      "image/png": "[encoded data removed]",
      "text/plain": [
       "<Figure size 432x288 with 1 Axes>"
      ]
     },
     "metadata": {},
     "output_type": "display_data"
    }
   ],
   "source": [
    "#Biểu đồ tỉ lệ tai nạn vào ban ngày và ban đêm\n",
    "Arr = [Acc_Day, Acc_Night]\n",
    "label = [\"Accident in the daytime\",\"Accident at night\"]\n",
    "mycolors = [\"blue\",\"red\"]\n",
    "plt.pie(Arr,labels = label, colors = mycolors ,autopct='%1.0f%%', pctdistance=0.5, labeldistance= 1.2)\n",
    "plt.title(\"Distribution of accidents by Sunrise_Sunset\")\n",
    "plt.legend(bbox_to_anchor=(1,0), loc=\"right\", bbox_transform=plt.gcf().transFigure)"
   ]
  },
  {
   "cell_type": "markdown",
   "id": "09d6b873",
   "metadata": {},
   "source": [
    "## Nhận xét:\n",
    "    + Tỉ lệ các vụ tai nạn xảy ra vào ban ngày cao hơn gần như là gấp đôi so với tỉ lệ các vụ tai nạn xảy ra vào ban đêm. Điều này không nói lên ánh sáng có ảnh hưởng hay không bởi ta đều biết ban ngày lưu lượng phương tiện nhiều hơn nên dễ xảy ra tai nạn hơn.\n",
    "    + Vào ban ngày thì ánh sáng sẽ nhiều hơn và tầm nhìn sẽ tốt hơn ban đêm rất nhiều khi ban đêm ta phải phụ thuộc vào hệ thống đèn chiếu sáng của phương tiện cũng như là hệ thống đèn công cộng.\n",
    "    + Để có thể phân tích về sự ảnh hường của ánh sáng, chúng ta sẽ cùng tìm hiểu về tầm nhìn của người gặp tai nạn trước khi vụ tai nạn xảy ra."
   ]
  },
  {
   "cell_type": "code",
   "execution_count": 22,
   "id": "03abbd24",
   "metadata": {},
   "outputs": [
    {
     "data": {
      "text/plain": [
       "Text(0.5, 1.0, 'Visibility of accidents at Night')"
      ]
     },
     "execution_count": 22,
     "metadata": {},
     "output_type": "execute_result"
    },
    {
     "data": {
      "image/png": "[encoded data removed]",
      "text/plain": [
       "<Figure size 432x288 with 1 Axes>"
      ]
     },
     "metadata": {
      "needs_background": "light"
     },
     "output_type": "display_data"
    }
   ],
   "source": [
    "Visibility = C_area[['Sunrise_Sunset','Visibility(mi)']]\n",
    "Night = Visibility.loc[Visibility['Sunrise_Sunset'] == 'Night']\n",
    "hist1 = plt.hist(Night['Visibility(mi)'], [0,3,6,8,9,10], edgecolor = 'black')\n",
    "plt.xlabel(\"Visibility(Miles)\")\n",
    "plt.ylabel(\"Cases\")\n",
    "plt.title(\"Visibility of accidents at Night\")"
   ]
  },
  {
   "cell_type": "code",
   "execution_count": 23,
   "id": "ffecbab0",
   "metadata": {},
   "outputs": [
    {
     "data": {
      "text/plain": [
       "Text(0.5, 1.0, 'Visibility of accidents in the Daytime')"
      ]
     },
     "execution_count": 23,
     "metadata": {},
     "output_type": "execute_result"
    },
    {
     "data": {
      "image/png": "[encoded data removed]",
      "text/plain": [
       "<Figure size 432x288 with 1 Axes>"
      ]
     },
     "metadata": {
      "needs_background": "light"
     },
     "output_type": "display_data"
    }
   ],
   "source": [
    "Day = Visibility.loc[Visibility['Sunrise_Sunset'] == 'Day']\n",
    "hist2 = plt.hist(Day['Visibility(mi)'], [0,3,6,8,9,10], color = \"orange\", edgecolor = 'black')\n",
    "plt.xlabel(\"Visibility(Miles)\")\n",
    "plt.ylabel(\"Cases\")\n",
    "plt.title(\"Visibility of accidents in the Daytime\")"
   ]
  },
  {
   "cell_type": "markdown",
   "id": "42a21e7b",
   "metadata": {},
   "source": [
    "## Nhận xét:\n",
    "   - Như vậy nhận định về việc hệ thống chiếu sáng của phương tiện và công cộng Không làm ảnh hưởng nhiều lắm đến các vụ tai nạn như ta đã suy đoán.\n",
    "   - Dựa vào biểu đồ ta có thể thấy tầm nhìn bất kể ban ngày hay ban đêm đều ở mức ở rất cao. Điều này nói lên hệ thống chiếu sáng vẫn hoạt động khá tốt và việc nhìn thấy các công trình giao thông có thể nói là ở mức khá tốt.\n",
    "   - Một số vụ tai nạn xảy ra do tầm nhìn kém có thể là do:\n",
    "            + Ở một số điểm hệ thống đèn gặp trục trặc bất ngờ nên không thể xử lý kịp.\n",
    "            + Người lái xe ở trong tình trạng không tỉnh táo.\n",
    "            + Thị lực có thể gặp vẫn đề như cận thị.\n",
    "            + Thời tiết làm ảnh hưởng đến tầm nhìn.\n",
    "   - Với mức tầm nhìn gần như là tốt nhất từ 9-10 thì các vụ tai nạn lại xảy ra nhiều nhất, điều này có thể là do:\n",
    "            + Lỗi bất cẩn, mất tập trung khi lái xe.\n",
    "            + Người lái xe sử dụng chất kích thích, không làm chủ được bản thân.\n",
    "            + Thời tiết tác động đến khả năng làm chủ phương tiện.\n",
    "            + Phương tiện hư hỏng bất ngờ.\n",
    "            \n",
    "      "
   ]
  },
  {
   "cell_type": "markdown",
   "id": "3924dc50",
   "metadata": {},
   "source": [
    "### Câu 3:  Trong các năm từ 2018 đến 2020, những thành phố nào có nhiều vụ tai nạn xảy ra nhất ? Làm sao để có thể hạn chế tối đa số vụ tai nạn trong các thành phố này?"
   ]
  },
  {
   "cell_type": "code",
   "execution_count": 24,
   "id": "f817e661",
   "metadata": {},
   "outputs": [],
   "source": [
    "newest_year_data=accidents_df[\"year\"]\n",
    "third_years_newest=newest_year_data\n",
    "after_equal_third_years=third_years_newest <=accidents_df['year']\n",
    "top_county_each_year_df=accidents_df.loc[after_equal_third_years]\n",
    "top_county_each_year_df=top_county_each_year_df.groupby(by=[\"City\",\"year\",]).count()\n",
    "county_temp=top_county_each_year_df[\"ID\"]\n",
    "top_county_each_year_df=pd.Series(data=county_temp)\n",
    "top_county_each_year_df=top_county_each_year_df.unstack(0)\n",
    "sort_county=top_county_each_year_df.sum(axis = 0, skipna = True)\n",
    "sort_county=sort_county.sort_values(ascending=False)\n",
    "sort_county=pd.DataFrame(sort_county.iloc[0:3])\n",
    "index=sort_county.index\n",
    "a_list = list(index)"
   ]
  },
  {
   "cell_type": "code",
   "execution_count": 25,
   "id": "c68f3148",
   "metadata": {},
   "outputs": [
    {
     "data": {
      "text/html": [
       "<div>\n",
       "<style scoped>\n",
       "    .dataframe tbody tr th:only-of-type {\n",
       "        vertical-align: middle;\n",
       "    }\n",
       "\n",
       "    .dataframe tbody tr th {\n",
       "        vertical-align: top;\n",
       "    }\n",
       "\n",
       "    .dataframe thead th {\n",
       "        text-align: right;\n",
       "    }\n",
       "</style>\n",
       "<table border=\"1\" class=\"dataframe\">\n",
       "  <thead>\n",
       "    <tr style=\"text-align: right;\">\n",
       "      <th></th>\n",
       "      <th>0</th>\n",
       "    </tr>\n",
       "    <tr>\n",
       "      <th>City</th>\n",
       "      <th></th>\n",
       "    </tr>\n",
       "  </thead>\n",
       "  <tbody>\n",
       "    <tr>\n",
       "      <th>Los Angeles</th>\n",
       "      <td>39984.0</td>\n",
       "    </tr>\n",
       "    <tr>\n",
       "      <th>Miami</th>\n",
       "      <td>36233.0</td>\n",
       "    </tr>\n",
       "    <tr>\n",
       "      <th>Charlotte</th>\n",
       "      <td>22203.0</td>\n",
       "    </tr>\n",
       "  </tbody>\n",
       "</table>\n",
       "</div>"
      ],
      "text/plain": [
       "                   0\n",
       "City                \n",
       "Los Angeles  39984.0\n",
       "Miami        36233.0\n",
       "Charlotte    22203.0"
      ]
     },
     "execution_count": 25,
     "metadata": {},
     "output_type": "execute_result"
    }
   ],
   "source": [
    "sort_county"
   ]
  },
  {
   "cell_type": "code",
   "execution_count": 26,
   "id": "79a12cc7",
   "metadata": {},
   "outputs": [
    {
     "data": {
      "text/plain": [
       "<AxesSubplot:xlabel='year'>"
      ]
     },
     "execution_count": 26,
     "metadata": {},
     "output_type": "execute_result"
    },
    {
     "data": {
      "image/png": "[encoded data removed]",
      "text/plain": [
       "<Figure size 432x288 with 1 Axes>"
      ]
     },
     "metadata": {
      "needs_background": "light"
     },
     "output_type": "display_data"
    }
   ],
   "source": [
    "top_county_each_year_df[a_list].plot(marker='o')"
   ]
  },
  {
   "cell_type": "markdown",
   "id": "7703905b",
   "metadata": {},
   "source": [
    "### Nhận xét\n",
    "- Nhìn vào biểu đồ ta có thể thấy tốc độ tăng trường về số ca tai nạn giao thông của 5 nước có tổng số tai nạn giao thông cao nhất qua 5 năm 2016-2020\n",
    "- Ta có thể thấy ở đây trong 5 thành phố thì chỉ có Los Angeles là có số lượng tăng không giảm xuyên suốt từ năm 2016-2020\n",
    "- Los Angeles tăng đều qua các năm từ 2016-2020 và có 20000 ca tai nạn giao thông gấp gần 2 lần so với 1 năm trước\n",
    "- Nhìn qua thành phố đứng hạng 2 Miami thì ta thấy một điều đặc biệt ở đây đó là thành phố này có khoảng 2000 ca ở năm 2016 sau đó tăng lên 3000 ở năm 2017 và giảm xuống khoảng 2000 ca năm 2019 nhưng lại đột ngộ tăng mạnh ở năm 2020 tới khoảng 26000 tức gấp 13 lần so với 1 năm trước đây là một dấu hiệu đáng báo động\n",
    "- Thành phố Charlotte cũng giảm mạnh ở hai năm 2018-2019 và bắt đầu tăng mạnh ở năm 2020 với khoảng 8000 ca gấp 8 lần so với năm 2019\n",
    "- Tóm lại số ca tai nạn giao thông mỗi năm 2 thành phố top 2 và top 3 đều theo một xu hướng là tăng ở năm 2016-2017, giảm ở năm 2018-2019 và tăng mạnh ở năm 2020 ngoại trừ Los Angeles là tăng đều qua từng năm và tăng mạnh ở năm 2020\n",
    "- Vậy làm sao để ta có thể hạn chế tai nạn giao thông ở những thành phố này ?\n",
    "- Chúng ta cần phải biết được cụ thể tai nạn xảy ra ở những địa điểm nào trên thành phố cụ thể là những con đường trên thành phố đó.\n",
    "- Để từ đó vạch ra những biện pháp hiệu quả để giải quyết vấn đề này "
   ]
  },
  {
   "cell_type": "code",
   "execution_count": 27,
   "id": "029c9263",
   "metadata": {},
   "outputs": [
    {
     "data": {
      "text/html": [
       "<div>\n",
       "<style scoped>\n",
       "    .dataframe tbody tr th:only-of-type {\n",
       "        vertical-align: middle;\n",
       "    }\n",
       "\n",
       "    .dataframe tbody tr th {\n",
       "        vertical-align: top;\n",
       "    }\n",
       "\n",
       "    .dataframe thead th {\n",
       "        text-align: right;\n",
       "    }\n",
       "</style>\n",
       "<table border=\"1\" class=\"dataframe\">\n",
       "  <thead>\n",
       "    <tr style=\"text-align: right;\">\n",
       "      <th>City</th>\n",
       "      <th>Los Angeles</th>\n",
       "      <th>Miami</th>\n",
       "      <th>Charlotte</th>\n",
       "    </tr>\n",
       "    <tr>\n",
       "      <th>year</th>\n",
       "      <th></th>\n",
       "      <th></th>\n",
       "      <th></th>\n",
       "    </tr>\n",
       "  </thead>\n",
       "  <tbody>\n",
       "    <tr>\n",
       "      <th>2016</th>\n",
       "      <td>3259.0</td>\n",
       "      <td>1834.0</td>\n",
       "      <td>4235.0</td>\n",
       "    </tr>\n",
       "    <tr>\n",
       "      <th>2017</th>\n",
       "      <td>3595.0</td>\n",
       "      <td>3113.0</td>\n",
       "      <td>6084.0</td>\n",
       "    </tr>\n",
       "    <tr>\n",
       "      <th>2018</th>\n",
       "      <td>3820.0</td>\n",
       "      <td>2392.0</td>\n",
       "      <td>1479.0</td>\n",
       "    </tr>\n",
       "    <tr>\n",
       "      <th>2019</th>\n",
       "      <td>9380.0</td>\n",
       "      <td>1832.0</td>\n",
       "      <td>561.0</td>\n",
       "    </tr>\n",
       "    <tr>\n",
       "      <th>2020</th>\n",
       "      <td>19930.0</td>\n",
       "      <td>27062.0</td>\n",
       "      <td>9844.0</td>\n",
       "    </tr>\n",
       "  </tbody>\n",
       "</table>\n",
       "</div>"
      ],
      "text/plain": [
       "City  Los Angeles    Miami  Charlotte\n",
       "year                                 \n",
       "2016       3259.0   1834.0     4235.0\n",
       "2017       3595.0   3113.0     6084.0\n",
       "2018       3820.0   2392.0     1479.0\n",
       "2019       9380.0   1832.0      561.0\n",
       "2020      19930.0  27062.0     9844.0"
      ]
     },
     "execution_count": 27,
     "metadata": {},
     "output_type": "execute_result"
    }
   ],
   "source": [
    "top_county_each_year_df[a_list]"
   ]
  },
  {
   "cell_type": "code",
   "execution_count": 28,
   "id": "3e211a81",
   "metadata": {},
   "outputs": [],
   "source": [
    "country_df=accidents_df[accidents_df['City']==a_list[0]]\n",
    "street_df=country_df.groupby(['City','County','Street']).size().reset_index(name='number_of_acc')"
   ]
  },
  {
   "cell_type": "code",
   "execution_count": 29,
   "id": "0eecb7d1",
   "metadata": {},
   "outputs": [
    {
     "name": "stdout",
     "output_type": "stream",
     "text": [
      "   index         City       County              Street  number_of_acc\n",
      "0    855  Los Angeles  Los Angeles              I-10 E           2199\n",
      "1    856  Los Angeles  Los Angeles              I-10 W           2183\n",
      "2    842  Los Angeles  Los Angeles  Golden State Fwy S           1570\n",
      "3    846  Los Angeles  Los Angeles        Harbor Fwy N           1435\n",
      "4    863  Los Angeles  Los Angeles               I-5 N           1405\n"
     ]
    }
   ],
   "source": [
    "street_df=street_df.sort_values(by='number_of_acc', ascending=False).reset_index()\n",
    "top_street=pd.DataFrame(street_df.loc[0:4])\n",
    "print(top_street)"
   ]
  },
  {
   "cell_type": "code",
   "execution_count": 30,
   "id": "62ee2612",
   "metadata": {},
   "outputs": [
    {
     "data": {
      "image/png": "[encoded data removed]",
      "text/plain": [
       "<Figure size 720x504 with 1 Axes>"
      ]
     },
     "metadata": {
      "needs_background": "light"
     },
     "output_type": "display_data"
    }
   ],
   "source": [
    "fig = plt.figure(figsize =(10, 7))\n",
    " \n",
    "# Horizontal Bar Plot\n",
    "plt.bar(top_street['Street'], top_street['number_of_acc'])\n",
    "plt.xlabel(\"Tên đường\")  # add X-axis label\n",
    "plt.ylabel(\"Số vụ tai nạn xảy ra trên đường\")  # add Y-axis label\n",
    "plt.title(\"Top 5 con đường xảy ra nhiều tai nạn nhất thành phố Los Angeles\")  # add title\n",
    "# Show Plot\n",
    "plt.show()"
   ]
  },
  {
   "cell_type": "markdown",
   "id": "a36623a6",
   "metadata": {},
   "source": [
    "- Nhìn chung số vụ tai nạn xảy ra ở top 5 những con đường xảy ra nhiều vụ tai nạn nhất thành phố Los Angeles có sự chênh lệch nhưng không quá lớn\n",
    "- Nhiều nhất là hai con đường I-10 E và I-10 W với khoảng 2200 vụ\n",
    "- Đường Golden State Fwy S có khoảng 1600 vụ\n",
    "- Đường Harbor Fwy N và I-5N có khoảng 1500 vụ"
   ]
  },
  {
   "cell_type": "code",
   "execution_count": 31,
   "id": "76e1f6bd",
   "metadata": {},
   "outputs": [
    {
     "name": "stdout",
     "output_type": "stream",
     "text": [
      "   index   City      County           Street  number_of_acc\n",
      "0   1125  Miami  Miami-Dade           I-95 N           3267\n",
      "1   1126  Miami  Miami-Dade           I-95 S           3210\n",
      "2    652  Miami  Miami-Dade     SW 137th Ave           1118\n",
      "3   1384  Miami  Miami-Dade  Palmetto Expy N           1041\n",
      "4   1082  Miami  Miami-Dade   Dolphin Expy E           1020\n"
     ]
    }
   ],
   "source": [
    "country_df=accidents_df[accidents_df['City']==a_list[1]]\n",
    "street_df=country_df.groupby(['City','County','Street']).size().reset_index(name='number_of_acc')\n",
    "street_df=street_df.sort_values(by='number_of_acc', ascending=False).reset_index()\n",
    "top_street=pd.DataFrame(street_df.loc[0:4])\n",
    "print(top_street)\n"
   ]
  },
  {
   "cell_type": "code",
   "execution_count": 32,
   "id": "87319007",
   "metadata": {},
   "outputs": [
    {
     "data": {
      "image/png": "[encoded data removed]",
      "text/plain": [
       "<Figure size 720x504 with 1 Axes>"
      ]
     },
     "metadata": {
      "needs_background": "light"
     },
     "output_type": "display_data"
    }
   ],
   "source": [
    "fig = plt.figure(figsize =(10, 7))\n",
    " \n",
    "# Horizontal Bar Plot\n",
    "plt.bar(top_street['Street'], top_street['number_of_acc'])\n",
    "plt.xlabel(\"Tên đường\")  # add X-axis label\n",
    "plt.ylabel(\"Số vụ tai nạn xảy ra trên đường\")  # add Y-axis label\n",
    "plt.title(\"Top 5 con đường xảy ra nhiều tai nạn nhất thành phố Miami\")  # add title\n",
    "# Show Plot\n",
    "plt.show()"
   ]
  },
  {
   "cell_type": "code",
   "execution_count": 33,
   "id": "2de3a978",
   "metadata": {},
   "outputs": [
    {
     "name": "stdout",
     "output_type": "stream",
     "text": [
      "   index       City       County       Street  number_of_acc\n",
      "0   1127  Charlotte  Mecklenburg       I-77 N            853\n",
      "1   1128  Charlotte  Mecklenburg       I-77 S            716\n",
      "2    767  Charlotte  Mecklenburg   S Tryon St            520\n",
      "3   1130  Charlotte  Mecklenburg       I-85 S            494\n",
      "4   1129  Charlotte  Mecklenburg       I-85 N            423\n"
     ]
    }
   ],
   "source": [
    "country_df=accidents_df[accidents_df['City']==a_list[2]]\n",
    "street_df=country_df.groupby(['City','County','Street']).size().reset_index(name='number_of_acc')\n",
    "street_df=street_df.sort_values(by='number_of_acc', ascending=False).reset_index()\n",
    "top_street=pd.DataFrame(street_df.loc[0:4])\n",
    "print(top_street)"
   ]
  },
  {
   "cell_type": "code",
   "execution_count": 34,
   "id": "7784517c",
   "metadata": {},
   "outputs": [
    {
     "data": {
      "image/png": "[encoded data removed]",
      "text/plain": [
       "<Figure size 720x504 with 1 Axes>"
      ]
     },
     "metadata": {
      "needs_background": "light"
     },
     "output_type": "display_data"
    }
   ],
   "source": [
    "fig = plt.figure(figsize =(10, 7))\n",
    " \n",
    "# Horizontal Bar Plot\n",
    "plt.bar(top_street['Street'], top_street['number_of_acc'])\n",
    "plt.xlabel(\"Tên đường\")  # add X-axis label\n",
    "plt.ylabel(\"Số vụ tai nạn xảy ra trên đường\")  # add Y-axis label\n",
    "plt.title(\"Top 5 con đường xảy ra nhiều tai nạn nhất thành phố Charlotte\")  # add title \n",
    "# Show Plot\n",
    "plt.show()"
   ]
  },
  {
   "cell_type": "markdown",
   "id": "89c35190",
   "metadata": {},
   "source": [
    "### Nhận xét\n",
    "- Như chúng ta có thể thấy thì tổng số vị trí bị tai nạn của các thành phố khá giống với top các thành phố có nhiều vụ tai nhất đứng nhất là Los Angeles tiếp theo lần lượt là : Miami,Dalas,Charlotte,Houston\n",
    "- Nhìn chung thì không có gì thay đổi nhiều so với tổng số vụ tai nạn từ năm 2018-2020 ngoài trừ một vài sự thay đổi vị trí ở top 3,4,5 \n",
    "- Từ đây ta có thể biết được tuy tổng số ca tai nạn của Charlotte và Houston hơn Dalas nhưng Dalas lại hơn số vị trí bị tai nạn của 2 thành phố này điều này chứng tỏ Charlotte và Houston có nhiều vụ tai nạn là ở cũng 1 vị trí, 1 con đường\n",
    "- Ngoài ra ta có thể nhận ra được là đa phần vị trí của 5 thành phố có nhiều vụ tai nạn nhất qua 5 năm 2016-2020 đều có xu hướng gần biển , không biết điều này có ảnh hưởng gì tới thời tiết hay những yếu tố khác làm cho các thành phố này có nhiều vụ tai nạn hơn các thành phố khác hay không ? \n",
    "- Dựa vào biểu đồ này ta có thể dễ dàng biết được đoạn đường nào ở các thành phố có nhiều vụ tai nạn bằng cách zoom lên để từ đó đưa ra cách giải quyết như:\n",
    "- đặt biển giao thông cảnh báo người lái xe đoạn đường này thường xảy ra tai nạn để người lái xe có cảnh giác trước\n",
    "- Đặt biển giao thông giới hạn tốc độ chạy của người lái xe\n",
    "- Cử thêm nhiều cảnh sát giao thông hơn ở những đoạn đường thường xảy ra tai nạn \n",
    "- Đặt thêm các đèn tín hiệu giao thông \n",
    "- Lập ra Chiến dịch tuyên truyền / quảng bá về an toàn đường bộ ở những đoạn đường dễ gây ra tai nạn ở mỗi thành phố thông qua các phương tiện điện tử và báo in.\n",
    "- Kiểm tra và bảo vệ các cơ sở hạ tầng đường bộ biển báo,đèn đường, vạch kẻ đường, cọc tiêu, cột cây số, hành lang an toàn đường bộ hay hành lang an toàn bị lấn chiếm\n",
    "- Cấp thêm nguồn tài chính và Thường xuyên bảo trì đường bộ ở những đoạn đường dễ gây ra tai nạn\n",
    "- Giảm số lượng xe đi vào đoạn có nhiều tai nạn cũng 1 lúc \n",
    "- Kiểm tra các hệ thống thoát nước và điều chỉnh hệ thống thoát nước sao cho thích hợp ở những đoạn đường nguy hiểm\n",
    "- Thêm gò giảm tốc ở con đường thường gây ra tai nạn"
   ]
  },
  {
   "cell_type": "markdown",
   "id": "9db77bf8",
   "metadata": {},
   "source": [
    "## Nhìn lại"
   ]
  },
  {
   "cell_type": "markdown",
   "id": "b5ce9e7f",
   "metadata": {},
   "source": [
    "### Mỗi thành viên gặp những khó khăn gì\n",
    "- Khó khăn chung:\n",
    "  + Chưa hiểu biết nhiều về github\n",
    "  + Khó khăn trong việc tạo và hợp các nhánh lại\n",
    "- Khó khăn của mỗi cá nhân:\n",
    "  + Thành An: khó khăn trong việc sử dụng các thư viện để phân tích dữ liệu\n",
    "  + Tâm Anh: chưa quen với cách xử lí một dữ liệu có dung lượng tương đối lớn\n",
    "  + Thiện: Thời gian thi cử cộng kem với deadline của nhiều môn học dẫn đến việc chưa thể hoàn thành tốt được đồ án\n"
   ]
  },
  {
   "cell_type": "markdown",
   "id": "9b6cacec",
   "metadata": {},
   "source": [
    "### Những điều được hiểu biết thêm\n",
    "   - Thành An:\n",
    "     + Biết được cách tạo nhánh và hợp nhánh trên git hub\n",
    "     + Đọc được nhiều tài liệu hiểu biết nhiều hơn về các vụ tai nạn giao thông\n",
    "     + Nâng cao khả năng làm việc nhóm\n",
    "   - Tâm Anh:\n",
    "     + Có thêm kỹ năng về thống kê số liệu\n",
    "     + Rèn luyện được tính kiên trì của bản thân để hoàn thành hết những deadline\n",
    "     + Có những bước tiến đầu tiên vào ngành Khoa Học Dữ liệu\n",
    "   - Thiện:\n",
    "     + Biết sử dụng một số công cụ trực quan như plotly, matplotib, seaborn\n",
    "     + Có thêm khả năng phân chia thời gian hợp lí khi khối lượng công việc và kiến thức tiếp thu ngày càng nhiều\n",
    "     + Nâng cao khả năng đọc hiểu tiếng anh khi tìm hiểu về các tài liệu"
   ]
  },
  {
   "cell_type": "code",
   "execution_count": 35,
   "id": "6dc80fe0",
   "metadata": {},
   "outputs": [
    {
     "name": "stdout",
     "output_type": "stream",
     "text": [
      "Requirement already satisfied: squarify in d:\\anaconda\\lib\\site-packages (0.4.3)Note: you may need to restart the kernel to use updated packages.\n",
      "\n"
     ]
    }
   ],
   "source": [
    "pip install squarify"
   ]
  },
  {
   "cell_type": "markdown",
   "id": "fd49161f",
   "metadata": {},
   "source": [
    "## Tài liệu tham khảo\n",
    " - https://www.kaggle.com/sobhanmoosavi/us-accidents\n",
    " - https://scholarworks.lib.csusb.edu/cgi/viewcontent.cgi?article=2085&context=etd\n",
    " - https://stackoverflow.com/\n",
    " - https://www.asirt.org/safe-travel/road-safety-facts/"
   ]
  }
 ],
 "metadata": {
  "kernelspec": {
   "display_name": "Python 3",
   "language": "python",
   "name": "python3"
  },
  "language_info": {
   "codemirror_mode": {
    "name": "ipython",
    "version": 3
   },
   "file_extension": ".py",
   "mimetype": "text/x-python",
   "name": "python",
   "nbconvert_exporter": "python",
   "pygments_lexer": "ipython3",
   "version": "3.8.8"
  }
 },
 "nbformat": 4,
 "nbformat_minor": 5
}
