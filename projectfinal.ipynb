{
 "cells": [
  {
   "cell_type": "markdown",
   "id": "68243dc1",
   "metadata": {},
   "source": [
    "## Exploratory Data Analysis of the US Accidents Dataset"
   ]
  },
  {
   "cell_type": "code",
   "execution_count": 1,
   "id": "26641f1c",
   "metadata": {},
   "outputs": [],
   "source": [
    "import pandas as pd\n",
    "import numpy as np\n",
    "import seaborn as sns\n",
    "import matplotlib.pyplot as plt\n",
    "import plotly.express as px\n",
    "import datetime\n",
    "from datetime import datetime\n",
    "import warnings\n",
    "import calendar\n",
    "import seaborn as sn\n",
    "warnings.filterwarnings(\"ignore\")\n",
    "%matplotlib inline"
   ]
  },
  {
   "cell_type": "code",
   "execution_count": 2,
   "id": "af170c7a",
   "metadata": {},
   "outputs": [],
   "source": [
    "np.set_printoptions(suppress=True)"
   ]
  },
  {
   "cell_type": "code",
   "execution_count": 3,
   "id": "8fc1bdce",
   "metadata": {},
   "outputs": [
    {
     "data": {
      "text/html": [
       "<div>\n",
       "<style scoped>\n",
       "    .dataframe tbody tr th:only-of-type {\n",
       "        vertical-align: middle;\n",
       "    }\n",
       "\n",
       "    .dataframe tbody tr th {\n",
       "        vertical-align: top;\n",
       "    }\n",
       "\n",
       "    .dataframe thead th {\n",
       "        text-align: right;\n",
       "    }\n",
       "</style>\n",
       "<table border=\"1\" class=\"dataframe\">\n",
       "  <thead>\n",
       "    <tr style=\"text-align: right;\">\n",
       "      <th></th>\n",
       "      <th>ID</th>\n",
       "      <th>Severity</th>\n",
       "      <th>Start_Time</th>\n",
       "      <th>End_Time</th>\n",
       "      <th>Start_Lat</th>\n",
       "      <th>Start_Lng</th>\n",
       "      <th>End_Lat</th>\n",
       "      <th>End_Lng</th>\n",
       "      <th>Distance(mi)</th>\n",
       "      <th>Description</th>\n",
       "      <th>...</th>\n",
       "      <th>Roundabout</th>\n",
       "      <th>Station</th>\n",
       "      <th>Stop</th>\n",
       "      <th>Traffic_Calming</th>\n",
       "      <th>Traffic_Signal</th>\n",
       "      <th>Turning_Loop</th>\n",
       "      <th>Sunrise_Sunset</th>\n",
       "      <th>Civil_Twilight</th>\n",
       "      <th>Nautical_Twilight</th>\n",
       "      <th>Astronomical_Twilight</th>\n",
       "    </tr>\n",
       "  </thead>\n",
       "  <tbody>\n",
       "    <tr>\n",
       "      <th>0</th>\n",
       "      <td>A-2716600</td>\n",
       "      <td>3</td>\n",
       "      <td>2016-02-08 00:37:08</td>\n",
       "      <td>2016-02-08 06:37:08</td>\n",
       "      <td>40.10891</td>\n",
       "      <td>-83.09286</td>\n",
       "      <td>40.11206</td>\n",
       "      <td>-83.03187</td>\n",
       "      <td>3.230</td>\n",
       "      <td>Between Sawmill Rd/Exit 20 and OH-315/Olentang...</td>\n",
       "      <td>...</td>\n",
       "      <td>False</td>\n",
       "      <td>False</td>\n",
       "      <td>False</td>\n",
       "      <td>False</td>\n",
       "      <td>False</td>\n",
       "      <td>False</td>\n",
       "      <td>Night</td>\n",
       "      <td>Night</td>\n",
       "      <td>Night</td>\n",
       "      <td>Night</td>\n",
       "    </tr>\n",
       "    <tr>\n",
       "      <th>1</th>\n",
       "      <td>A-2716601</td>\n",
       "      <td>2</td>\n",
       "      <td>2016-02-08 05:56:20</td>\n",
       "      <td>2016-02-08 11:56:20</td>\n",
       "      <td>39.86542</td>\n",
       "      <td>-84.06280</td>\n",
       "      <td>39.86501</td>\n",
       "      <td>-84.04873</td>\n",
       "      <td>0.747</td>\n",
       "      <td>At OH-4/OH-235/Exit 41 - Accident.</td>\n",
       "      <td>...</td>\n",
       "      <td>False</td>\n",
       "      <td>False</td>\n",
       "      <td>False</td>\n",
       "      <td>False</td>\n",
       "      <td>False</td>\n",
       "      <td>False</td>\n",
       "      <td>Night</td>\n",
       "      <td>Night</td>\n",
       "      <td>Night</td>\n",
       "      <td>Night</td>\n",
       "    </tr>\n",
       "    <tr>\n",
       "      <th>2</th>\n",
       "      <td>A-2716602</td>\n",
       "      <td>2</td>\n",
       "      <td>2016-02-08 06:15:39</td>\n",
       "      <td>2016-02-08 12:15:39</td>\n",
       "      <td>39.10266</td>\n",
       "      <td>-84.52468</td>\n",
       "      <td>39.10209</td>\n",
       "      <td>-84.52396</td>\n",
       "      <td>0.055</td>\n",
       "      <td>At I-71/US-50/Exit 1 - Accident.</td>\n",
       "      <td>...</td>\n",
       "      <td>False</td>\n",
       "      <td>False</td>\n",
       "      <td>False</td>\n",
       "      <td>False</td>\n",
       "      <td>False</td>\n",
       "      <td>False</td>\n",
       "      <td>Night</td>\n",
       "      <td>Night</td>\n",
       "      <td>Night</td>\n",
       "      <td>Day</td>\n",
       "    </tr>\n",
       "    <tr>\n",
       "      <th>3</th>\n",
       "      <td>A-2716603</td>\n",
       "      <td>2</td>\n",
       "      <td>2016-02-08 06:15:39</td>\n",
       "      <td>2016-02-08 12:15:39</td>\n",
       "      <td>39.10148</td>\n",
       "      <td>-84.52341</td>\n",
       "      <td>39.09841</td>\n",
       "      <td>-84.52241</td>\n",
       "      <td>0.219</td>\n",
       "      <td>At I-71/US-50/Exit 1 - Accident.</td>\n",
       "      <td>...</td>\n",
       "      <td>False</td>\n",
       "      <td>False</td>\n",
       "      <td>False</td>\n",
       "      <td>False</td>\n",
       "      <td>False</td>\n",
       "      <td>False</td>\n",
       "      <td>Night</td>\n",
       "      <td>Night</td>\n",
       "      <td>Night</td>\n",
       "      <td>Day</td>\n",
       "    </tr>\n",
       "    <tr>\n",
       "      <th>4</th>\n",
       "      <td>A-2716604</td>\n",
       "      <td>2</td>\n",
       "      <td>2016-02-08 06:51:45</td>\n",
       "      <td>2016-02-08 12:51:45</td>\n",
       "      <td>41.06213</td>\n",
       "      <td>-81.53784</td>\n",
       "      <td>41.06217</td>\n",
       "      <td>-81.53547</td>\n",
       "      <td>0.123</td>\n",
       "      <td>At Dart Ave/Exit 21 - Accident.</td>\n",
       "      <td>...</td>\n",
       "      <td>False</td>\n",
       "      <td>False</td>\n",
       "      <td>False</td>\n",
       "      <td>False</td>\n",
       "      <td>False</td>\n",
       "      <td>False</td>\n",
       "      <td>Night</td>\n",
       "      <td>Night</td>\n",
       "      <td>Day</td>\n",
       "      <td>Day</td>\n",
       "    </tr>\n",
       "  </tbody>\n",
       "</table>\n",
       "<p>5 rows × 47 columns</p>\n",
       "</div>"
      ],
      "text/plain": [
       "          ID  Severity           Start_Time             End_Time  Start_Lat  \\\n",
       "0  A-2716600         3  2016-02-08 00:37:08  2016-02-08 06:37:08   40.10891   \n",
       "1  A-2716601         2  2016-02-08 05:56:20  2016-02-08 11:56:20   39.86542   \n",
       "2  A-2716602         2  2016-02-08 06:15:39  2016-02-08 12:15:39   39.10266   \n",
       "3  A-2716603         2  2016-02-08 06:15:39  2016-02-08 12:15:39   39.10148   \n",
       "4  A-2716604         2  2016-02-08 06:51:45  2016-02-08 12:51:45   41.06213   \n",
       "\n",
       "   Start_Lng   End_Lat   End_Lng  Distance(mi)  \\\n",
       "0  -83.09286  40.11206 -83.03187         3.230   \n",
       "1  -84.06280  39.86501 -84.04873         0.747   \n",
       "2  -84.52468  39.10209 -84.52396         0.055   \n",
       "3  -84.52341  39.09841 -84.52241         0.219   \n",
       "4  -81.53784  41.06217 -81.53547         0.123   \n",
       "\n",
       "                                         Description  ...  Roundabout Station  \\\n",
       "0  Between Sawmill Rd/Exit 20 and OH-315/Olentang...  ...       False   False   \n",
       "1                 At OH-4/OH-235/Exit 41 - Accident.  ...       False   False   \n",
       "2                   At I-71/US-50/Exit 1 - Accident.  ...       False   False   \n",
       "3                   At I-71/US-50/Exit 1 - Accident.  ...       False   False   \n",
       "4                    At Dart Ave/Exit 21 - Accident.  ...       False   False   \n",
       "\n",
       "    Stop Traffic_Calming Traffic_Signal Turning_Loop Sunrise_Sunset  \\\n",
       "0  False           False          False        False          Night   \n",
       "1  False           False          False        False          Night   \n",
       "2  False           False          False        False          Night   \n",
       "3  False           False          False        False          Night   \n",
       "4  False           False          False        False          Night   \n",
       "\n",
       "  Civil_Twilight Nautical_Twilight Astronomical_Twilight  \n",
       "0          Night             Night                 Night  \n",
       "1          Night             Night                 Night  \n",
       "2          Night             Night                   Day  \n",
       "3          Night             Night                   Day  \n",
       "4          Night               Day                   Day  \n",
       "\n",
       "[5 rows x 47 columns]"
      ]
     },
     "execution_count": 3,
     "metadata": {},
     "output_type": "execute_result"
    }
   ],
   "source": [
    "accidents_df = pd.read_csv('US_Accidents_Dec20_updated.csv',error_bad_lines=False)\n",
    "accidents_df.head()"
   ]
  },
  {
   "cell_type": "markdown",
   "id": "ad49eb87",
   "metadata": {},
   "source": [
    "## Dữ liệu gồm có bao nhiêu dòng và bao nhiêu cột? "
   ]
  },
  {
   "cell_type": "code",
   "execution_count": 4,
   "id": "26d92a70",
   "metadata": {},
   "outputs": [
    {
     "name": "stdout",
     "output_type": "stream",
     "text": [
      "The Dataset includes: 1516064 rows and 47 columns\n"
     ]
    }
   ],
   "source": [
    "num_rows,num_cols=accidents_df.shape\n",
    "print('The Dataset includes: {} rows and {} columns'.format(num_rows,num_cols))"
   ]
  },
  {
   "cell_type": "markdown",
   "id": "5aa259b8",
   "metadata": {},
   "source": [
    "## Mỗi dòng có ý nghĩa gì? Có vấn đề các dòng có ý nghĩa khác nhau không?"
   ]
  },
  {
   "cell_type": "markdown",
   "id": "3a3e4a6c",
   "metadata": {},
   "source": [
    "Mỗi dòng thể hiện các thông tin về các vụ tai nạn xe hơi thuộc 49 tiểu bang của Hoa Kỳ. Có vẻ không có dòng nào khác loài."
   ]
  },
  {
   "cell_type": "markdown",
   "id": "594bf3ac",
   "metadata": {},
   "source": [
    "## Dữ liệu có các dòng bị lặp không? (0.5đ)"
   ]
  },
  {
   "cell_type": "code",
   "execution_count": 5,
   "id": "e821deb4",
   "metadata": {},
   "outputs": [
    {
     "name": "stdout",
     "output_type": "stream",
     "text": [
      "False\n"
     ]
    }
   ],
   "source": [
    "have_duplicated_rows=accidents_df.duplicated().any()\n",
    "print(have_duplicated_rows)"
   ]
  },
  {
   "cell_type": "markdown",
   "id": "749041b1",
   "metadata": {},
   "source": [
    "## Mỗi cột có ý nghĩa gì?"
   ]
  },
  {
   "cell_type": "markdown",
   "id": "e97a5be1",
   "metadata": {},
   "source": [
    "•  ID: Số nhận dạng (duy nhất) của các hồ sơ vụ tai nạn.\n",
    "\n",
    "•  Severity: Mức độ nghiêm trọng của vụ tai nạn tác động đến giao thông, được tính theo 4 mức từ 1 đến 4 (1 là tác động ít nhất đến giao thông gây ra thời gian trễ ngắn, 4 là tác động nhiều nhất đến giao thông gây ra thời gian trễ dài).\n",
    "\n",
    "•  Start_Time: Thời gian xảy ra vụ tai nạn (tính theo múi giờ địa phương)\n",
    "\n",
    "•  End_Time: Thời gian vụ tai nạn kết thúc (kết thúc ở đây có nghĩa là vụ tai nạn không còn làm ảnh hưởng đến giao thông)\n",
    "\n",
    "•  Start_Lat: Vĩ độ vụ tai nạn trong định vị GPS của điểm bắt đầu.\n",
    "\n",
    "•  Start_Lng: Kinh độ vụ tai nạn trong định vị GPS của điểm bắt đầu.\n",
    "\n",
    "•  End_Lat: Vĩ độ vụ tai nạn trong định vị GPS của điểm kết thúc.\n",
    "\n",
    "•  End_Lng: Kinh độ vụ tai nạn trong định vị GPS của điểm kết thúc.\n",
    "\n",
    "•  Distance(mi): Chiều dài của đoạn đường bị ảnh hưởng bởi vụ tai tạn.\n",
    "\n",
    "•  Description: Mô tả vụ tai nạn.\n",
    "\n",
    "•  Number: Số của con đường trong bản định danh.\n",
    "\n",
    "•  Street: Tên của con đường trong bản đinh danh.\n",
    "\n",
    "•  Side: Vụ tai nạn xảy ra ở phía (phải/trái) của con đường.\n",
    "\n",
    "•  City: Tên thành phố xảy ra vụ tai nạn.\n",
    "\n",
    "•  County: Tên quận xảy ra vụ tai nạn.\n",
    "\n",
    "•  State: Trạng thái trong bản ghi địa chỉ.\n",
    "\n",
    "•  Zipcode: Mã zip trong bản ghi địa chỉ.\n",
    "\n",
    "•  Country: Tên quốc gia có vụ tai nạn.\n",
    "\n",
    "•  Timezone: Múi giờ của nơi xảy ra vụ tại nạn.\n",
    "\n",
    "•  Airport_Code: Mã của trạm thời tiết tại sân bay gần nhất với vị trí xảy ra tai nạn.\n",
    "\n",
    "•  Weather_Timestamp: Dấu thời gian của bản ghi thời tiết theo múi giờ địa phương.\n",
    "\n",
    "•  Temperature (F): Nhiệt độ lúc xảy ra tai nạn.\n",
    "\n",
    "•  Wind_Chill (F): Gió lạnh lúc xảy ra tai nạn.\n",
    "\n",
    "•  Humidity (%): Độ ẩm lúc xảy ra tai nạn.\n",
    "\n",
    "•  Pressure (inches): Áp suất không khí lúc xảy ra tai nạn.\n",
    "\n",
    "•  Visibility (miles): Tầm nhìn lúc xảy ra tai nạn.\n",
    "\n",
    "•  Wind_Direction: Hướng gió lúc xảy ra tai nạn.\n",
    "\n",
    "•  Wind_Speed (mph): Tốc độ gió lúc xảy ra tai nạn(miles/hour).\n",
    "\n",
    "•  Precipitation (inches): Lượng mưa lúc xảy ra tai nạn.\n",
    "\n",
    "•  Weather_Condition: Trạng thái thời tiết lúc xảy ra tai nạn (mưa, bão, tuyết rơi,…)\n",
    "\n",
    "•  Amenity: Sự tiện nghi của một khu vực ở gần vụ tai nạn.\n",
    "\n",
    "•  Bump: Có biển báo của gờ giảm tốc hoặc các gờ ở gần vị trí xảy ra vụ tai nạn hay không.\n",
    "\n",
    "•  Crossing: Có biển báo người qua đường của các đường ở gần vụ tai nạn hay không.\n",
    "\n",
    "•  Give_Way: Có biển báo nhường đường ở vị trí gần vụ tai nạn hay không.\n",
    "\n",
    "•  Junction: Có biển báo đường giao nhau ở vị trí gần vụ tai nạn hay không.\n",
    "\n",
    "•  No_Exit: Có biển báo cấm đi vào ở gần vụ tai nạn hay không.\n",
    "\n",
    "•  Railway: Có biển báo đường sắt ở gần vụ tai nạn hay không.\n",
    "\n",
    "•  Roundabout: Có sự hiện diện của bùng binh ở gần vị trí vụ tai nạn hay không.\n",
    "\n",
    "•  Station: Có sự hiện diện của trạm ở gần vị trí vụ tai nạn hay không.\n",
    "\n",
    "•  Stop: Có biển báo dừng ở gần vị trí vụ tai nạn hay không.\n",
    "\n",
    "•  Traffic_Calming: Có sự hiện diện của các thiết kế vật lý trên đường nhằm hạn chế tốc độ ở gần vị trí vụ tai nạn hay không.\n",
    "\n",
    "•  Traffic_Signal: Có sự hiện diện của đèn giao thông ở gần vị trí vụ tai nạn hay không.\n",
    "\n",
    "•  Turning_Loop: Có sự hiện diện của khúc quoanh ở gần vị trí vụ tai nạn hay không.\n",
    "\n",
    "•  Sunrise_Sunset: Hiển thị khoảng thời gian dựa theo mặt trời mọc hay lặn.\n",
    "\n",
    "•  Civil_Twilight: Hiển thị khoảng thời gian dựa theo hoàng hôn dân sự.\n",
    "\n",
    "•  Nautical_Twilight: Hiển thị khoảng thời gian dựa theo hoàng hôn hàng hải.\n",
    "\n",
    "•  Astronomical_Twilight: Hiển thị khoảng thời gian dựa theo hoàng hôn thiên văn."
   ]
  },
  {
   "cell_type": "markdown",
   "id": "05ea320b",
   "metadata": {},
   "source": [
    "## Mỗi cột hiện đang có kiểu dữ liệu gì? Có cột nào có kiểu dữ liệu chưa phù hợp để có thể xử lý tiếp không?"
   ]
  },
  {
   "cell_type": "code",
   "execution_count": 6,
   "id": "159804aa",
   "metadata": {},
   "outputs": [
    {
     "name": "stdout",
     "output_type": "stream",
     "text": [
      "ID                        object\n",
      "Severity                   int64\n",
      "Start_Time                object\n",
      "End_Time                  object\n",
      "Start_Lat                float64\n",
      "Start_Lng                float64\n",
      "End_Lat                  float64\n",
      "End_Lng                  float64\n",
      "Distance(mi)             float64\n",
      "Description               object\n",
      "Number                   float64\n",
      "Street                    object\n",
      "Side                      object\n",
      "City                      object\n",
      "County                    object\n",
      "State                     object\n",
      "Zipcode                   object\n",
      "Country                   object\n",
      "Timezone                  object\n",
      "Airport_Code              object\n",
      "Weather_Timestamp         object\n",
      "Temperature(F)           float64\n",
      "Wind_Chill(F)            float64\n",
      "Humidity(%)              float64\n",
      "Pressure(in)             float64\n",
      "Visibility(mi)           float64\n",
      "Wind_Direction            object\n",
      "Wind_Speed(mph)          float64\n",
      "Precipitation(in)        float64\n",
      "Weather_Condition         object\n",
      "Amenity                     bool\n",
      "Bump                        bool\n",
      "Crossing                    bool\n",
      "Give_Way                    bool\n",
      "Junction                    bool\n",
      "No_Exit                     bool\n",
      "Railway                     bool\n",
      "Roundabout                  bool\n",
      "Station                     bool\n",
      "Stop                        bool\n",
      "Traffic_Calming             bool\n",
      "Traffic_Signal              bool\n",
      "Turning_Loop                bool\n",
      "Sunrise_Sunset            object\n",
      "Civil_Twilight            object\n",
      "Nautical_Twilight         object\n",
      "Astronomical_Twilight     object\n",
      "dtype: object\n"
     ]
    }
   ],
   "source": [
    "col_dtypes=accidents_df.dtypes\n",
    "print(col_dtypes)"
   ]
  },
  {
   "cell_type": "code",
   "execution_count": 7,
   "id": "c88c2dfa",
   "metadata": {},
   "outputs": [],
   "source": [
    "def open_object_dtype(s):\n",
    "    df=pd.Series(s)\n",
    "    a=df.apply(lambda x : type(x)).unique()\n",
    "    dtypes = set(a)\n",
    "    return dtypes"
   ]
  },
  {
   "cell_type": "code",
   "execution_count": 8,
   "id": "f5a6802b",
   "metadata": {},
   "outputs": [
    {
     "name": "stdout",
     "output_type": "stream",
     "text": [
      "numer of object columns: 20\n",
      "types of  ID  is  {<class 'str'>}\n",
      "types of  Start_Time  is  {<class 'str'>}\n",
      "types of  End_Time  is  {<class 'str'>}\n",
      "types of  Description  is  {<class 'str'>}\n",
      "types of  Street  is  {<class 'str'>}\n",
      "types of  Side  is  {<class 'str'>}\n",
      "types of  City  is  {<class 'str'>, <class 'float'>}\n",
      "types of  County  is  {<class 'str'>}\n",
      "types of  State  is  {<class 'str'>}\n",
      "types of  Zipcode  is  {<class 'str'>, <class 'float'>}\n",
      "types of  Country  is  {<class 'str'>}\n",
      "types of  Timezone  is  {<class 'str'>, <class 'float'>}\n",
      "types of  Airport_Code  is  {<class 'str'>, <class 'float'>}\n",
      "types of  Weather_Timestamp  is  {<class 'str'>, <class 'float'>}\n",
      "types of  Wind_Direction  is  {<class 'str'>, <class 'float'>}\n",
      "types of  Weather_Condition  is  {<class 'str'>, <class 'float'>}\n",
      "types of  Sunrise_Sunset  is  {<class 'str'>, <class 'float'>}\n",
      "types of  Civil_Twilight  is  {<class 'str'>, <class 'float'>}\n",
      "types of  Nautical_Twilight  is  {<class 'str'>, <class 'float'>}\n",
      "types of  Astronomical_Twilight  is  {<class 'str'>, <class 'float'>}\n"
     ]
    }
   ],
   "source": [
    "objects_key=(accidents_df.loc[:, accidents_df.dtypes == object]).keys()\n",
    "print(\"numer of object columns:\",len(objects_key))\n",
    "for key in objects_key:\n",
    "    print(\"types of \",key,\" is \",open_object_dtype(accidents_df[key]))"
   ]
  },
  {
   "cell_type": "markdown",
   "id": "ae0a1c7a",
   "metadata": {},
   "source": [
    "## Tiền xử lý"
   ]
  },
  {
   "cell_type": "markdown",
   "id": "2c56078a",
   "metadata": {},
   "source": [
    "### Chuyển dtype của cột \"Date\" sang datetime"
   ]
  },
  {
   "cell_type": "code",
   "execution_count": 9,
   "id": "af264db9",
   "metadata": {},
   "outputs": [],
   "source": [
    "datetime_cols=['Start_Time','End_Time','Weather_Timestamp']\n",
    "for key in datetime_cols:\n",
    "    accidents_df[key]= pd.to_datetime(accidents_df[key])"
   ]
  },
  {
   "cell_type": "markdown",
   "id": "0849b1c0",
   "metadata": {},
   "source": [
    "## Với mỗi cột có kiểu dữ liệu dạng numeric, các giá trị được phân bố như thế nào?"
   ]
  },
  {
   "cell_type": "code",
   "execution_count": 10,
   "id": "6341f2a0",
   "metadata": {},
   "outputs": [],
   "source": [
    "numeric_cols=['Start_Lat', 'Start_Lng', 'End_Lat', 'End_Lng',\n",
    "       'Distance(mi)', 'Number', 'Temperature(F)', 'Wind_Chill(F)',\n",
    "       'Humidity(%)', 'Pressure(in)', 'Visibility(mi)', 'Wind_Speed(mph)',\n",
    "       'Precipitation(in)']\n",
    "\n",
    "all_num_cols=['Start_Lat', 'Start_Lng', 'End_Lat', 'End_Lng',\n",
    "       'Distance(mi)', 'Number', 'Temperature(F)', 'Wind_Chill(F)',\n",
    "       'Humidity(%)', 'Pressure(in)', 'Visibility(mi)', 'Wind_Speed(mph)',\n",
    "       'Precipitation(in)','Start_Time','End_Time','Weather_Timestamp']\n",
    "\n",
    "nume_col_profiles_df=pd.DataFrame(index=['missing_ratio','min','max'],\n",
    "                                  columns=all_num_cols)\n",
    "\n",
    "nume_col_profiles_df.loc['missing_ratio',numeric_cols]=np.float64(accidents_df[numeric_cols].isna().mean()*100)\n",
    "\n",
    "nume_col_profiles_df.loc['min',numeric_cols]=np.float64(accidents_df[numeric_cols].min())\n",
    "\n",
    "nume_col_profiles_df.loc['max',numeric_cols]=np.float64(accidents_df[numeric_cols].max())\n",
    "\n",
    "nume_col_profiles_df=nume_col_profiles_df.astype(np.float64)\n",
    "\n",
    "\n",
    "\n",
    "\n",
    "nume_col_profiles_df.loc['missing_ratio',datetime_cols]=accidents_df[datetime_cols].isna().mean()*100\n",
    "\n",
    "nume_col_profiles_df.loc['min',datetime_cols]=accidents_df[datetime_cols].min()\n",
    "\n",
    "nume_col_profiles_df.loc['max',datetime_cols]=accidents_df[datetime_cols].max()\n",
    "\n"
   ]
  },
  {
   "cell_type": "markdown",
   "id": "dc40c535",
   "metadata": {},
   "source": [
    "## Với mỗi cột có kiểu dữ liệu dạng categorical, các giá trị được phân bố như thế nào ?"
   ]
  },
  {
   "cell_type": "code",
   "execution_count": 11,
   "id": "9f0c7dcd",
   "metadata": {},
   "outputs": [
    {
     "name": "stdout",
     "output_type": "stream",
     "text": [
      "              Roundabout Street Side County Crossing   Zipcode Bump Severity  \\\n",
      "missing_ratio        0.0    0.0  0.0    0.0      0.0  0.061673  0.0      0.0   \n",
      "num_diff_vals          2  93048    2   1671        2    177196    2        4   \n",
      "diff_vals            NaN    NaN  NaN    NaN      NaN       NaN  NaN      NaN   \n",
      "\n",
      "              Junction Country  ... Airport_Code No_Exit Station Railway  \\\n",
      "missing_ratio      0.0     0.0  ...     0.280199     0.0     0.0     0.0   \n",
      "num_diff_vals        2       1  ...         1985       2       2       2   \n",
      "diff_vals          NaN     NaN  ...          NaN     NaN     NaN     NaN   \n",
      "\n",
      "              Traffic_Signal Stop Wind_Direction Astronomical_Twilight State  \\\n",
      "missing_ratio            0.0  0.0       2.760965              0.005475   0.0   \n",
      "num_diff_vals              2    2             24                     2    49   \n",
      "diff_vals                NaN  NaN            NaN                   NaN   NaN   \n",
      "\n",
      "              Nautical_Twilight  \n",
      "missing_ratio          0.005475  \n",
      "num_diff_vals                 2  \n",
      "diff_vals                   NaN  \n",
      "\n",
      "[3 rows x 31 columns]\n"
     ]
    }
   ],
   "source": [
    "cate_cols=list(set(accidents_df.keys())-set(all_num_cols))\n",
    "\n",
    "index=['missing_ratio', 'num_diff_vals', 'diff_vals']\n",
    "cate_col_profiles_df=pd.DataFrame(\n",
    "     index=index,\n",
    "     columns=cate_cols)\n",
    "cate_col_profiles_df.loc['missing_ratio',:]=accidents_df[cate_cols].isna().mean()*100\n",
    "\n",
    "cate_col_profiles_df.loc['num_diff_vals',:]=accidents_df[cate_cols].nunique()\n",
    "print(cate_col_profiles_df)"
   ]
  },
  {
   "cell_type": "code",
   "execution_count": 12,
   "id": "cf9b9209",
   "metadata": {},
   "outputs": [
    {
     "data": {
      "text/html": [
       "<div>\n",
       "<style scoped>\n",
       "    .dataframe tbody tr th:only-of-type {\n",
       "        vertical-align: middle;\n",
       "    }\n",
       "\n",
       "    .dataframe tbody tr th {\n",
       "        vertical-align: top;\n",
       "    }\n",
       "\n",
       "    .dataframe thead th {\n",
       "        text-align: right;\n",
       "    }\n",
       "</style>\n",
       "<table border=\"1\" class=\"dataframe\">\n",
       "  <thead>\n",
       "    <tr style=\"text-align: right;\">\n",
       "      <th></th>\n",
       "      <th>ID</th>\n",
       "      <th>Severity</th>\n",
       "      <th>Start_Time</th>\n",
       "      <th>End_Time</th>\n",
       "      <th>Start_Lat</th>\n",
       "      <th>Start_Lng</th>\n",
       "      <th>End_Lat</th>\n",
       "      <th>End_Lng</th>\n",
       "      <th>Distance(mi)</th>\n",
       "      <th>Description</th>\n",
       "      <th>...</th>\n",
       "      <th>Roundabout</th>\n",
       "      <th>Station</th>\n",
       "      <th>Stop</th>\n",
       "      <th>Traffic_Calming</th>\n",
       "      <th>Traffic_Signal</th>\n",
       "      <th>Turning_Loop</th>\n",
       "      <th>Sunrise_Sunset</th>\n",
       "      <th>Civil_Twilight</th>\n",
       "      <th>Nautical_Twilight</th>\n",
       "      <th>Astronomical_Twilight</th>\n",
       "    </tr>\n",
       "  </thead>\n",
       "  <tbody>\n",
       "    <tr>\n",
       "      <th>0</th>\n",
       "      <td>A-2716600</td>\n",
       "      <td>3</td>\n",
       "      <td>2016-02-08 00:37:08</td>\n",
       "      <td>2016-02-08 06:37:08</td>\n",
       "      <td>40.10891</td>\n",
       "      <td>-83.09286</td>\n",
       "      <td>40.11206</td>\n",
       "      <td>-83.03187</td>\n",
       "      <td>3.230</td>\n",
       "      <td>Between Sawmill Rd/Exit 20 and OH-315/Olentang...</td>\n",
       "      <td>...</td>\n",
       "      <td>False</td>\n",
       "      <td>False</td>\n",
       "      <td>False</td>\n",
       "      <td>False</td>\n",
       "      <td>False</td>\n",
       "      <td>False</td>\n",
       "      <td>Night</td>\n",
       "      <td>Night</td>\n",
       "      <td>Night</td>\n",
       "      <td>Night</td>\n",
       "    </tr>\n",
       "    <tr>\n",
       "      <th>1</th>\n",
       "      <td>A-2716601</td>\n",
       "      <td>2</td>\n",
       "      <td>2016-02-08 05:56:20</td>\n",
       "      <td>2016-02-08 11:56:20</td>\n",
       "      <td>39.86542</td>\n",
       "      <td>-84.06280</td>\n",
       "      <td>39.86501</td>\n",
       "      <td>-84.04873</td>\n",
       "      <td>0.747</td>\n",
       "      <td>At OH-4/OH-235/Exit 41 - Accident.</td>\n",
       "      <td>...</td>\n",
       "      <td>False</td>\n",
       "      <td>False</td>\n",
       "      <td>False</td>\n",
       "      <td>False</td>\n",
       "      <td>False</td>\n",
       "      <td>False</td>\n",
       "      <td>Night</td>\n",
       "      <td>Night</td>\n",
       "      <td>Night</td>\n",
       "      <td>Night</td>\n",
       "    </tr>\n",
       "    <tr>\n",
       "      <th>2</th>\n",
       "      <td>A-2716602</td>\n",
       "      <td>2</td>\n",
       "      <td>2016-02-08 06:15:39</td>\n",
       "      <td>2016-02-08 12:15:39</td>\n",
       "      <td>39.10266</td>\n",
       "      <td>-84.52468</td>\n",
       "      <td>39.10209</td>\n",
       "      <td>-84.52396</td>\n",
       "      <td>0.055</td>\n",
       "      <td>At I-71/US-50/Exit 1 - Accident.</td>\n",
       "      <td>...</td>\n",
       "      <td>False</td>\n",
       "      <td>False</td>\n",
       "      <td>False</td>\n",
       "      <td>False</td>\n",
       "      <td>False</td>\n",
       "      <td>False</td>\n",
       "      <td>Night</td>\n",
       "      <td>Night</td>\n",
       "      <td>Night</td>\n",
       "      <td>Day</td>\n",
       "    </tr>\n",
       "    <tr>\n",
       "      <th>3</th>\n",
       "      <td>A-2716603</td>\n",
       "      <td>2</td>\n",
       "      <td>2016-02-08 06:15:39</td>\n",
       "      <td>2016-02-08 12:15:39</td>\n",
       "      <td>39.10148</td>\n",
       "      <td>-84.52341</td>\n",
       "      <td>39.09841</td>\n",
       "      <td>-84.52241</td>\n",
       "      <td>0.219</td>\n",
       "      <td>At I-71/US-50/Exit 1 - Accident.</td>\n",
       "      <td>...</td>\n",
       "      <td>False</td>\n",
       "      <td>False</td>\n",
       "      <td>False</td>\n",
       "      <td>False</td>\n",
       "      <td>False</td>\n",
       "      <td>False</td>\n",
       "      <td>Night</td>\n",
       "      <td>Night</td>\n",
       "      <td>Night</td>\n",
       "      <td>Day</td>\n",
       "    </tr>\n",
       "    <tr>\n",
       "      <th>4</th>\n",
       "      <td>A-2716604</td>\n",
       "      <td>2</td>\n",
       "      <td>2016-02-08 06:51:45</td>\n",
       "      <td>2016-02-08 12:51:45</td>\n",
       "      <td>41.06213</td>\n",
       "      <td>-81.53784</td>\n",
       "      <td>41.06217</td>\n",
       "      <td>-81.53547</td>\n",
       "      <td>0.123</td>\n",
       "      <td>At Dart Ave/Exit 21 - Accident.</td>\n",
       "      <td>...</td>\n",
       "      <td>False</td>\n",
       "      <td>False</td>\n",
       "      <td>False</td>\n",
       "      <td>False</td>\n",
       "      <td>False</td>\n",
       "      <td>False</td>\n",
       "      <td>Night</td>\n",
       "      <td>Night</td>\n",
       "      <td>Day</td>\n",
       "      <td>Day</td>\n",
       "    </tr>\n",
       "  </tbody>\n",
       "</table>\n",
       "<p>5 rows × 47 columns</p>\n",
       "</div>"
      ],
      "text/plain": [
       "          ID  Severity          Start_Time            End_Time  Start_Lat  \\\n",
       "0  A-2716600         3 2016-02-08 00:37:08 2016-02-08 06:37:08   40.10891   \n",
       "1  A-2716601         2 2016-02-08 05:56:20 2016-02-08 11:56:20   39.86542   \n",
       "2  A-2716602         2 2016-02-08 06:15:39 2016-02-08 12:15:39   39.10266   \n",
       "3  A-2716603         2 2016-02-08 06:15:39 2016-02-08 12:15:39   39.10148   \n",
       "4  A-2716604         2 2016-02-08 06:51:45 2016-02-08 12:51:45   41.06213   \n",
       "\n",
       "   Start_Lng   End_Lat   End_Lng  Distance(mi)  \\\n",
       "0  -83.09286  40.11206 -83.03187         3.230   \n",
       "1  -84.06280  39.86501 -84.04873         0.747   \n",
       "2  -84.52468  39.10209 -84.52396         0.055   \n",
       "3  -84.52341  39.09841 -84.52241         0.219   \n",
       "4  -81.53784  41.06217 -81.53547         0.123   \n",
       "\n",
       "                                         Description  ...  Roundabout Station  \\\n",
       "0  Between Sawmill Rd/Exit 20 and OH-315/Olentang...  ...       False   False   \n",
       "1                 At OH-4/OH-235/Exit 41 - Accident.  ...       False   False   \n",
       "2                   At I-71/US-50/Exit 1 - Accident.  ...       False   False   \n",
       "3                   At I-71/US-50/Exit 1 - Accident.  ...       False   False   \n",
       "4                    At Dart Ave/Exit 21 - Accident.  ...       False   False   \n",
       "\n",
       "    Stop Traffic_Calming Traffic_Signal Turning_Loop Sunrise_Sunset  \\\n",
       "0  False           False          False        False          Night   \n",
       "1  False           False          False        False          Night   \n",
       "2  False           False          False        False          Night   \n",
       "3  False           False          False        False          Night   \n",
       "4  False           False          False        False          Night   \n",
       "\n",
       "  Civil_Twilight Nautical_Twilight Astronomical_Twilight  \n",
       "0          Night             Night                 Night  \n",
       "1          Night             Night                 Night  \n",
       "2          Night             Night                   Day  \n",
       "3          Night             Night                   Day  \n",
       "4          Night               Day                   Day  \n",
       "\n",
       "[5 rows x 47 columns]"
      ]
     },
     "execution_count": 12,
     "metadata": {},
     "output_type": "execute_result"
    }
   ],
   "source": [
    "accidents_df.head()"
   ]
  },
  {
   "cell_type": "markdown",
   "id": "ed76783d",
   "metadata": {},
   "source": [
    "## Đặt ra các câu hỏi có ý nghĩa? Giải thích về lợi ích của việc trả lời các câu hỏi này."
   ]
  },
  {
   "cell_type": "markdown",
   "id": "6969cc54",
   "metadata": {},
   "source": [
    "### Liệu thời điểm ra đường có phải là ảnh hưởng gì đến việc xảy ra tai nạn giao thông ? Chúng ta cần có phải chọn thời điểm để ra ngoài cho an toàn không ? "
   ]
  },
  {
   "cell_type": "code",
   "execution_count": 27,
   "id": "ef198b0d",
   "metadata": {},
   "outputs": [],
   "source": [
    "accidents_df['day']=accidents_df['Start_Time'].dt.day\n",
    "accidents_df['month']=accidents_df['Start_Time'].dt.month\n",
    "accidents_df['year']=accidents_df['Start_Time'].dt.year\n",
    "accidents_df['hour']=accidents_df['Start_Time'].dt.hour\n",
    "accidents_df['minute']=accidents_df['Start_Time'].dt.minute\n",
    "accidents_df['weekday']=accidents_df['Start_Time'].dt.weekday\n",
    "accidents_df['name_of_day']=accidents_df['Start_Time'].dt.day_name()\n",
    "accidents_df.minute[(accidents_df.minute>=30)]=30\n",
    "accidents_df.minute[(accidents_df.minute<30)]=0\n",
    "\n",
    " \n",
    "temp=accidents_df.groupby(['day','month','year','hour','minute','weekday','name_of_day']).size().reset_index(name='counts')\n",
    "\n",
    "mean_hour=accidents_df.groupby(['hour','minute','weekday','name_of_day']).size().reset_index(name='mean')\n",
    "\n",
    "\n",
    "mean_hour['mean_hour'] = (pd.to_datetime(mean_hour['hour'].astype(str) + ':' + mean_hour['minute'].astype(str), \n",
    "                                         format='%H:%M').dt.time)\n",
    "\n",
    "\n"
   ]
  },
  {
   "cell_type": "code",
   "execution_count": 28,
   "id": "964b5037",
   "metadata": {},
   "outputs": [
    {
     "name": "stdout",
     "output_type": "stream",
     "text": [
      "     hour  minute  weekday name_of_day  mean mean_hour\n",
      "0       0       0        0      Monday  2545  00:00:00\n",
      "1       0       0        1     Tuesday  3563  00:00:00\n",
      "2       0       0        2   Wednesday  3584  00:00:00\n",
      "3       0       0        3    Thursday  3629  00:00:00\n",
      "4       0       0        4      Friday  3321  00:00:00\n",
      "..    ...     ...      ...         ...   ...       ...\n",
      "331    23      30        2   Wednesday  3922  23:30:00\n",
      "332    23      30        3    Thursday  3534  23:30:00\n",
      "333    23      30        4      Friday  3600  23:30:00\n",
      "334    23      30        5    Saturday  3088  23:30:00\n",
      "335    23      30        6      Sunday  2933  23:30:00\n",
      "\n",
      "[336 rows x 6 columns]\n"
     ]
    }
   ],
   "source": [
    "print(mean_hour)"
   ]
  },
  {
   "cell_type": "code",
   "execution_count": 25,
   "id": "c95347a3",
   "metadata": {},
   "outputs": [
    {
     "name": "stdout",
     "output_type": "stream",
     "text": [
      "     hour  minute  weekday  counts\n",
      "0       0       0        0     219\n",
      "1       0       0        1     214\n",
      "2       0       0        2     214\n",
      "3       0       0        3     204\n",
      "4       0       0        4     215\n",
      "..    ...     ...      ...     ...\n",
      "331    23      30        2     207\n",
      "332    23      30        3     217\n",
      "333    23      30        4     209\n",
      "334    23      30        5     222\n",
      "335    23      30        6     217\n",
      "\n",
      "[336 rows x 4 columns]\n"
     ]
    }
   ],
   "source": [
    "test=temp.groupby(['hour','minute','weekday']).size().reset_index(name='counts')\n",
    "print(test)"
   ]
  },
  {
   "cell_type": "code",
   "execution_count": 29,
   "id": "e5a66a4f",
   "metadata": {},
   "outputs": [
    {
     "name": "stdout",
     "output_type": "stream",
     "text": [
      "     hour  minute  weekday name_of_day       mean mean_hour\n",
      "0       0       0        0      Monday  11.621005  00:00:00\n",
      "1       0       0        1     Tuesday  16.649533  00:00:00\n",
      "2       0       0        2   Wednesday  16.747664  00:00:00\n",
      "3       0       0        3    Thursday  17.789216  00:00:00\n",
      "4       0       0        4      Friday  15.446512  00:00:00\n",
      "..    ...     ...      ...         ...        ...       ...\n",
      "331    23      30        2   Wednesday  18.946860  23:30:00\n",
      "332    23      30        3    Thursday  16.285714  23:30:00\n",
      "333    23      30        4      Friday  17.224880  23:30:00\n",
      "334    23      30        5    Saturday  13.909910  23:30:00\n",
      "335    23      30        6      Sunday  13.516129  23:30:00\n",
      "\n",
      "[336 rows x 6 columns]\n"
     ]
    }
   ],
   "source": [
    "mean_hour['mean']=mean_hour['mean']/test['counts']\n",
    "print(mean_hour)"
   ]
  },
  {
   "cell_type": "code",
   "execution_count": 35,
   "id": "65d45bfd",
   "metadata": {},
   "outputs": [
    {
     "name": "stdout",
     "output_type": "stream",
     "text": [
      "weekday\n",
      "0    1011.506481\n",
      "1    1074.278416\n",
      "2    1106.183140\n",
      "3    1110.577335\n",
      "4    1107.106479\n",
      "5     657.763448\n",
      "6     593.688855\n",
      "Name: mean, dtype: float64\n"
     ]
    }
   ],
   "source": [
    "test3=mean_hour.groupby(['weekday'])['mean'].agg('sum')\n",
    "print(test3)"
   ]
  },
  {
   "cell_type": "code",
   "execution_count": 30,
   "id": "e724907d",
   "metadata": {},
   "outputs": [
    {
     "data": {
      "application/vnd.plotly.v1+json": {
       "config": {
        "plotlyServerURL": "https://plot.ly"
       },
       "data": [
        {
         "hovertemplate": "name_of_day=Monday<br>mean_hour=%{x}<br>mean=%{y}<extra></extra>",
         "legendgroup": "Monday",
         "line": {
          "color": "#636efa",
          "dash": "solid"
         },
         "marker": {
          "symbol": "circle"
         },
         "mode": "lines",
         "name": "Monday",
         "orientation": "v",
         "showlegend": true,
         "type": "scatter",
         "x": [
          "00:00:00",
          "00:30:00",
          "01:00:00",
          "01:30:00",
          "02:00:00",
          "02:30:00",
          "03:00:00",
          "03:30:00",
          "04:00:00",
          "04:30:00",
          "05:00:00",
          "05:30:00",
          "06:00:00",
          "06:30:00",
          "07:00:00",
          "07:30:00",
          "08:00:00",
          "08:30:00",
          "09:00:00",
          "09:30:00",
          "10:00:00",
          "10:30:00",
          "11:00:00",
          "11:30:00",
          "12:00:00",
          "12:30:00",
          "13:00:00",
          "13:30:00",
          "14:00:00",
          "14:30:00",
          "15:00:00",
          "15:30:00",
          "16:00:00",
          "16:30:00",
          "17:00:00",
          "17:30:00",
          "18:00:00",
          "18:30:00",
          "19:00:00",
          "19:30:00",
          "20:00:00",
          "20:30:00",
          "21:00:00",
          "21:30:00",
          "22:00:00",
          "22:30:00",
          "23:00:00",
          "23:30:00"
         ],
         "xaxis": "x",
         "y": [
          11.621004566210045,
          12.923809523809524,
          11.092682926829267,
          12.476923076923077,
          11.70935960591133,
          12.045685279187817,
          10.736842105263158,
          10.745192307692308,
          9.79611650485437,
          11.013452914798206,
          12.021186440677965,
          16.593220338983052,
          19.46808510638298,
          22.9875,
          25.282700421940927,
          28.620833333333334,
          28.733050847457626,
          25.940928270042193,
          21.995833333333334,
          19.343220338983052,
          17.29237288135593,
          16.11392405063291,
          16.569620253164558,
          18.470588235294116,
          21.841666666666665,
          25.675,
          26.07983193277311,
          30.10924369747899,
          29.05,
          31.946280991735538,
          32.391666666666666,
          36.016597510373444,
          35.84583333333333,
          36.83682008368201,
          36.211618257261414,
          35.86610878661088,
          31.928270042194093,
          27.289915966386555,
          21.843220338983052,
          19.323651452282157,
          17.244635193133046,
          16.639830508474578,
          15.217194570135746,
          15.88646288209607,
          15.802752293577981,
          16.54054054054054,
          15.595348837209302,
          16.729857819905213
         ],
         "yaxis": "y"
        },
        {
         "hovertemplate": "name_of_day=Tuesday<br>mean_hour=%{x}<br>mean=%{y}<extra></extra>",
         "legendgroup": "Tuesday",
         "line": {
          "color": "#EF553B",
          "dash": "solid"
         },
         "marker": {
          "symbol": "circle"
         },
         "mode": "lines",
         "name": "Tuesday",
         "orientation": "v",
         "showlegend": true,
         "type": "scatter",
         "x": [
          "00:00:00",
          "00:30:00",
          "01:00:00",
          "01:30:00",
          "02:00:00",
          "02:30:00",
          "03:00:00",
          "03:30:00",
          "04:00:00",
          "04:30:00",
          "05:00:00",
          "05:30:00",
          "06:00:00",
          "06:30:00",
          "07:00:00",
          "07:30:00",
          "08:00:00",
          "08:30:00",
          "09:00:00",
          "09:30:00",
          "10:00:00",
          "10:30:00",
          "11:00:00",
          "11:30:00",
          "12:00:00",
          "12:30:00",
          "13:00:00",
          "13:30:00",
          "14:00:00",
          "14:30:00",
          "15:00:00",
          "15:30:00",
          "16:00:00",
          "16:30:00",
          "17:00:00",
          "17:30:00",
          "18:00:00",
          "18:30:00",
          "19:00:00",
          "19:30:00",
          "20:00:00",
          "20:30:00",
          "21:00:00",
          "21:30:00",
          "22:00:00",
          "22:30:00",
          "23:00:00",
          "23:30:00"
         ],
         "xaxis": "x",
         "y": [
          16.649532710280372,
          17.326732673267326,
          16.076923076923077,
          15.689119170984457,
          14.055555555555555,
          12.770408163265307,
          10.893203883495145,
          10.177339901477833,
          8.66504854368932,
          9.4375,
          10.476190476190476,
          14.457627118644067,
          19.100840336134453,
          24.415966386554622,
          26.574380165289256,
          31.191666666666666,
          32.54545454545455,
          29.265560165975103,
          24.987603305785125,
          20.569037656903767,
          17.904564315352697,
          17.08786610878661,
          16.227848101265824,
          17.92050209205021,
          22.75619834710744,
          26.666666666666668,
          28.42016806722689,
          31.1,
          31.25,
          32.13333333333333,
          34.07949790794979,
          36.98765432098765,
          38.35,
          37.92181069958848,
          38.900826446280995,
          39.3099173553719,
          35.93032786885246,
          29.629166666666666,
          22.26890756302521,
          20.244725738396625,
          16.991596638655462,
          16.029411764705884,
          16.350230414746544,
          15.903930131004367,
          15.84331797235023,
          16.71875,
          17.617924528301888,
          18.407582938388625
         ],
         "yaxis": "y"
        },
        {
         "hovertemplate": "name_of_day=Wednesday<br>mean_hour=%{x}<br>mean=%{y}<extra></extra>",
         "legendgroup": "Wednesday",
         "line": {
          "color": "#00cc96",
          "dash": "solid"
         },
         "marker": {
          "symbol": "circle"
         },
         "mode": "lines",
         "name": "Wednesday",
         "orientation": "v",
         "showlegend": true,
         "type": "scatter",
         "x": [
          "00:00:00",
          "00:30:00",
          "01:00:00",
          "01:30:00",
          "02:00:00",
          "02:30:00",
          "03:00:00",
          "03:30:00",
          "04:00:00",
          "04:30:00",
          "05:00:00",
          "05:30:00",
          "06:00:00",
          "06:30:00",
          "07:00:00",
          "07:30:00",
          "08:00:00",
          "08:30:00",
          "09:00:00",
          "09:30:00",
          "10:00:00",
          "10:30:00",
          "11:00:00",
          "11:30:00",
          "12:00:00",
          "12:30:00",
          "13:00:00",
          "13:30:00",
          "14:00:00",
          "14:30:00",
          "15:00:00",
          "15:30:00",
          "16:00:00",
          "16:30:00",
          "17:00:00",
          "17:30:00",
          "18:00:00",
          "18:30:00",
          "19:00:00",
          "19:30:00",
          "20:00:00",
          "20:30:00",
          "21:00:00",
          "21:30:00",
          "22:00:00",
          "22:30:00",
          "23:00:00",
          "23:30:00"
         ],
         "xaxis": "x",
         "y": [
          16.747663551401867,
          17.05188679245283,
          17.380710659898476,
          19.273684210526316,
          16.086734693877553,
          14.415300546448087,
          11.71859296482412,
          10.248756218905474,
          9.415458937198068,
          10.013452914798206,
          12.012820512820513,
          15.181034482758621,
          18.109704641350213,
          24.22553191489362,
          26.282700421940927,
          30.417721518987342,
          30.284518828451883,
          28.966101694915253,
          24.626050420168067,
          21.317991631799163,
          17.360995850622405,
          17.429166666666667,
          16.291666666666668,
          18.514644351464437,
          22.537815126050422,
          27.640167364016737,
          27.51260504201681,
          33.42259414225941,
          31.3625,
          32.7375,
          35.14767932489451,
          38.62447257383966,
          38.388429752066116,
          38.51046025104603,
          40.02469135802469,
          41.17916666666667,
          37.17226890756302,
          29.794117647058822,
          23.915966386554622,
          20.93305439330544,
          17.68487394957983,
          18.08974358974359,
          16.54954954954955,
          17.76958525345622,
          18.089201877934272,
          18.627906976744185,
          18.14903846153846,
          18.946859903381643
         ],
         "yaxis": "y"
        },
        {
         "hovertemplate": "name_of_day=Thursday<br>mean_hour=%{x}<br>mean=%{y}<extra></extra>",
         "legendgroup": "Thursday",
         "line": {
          "color": "#ab63fa",
          "dash": "solid"
         },
         "marker": {
          "symbol": "circle"
         },
         "mode": "lines",
         "name": "Thursday",
         "orientation": "v",
         "showlegend": true,
         "type": "scatter",
         "x": [
          "00:00:00",
          "00:30:00",
          "01:00:00",
          "01:30:00",
          "02:00:00",
          "02:30:00",
          "03:00:00",
          "03:30:00",
          "04:00:00",
          "04:30:00",
          "05:00:00",
          "05:30:00",
          "06:00:00",
          "06:30:00",
          "07:00:00",
          "07:30:00",
          "08:00:00",
          "08:30:00",
          "09:00:00",
          "09:30:00",
          "10:00:00",
          "10:30:00",
          "11:00:00",
          "11:30:00",
          "12:00:00",
          "12:30:00",
          "13:00:00",
          "13:30:00",
          "14:00:00",
          "14:30:00",
          "15:00:00",
          "15:30:00",
          "16:00:00",
          "16:30:00",
          "17:00:00",
          "17:30:00",
          "18:00:00",
          "18:30:00",
          "19:00:00",
          "19:30:00",
          "20:00:00",
          "20:30:00",
          "21:00:00",
          "21:30:00",
          "22:00:00",
          "22:30:00",
          "23:00:00",
          "23:30:00"
         ],
         "xaxis": "x",
         "y": [
          17.78921568627451,
          18.78894472361809,
          18.178947368421053,
          18.44559585492228,
          16.805263157894736,
          15.303370786516854,
          12.127450980392156,
          11.08173076923077,
          9.651960784313726,
          10.47906976744186,
          11.648068669527897,
          16.310344827586206,
          18.65811965811966,
          24.18220338983051,
          26.084033613445378,
          31.809322033898304,
          30.110169491525422,
          28.485355648535563,
          23.83682008368201,
          20.873949579831933,
          18.354430379746834,
          18.323529411764707,
          17.247863247863247,
          18.92887029288703,
          22.763713080168777,
          28.569037656903767,
          27.543568464730292,
          31.502092050209207,
          30.402489626556015,
          34.087136929460584,
          34.840816326530614,
          38.11570247933884,
          38.6597510373444,
          39.82304526748971,
          40.11020408163265,
          41.07377049180328,
          36.11020408163265,
          30.65289256198347,
          24.70539419087137,
          21.175,
          17.608333333333334,
          17.729957805907173,
          17.934883720930234,
          17.774774774774773,
          16.490825688073393,
          16.934497816593886,
          16.178899082568808,
          16.285714285714285
         ],
         "yaxis": "y"
        },
        {
         "hovertemplate": "name_of_day=Friday<br>mean_hour=%{x}<br>mean=%{y}<extra></extra>",
         "legendgroup": "Friday",
         "line": {
          "color": "#FFA15A",
          "dash": "solid"
         },
         "marker": {
          "symbol": "circle"
         },
         "mode": "lines",
         "name": "Friday",
         "orientation": "v",
         "showlegend": true,
         "type": "scatter",
         "x": [
          "00:00:00",
          "00:30:00",
          "01:00:00",
          "01:30:00",
          "02:00:00",
          "02:30:00",
          "03:00:00",
          "03:30:00",
          "04:00:00",
          "04:30:00",
          "05:00:00",
          "05:30:00",
          "06:00:00",
          "06:30:00",
          "07:00:00",
          "07:30:00",
          "08:00:00",
          "08:30:00",
          "09:00:00",
          "09:30:00",
          "10:00:00",
          "10:30:00",
          "11:00:00",
          "11:30:00",
          "12:00:00",
          "12:30:00",
          "13:00:00",
          "13:30:00",
          "14:00:00",
          "14:30:00",
          "15:00:00",
          "15:30:00",
          "16:00:00",
          "16:30:00",
          "17:00:00",
          "17:30:00",
          "18:00:00",
          "18:30:00",
          "19:00:00",
          "19:30:00",
          "20:00:00",
          "20:30:00",
          "21:00:00",
          "21:30:00",
          "22:00:00",
          "22:30:00",
          "23:00:00",
          "23:30:00"
         ],
         "xaxis": "x",
         "y": [
          15.446511627906977,
          16.106280193236714,
          16.16580310880829,
          15.894179894179894,
          14.097435897435897,
          12.349753694581281,
          10.771028037383177,
          10.21531100478469,
          9.01923076923077,
          10.315315315315315,
          12.649122807017545,
          15.068085106382979,
          17.521551724137932,
          21.39406779661017,
          23.53191489361702,
          26.415254237288135,
          26.71794871794872,
          24.241525423728813,
          21.512820512820515,
          19.158798283261802,
          18.3781512605042,
          17.798283261802574,
          18.99148936170213,
          21.54201680672269,
          25.641350210970465,
          32.220338983050844,
          30.608510638297872,
          33.45957446808511,
          32.14767932489451,
          36.59493670886076,
          38.175213675213676,
          41.81434599156118,
          40.61087866108787,
          42.45338983050848,
          41.71367521367522,
          40.58403361344538,
          37.1244635193133,
          31.365957446808512,
          25.10683760683761,
          22.130434782608695,
          18.235042735042736,
          18.491304347826087,
          16.316279069767443,
          17.118721461187214,
          16.910798122065728,
          18.375,
          17.38095238095238,
          17.22488038277512
         ],
         "yaxis": "y"
        },
        {
         "hovertemplate": "name_of_day=Saturday<br>mean_hour=%{x}<br>mean=%{y}<extra></extra>",
         "legendgroup": "Saturday",
         "line": {
          "color": "#19d3f3",
          "dash": "solid"
         },
         "marker": {
          "symbol": "circle"
         },
         "mode": "lines",
         "name": "Saturday",
         "orientation": "v",
         "showlegend": true,
         "type": "scatter",
         "x": [
          "00:00:00",
          "00:30:00",
          "01:00:00",
          "01:30:00",
          "02:00:00",
          "02:30:00",
          "03:00:00",
          "03:30:00",
          "04:00:00",
          "04:30:00",
          "05:00:00",
          "05:30:00",
          "06:00:00",
          "06:30:00",
          "07:00:00",
          "07:30:00",
          "08:00:00",
          "08:30:00",
          "09:00:00",
          "09:30:00",
          "10:00:00",
          "10:30:00",
          "11:00:00",
          "11:30:00",
          "12:00:00",
          "12:30:00",
          "13:00:00",
          "13:30:00",
          "14:00:00",
          "14:30:00",
          "15:00:00",
          "15:30:00",
          "16:00:00",
          "16:30:00",
          "17:00:00",
          "17:30:00",
          "18:00:00",
          "18:30:00",
          "19:00:00",
          "19:30:00",
          "20:00:00",
          "20:30:00",
          "21:00:00",
          "21:30:00",
          "22:00:00",
          "22:30:00",
          "23:00:00",
          "23:30:00"
         ],
         "xaxis": "x",
         "y": [
          16.75121951219512,
          15.899038461538462,
          15.281553398058252,
          17.01923076923077,
          15.609756097560975,
          15.555,
          12.202898550724637,
          12.211340206185566,
          10.688442211055277,
          9.83743842364532,
          9.718446601941748,
          9.884615384615385,
          10.233502538071066,
          10.21,
          10.004716981132075,
          10.596938775510203,
          10.87,
          10.123711340206185,
          9.769607843137255,
          10.130434782608695,
          10.856435643564357,
          10.94088669950739,
          11.085,
          11.255924170616113,
          13.692660550458715,
          14.27027027027027,
          15.783018867924529,
          16.42792792792793,
          16.378995433789953,
          17.32420091324201,
          15.417840375586854,
          16.81042654028436,
          15.748858447488585,
          15.674311926605505,
          15.622119815668203,
          16.698564593301434,
          16.046082949308754,
          16.190697674418605,
          15.576744186046511,
          15.341584158415841,
          15.794117647058824,
          15.129186602870814,
          15.024630541871922,
          15.533980582524272,
          14.875598086124402,
          14.102803738317757,
          13.652777777777779,
          13.90990990990991
         ],
         "yaxis": "y"
        },
        {
         "hovertemplate": "name_of_day=Sunday<br>mean_hour=%{x}<br>mean=%{y}<extra></extra>",
         "legendgroup": "Sunday",
         "line": {
          "color": "#FF6692",
          "dash": "solid"
         },
         "marker": {
          "symbol": "circle"
         },
         "mode": "lines",
         "name": "Sunday",
         "orientation": "v",
         "showlegend": true,
         "type": "scatter",
         "x": [
          "00:00:00",
          "00:30:00",
          "01:00:00",
          "01:30:00",
          "02:00:00",
          "02:30:00",
          "03:00:00",
          "03:30:00",
          "04:00:00",
          "04:30:00",
          "05:00:00",
          "05:30:00",
          "06:00:00",
          "06:30:00",
          "07:00:00",
          "07:30:00",
          "08:00:00",
          "08:30:00",
          "09:00:00",
          "09:30:00",
          "10:00:00",
          "10:30:00",
          "11:00:00",
          "11:30:00",
          "12:00:00",
          "12:30:00",
          "13:00:00",
          "13:30:00",
          "14:00:00",
          "14:30:00",
          "15:00:00",
          "15:30:00",
          "16:00:00",
          "16:30:00",
          "17:00:00",
          "17:30:00",
          "18:00:00",
          "18:30:00",
          "19:00:00",
          "19:30:00",
          "20:00:00",
          "20:30:00",
          "21:00:00",
          "21:30:00",
          "22:00:00",
          "22:30:00",
          "23:00:00",
          "23:30:00"
         ],
         "xaxis": "x",
         "y": [
          13.639423076923077,
          13.967441860465117,
          13.454106280193237,
          13.211981566820276,
          13.13551401869159,
          12.402777777777779,
          11.845794392523365,
          11.328502415458937,
          10.421052631578947,
          10.68421052631579,
          9.56279069767442,
          10.093896713615024,
          9.942028985507246,
          10.201923076923077,
          10.34020618556701,
          10.094059405940595,
          9.401015228426395,
          10.015075376884422,
          9.444444444444445,
          10.390374331550802,
          9.866995073891626,
          10.128571428571428,
          10.562189054726367,
          10.628571428571428,
          11.10952380952381,
          12.320754716981131,
          12.404761904761905,
          13.057142857142857,
          13.310679611650485,
          13.57943925233645,
          13.14354066985646,
          12.944954128440367,
          13.857843137254902,
          12.96788990825688,
          13.483720930232558,
          14.414746543778802,
          14.18348623853211,
          15.209523809523809,
          14.429245283018869,
          14.24537037037037,
          15.34010152284264,
          14.502487562189055,
          14.861538461538462,
          14.711538461538462,
          14.477386934673367,
          13.962085308056873,
          12.892018779342724,
          13.516129032258064
         ],
         "yaxis": "y"
        }
       ],
       "layout": {
        "legend": {
         "title": {
          "text": "name_of_day"
         },
         "tracegroupgap": 0
        },
        "margin": {
         "t": 60
        },
        "template": {
         "data": {
          "bar": [
           {
            "error_x": {
             "color": "#2a3f5f"
            },
            "error_y": {
             "color": "#2a3f5f"
            },
            "marker": {
             "line": {
              "color": "#E5ECF6",
              "width": 0.5
             },
             "pattern": {
              "fillmode": "overlay",
              "size": 10,
              "solidity": 0.2
             }
            },
            "type": "bar"
           }
          ],
          "barpolar": [
           {
            "marker": {
             "line": {
              "color": "#E5ECF6",
              "width": 0.5
             },
             "pattern": {
              "fillmode": "overlay",
              "size": 10,
              "solidity": 0.2
             }
            },
            "type": "barpolar"
           }
          ],
          "carpet": [
           {
            "aaxis": {
             "endlinecolor": "#2a3f5f",
             "gridcolor": "white",
             "linecolor": "white",
             "minorgridcolor": "white",
             "startlinecolor": "#2a3f5f"
            },
            "baxis": {
             "endlinecolor": "#2a3f5f",
             "gridcolor": "white",
             "linecolor": "white",
             "minorgridcolor": "white",
             "startlinecolor": "#2a3f5f"
            },
            "type": "carpet"
           }
          ],
          "choropleth": [
           {
            "colorbar": {
             "outlinewidth": 0,
             "ticks": ""
            },
            "type": "choropleth"
           }
          ],
          "contour": [
           {
            "colorbar": {
             "outlinewidth": 0,
             "ticks": ""
            },
            "colorscale": [
             [
              0,
              "#0d0887"
             ],
             [
              0.1111111111111111,
              "#46039f"
             ],
             [
              0.2222222222222222,
              "#7201a8"
             ],
             [
              0.3333333333333333,
              "#9c179e"
             ],
             [
              0.4444444444444444,
              "#bd3786"
             ],
             [
              0.5555555555555556,
              "#d8576b"
             ],
             [
              0.6666666666666666,
              "#ed7953"
             ],
             [
              0.7777777777777778,
              "#fb9f3a"
             ],
             [
              0.8888888888888888,
              "#fdca26"
             ],
             [
              1,
              "#f0f921"
             ]
            ],
            "type": "contour"
           }
          ],
          "contourcarpet": [
           {
            "colorbar": {
             "outlinewidth": 0,
             "ticks": ""
            },
            "type": "contourcarpet"
           }
          ],
          "heatmap": [
           {
            "colorbar": {
             "outlinewidth": 0,
             "ticks": ""
            },
            "colorscale": [
             [
              0,
              "#0d0887"
             ],
             [
              0.1111111111111111,
              "#46039f"
             ],
             [
              0.2222222222222222,
              "#7201a8"
             ],
             [
              0.3333333333333333,
              "#9c179e"
             ],
             [
              0.4444444444444444,
              "#bd3786"
             ],
             [
              0.5555555555555556,
              "#d8576b"
             ],
             [
              0.6666666666666666,
              "#ed7953"
             ],
             [
              0.7777777777777778,
              "#fb9f3a"
             ],
             [
              0.8888888888888888,
              "#fdca26"
             ],
             [
              1,
              "#f0f921"
             ]
            ],
            "type": "heatmap"
           }
          ],
          "heatmapgl": [
           {
            "colorbar": {
             "outlinewidth": 0,
             "ticks": ""
            },
            "colorscale": [
             [
              0,
              "#0d0887"
             ],
             [
              0.1111111111111111,
              "#46039f"
             ],
             [
              0.2222222222222222,
              "#7201a8"
             ],
             [
              0.3333333333333333,
              "#9c179e"
             ],
             [
              0.4444444444444444,
              "#bd3786"
             ],
             [
              0.5555555555555556,
              "#d8576b"
             ],
             [
              0.6666666666666666,
              "#ed7953"
             ],
             [
              0.7777777777777778,
              "#fb9f3a"
             ],
             [
              0.8888888888888888,
              "#fdca26"
             ],
             [
              1,
              "#f0f921"
             ]
            ],
            "type": "heatmapgl"
           }
          ],
          "histogram": [
           {
            "marker": {
             "pattern": {
              "fillmode": "overlay",
              "size": 10,
              "solidity": 0.2
             }
            },
            "type": "histogram"
           }
          ],
          "histogram2d": [
           {
            "colorbar": {
             "outlinewidth": 0,
             "ticks": ""
            },
            "colorscale": [
             [
              0,
              "#0d0887"
             ],
             [
              0.1111111111111111,
              "#46039f"
             ],
             [
              0.2222222222222222,
              "#7201a8"
             ],
             [
              0.3333333333333333,
              "#9c179e"
             ],
             [
              0.4444444444444444,
              "#bd3786"
             ],
             [
              0.5555555555555556,
              "#d8576b"
             ],
             [
              0.6666666666666666,
              "#ed7953"
             ],
             [
              0.7777777777777778,
              "#fb9f3a"
             ],
             [
              0.8888888888888888,
              "#fdca26"
             ],
             [
              1,
              "#f0f921"
             ]
            ],
            "type": "histogram2d"
           }
          ],
          "histogram2dcontour": [
           {
            "colorbar": {
             "outlinewidth": 0,
             "ticks": ""
            },
            "colorscale": [
             [
              0,
              "#0d0887"
             ],
             [
              0.1111111111111111,
              "#46039f"
             ],
             [
              0.2222222222222222,
              "#7201a8"
             ],
             [
              0.3333333333333333,
              "#9c179e"
             ],
             [
              0.4444444444444444,
              "#bd3786"
             ],
             [
              0.5555555555555556,
              "#d8576b"
             ],
             [
              0.6666666666666666,
              "#ed7953"
             ],
             [
              0.7777777777777778,
              "#fb9f3a"
             ],
             [
              0.8888888888888888,
              "#fdca26"
             ],
             [
              1,
              "#f0f921"
             ]
            ],
            "type": "histogram2dcontour"
           }
          ],
          "mesh3d": [
           {
            "colorbar": {
             "outlinewidth": 0,
             "ticks": ""
            },
            "type": "mesh3d"
           }
          ],
          "parcoords": [
           {
            "line": {
             "colorbar": {
              "outlinewidth": 0,
              "ticks": ""
             }
            },
            "type": "parcoords"
           }
          ],
          "pie": [
           {
            "automargin": true,
            "type": "pie"
           }
          ],
          "scatter": [
           {
            "marker": {
             "colorbar": {
              "outlinewidth": 0,
              "ticks": ""
             }
            },
            "type": "scatter"
           }
          ],
          "scatter3d": [
           {
            "line": {
             "colorbar": {
              "outlinewidth": 0,
              "ticks": ""
             }
            },
            "marker": {
             "colorbar": {
              "outlinewidth": 0,
              "ticks": ""
             }
            },
            "type": "scatter3d"
           }
          ],
          "scattercarpet": [
           {
            "marker": {
             "colorbar": {
              "outlinewidth": 0,
              "ticks": ""
             }
            },
            "type": "scattercarpet"
           }
          ],
          "scattergeo": [
           {
            "marker": {
             "colorbar": {
              "outlinewidth": 0,
              "ticks": ""
             }
            },
            "type": "scattergeo"
           }
          ],
          "scattergl": [
           {
            "marker": {
             "colorbar": {
              "outlinewidth": 0,
              "ticks": ""
             }
            },
            "type": "scattergl"
           }
          ],
          "scattermapbox": [
           {
            "marker": {
             "colorbar": {
              "outlinewidth": 0,
              "ticks": ""
             }
            },
            "type": "scattermapbox"
           }
          ],
          "scatterpolar": [
           {
            "marker": {
             "colorbar": {
              "outlinewidth": 0,
              "ticks": ""
             }
            },
            "type": "scatterpolar"
           }
          ],
          "scatterpolargl": [
           {
            "marker": {
             "colorbar": {
              "outlinewidth": 0,
              "ticks": ""
             }
            },
            "type": "scatterpolargl"
           }
          ],
          "scatterternary": [
           {
            "marker": {
             "colorbar": {
              "outlinewidth": 0,
              "ticks": ""
             }
            },
            "type": "scatterternary"
           }
          ],
          "surface": [
           {
            "colorbar": {
             "outlinewidth": 0,
             "ticks": ""
            },
            "colorscale": [
             [
              0,
              "#0d0887"
             ],
             [
              0.1111111111111111,
              "#46039f"
             ],
             [
              0.2222222222222222,
              "#7201a8"
             ],
             [
              0.3333333333333333,
              "#9c179e"
             ],
             [
              0.4444444444444444,
              "#bd3786"
             ],
             [
              0.5555555555555556,
              "#d8576b"
             ],
             [
              0.6666666666666666,
              "#ed7953"
             ],
             [
              0.7777777777777778,
              "#fb9f3a"
             ],
             [
              0.8888888888888888,
              "#fdca26"
             ],
             [
              1,
              "#f0f921"
             ]
            ],
            "type": "surface"
           }
          ],
          "table": [
           {
            "cells": {
             "fill": {
              "color": "#EBF0F8"
             },
             "line": {
              "color": "white"
             }
            },
            "header": {
             "fill": {
              "color": "#C8D4E3"
             },
             "line": {
              "color": "white"
             }
            },
            "type": "table"
           }
          ]
         },
         "layout": {
          "annotationdefaults": {
           "arrowcolor": "#2a3f5f",
           "arrowhead": 0,
           "arrowwidth": 1
          },
          "autotypenumbers": "strict",
          "coloraxis": {
           "colorbar": {
            "outlinewidth": 0,
            "ticks": ""
           }
          },
          "colorscale": {
           "diverging": [
            [
             0,
             "#8e0152"
            ],
            [
             0.1,
             "#c51b7d"
            ],
            [
             0.2,
             "#de77ae"
            ],
            [
             0.3,
             "#f1b6da"
            ],
            [
             0.4,
             "#fde0ef"
            ],
            [
             0.5,
             "#f7f7f7"
            ],
            [
             0.6,
             "#e6f5d0"
            ],
            [
             0.7,
             "#b8e186"
            ],
            [
             0.8,
             "#7fbc41"
            ],
            [
             0.9,
             "#4d9221"
            ],
            [
             1,
             "#276419"
            ]
           ],
           "sequential": [
            [
             0,
             "#0d0887"
            ],
            [
             0.1111111111111111,
             "#46039f"
            ],
            [
             0.2222222222222222,
             "#7201a8"
            ],
            [
             0.3333333333333333,
             "#9c179e"
            ],
            [
             0.4444444444444444,
             "#bd3786"
            ],
            [
             0.5555555555555556,
             "#d8576b"
            ],
            [
             0.6666666666666666,
             "#ed7953"
            ],
            [
             0.7777777777777778,
             "#fb9f3a"
            ],
            [
             0.8888888888888888,
             "#fdca26"
            ],
            [
             1,
             "#f0f921"
            ]
           ],
           "sequentialminus": [
            [
             0,
             "#0d0887"
            ],
            [
             0.1111111111111111,
             "#46039f"
            ],
            [
             0.2222222222222222,
             "#7201a8"
            ],
            [
             0.3333333333333333,
             "#9c179e"
            ],
            [
             0.4444444444444444,
             "#bd3786"
            ],
            [
             0.5555555555555556,
             "#d8576b"
            ],
            [
             0.6666666666666666,
             "#ed7953"
            ],
            [
             0.7777777777777778,
             "#fb9f3a"
            ],
            [
             0.8888888888888888,
             "#fdca26"
            ],
            [
             1,
             "#f0f921"
            ]
           ]
          },
          "colorway": [
           "#636efa",
           "#EF553B",
           "#00cc96",
           "#ab63fa",
           "#FFA15A",
           "#19d3f3",
           "#FF6692",
           "#B6E880",
           "#FF97FF",
           "#FECB52"
          ],
          "font": {
           "color": "#2a3f5f"
          },
          "geo": {
           "bgcolor": "white",
           "lakecolor": "white",
           "landcolor": "#E5ECF6",
           "showlakes": true,
           "showland": true,
           "subunitcolor": "white"
          },
          "hoverlabel": {
           "align": "left"
          },
          "hovermode": "closest",
          "mapbox": {
           "style": "light"
          },
          "paper_bgcolor": "white",
          "plot_bgcolor": "#E5ECF6",
          "polar": {
           "angularaxis": {
            "gridcolor": "white",
            "linecolor": "white",
            "ticks": ""
           },
           "bgcolor": "#E5ECF6",
           "radialaxis": {
            "gridcolor": "white",
            "linecolor": "white",
            "ticks": ""
           }
          },
          "scene": {
           "xaxis": {
            "backgroundcolor": "#E5ECF6",
            "gridcolor": "white",
            "gridwidth": 2,
            "linecolor": "white",
            "showbackground": true,
            "ticks": "",
            "zerolinecolor": "white"
           },
           "yaxis": {
            "backgroundcolor": "#E5ECF6",
            "gridcolor": "white",
            "gridwidth": 2,
            "linecolor": "white",
            "showbackground": true,
            "ticks": "",
            "zerolinecolor": "white"
           },
           "zaxis": {
            "backgroundcolor": "#E5ECF6",
            "gridcolor": "white",
            "gridwidth": 2,
            "linecolor": "white",
            "showbackground": true,
            "ticks": "",
            "zerolinecolor": "white"
           }
          },
          "shapedefaults": {
           "line": {
            "color": "#2a3f5f"
           }
          },
          "ternary": {
           "aaxis": {
            "gridcolor": "white",
            "linecolor": "white",
            "ticks": ""
           },
           "baxis": {
            "gridcolor": "white",
            "linecolor": "white",
            "ticks": ""
           },
           "bgcolor": "#E5ECF6",
           "caxis": {
            "gridcolor": "white",
            "linecolor": "white",
            "ticks": ""
           }
          },
          "title": {
           "x": 0.05
          },
          "xaxis": {
           "automargin": true,
           "gridcolor": "white",
           "linecolor": "white",
           "ticks": "",
           "title": {
            "standoff": 15
           },
           "zerolinecolor": "white",
           "zerolinewidth": 2
          },
          "yaxis": {
           "automargin": true,
           "gridcolor": "white",
           "linecolor": "white",
           "ticks": "",
           "title": {
            "standoff": 15
           },
           "zerolinecolor": "white",
           "zerolinewidth": 2
          }
         }
        },
        "xaxis": {
         "anchor": "y",
         "domain": [
          0,
          1
         ],
         "title": {
          "text": "mean_hour"
         }
        },
        "yaxis": {
         "anchor": "x",
         "domain": [
          0,
          1
         ],
         "title": {
          "text": "mean"
         }
        }
       }
      },
      "text/html": [
       "<div>                            <div id=\"f9987439-4e7b-41cc-89cb-3d9685b9a98e\" class=\"plotly-graph-div\" style=\"height:525px; width:100%;\"></div>            <script type=\"text/javascript\">                require([\"plotly\"], function(Plotly) {                    window.PLOTLYENV=window.PLOTLYENV || {};                                    if (document.getElementById(\"f9987439-4e7b-41cc-89cb-3d9685b9a98e\")) {                    Plotly.newPlot(                        \"f9987439-4e7b-41cc-89cb-3d9685b9a98e\",                        [{\"hovertemplate\":\"name_of_day=Monday<br>mean_hour=%{x}<br>mean=%{y}<extra></extra>\",\"legendgroup\":\"Monday\",\"line\":{\"color\":\"#636efa\",\"dash\":\"solid\"},\"marker\":{\"symbol\":\"circle\"},\"mode\":\"lines\",\"name\":\"Monday\",\"orientation\":\"v\",\"showlegend\":true,\"x\":[\"00:00:00\",\"00:30:00\",\"01:00:00\",\"01:30:00\",\"02:00:00\",\"02:30:00\",\"03:00:00\",\"03:30:00\",\"04:00:00\",\"04:30:00\",\"05:00:00\",\"05:30:00\",\"06:00:00\",\"06:30:00\",\"07:00:00\",\"07:30:00\",\"08:00:00\",\"08:30:00\",\"09:00:00\",\"09:30:00\",\"10:00:00\",\"10:30:00\",\"11:00:00\",\"11:30:00\",\"12:00:00\",\"12:30:00\",\"13:00:00\",\"13:30:00\",\"14:00:00\",\"14:30:00\",\"15:00:00\",\"15:30:00\",\"16:00:00\",\"16:30:00\",\"17:00:00\",\"17:30:00\",\"18:00:00\",\"18:30:00\",\"19:00:00\",\"19:30:00\",\"20:00:00\",\"20:30:00\",\"21:00:00\",\"21:30:00\",\"22:00:00\",\"22:30:00\",\"23:00:00\",\"23:30:00\"],\"xaxis\":\"x\",\"y\":[11.621004566210045,12.923809523809524,11.092682926829267,12.476923076923077,11.70935960591133,12.045685279187817,10.736842105263158,10.745192307692308,9.79611650485437,11.013452914798206,12.021186440677965,16.593220338983052,19.46808510638298,22.9875,25.282700421940927,28.620833333333334,28.733050847457626,25.940928270042193,21.995833333333334,19.343220338983052,17.29237288135593,16.11392405063291,16.569620253164558,18.470588235294116,21.841666666666665,25.675,26.07983193277311,30.10924369747899,29.05,31.946280991735538,32.391666666666666,36.016597510373444,35.84583333333333,36.83682008368201,36.211618257261414,35.86610878661088,31.928270042194093,27.289915966386555,21.843220338983052,19.323651452282157,17.244635193133046,16.639830508474578,15.217194570135746,15.88646288209607,15.802752293577981,16.54054054054054,15.595348837209302,16.729857819905213],\"yaxis\":\"y\",\"type\":\"scatter\"},{\"hovertemplate\":\"name_of_day=Tuesday<br>mean_hour=%{x}<br>mean=%{y}<extra></extra>\",\"legendgroup\":\"Tuesday\",\"line\":{\"color\":\"#EF553B\",\"dash\":\"solid\"},\"marker\":{\"symbol\":\"circle\"},\"mode\":\"lines\",\"name\":\"Tuesday\",\"orientation\":\"v\",\"showlegend\":true,\"x\":[\"00:00:00\",\"00:30:00\",\"01:00:00\",\"01:30:00\",\"02:00:00\",\"02:30:00\",\"03:00:00\",\"03:30:00\",\"04:00:00\",\"04:30:00\",\"05:00:00\",\"05:30:00\",\"06:00:00\",\"06:30:00\",\"07:00:00\",\"07:30:00\",\"08:00:00\",\"08:30:00\",\"09:00:00\",\"09:30:00\",\"10:00:00\",\"10:30:00\",\"11:00:00\",\"11:30:00\",\"12:00:00\",\"12:30:00\",\"13:00:00\",\"13:30:00\",\"14:00:00\",\"14:30:00\",\"15:00:00\",\"15:30:00\",\"16:00:00\",\"16:30:00\",\"17:00:00\",\"17:30:00\",\"18:00:00\",\"18:30:00\",\"19:00:00\",\"19:30:00\",\"20:00:00\",\"20:30:00\",\"21:00:00\",\"21:30:00\",\"22:00:00\",\"22:30:00\",\"23:00:00\",\"23:30:00\"],\"xaxis\":\"x\",\"y\":[16.649532710280372,17.326732673267326,16.076923076923077,15.689119170984457,14.055555555555555,12.770408163265307,10.893203883495145,10.177339901477833,8.66504854368932,9.4375,10.476190476190476,14.457627118644067,19.100840336134453,24.415966386554622,26.574380165289256,31.191666666666666,32.54545454545455,29.265560165975103,24.987603305785125,20.569037656903767,17.904564315352697,17.08786610878661,16.227848101265824,17.92050209205021,22.75619834710744,26.666666666666668,28.42016806722689,31.1,31.25,32.13333333333333,34.07949790794979,36.98765432098765,38.35,37.92181069958848,38.900826446280995,39.3099173553719,35.93032786885246,29.629166666666666,22.26890756302521,20.244725738396625,16.991596638655462,16.029411764705884,16.350230414746544,15.903930131004367,15.84331797235023,16.71875,17.617924528301888,18.407582938388625],\"yaxis\":\"y\",\"type\":\"scatter\"},{\"hovertemplate\":\"name_of_day=Wednesday<br>mean_hour=%{x}<br>mean=%{y}<extra></extra>\",\"legendgroup\":\"Wednesday\",\"line\":{\"color\":\"#00cc96\",\"dash\":\"solid\"},\"marker\":{\"symbol\":\"circle\"},\"mode\":\"lines\",\"name\":\"Wednesday\",\"orientation\":\"v\",\"showlegend\":true,\"x\":[\"00:00:00\",\"00:30:00\",\"01:00:00\",\"01:30:00\",\"02:00:00\",\"02:30:00\",\"03:00:00\",\"03:30:00\",\"04:00:00\",\"04:30:00\",\"05:00:00\",\"05:30:00\",\"06:00:00\",\"06:30:00\",\"07:00:00\",\"07:30:00\",\"08:00:00\",\"08:30:00\",\"09:00:00\",\"09:30:00\",\"10:00:00\",\"10:30:00\",\"11:00:00\",\"11:30:00\",\"12:00:00\",\"12:30:00\",\"13:00:00\",\"13:30:00\",\"14:00:00\",\"14:30:00\",\"15:00:00\",\"15:30:00\",\"16:00:00\",\"16:30:00\",\"17:00:00\",\"17:30:00\",\"18:00:00\",\"18:30:00\",\"19:00:00\",\"19:30:00\",\"20:00:00\",\"20:30:00\",\"21:00:00\",\"21:30:00\",\"22:00:00\",\"22:30:00\",\"23:00:00\",\"23:30:00\"],\"xaxis\":\"x\",\"y\":[16.747663551401867,17.05188679245283,17.380710659898476,19.273684210526316,16.086734693877553,14.415300546448087,11.71859296482412,10.248756218905474,9.415458937198068,10.013452914798206,12.012820512820513,15.181034482758621,18.109704641350213,24.22553191489362,26.282700421940927,30.417721518987342,30.284518828451883,28.966101694915253,24.626050420168067,21.317991631799163,17.360995850622405,17.429166666666667,16.291666666666668,18.514644351464437,22.537815126050422,27.640167364016737,27.51260504201681,33.42259414225941,31.3625,32.7375,35.14767932489451,38.62447257383966,38.388429752066116,38.51046025104603,40.02469135802469,41.17916666666667,37.17226890756302,29.794117647058822,23.915966386554622,20.93305439330544,17.68487394957983,18.08974358974359,16.54954954954955,17.76958525345622,18.089201877934272,18.627906976744185,18.14903846153846,18.946859903381643],\"yaxis\":\"y\",\"type\":\"scatter\"},{\"hovertemplate\":\"name_of_day=Thursday<br>mean_hour=%{x}<br>mean=%{y}<extra></extra>\",\"legendgroup\":\"Thursday\",\"line\":{\"color\":\"#ab63fa\",\"dash\":\"solid\"},\"marker\":{\"symbol\":\"circle\"},\"mode\":\"lines\",\"name\":\"Thursday\",\"orientation\":\"v\",\"showlegend\":true,\"x\":[\"00:00:00\",\"00:30:00\",\"01:00:00\",\"01:30:00\",\"02:00:00\",\"02:30:00\",\"03:00:00\",\"03:30:00\",\"04:00:00\",\"04:30:00\",\"05:00:00\",\"05:30:00\",\"06:00:00\",\"06:30:00\",\"07:00:00\",\"07:30:00\",\"08:00:00\",\"08:30:00\",\"09:00:00\",\"09:30:00\",\"10:00:00\",\"10:30:00\",\"11:00:00\",\"11:30:00\",\"12:00:00\",\"12:30:00\",\"13:00:00\",\"13:30:00\",\"14:00:00\",\"14:30:00\",\"15:00:00\",\"15:30:00\",\"16:00:00\",\"16:30:00\",\"17:00:00\",\"17:30:00\",\"18:00:00\",\"18:30:00\",\"19:00:00\",\"19:30:00\",\"20:00:00\",\"20:30:00\",\"21:00:00\",\"21:30:00\",\"22:00:00\",\"22:30:00\",\"23:00:00\",\"23:30:00\"],\"xaxis\":\"x\",\"y\":[17.78921568627451,18.78894472361809,18.178947368421053,18.44559585492228,16.805263157894736,15.303370786516854,12.127450980392156,11.08173076923077,9.651960784313726,10.47906976744186,11.648068669527897,16.310344827586206,18.65811965811966,24.18220338983051,26.084033613445378,31.809322033898304,30.110169491525422,28.485355648535563,23.83682008368201,20.873949579831933,18.354430379746834,18.323529411764707,17.247863247863247,18.92887029288703,22.763713080168777,28.569037656903767,27.543568464730292,31.502092050209207,30.402489626556015,34.087136929460584,34.840816326530614,38.11570247933884,38.6597510373444,39.82304526748971,40.11020408163265,41.07377049180328,36.11020408163265,30.65289256198347,24.70539419087137,21.175,17.608333333333334,17.729957805907173,17.934883720930234,17.774774774774773,16.490825688073393,16.934497816593886,16.178899082568808,16.285714285714285],\"yaxis\":\"y\",\"type\":\"scatter\"},{\"hovertemplate\":\"name_of_day=Friday<br>mean_hour=%{x}<br>mean=%{y}<extra></extra>\",\"legendgroup\":\"Friday\",\"line\":{\"color\":\"#FFA15A\",\"dash\":\"solid\"},\"marker\":{\"symbol\":\"circle\"},\"mode\":\"lines\",\"name\":\"Friday\",\"orientation\":\"v\",\"showlegend\":true,\"x\":[\"00:00:00\",\"00:30:00\",\"01:00:00\",\"01:30:00\",\"02:00:00\",\"02:30:00\",\"03:00:00\",\"03:30:00\",\"04:00:00\",\"04:30:00\",\"05:00:00\",\"05:30:00\",\"06:00:00\",\"06:30:00\",\"07:00:00\",\"07:30:00\",\"08:00:00\",\"08:30:00\",\"09:00:00\",\"09:30:00\",\"10:00:00\",\"10:30:00\",\"11:00:00\",\"11:30:00\",\"12:00:00\",\"12:30:00\",\"13:00:00\",\"13:30:00\",\"14:00:00\",\"14:30:00\",\"15:00:00\",\"15:30:00\",\"16:00:00\",\"16:30:00\",\"17:00:00\",\"17:30:00\",\"18:00:00\",\"18:30:00\",\"19:00:00\",\"19:30:00\",\"20:00:00\",\"20:30:00\",\"21:00:00\",\"21:30:00\",\"22:00:00\",\"22:30:00\",\"23:00:00\",\"23:30:00\"],\"xaxis\":\"x\",\"y\":[15.446511627906977,16.106280193236714,16.16580310880829,15.894179894179894,14.097435897435897,12.349753694581281,10.771028037383177,10.21531100478469,9.01923076923077,10.315315315315315,12.649122807017545,15.068085106382979,17.521551724137932,21.39406779661017,23.53191489361702,26.415254237288135,26.71794871794872,24.241525423728813,21.512820512820515,19.158798283261802,18.3781512605042,17.798283261802574,18.99148936170213,21.54201680672269,25.641350210970465,32.220338983050844,30.608510638297872,33.45957446808511,32.14767932489451,36.59493670886076,38.175213675213676,41.81434599156118,40.61087866108787,42.45338983050848,41.71367521367522,40.58403361344538,37.1244635193133,31.365957446808512,25.10683760683761,22.130434782608695,18.235042735042736,18.491304347826087,16.316279069767443,17.118721461187214,16.910798122065728,18.375,17.38095238095238,17.22488038277512],\"yaxis\":\"y\",\"type\":\"scatter\"},{\"hovertemplate\":\"name_of_day=Saturday<br>mean_hour=%{x}<br>mean=%{y}<extra></extra>\",\"legendgroup\":\"Saturday\",\"line\":{\"color\":\"#19d3f3\",\"dash\":\"solid\"},\"marker\":{\"symbol\":\"circle\"},\"mode\":\"lines\",\"name\":\"Saturday\",\"orientation\":\"v\",\"showlegend\":true,\"x\":[\"00:00:00\",\"00:30:00\",\"01:00:00\",\"01:30:00\",\"02:00:00\",\"02:30:00\",\"03:00:00\",\"03:30:00\",\"04:00:00\",\"04:30:00\",\"05:00:00\",\"05:30:00\",\"06:00:00\",\"06:30:00\",\"07:00:00\",\"07:30:00\",\"08:00:00\",\"08:30:00\",\"09:00:00\",\"09:30:00\",\"10:00:00\",\"10:30:00\",\"11:00:00\",\"11:30:00\",\"12:00:00\",\"12:30:00\",\"13:00:00\",\"13:30:00\",\"14:00:00\",\"14:30:00\",\"15:00:00\",\"15:30:00\",\"16:00:00\",\"16:30:00\",\"17:00:00\",\"17:30:00\",\"18:00:00\",\"18:30:00\",\"19:00:00\",\"19:30:00\",\"20:00:00\",\"20:30:00\",\"21:00:00\",\"21:30:00\",\"22:00:00\",\"22:30:00\",\"23:00:00\",\"23:30:00\"],\"xaxis\":\"x\",\"y\":[16.75121951219512,15.899038461538462,15.281553398058252,17.01923076923077,15.609756097560975,15.555,12.202898550724637,12.211340206185566,10.688442211055277,9.83743842364532,9.718446601941748,9.884615384615385,10.233502538071066,10.21,10.004716981132075,10.596938775510203,10.87,10.123711340206185,9.769607843137255,10.130434782608695,10.856435643564357,10.94088669950739,11.085,11.255924170616113,13.692660550458715,14.27027027027027,15.783018867924529,16.42792792792793,16.378995433789953,17.32420091324201,15.417840375586854,16.81042654028436,15.748858447488585,15.674311926605505,15.622119815668203,16.698564593301434,16.046082949308754,16.190697674418605,15.576744186046511,15.341584158415841,15.794117647058824,15.129186602870814,15.024630541871922,15.533980582524272,14.875598086124402,14.102803738317757,13.652777777777779,13.90990990990991],\"yaxis\":\"y\",\"type\":\"scatter\"},{\"hovertemplate\":\"name_of_day=Sunday<br>mean_hour=%{x}<br>mean=%{y}<extra></extra>\",\"legendgroup\":\"Sunday\",\"line\":{\"color\":\"#FF6692\",\"dash\":\"solid\"},\"marker\":{\"symbol\":\"circle\"},\"mode\":\"lines\",\"name\":\"Sunday\",\"orientation\":\"v\",\"showlegend\":true,\"x\":[\"00:00:00\",\"00:30:00\",\"01:00:00\",\"01:30:00\",\"02:00:00\",\"02:30:00\",\"03:00:00\",\"03:30:00\",\"04:00:00\",\"04:30:00\",\"05:00:00\",\"05:30:00\",\"06:00:00\",\"06:30:00\",\"07:00:00\",\"07:30:00\",\"08:00:00\",\"08:30:00\",\"09:00:00\",\"09:30:00\",\"10:00:00\",\"10:30:00\",\"11:00:00\",\"11:30:00\",\"12:00:00\",\"12:30:00\",\"13:00:00\",\"13:30:00\",\"14:00:00\",\"14:30:00\",\"15:00:00\",\"15:30:00\",\"16:00:00\",\"16:30:00\",\"17:00:00\",\"17:30:00\",\"18:00:00\",\"18:30:00\",\"19:00:00\",\"19:30:00\",\"20:00:00\",\"20:30:00\",\"21:00:00\",\"21:30:00\",\"22:00:00\",\"22:30:00\",\"23:00:00\",\"23:30:00\"],\"xaxis\":\"x\",\"y\":[13.639423076923077,13.967441860465117,13.454106280193237,13.211981566820276,13.13551401869159,12.402777777777779,11.845794392523365,11.328502415458937,10.421052631578947,10.68421052631579,9.56279069767442,10.093896713615024,9.942028985507246,10.201923076923077,10.34020618556701,10.094059405940595,9.401015228426395,10.015075376884422,9.444444444444445,10.390374331550802,9.866995073891626,10.128571428571428,10.562189054726367,10.628571428571428,11.10952380952381,12.320754716981131,12.404761904761905,13.057142857142857,13.310679611650485,13.57943925233645,13.14354066985646,12.944954128440367,13.857843137254902,12.96788990825688,13.483720930232558,14.414746543778802,14.18348623853211,15.209523809523809,14.429245283018869,14.24537037037037,15.34010152284264,14.502487562189055,14.861538461538462,14.711538461538462,14.477386934673367,13.962085308056873,12.892018779342724,13.516129032258064],\"yaxis\":\"y\",\"type\":\"scatter\"}],                        {\"template\":{\"data\":{\"bar\":[{\"error_x\":{\"color\":\"#2a3f5f\"},\"error_y\":{\"color\":\"#2a3f5f\"},\"marker\":{\"line\":{\"color\":\"#E5ECF6\",\"width\":0.5},\"pattern\":{\"fillmode\":\"overlay\",\"size\":10,\"solidity\":0.2}},\"type\":\"bar\"}],\"barpolar\":[{\"marker\":{\"line\":{\"color\":\"#E5ECF6\",\"width\":0.5},\"pattern\":{\"fillmode\":\"overlay\",\"size\":10,\"solidity\":0.2}},\"type\":\"barpolar\"}],\"carpet\":[{\"aaxis\":{\"endlinecolor\":\"#2a3f5f\",\"gridcolor\":\"white\",\"linecolor\":\"white\",\"minorgridcolor\":\"white\",\"startlinecolor\":\"#2a3f5f\"},\"baxis\":{\"endlinecolor\":\"#2a3f5f\",\"gridcolor\":\"white\",\"linecolor\":\"white\",\"minorgridcolor\":\"white\",\"startlinecolor\":\"#2a3f5f\"},\"type\":\"carpet\"}],\"choropleth\":[{\"colorbar\":{\"outlinewidth\":0,\"ticks\":\"\"},\"type\":\"choropleth\"}],\"contour\":[{\"colorbar\":{\"outlinewidth\":0,\"ticks\":\"\"},\"colorscale\":[[0.0,\"#0d0887\"],[0.1111111111111111,\"#46039f\"],[0.2222222222222222,\"#7201a8\"],[0.3333333333333333,\"#9c179e\"],[0.4444444444444444,\"#bd3786\"],[0.5555555555555556,\"#d8576b\"],[0.6666666666666666,\"#ed7953\"],[0.7777777777777778,\"#fb9f3a\"],[0.8888888888888888,\"#fdca26\"],[1.0,\"#f0f921\"]],\"type\":\"contour\"}],\"contourcarpet\":[{\"colorbar\":{\"outlinewidth\":0,\"ticks\":\"\"},\"type\":\"contourcarpet\"}],\"heatmap\":[{\"colorbar\":{\"outlinewidth\":0,\"ticks\":\"\"},\"colorscale\":[[0.0,\"#0d0887\"],[0.1111111111111111,\"#46039f\"],[0.2222222222222222,\"#7201a8\"],[0.3333333333333333,\"#9c179e\"],[0.4444444444444444,\"#bd3786\"],[0.5555555555555556,\"#d8576b\"],[0.6666666666666666,\"#ed7953\"],[0.7777777777777778,\"#fb9f3a\"],[0.8888888888888888,\"#fdca26\"],[1.0,\"#f0f921\"]],\"type\":\"heatmap\"}],\"heatmapgl\":[{\"colorbar\":{\"outlinewidth\":0,\"ticks\":\"\"},\"colorscale\":[[0.0,\"#0d0887\"],[0.1111111111111111,\"#46039f\"],[0.2222222222222222,\"#7201a8\"],[0.3333333333333333,\"#9c179e\"],[0.4444444444444444,\"#bd3786\"],[0.5555555555555556,\"#d8576b\"],[0.6666666666666666,\"#ed7953\"],[0.7777777777777778,\"#fb9f3a\"],[0.8888888888888888,\"#fdca26\"],[1.0,\"#f0f921\"]],\"type\":\"heatmapgl\"}],\"histogram\":[{\"marker\":{\"pattern\":{\"fillmode\":\"overlay\",\"size\":10,\"solidity\":0.2}},\"type\":\"histogram\"}],\"histogram2d\":[{\"colorbar\":{\"outlinewidth\":0,\"ticks\":\"\"},\"colorscale\":[[0.0,\"#0d0887\"],[0.1111111111111111,\"#46039f\"],[0.2222222222222222,\"#7201a8\"],[0.3333333333333333,\"#9c179e\"],[0.4444444444444444,\"#bd3786\"],[0.5555555555555556,\"#d8576b\"],[0.6666666666666666,\"#ed7953\"],[0.7777777777777778,\"#fb9f3a\"],[0.8888888888888888,\"#fdca26\"],[1.0,\"#f0f921\"]],\"type\":\"histogram2d\"}],\"histogram2dcontour\":[{\"colorbar\":{\"outlinewidth\":0,\"ticks\":\"\"},\"colorscale\":[[0.0,\"#0d0887\"],[0.1111111111111111,\"#46039f\"],[0.2222222222222222,\"#7201a8\"],[0.3333333333333333,\"#9c179e\"],[0.4444444444444444,\"#bd3786\"],[0.5555555555555556,\"#d8576b\"],[0.6666666666666666,\"#ed7953\"],[0.7777777777777778,\"#fb9f3a\"],[0.8888888888888888,\"#fdca26\"],[1.0,\"#f0f921\"]],\"type\":\"histogram2dcontour\"}],\"mesh3d\":[{\"colorbar\":{\"outlinewidth\":0,\"ticks\":\"\"},\"type\":\"mesh3d\"}],\"parcoords\":[{\"line\":{\"colorbar\":{\"outlinewidth\":0,\"ticks\":\"\"}},\"type\":\"parcoords\"}],\"pie\":[{\"automargin\":true,\"type\":\"pie\"}],\"scatter\":[{\"marker\":{\"colorbar\":{\"outlinewidth\":0,\"ticks\":\"\"}},\"type\":\"scatter\"}],\"scatter3d\":[{\"line\":{\"colorbar\":{\"outlinewidth\":0,\"ticks\":\"\"}},\"marker\":{\"colorbar\":{\"outlinewidth\":0,\"ticks\":\"\"}},\"type\":\"scatter3d\"}],\"scattercarpet\":[{\"marker\":{\"colorbar\":{\"outlinewidth\":0,\"ticks\":\"\"}},\"type\":\"scattercarpet\"}],\"scattergeo\":[{\"marker\":{\"colorbar\":{\"outlinewidth\":0,\"ticks\":\"\"}},\"type\":\"scattergeo\"}],\"scattergl\":[{\"marker\":{\"colorbar\":{\"outlinewidth\":0,\"ticks\":\"\"}},\"type\":\"scattergl\"}],\"scattermapbox\":[{\"marker\":{\"colorbar\":{\"outlinewidth\":0,\"ticks\":\"\"}},\"type\":\"scattermapbox\"}],\"scatterpolar\":[{\"marker\":{\"colorbar\":{\"outlinewidth\":0,\"ticks\":\"\"}},\"type\":\"scatterpolar\"}],\"scatterpolargl\":[{\"marker\":{\"colorbar\":{\"outlinewidth\":0,\"ticks\":\"\"}},\"type\":\"scatterpolargl\"}],\"scatterternary\":[{\"marker\":{\"colorbar\":{\"outlinewidth\":0,\"ticks\":\"\"}},\"type\":\"scatterternary\"}],\"surface\":[{\"colorbar\":{\"outlinewidth\":0,\"ticks\":\"\"},\"colorscale\":[[0.0,\"#0d0887\"],[0.1111111111111111,\"#46039f\"],[0.2222222222222222,\"#7201a8\"],[0.3333333333333333,\"#9c179e\"],[0.4444444444444444,\"#bd3786\"],[0.5555555555555556,\"#d8576b\"],[0.6666666666666666,\"#ed7953\"],[0.7777777777777778,\"#fb9f3a\"],[0.8888888888888888,\"#fdca26\"],[1.0,\"#f0f921\"]],\"type\":\"surface\"}],\"table\":[{\"cells\":{\"fill\":{\"color\":\"#EBF0F8\"},\"line\":{\"color\":\"white\"}},\"header\":{\"fill\":{\"color\":\"#C8D4E3\"},\"line\":{\"color\":\"white\"}},\"type\":\"table\"}]},\"layout\":{\"annotationdefaults\":{\"arrowcolor\":\"#2a3f5f\",\"arrowhead\":0,\"arrowwidth\":1},\"autotypenumbers\":\"strict\",\"coloraxis\":{\"colorbar\":{\"outlinewidth\":0,\"ticks\":\"\"}},\"colorscale\":{\"diverging\":[[0,\"#8e0152\"],[0.1,\"#c51b7d\"],[0.2,\"#de77ae\"],[0.3,\"#f1b6da\"],[0.4,\"#fde0ef\"],[0.5,\"#f7f7f7\"],[0.6,\"#e6f5d0\"],[0.7,\"#b8e186\"],[0.8,\"#7fbc41\"],[0.9,\"#4d9221\"],[1,\"#276419\"]],\"sequential\":[[0.0,\"#0d0887\"],[0.1111111111111111,\"#46039f\"],[0.2222222222222222,\"#7201a8\"],[0.3333333333333333,\"#9c179e\"],[0.4444444444444444,\"#bd3786\"],[0.5555555555555556,\"#d8576b\"],[0.6666666666666666,\"#ed7953\"],[0.7777777777777778,\"#fb9f3a\"],[0.8888888888888888,\"#fdca26\"],[1.0,\"#f0f921\"]],\"sequentialminus\":[[0.0,\"#0d0887\"],[0.1111111111111111,\"#46039f\"],[0.2222222222222222,\"#7201a8\"],[0.3333333333333333,\"#9c179e\"],[0.4444444444444444,\"#bd3786\"],[0.5555555555555556,\"#d8576b\"],[0.6666666666666666,\"#ed7953\"],[0.7777777777777778,\"#fb9f3a\"],[0.8888888888888888,\"#fdca26\"],[1.0,\"#f0f921\"]]},\"colorway\":[\"#636efa\",\"#EF553B\",\"#00cc96\",\"#ab63fa\",\"#FFA15A\",\"#19d3f3\",\"#FF6692\",\"#B6E880\",\"#FF97FF\",\"#FECB52\"],\"font\":{\"color\":\"#2a3f5f\"},\"geo\":{\"bgcolor\":\"white\",\"lakecolor\":\"white\",\"landcolor\":\"#E5ECF6\",\"showlakes\":true,\"showland\":true,\"subunitcolor\":\"white\"},\"hoverlabel\":{\"align\":\"left\"},\"hovermode\":\"closest\",\"mapbox\":{\"style\":\"light\"},\"paper_bgcolor\":\"white\",\"plot_bgcolor\":\"#E5ECF6\",\"polar\":{\"angularaxis\":{\"gridcolor\":\"white\",\"linecolor\":\"white\",\"ticks\":\"\"},\"bgcolor\":\"#E5ECF6\",\"radialaxis\":{\"gridcolor\":\"white\",\"linecolor\":\"white\",\"ticks\":\"\"}},\"scene\":{\"xaxis\":{\"backgroundcolor\":\"#E5ECF6\",\"gridcolor\":\"white\",\"gridwidth\":2,\"linecolor\":\"white\",\"showbackground\":true,\"ticks\":\"\",\"zerolinecolor\":\"white\"},\"yaxis\":{\"backgroundcolor\":\"#E5ECF6\",\"gridcolor\":\"white\",\"gridwidth\":2,\"linecolor\":\"white\",\"showbackground\":true,\"ticks\":\"\",\"zerolinecolor\":\"white\"},\"zaxis\":{\"backgroundcolor\":\"#E5ECF6\",\"gridcolor\":\"white\",\"gridwidth\":2,\"linecolor\":\"white\",\"showbackground\":true,\"ticks\":\"\",\"zerolinecolor\":\"white\"}},\"shapedefaults\":{\"line\":{\"color\":\"#2a3f5f\"}},\"ternary\":{\"aaxis\":{\"gridcolor\":\"white\",\"linecolor\":\"white\",\"ticks\":\"\"},\"baxis\":{\"gridcolor\":\"white\",\"linecolor\":\"white\",\"ticks\":\"\"},\"bgcolor\":\"#E5ECF6\",\"caxis\":{\"gridcolor\":\"white\",\"linecolor\":\"white\",\"ticks\":\"\"}},\"title\":{\"x\":0.05},\"xaxis\":{\"automargin\":true,\"gridcolor\":\"white\",\"linecolor\":\"white\",\"ticks\":\"\",\"title\":{\"standoff\":15},\"zerolinecolor\":\"white\",\"zerolinewidth\":2},\"yaxis\":{\"automargin\":true,\"gridcolor\":\"white\",\"linecolor\":\"white\",\"ticks\":\"\",\"title\":{\"standoff\":15},\"zerolinecolor\":\"white\",\"zerolinewidth\":2}}},\"xaxis\":{\"anchor\":\"y\",\"domain\":[0.0,1.0],\"title\":{\"text\":\"mean_hour\"}},\"yaxis\":{\"anchor\":\"x\",\"domain\":[0.0,1.0],\"title\":{\"text\":\"mean\"}},\"legend\":{\"title\":{\"text\":\"name_of_day\"},\"tracegroupgap\":0},\"margin\":{\"t\":60}},                        {\"responsive\": true}                    ).then(function(){\n",
       "                            \n",
       "var gd = document.getElementById('f9987439-4e7b-41cc-89cb-3d9685b9a98e');\n",
       "var x = new MutationObserver(function (mutations, observer) {{\n",
       "        var display = window.getComputedStyle(gd).display;\n",
       "        if (!display || display === 'none') {{\n",
       "            console.log([gd, 'removed!']);\n",
       "            Plotly.purge(gd);\n",
       "            observer.disconnect();\n",
       "        }}\n",
       "}});\n",
       "\n",
       "// Listen for the removal of the full notebook cells\n",
       "var notebookContainer = gd.closest('#notebook-container');\n",
       "if (notebookContainer) {{\n",
       "    x.observe(notebookContainer, {childList: true});\n",
       "}}\n",
       "\n",
       "// Listen for the clearing of the current output cell\n",
       "var outputEl = gd.closest('.output');\n",
       "if (outputEl) {{\n",
       "    x.observe(outputEl, {childList: true});\n",
       "}}\n",
       "\n",
       "                        })                };                });            </script>        </div>"
      ]
     },
     "metadata": {},
     "output_type": "display_data"
    }
   ],
   "source": [
    "fig = px.line(mean_hour, x=\"mean_hour\", y=\"mean\",color='name_of_day')\n",
    "fig.show()"
   ]
  },
  {
   "cell_type": "markdown",
   "id": "51881024",
   "metadata": {},
   "source": [
    "# Mô tả và giải thích\n",
    "- Trung bình số vụ tai nạn xảy ra ở các ngày trong tuần có sự thay đổi bất ổn theo thời gian\n",
    "   + Số vụ tai nạn giảm chậm từ 0h-4h sau đó tăng mạnh đều và liên tục từ 4h30 đến 8h sau đó giảm đều từ 8h30-11h sau đó tăng không liên tục từ 11h30-17h30 sau đó giảm nhanh và liên tục từ 18h-20h và từ 20h30-23h30 không có sự biến động quá lớn \n",
    "   + Khoảng thời gian xảy ra ít vụ tai nạn nhất là từ 3h-5h (9 đến 12 vụ)\n",
    "   + Khoảng thời gian xảy ra nhiều vụ tai nạn nhất là 15h-17h30 (38-41 vụ)\n",
    "      \n",
    "-  Trung bình số vụ tai nạn ở các ngày biến động khá tương đương với nhau\n",
    "   + Thứ 6 vào khoảng thời gian từ 15h30 và 16h30-17h là có số vụ tai nạn xảy ra nhiều nhất (41.71-42.45 vụ)\n",
    "   + Thứ 3 vào khoảng 4h sáng có số vụ tai nạn xảy ra ít nhất với 8.66 vụ\n",
    "   + Riêng có thứ 7 và chủ nhật thì số vụ tai nạn không có biến động quá nhiều ở các khung giờ và thấp hơn nhiều so với các ngày khác\n",
    "   \n",
    "- Như vậy theo biểu đồ thì:\n",
    "   + Thời điểm an toàn để ra đường sẽ là ban đêm gần sáng từ 3h-5h ở tất cả các ngày và an toàn nhất là thứ 3 vì khi vào khoảng khung giờ này hầu hết mọi người đã đi ngủ nhưng đó là ngủ ở nhà còn ngủ gật khi lái xe thì cực kì nguy hiểm.\n",
    " \n",
    "   + Tuy nhiên ngày mà an toàn nhất để ra đường thì lại là thứ 7 và chủ nhật do có số lượng tai nạn ghi nhận thấp hơn nhiều so với các ngày khác. Điều này khá là bất thường do thường thì thứ 7 và chủ nhật thì đa phần mọi người được nghỉ làm nên thường ra ngoài để vui chơi xả stress và uống nhiều bia rượu khi lái xe dẫn đến có rất nhiều vụ tại nạn. \n",
    " \n",
    "   + Thời điểm nguy hiểm trong ngày khi ra đường là từ 15h-17h30 và nguy hiểm nhất là cùng thời điểm trong ngày thứ 6 do lúc này mọi người vừa tan ca làm việc cộng kèm theo việc muốn về nhanh để chuẩn bị cho kế hoạch xả strees cuối tuần nên dễ xảy ra tai nạn. \n",
    "   \n",
    "   + Thời điểm từ 18h30-20h giờ số tai nạn giảm mạnh có thể do mọi người đã đi làm về nên số tai nạn cũng giảm lại so với lúc mới tan ca\n",
    "   \n",
    "   + Có một khoảng thời điểm từ 6h30-8h số lượng tai nạn tăng cao rồi đó giảm liên tục từ 8h30-11h là do lúc đó sáng sớm mọi người bắt đầu đi làm có thể do sợ trễ nên mọi người mới cố gắng đi thật nhanh để kịp giờ làm nên dễ xảy ra tai nạn còn sau đó số lượng giảm dần là do mọi người đã bát đầu vào làm và giảm xuống khá thấp ở 10h30-11h30 là do lúc đó mọi người chuẩn bị nghỉ trưa nên ít ra đường.\n",
    "\n",
    "# Ý nghĩa của câu hỏi:\n",
    "  + Cho chúng ta thấy được đâu là thời điểm an toàn trong 1 tuần khi ra đường để lựa chọn đảm bảo tính mạng cho bản thân và gia đình\n",
    "  + Biết được đâu là thời điểm nguy hiểm an toàn trong 1 tuần để hạn chế ra đường\n",
    "  + Phần nào hiểu được sự biến động về số lượng tai nạn giao thông xảy ra ở các thời điểm trong tuần\n",
    "  + Là phần mở đầu cho phần lý giải những nguyên nhân gây ra tai nạn giao thông ở những câu hỏi bên dưới"
   ]
  },
  {
   "cell_type": "code",
   "execution_count": null,
   "id": "42138549",
   "metadata": {},
   "outputs": [],
   "source": []
  }
 ],
 "metadata": {
  "kernelspec": {
   "display_name": "Python 3",
   "language": "python",
   "name": "python3"
  },
  "language_info": {
   "codemirror_mode": {
    "name": "ipython",
    "version": 3
   },
   "file_extension": ".py",
   "mimetype": "text/x-python",
   "name": "python",
   "nbconvert_exporter": "python",
   "pygments_lexer": "ipython3",
   "version": "3.8.8"
  }
 },
 "nbformat": 4,
 "nbformat_minor": 5
}
